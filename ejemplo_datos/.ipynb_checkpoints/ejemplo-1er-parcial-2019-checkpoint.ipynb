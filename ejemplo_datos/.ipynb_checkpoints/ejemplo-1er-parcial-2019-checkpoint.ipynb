{
 "cells": [
  {
   "cell_type": "code",
   "execution_count": null,
   "metadata": {},
   "outputs": [],
   "source": [
    "# Se importan las biblotecas que se van a utilizar\n",
    "import numpy as np\n",
    "from matplotlib import pyplot as plt\n",
    "import h5py # es el formato en el que están almacenados los dígitos\n",
    "\n",
    "plt.rcParams['figure.figsize'] = (10.0, 10.0) # tamaño de las figuras por defecto\n",
    "# el inline sirve para que las figuras se muestren dentro del notebook\n",
    "%matplotlib inline"
   ]
  },
  {
   "cell_type": "markdown",
   "metadata": {},
   "source": [
    "# Ejemplo de ejercicio de parcial"
   ]
  },
  {
   "cell_type": "markdown",
   "metadata": {},
   "source": [
    "En este ejemplo se muestra como funciona un aspecto particular del parcial. Existirán algunas partes en un ejercicio que funcionan como puntos de control, permiten continuar con el ejercicio aún cuando alguna de las partes anteriores no haya sido completada. Para realizar dichas partes sin haber completado alguna parte anterior puede que sea necesario ejecutar todas las celdas anteriores."
   ]
  },
  {
   "cell_type": "markdown",
   "metadata": {},
   "source": [
    "<a id=\"Extraccion\"></a>\n",
    "## Extracción de características"
   ]
  },
  {
   "cell_type": "markdown",
   "metadata": {},
   "source": [
    "En esta sección se calculan características a partir de un cierto conjunto de datos ..."
   ]
  },
  {
   "cell_type": "markdown",
   "metadata": {},
   "source": [
    "A continuación se levantan las características precalculadas por los docentes. Sin importar lo que se hizo antes, de aquí en más se trabajará con las características calculadas por los docentes."
   ]
  },
  {
   "cell_type": "code",
   "execution_count": null,
   "metadata": {},
   "outputs": [],
   "source": [
    "# Se levantan las características calculadas por los docentes \n",
    "features_train = np.load('caracteristicas_train_docentes.npy')"
   ]
  },
  {
   "cell_type": "code",
   "execution_count": null,
   "metadata": {},
   "outputs": [],
   "source": [
    "print(features_train.shape)"
   ]
  },
  {
   "cell_type": "markdown",
   "metadata": {},
   "source": [
    "<a id=\"Normalizacion\"></a>\n",
    "## Normalización de características"
   ]
  },
  {
   "cell_type": "markdown",
   "metadata": {},
   "source": [
    "Se plantea realizar una normalización de las características del conjunto de entrenamiento. Esto quiere decir que para cada una de las características se deberá encontrar un factor de escala y una traslación de forma tal que el mínimo valor que toma esa característica sea -1 y el máximo valor +1. La transformación es de la forma:\n",
    "\n",
    "$$\n",
    "f_n= \\alpha (f + \\beta)\n",
    "$$"
   ]
  },
  {
   "cell_type": "markdown",
   "metadata": {},
   "source": [
    "<a id=\"ParteX\"></a>\n",
    "### Parte X (XX Puntos)"
   ]
  },
  {
   "cell_type": "markdown",
   "metadata": {},
   "source": [
    "Normalizar los puntos del conjunto de entrenamiento"
   ]
  },
  {
   "cell_type": "code",
   "execution_count": null,
   "metadata": {},
   "outputs": [],
   "source": [
    "# traslación de la primera característica\n",
    "# beta1 = \n",
    "\n",
    "# factor de re-escalado de la primera característica\n",
    "# alpha1 = \n",
    "\n",
    "# traslación de la segunda característica\n",
    "# beta2 = \n",
    "\n",
    "# factor de re-escalado de la segunda característica\n",
    "# alpha2 = \n",
    "\n",
    "# caracteristicas de entrenamiento normalizadas\n",
    "# features_train_n_estudiante = \n"
   ]
  },
  {
   "cell_type": "markdown",
   "metadata": {},
   "source": [
    "La siguiente celda verifica que las características fueron correctamente normalizadas."
   ]
  },
  {
   "cell_type": "code",
   "execution_count": null,
   "metadata": {},
   "outputs": [],
   "source": [
    "min0, min1 = np.min(features_train_n_estudiante, axis=0)\n",
    "max0, max1 = np.max(features_train_n_estudiante, axis=0)\n",
    "print('El rango de la característica cero es: [%.02f, %.02f]' % (min0, max0))\n",
    "print('El rango de la característica uno es: [%.02f, %.02f]' % (min1, max1))"
   ]
  },
  {
   "cell_type": "markdown",
   "metadata": {},
   "source": [
    "A continuación se guardan las características calculadas y se levantan las características normalizadas precalculadas por los docentes. Si ambas coinciden la ejecución de la celda muestra el valor True. De aquí en más se trabajará con las precalculadas por los docentes."
   ]
  },
  {
   "cell_type": "code",
   "execution_count": null,
   "metadata": {},
   "outputs": [],
   "source": [
    "# Se guardan las características normalizadas calculadas por el estudiante\n",
    "np.save('caracteristicas_train_normalizadas_estudiante', features_train_n_estudiante)"
   ]
  },
  {
   "cell_type": "code",
   "execution_count": null,
   "metadata": {},
   "outputs": [],
   "source": [
    "# Se levantan las características normalizadas precalculadas por los docentes\n",
    "features_train_n = np.load('caracteristicas_train_normalizadas_docentes.npy')\n",
    "\n",
    "np.allclose(features_train_n_estudiante, features_train_n)"
   ]
  }
 ],
 "metadata": {
  "kernelspec": {
   "display_name": "Python 3",
   "language": "python",
   "name": "python3"
  },
  "language_info": {
   "codemirror_mode": {
    "name": "ipython",
    "version": 3
   },
   "file_extension": ".py",
   "mimetype": "text/x-python",
   "name": "python",
   "nbconvert_exporter": "python",
   "pygments_lexer": "ipython3",
   "version": "3.5.2"
  }
 },
 "nbformat": 4,
 "nbformat_minor": 2
}
