{
 "cells": [
  {
   "cell_type": "markdown",
   "metadata": {},
   "source": [
    "# <center> FUNDAMENTOS DE APRENDIZAJE AUTOMÁTICO <br> Y RECONOCIMIENTO DE PATRONES</center>\n",
    "## <center> 2do parcial, 2019</center>           \n",
    "\n",
    "La duración del parcial es de 3 horas. El parcial consta de 3 ejercicios, cuya suma total es de 100 puntos. El parcial es sin material y no está permitido acceder a Internet. Ante cualquier duda comuníquese con los docentes. \n",
    "\n",
    "Este notebook corresponde al ejercicio 2. Hay un notebook por ejercicio planteado.\n",
    "\n",
    "* [Ejercicio 2 - SVM](#Ejercicio2) (35 puntos)"
   ]
  },
  {
   "cell_type": "code",
   "execution_count": 1,
   "metadata": {},
   "outputs": [],
   "source": [
    "import numpy as np\n",
    "import sklearn\n",
    "from sklearn.datasets import load_breast_cancer\n",
    "\n",
    "from sklearn.model_selection import train_test_split\n",
    "from sklearn.preprocessing import StandardScaler\n",
    "\n",
    "from sklearn.svm import SVC\n",
    "from sklearn.model_selection import GridSearchCV\n",
    "from sklearn.metrics import confusion_matrix\n",
    "\n",
    "from matplotlib import pyplot as plt"
   ]
  },
  {
   "cell_type": "markdown",
   "metadata": {},
   "source": [
    "<a id=\"Ejercicio2\"></a>\n",
    "# Ejercicio 2: SVM"
   ]
  },
  {
   "cell_type": "markdown",
   "metadata": {},
   "source": [
    "En este ejercicio trabajaremos con el *Breast Cancer Wisconsin dataset*, el cuál contiene 569 vectores de características calculados a partir de muestras de células tumorales *benignas* y *malignas*. El *dataset* forma parte del conjunto de datos disponibles en *scikit-learn*. A continuación se levantan los datos."
   ]
  },
  {
   "cell_type": "code",
   "execution_count": 2,
   "metadata": {},
   "outputs": [],
   "source": [
    "data = load_breast_cancer()"
   ]
  },
  {
   "cell_type": "code",
   "execution_count": 3,
   "metadata": {},
   "outputs": [
    {
     "name": "stdout",
     "output_type": "stream",
     "text": [
      "Se levantaron 569 muestras, 212 malignas y 357 benignas\n"
     ]
    }
   ],
   "source": [
    "X=data.data\n",
    "y = data.target\n",
    "print('Se levantaron %d muestras, %d malignas y %d benignas' % (len(X), np.sum(y==0),np.sum(y==1)))"
   ]
  },
  {
   "cell_type": "markdown",
   "metadata": {},
   "source": [
    "### Parte a)\n",
    "Dividir el conjunto de datos disponible en 80\\% para entrenamiento y 20\\% para test.\n",
    "\n",
    "**ATENCIÓN:** Puede ser útil utilizar alguna de las funciones importadas en la celda inicial."
   ]
  },
  {
   "cell_type": "code",
   "execution_count": 4,
   "metadata": {},
   "outputs": [],
   "source": [
    "np.random.seed(1)\n",
    "\n",
    "####################################################################################\n",
    "###########  EMPIEZA ESPACIO PARA COMPLETAR CODIGO  ################################\n",
    "####################################################################################\n",
    "\n",
    "X_train, X_test, y_train, y_test = train_test_split(X, y, test_size=0.2 )\n",
    "\n",
    "####################################################################################\n",
    "###########  TERMINA ESPACIO PARA COMPLETAR CODIGO  ################################\n",
    "####################################################################################"
   ]
  },
  {
   "cell_type": "markdown",
   "metadata": {},
   "source": [
    "### Parte b) \n",
    "Estandarizar los datos a media nula y varianza unidad.\n",
    "\n",
    "**ATENCIÓN:** Puede ser útil utilizar alguna de las funciones importadas en la celda inicial."
   ]
  },
  {
   "cell_type": "code",
   "execution_count": 73,
   "metadata": {},
   "outputs": [],
   "source": [
    "####################################################################################\n",
    "###########  EMPIEZA ESPACIO PARA COMPLETAR CODIGO  ################################\n",
    "####################################################################################\n",
    "\n",
    "scaler = StandardScaler()\n",
    "\n",
    "scaler.fit(X_train)\n",
    "scaler.fit(X_test)\n",
    "\n",
    "\n",
    "X_train_std = (X_train - scaler.mean_) / np.sqrt(scaler.var_)\n",
    "X_test_std = (X_test - scaler.mean_) / np.sqrt(scaler.var_)\n",
    "\n",
    "\n",
    "####################################################################################\n",
    "###########  TERMINA ESPACIO PARA COMPLETAR CODIGO  ################################\n",
    "####################################################################################"
   ]
  },
  {
   "cell_type": "markdown",
   "metadata": {},
   "source": [
    "## Curvas de aprendizaje"
   ]
  },
  {
   "cell_type": "markdown",
   "metadata": {},
   "source": [
    "Se evaluará la pertinencia de estandarizar los datos cuando se utiliza un clasificador SVM con *kernel linear* (que denominaremos *SVM linear*). Para ello se propone utilizar el método `learning_curve` del módulo `model_selection` de *scikit-learn*. "
   ]
  },
  {
   "cell_type": "markdown",
   "metadata": {},
   "source": [
    "### Parte c) \n",
    "Explique brevemente qué es lo que muestra una curva de aprendizaje y cómo la construye *scikit-learn*. "
   ]
  },
  {
   "cell_type": "markdown",
   "metadata": {},
   "source": [
    "**Respuesta:**  \n",
    "En una curva de aprendizaje se muestra la validación cruzada para distintos tamaños de training sets.  \n",
    "*scikit-learn* usa un generador de validación cruzada para particionar el dataset en training y test *k* veces. Entonces distintos tamaños para los training sets se utilizan para entrenar un estimador y calcular el score. Por último se promedian los scores con las k veces que se corre. "
   ]
  },
  {
   "cell_type": "markdown",
   "metadata": {},
   "source": [
    "### Parte d) \n",
    "Complete la implementación de la siguiente celda a los efectos de mostrar las curvas de aprendizaje del clasificador *SVM linear* con parámetros por defecto utilizando como entrada:\n",
    "    * características por defecto\n",
    "    * características estandarizadas\n",
    "    \n",
    "La curvas mostradas deben contar con al menos 10 puntos y la validación cruzada se hará utilizando 10 *folds*. Note que la función `learning_curve` devuelve como medida de desempeño (`score`) un valor de `accuracy`, pero la curva de aprendizaje deberá mostrar el error.    \n",
    "\n",
    "\n",
    "**ATENCIÓN:** La corrida puede demorar unos minutos, por lo que durante la etapa de implementación puede ser útil trabajar con menos *folds* y/o menos puntos en la curva."
   ]
  },
  {
   "cell_type": "code",
   "execution_count": 7,
   "metadata": {},
   "outputs": [],
   "source": [
    "from sklearn.model_selection import learning_curve"
   ]
  },
  {
   "cell_type": "code",
   "execution_count": 42,
   "metadata": {},
   "outputs": [
    {
     "name": "stdout",
     "output_type": "stream",
     "text": [
      "Procesando datos sin estandarizar ...\n"
     ]
    },
    {
     "data": {
      "image/png": "[encoded data removed]",
      "text/plain": [
       "<Figure size 432x288 with 1 Axes>"
      ]
     },
     "metadata": {
      "needs_background": "light"
     },
     "output_type": "display_data"
    },
    {
     "name": "stdout",
     "output_type": "stream",
     "text": [
      "Procesando datos estandarizados ...\n"
     ]
    },
    {
     "data": {
      "image/png": "[encoded data removed]",
      "text/plain": [
       "<Figure size 432x288 with 1 Axes>"
      ]
     },
     "metadata": {
      "needs_background": "light"
     },
     "output_type": "display_data"
    }
   ],
   "source": [
    "Xs = [X_train, X_train_std]  # entradas a evaluar: características por defecto y estandarizadas\n",
    "preprocessing = ['sin estandarizar', 'estandarizados']\n",
    "\n",
    "for i, X_i in enumerate(Xs):\n",
    "    \n",
    "    print('Procesando datos %s ...' % preprocessing[i])\n",
    "    ####################################################################################\n",
    "    ###########  EMPIEZA ESPACIO PARA COMPLETAR CODIGO  ################################\n",
    "    ####################################################################################\n",
    "    cv=10 # cambiar a 10\n",
    "    n_puntos=np.arange(.1,1.1,.1)\n",
    "\n",
    "    train_sizes, train_scores, val_scores = learning_curve(SVC(kernel='linear'),X_i, y_train,\n",
    "                                                            train_sizes=n_puntos , cv=cv, n_jobs=-1)\n",
    "    \n",
    "    # Utilizar train_scores y val_scores para estimar, para cada punto de la curva, \n",
    "    # E_in_mean, E_val_mean y la desviaciones estandar E_in_std y E_val_std \n",
    "    # Observar que:\n",
    "    #   train_scores : array, shape (n_ticks, n_cv_folds)\n",
    "    #   val_scores : array, shape (n_ticks, n_cv_folds)\n",
    "    \n",
    "    \n",
    "    E_in_mean = 1 - np.mean(train_scores,axis=1)\n",
    "\n",
    "    E_in_std = 1 - np.std(train_scores,axis=1)\n",
    "\n",
    "    E_val_mean = 1 - np.mean(val_scores,axis=1)\n",
    "\n",
    "    E_val_std = 1 - np.std(val_scores,axis=1)\n",
    "\n",
    "    ####################################################################################\n",
    "    ###########  TERMINA ESPACIO PARA COMPLETAR CODIGO  ################################\n",
    "    ####################################################################################\n",
    "\n",
    "    plt.plot(train_sizes, E_in_mean, color='blue', marker='o', markersize=5,  label='E_in')\n",
    "    plt.fill_between(train_sizes, E_in_mean + E_in_std,E_in_mean - E_in_std,alpha=0.15, color='blue')\n",
    "    plt.plot(train_sizes, E_val_mean, color='green', linestyle='--', marker='s', markersize=5,label='E_val')\n",
    "    plt.fill_between(train_sizes, E_val_mean + E_val_std, E_val_mean - E_val_std,alpha=0.15, color='green')\n",
    "    plt.grid()\n",
    "    plt.xlabel('Número de muestras')\n",
    "    plt.ylabel('Tasa de error')\n",
    "    plt.legend(loc='upper right')\n",
    "    plt.ylim([0, 0.2])\n",
    "    plt.title('Curva de aprendizaje con datos %s' % preprocessing[i] )\n",
    "    plt.show()"
   ]
  },
  {
   "cell_type": "markdown",
   "metadata": {},
   "source": [
    "##  Curvas de validación"
   ]
  },
  {
   "cell_type": "markdown",
   "metadata": {},
   "source": [
    "Una forma de determinar los parámetro óptimos de un clasificador es mediante la utilización de curvas de validación. "
   ]
  },
  {
   "cell_type": "markdown",
   "metadata": {},
   "source": [
    "### Parte e)\n",
    "En esta parte, en base a los resultados de la parte anterior, utilice datos estandarizados o sin estandarizar según lo que considere más apropiado. Complete la siguiente celda para determinar el valor óptimo del parámetro `C` del *SVM linear*. Para ello utilice el método `validation_curve` del módulo `model_selection`, que implementa validación cruzada.     \n",
    "La grilla de valores de `C` a considerar es [0.001, 0.01, 0.1, 1.0, 10.0, 100.0] y la validación cruzada se hará utilizando 10 *folds*. \n",
    "\n",
    "**ATENCIÓN:** La corrida puede demorar unos minutos, durante la etapa de implementación puede ser útil trabajar con menos *folds*."
   ]
  },
  {
   "cell_type": "code",
   "execution_count": 43,
   "metadata": {},
   "outputs": [],
   "source": [
    "from sklearn.model_selection import validation_curve"
   ]
  },
  {
   "cell_type": "code",
   "execution_count": 45,
   "metadata": {},
   "outputs": [
    {
     "data": {
      "image/png": "[encoded data removed]",
      "text/plain": [
       "<Figure size 432x288 with 1 Axes>"
      ]
     },
     "metadata": {
      "needs_background": "light"
     },
     "output_type": "display_data"
    }
   ],
   "source": [
    "param_range = [0.001, 0.01, 0.1, 1.0, 10.0, 100.0]\n",
    "    \n",
    "####################################################################################\n",
    "###########  EMPIEZA ESPACIO PARA COMPLETAR CODIGO  ################################\n",
    "####################################################################################\n",
    "# train_scores: matriz de tamaño len(param_range) x n_cv_folds con los errores de entrenamiento\n",
    "# val_scores: matriz de tamaño len(param_range) x n_cv_folds con los errores de valicación\n",
    "\n",
    "cv=10\n",
    "\n",
    "train_scores, val_scores = validation_curve(SVC(kernel='linear'),X_train_std, y_train,\n",
    "                                            param_name=\"C\", param_range=param_range, cv=cv, n_jobs=-1)\n",
    "\n",
    "    \n",
    "E_in_mean = 1 - np.mean(train_scores,axis=1)\n",
    "\n",
    "E_in_std = 1 - np.std(train_scores,axis=1)\n",
    "\n",
    "E_val_mean = 1 - np.mean(val_scores,axis=1)\n",
    "\n",
    "E_val_std = 1 - np.std(val_scores,axis=1)\n",
    "    \n",
    "####################################################################################\n",
    "###########  TERMINA ESPACIO PARA COMPLETAR CODIGO  ################################\n",
    "####################################################################################\n",
    "\n",
    "\n",
    "# se muestran los resultados \n",
    "plt.plot(param_range, E_in_mean, color='blue', marker='o', markersize=5, label='E_in')\n",
    "plt.fill_between(param_range, E_in_mean + E_in_std, E_in_mean - E_in_std, \n",
    "                 alpha=0.15, color='blue')\n",
    "plt.plot(param_range, E_val_mean, color='green', linestyle='--', marker='s',\n",
    "         markersize=5, label='E_val')\n",
    "plt.fill_between(param_range, E_val_mean + E_val_std, E_val_mean - E_val_std, \n",
    "                 alpha=0.15, color='green')\n",
    "plt.grid()\n",
    "plt.xscale('log')\n",
    "plt.legend(loc='upper right')\n",
    "plt.xlabel('C')\n",
    "plt.ylabel('Tasa de error')\n",
    "plt.ylim([0, 0.2])\n",
    "plt.title('Curva de aprendizaje con datos %s' % preprocessing[i] )\n",
    "plt.show()"
   ]
  },
  {
   "cell_type": "markdown",
   "metadata": {},
   "source": [
    "## GridSearch para SVM con kernel rbf"
   ]
  },
  {
   "cell_type": "markdown",
   "metadata": {},
   "source": [
    "### Parte f) \n",
    "Para los mismo datos usados en la parte anterior, encuentre los valores óptimos de $C$ y $\\gamma$ de un clasificador SVM con *kernel rbf* mediante el método de *grid search* con validación cruzada en 10 *folds*. Para ambos hyperparámetros utilizar una grilla con los siguientes valores: [0.0001, 0.001, 0.01, 0.1, 1.0, 10.0, 100.0, 1000.0].\n",
    "\n",
    "**ATENCIÓN:** Puede ser útil utilizar alguna de las funciones importadas en la celda inicial."
   ]
  },
  {
   "cell_type": "code",
   "execution_count": 50,
   "metadata": {},
   "outputs": [
    {
     "name": "stdout",
     "output_type": "stream",
     "text": [
      "{'C': 1000.0, 'gamma': 0.0001}\n"
     ]
    }
   ],
   "source": [
    "param_range = [0.0001, 0.001, 0.01, 0.1, 1.0, 10.0, 100.0, 1000.0]\n",
    "\n",
    "####################################################################################\n",
    "###########  EMPIEZA ESPACIO PARA COMPLETAR CODIGO  ################################\n",
    "####################################################################################\n",
    "param_grid = {\"C\"     : param_range,\n",
    "              \"gamma\" : param_range}\n",
    "cv=10\n",
    "\n",
    "gs_rbf = GridSearchCV(SVC(), param_grid=param_grid, n_jobs=-1, cv=cv)\n",
    "\n",
    "gs_rbf.fit(X_train_std, y_train)\n",
    "print(gs_rbf.best_params_)\n",
    "####################################################################################\n",
    "###########  TERMINA ESPACIO PARA COMPLETAR CODIGO  ################################\n",
    "####################################################################################"
   ]
  },
  {
   "cell_type": "markdown",
   "metadata": {},
   "source": [
    "**Respuesta:** Los valores óptimos de $C$ y $\\gamma$ son 1000 y 0.0001 respectivamente"
   ]
  },
  {
   "cell_type": "code",
   "execution_count": 51,
   "metadata": {},
   "outputs": [],
   "source": [
    "# función auxiliar que muestra los parámetros del gridsearch\n",
    "def mostrar_grid_search_results(rangoC, rangoGamma, resultados):\n",
    "    '''\n",
    "    Entrada:\n",
    "        rangoC: lista con los valores de C evaluados\n",
    "        rangoGamma: lista con los valores de gamma evaluados\n",
    "        resultados: arrglo de tamaño (len(rangoC),len(rangoGamma)) con los resultados\n",
    "                    del grid-search\n",
    "    '''\n",
    "    fig, ax = plt.subplots()\n",
    "    im = ax.imshow(resultados, interpolation='nearest', cmap=plt.cm.Blues)\n",
    "    ax.figure.colorbar(im, ax=ax)\n",
    "    ax.set_ylabel('C')\n",
    "    ax.set_ylim(-0.5,len(rangoC)-0.5)\n",
    "    ax.set_xlim(-0.5,len(rangoGamma)-0.5)\n",
    "    ax.set_yticks(range(len(rangoC)))\n",
    "    ax.set_xticks(range(len(rangoGamma)))\n",
    "    rangoC_labels = [str(c) for c in rangoC]\n",
    "    ax.set_yticklabels(rangoC_labels)\n",
    "    ax.set_xlabel('Gamma')\n",
    "    rangoGamma_labels = [str(gamma) for gamma in rangoGamma]\n",
    "    ax.set_xticklabels(rangoGamma_labels)\n",
    "    plt.setp(ax.get_xticklabels(), rotation=45, ha=\"right\",\n",
    "                    rotation_mode=\"anchor\")\n",
    "    plt.title('Resultados del Grid Search')"
   ]
  },
  {
   "cell_type": "code",
   "execution_count": 52,
   "metadata": {},
   "outputs": [
    {
     "data": {
      "image/png": "[encoded data removed]",
      "text/plain": [
       "<Figure size 432x288 with 2 Axes>"
      ]
     },
     "metadata": {
      "needs_background": "light"
     },
     "output_type": "display_data"
    }
   ],
   "source": [
    "# gs.cv_results_\n",
    "# Se muestran los resultados del grid-search\n",
    "resultados = gs_rbf.cv_results_['mean_test_score']\n",
    "resultados = resultados.reshape(len(param_range),len(param_range))\n",
    "#print(resultados)\n",
    "mostrar_grid_search_results(param_range, param_range, resultados)"
   ]
  },
  {
   "cell_type": "markdown",
   "metadata": {},
   "source": [
    "## Elección del clasificador óptimo"
   ]
  },
  {
   "cell_type": "markdown",
   "metadata": {},
   "source": [
    "### Parte g)\n",
    "Basándose en las evaluaciones realizadas, elegir el clasificador óptimo. Justificar la elección e indicar claramente las características que utilizará el clasificador y los parámetros óptimos del mismo, incluyendo el tipo de kernel."
   ]
  },
  {
   "cell_type": "code",
   "execution_count": 62,
   "metadata": {},
   "outputs": [
    {
     "name": "stdout",
     "output_type": "stream",
     "text": [
      " -  Media de E_in: 0.015873 y de E_val: 0.021884 para kernel lineal con datos estandarizados con C elegido tal que      E_val es minimo.\n",
      " -  Media del error de la validacion cruzada con kernel RBF:  0.02197802197802201\n"
     ]
    }
   ],
   "source": [
    "print(\" -  Media de E_in: %f y de E_val: %f para kernel lineal con datos estandarizados con C elegido tal que E_val es minimo.\" % (E_in_mean[2],E_val_mean[2]))\n",
    "print(\" -  Media del error de la validacion cruzada con kernel RBF: \", 1 - gs_rbf.best_score_)"
   ]
  },
  {
   "cell_type": "markdown",
   "metadata": {},
   "source": [
    "**Respuesta:** \n",
    "Observando los valoresanteriores se elige SVM con kernel lineal con C=0.1 y utilizando las características estandarizadas debido a que el $E_{in}$ es menor"
   ]
  },
  {
   "cell_type": "markdown",
   "metadata": {},
   "source": [
    "### Parte h)\n",
    "Para el clasificador óptimo elegido, indicar el número de vectores de soporte utilizados en cada clase."
   ]
  },
  {
   "cell_type": "code",
   "execution_count": 64,
   "metadata": {},
   "outputs": [
    {
     "name": "stdout",
     "output_type": "stream",
     "text": [
      "El numero de vectores de soporte es:  51\n"
     ]
    }
   ],
   "source": [
    "####################################################################################\n",
    "###########  EMPIEZA ESPACIO PARA COMPLETAR CODIGO  ################################\n",
    "####################################################################################\n",
    "\n",
    "clf_optimo = SVC(C=0.1, kernel='linear')\n",
    "\n",
    "clf_optimo.fit(X_train_std, y_train)\n",
    "\n",
    "n_vectores_soporte = len(clf_optimo.support_vectors_)\n",
    "\n",
    "print(\"El numero de vectores de soporte es: \", n_vectores_soporte)\n",
    "####################################################################################\n",
    "###########  TERMINA ESPACIO PARA COMPLETAR CODIGO  ################################\n",
    "####################################################################################"
   ]
  },
  {
   "cell_type": "markdown",
   "metadata": {},
   "source": [
    "### Parte i)\n",
    "Mostrar la matriz de confusión con el conjunto de test e interpretar los resultados"
   ]
  },
  {
   "cell_type": "code",
   "execution_count": 87,
   "metadata": {},
   "outputs": [
    {
     "name": "stdout",
     "output_type": "stream",
     "text": [
      "[[39  3]\n",
      " [ 0 72]]\n",
      "[1 1 1]\n"
     ]
    }
   ],
   "source": [
    "####################################################################################\n",
    "###########  EMPIEZA ESPACIO PARA COMPLETAR CODIGO  ################################\n",
    "####################################################################################\n",
    "\n",
    "y_pred = clf_optimo.predict(X_test_std)\n",
    "\n",
    "conf_matrix = confusion_matrix(y_test, y_pred)\n",
    "\n",
    "print(conf_matrix)\n",
    "\n",
    "\n",
    "####################################################################################\n",
    "###########  TERMINA ESPACIO PARA COMPLETAR CODIGO  ################################\n",
    "####################################################################################"
   ]
  },
  {
   "cell_type": "markdown",
   "metadata": {},
   "source": [
    "La etiqueta es 1 si el tumor es benigno y 0 si no lo es.\n",
    "Los numeros en la diagonal son los predecidos de forma correcta. Observando la matriz se observa que la SVM predice 72 veces que es benigno (y=1) y realmente era benigno (y=1). Predice 39 veces que es maligno (y=0) y era maligno (y=0). Estos son los acertados correctamente. Luego, predice 3 veces que era benigno y era maligno( lo cual no es lo deseado para el algoritmo ya que deja pasar inadvertidos tumores malignos). Por último, predice cero veces que es maligno siendo que era benigno "
   ]
  },
  {
   "cell_type": "markdown",
   "metadata": {},
   "source": [
    "### Parte j) \n",
    "Suponga que se quiere lograr un punto de funcionamiento del clasificador en que se minimicen la cantidad de tumores malignos clasificados como benignos. Proponga al menos una variante en el procedimiento seguido que contribuya a lograr este objetivo. No se pide implementarla pero debe ser posible hacerlo con las funcionalidades que provee *scikit-learn*."
   ]
  },
  {
   "cell_type": "markdown",
   "metadata": {},
   "source": [
    "**Respuesta:** Refinaría la grilla de busqueda para los parametros óptimos"
   ]
  },
  {
   "cell_type": "code",
   "execution_count": null,
   "metadata": {},
   "outputs": [],
   "source": []
  }
 ],
 "metadata": {
  "kernelspec": {
   "display_name": "Python 3",
   "language": "python",
   "name": "python3"
  },
  "language_info": {
   "codemirror_mode": {
    "name": "ipython",
    "version": 3
   },
   "file_extension": ".py",
   "mimetype": "text/x-python",
   "name": "python",
   "nbconvert_exporter": "python",
   "pygments_lexer": "ipython3",
   "version": "3.7.4"
  }
 },
 "nbformat": 4,
 "nbformat_minor": 2
}
