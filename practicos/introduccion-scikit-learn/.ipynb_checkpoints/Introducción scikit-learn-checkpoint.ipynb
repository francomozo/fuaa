{
 "cells": [
  {
   "cell_type": "markdown",
   "metadata": {},
   "source": [
    "## Breve Introducción a scikit-learn"
   ]
  },
  {
   "cell_type": "code",
   "execution_count": 2,
   "metadata": {},
   "outputs": [],
   "source": [
    "import numpy as np\n",
    "import sklearn\n",
    "from matplotlib import pyplot as plt\n",
    "\n",
    "%matplotlib inline"
   ]
  },
  {
   "cell_type": "markdown",
   "metadata": {},
   "source": [
    "## Datasets"
   ]
  },
  {
   "cell_type": "markdown",
   "metadata": {},
   "source": [
    "Scikit-learn cuenta con una API que permite levantar algunos de los conjuntos de datos clásicos de aprendizaje automático. La información detallada se encuentra [acá](https://scikit-learn.org/stable/datasets/index.html). \n",
    "Además cuenta con funciones para generar datos sintéticos. A continuación cargaremos la base de datos *iris* que es una de las bases que viene junto con *scikit-learn*. Dicha base se encuentra en el módulo *datasets*."
   ]
  },
  {
   "cell_type": "code",
   "execution_count": 3,
   "metadata": {},
   "outputs": [],
   "source": [
    "from sklearn.datasets import load_iris\n",
    "\n",
    "data = load_iris()"
   ]
  },
  {
   "cell_type": "markdown",
   "metadata": {},
   "source": [
    "La información del dataset viene almacenada en un diccionario de Python. Para ver las claves del diccionario de invoca al método *keys()*."
   ]
  },
  {
   "cell_type": "code",
   "execution_count": 4,
   "metadata": {},
   "outputs": [
    {
     "name": "stdout",
     "output_type": "stream",
     "text": [
      "dict_keys(['data', 'target', 'target_names', 'DESCR', 'feature_names', 'filename'])\n"
     ]
    }
   ],
   "source": [
    "print(data.keys())"
   ]
  },
  {
   "cell_type": "markdown",
   "metadata": {},
   "source": [
    "Se puede obtener los nombres de las clases, por ejemplo, de dos formas distintas. "
   ]
  },
  {
   "cell_type": "code",
   "execution_count": 5,
   "metadata": {},
   "outputs": [
    {
     "name": "stdout",
     "output_type": "stream",
     "text": [
      "['setosa' 'versicolor' 'virginica']\n",
      "['setosa' 'versicolor' 'virginica']\n"
     ]
    }
   ],
   "source": [
    "# Preguntando el valor de la clave\n",
    "print(data['target_names'])\n",
    "# Directamente mediante data.\n",
    "print(data.target_names)"
   ]
  },
  {
   "cell_type": "markdown",
   "metadata": {},
   "source": [
    "Las características están almacenadas en la clave *data* y los valores objetivos (en este caso etiquetas) en *target*. En ambos casos son almacenados como arreglos de *numpy*."
   ]
  },
  {
   "cell_type": "code",
   "execution_count": 6,
   "metadata": {},
   "outputs": [
    {
     "name": "stdout",
     "output_type": "stream",
     "text": [
      "(150, 4) (150,)\n"
     ]
    }
   ],
   "source": [
    "X, y = data.data, data.target\n",
    "# Se pueden invocar métodos de numpy, por ej shape\n",
    "print(X.shape, y.shape)"
   ]
  },
  {
   "cell_type": "markdown",
   "metadata": {},
   "source": [
    "Se muestran las dos primeras caracteristicas"
   ]
  },
  {
   "cell_type": "code",
   "execution_count": 7,
   "metadata": {},
   "outputs": [
    {
     "data": {
      "text/plain": [
       "<matplotlib.collections.PathCollection at 0x26fa2103bc8>"
      ]
     },
     "execution_count": 7,
     "metadata": {},
     "output_type": "execute_result"
    },
    {
     "data": {
      "image/png": "[encoded data removed]",
      "text/plain": [
       "<Figure size 432x288 with 1 Axes>"
      ]
     },
     "metadata": {
      "needs_background": "light"
     },
     "output_type": "display_data"
    }
   ],
   "source": [
    "plt.scatter(X[:,0],X[:,1],c=y)"
   ]
  },
  {
   "cell_type": "markdown",
   "metadata": {},
   "source": [
    "**Ejercicio:** ¿Es cierto que la muestra en la posición 125 pertence a la clase *virginica*?"
   ]
  },
  {
   "cell_type": "code",
   "execution_count": 10,
   "metadata": {},
   "outputs": [
    {
     "name": "stdout",
     "output_type": "stream",
     "text": [
      "2\n"
     ]
    }
   ],
   "source": [
    "print(y[125])"
   ]
  },
  {
   "cell_type": "markdown",
   "metadata": {},
   "source": [
    "No, es versicolor"
   ]
  },
  {
   "cell_type": "markdown",
   "metadata": {},
   "source": [
    "**Ejercicio:** ¿Cuánto vale el largo del pétalo para dicha muestra?"
   ]
  },
  {
   "cell_type": "code",
   "execution_count": 13,
   "metadata": {},
   "outputs": [
    {
     "name": "stdout",
     "output_type": "stream",
     "text": [
      "['sepal length (cm)', 'sepal width (cm)', 'petal length (cm)', 'petal width (cm)']\n"
     ]
    }
   ],
   "source": [
    "print(data.feature_names)"
   ]
  },
  {
   "cell_type": "code",
   "execution_count": 17,
   "metadata": {},
   "outputs": [
    {
     "name": "stdout",
     "output_type": "stream",
     "text": [
      "6.0\n"
     ]
    }
   ],
   "source": [
    "print(X[125,2]) # valor del largo del petalo en cm"
   ]
  },
  {
   "cell_type": "markdown",
   "metadata": {},
   "source": [
    "## Generación de conjuntos de entrenamiento y test"
   ]
  },
  {
   "cell_type": "markdown",
   "metadata": {},
   "source": [
    "Para dividir el conjunto de datos en un subconjunto de entrenamiento y uno de validación, es útil el método *train_test_split* del módulo *model_selection*. La siguiente celda divide el conjunto de datos en 75% de entrenamiento y 25% para test."
   ]
  },
  {
   "cell_type": "code",
   "execution_count": 18,
   "metadata": {},
   "outputs": [
    {
     "name": "stdout",
     "output_type": "stream",
     "text": [
      "(112, 4) (112,)\n",
      "(38, 4) (38,)\n"
     ]
    }
   ],
   "source": [
    "from sklearn.model_selection import train_test_split\n",
    "X_train, X_test, y_train, y_test = train_test_split(X, y)\n",
    "print(X_train.shape, y_train.shape)\n",
    "print(X_test.shape, y_test.shape)"
   ]
  },
  {
   "cell_type": "markdown",
   "metadata": {},
   "source": [
    "**Ejercicio** Generar una división del conjunto de datos de forma que el 60% sea de entrenamiento y el 40% restante para test."
   ]
  },
  {
   "cell_type": "code",
   "execution_count": 20,
   "metadata": {},
   "outputs": [
    {
     "name": "stdout",
     "output_type": "stream",
     "text": [
      "(90, 4) (90,)\n",
      "(60, 4) (60,)\n",
      "0.6666666666666666\n"
     ]
    }
   ],
   "source": [
    "X_train, X_test, y_train, y_test = train_test_split(X, y, train_size=0.6)\n",
    "print(X_train.shape, y_train.shape)\n",
    "print(X_test.shape, y_test.shape)\n",
    "print(X_test.shape[0]/X_train.shape[0])"
   ]
  },
  {
   "cell_type": "markdown",
   "metadata": {},
   "source": [
    "## Preprocesamiento de los datos"
   ]
  },
  {
   "cell_type": "markdown",
   "metadata": {},
   "source": [
    "Scikit-learn cuenta con el módulo [preprocessing](https://scikit-learn.org/stable/modules/preprocessing.html) que tiene una serie de métodos útiles para realizar transformaciones de las características. Algunos de ellos son:  \n",
    "* Estandarización de los datos\n",
    "* Normalización de los datos\n",
    "* Transformación polinómica de características\n",
    "* Manejo de datos faltantes"
   ]
  },
  {
   "cell_type": "code",
   "execution_count": 21,
   "metadata": {},
   "outputs": [],
   "source": [
    "# Se importa el modulo que hace la transformacion\n",
    "from sklearn.preprocessing import StandardScaler\n",
    "\n",
    "# Se encuentran los parametros de estandarizacion\n",
    "scaler = StandardScaler(copy=True, with_mean=True, with_std=True)"
   ]
  },
  {
   "cell_type": "code",
   "execution_count": 22,
   "metadata": {},
   "outputs": [
    {
     "data": {
      "text/plain": [
       "StandardScaler(copy=True, with_mean=True, with_std=True)"
      ]
     },
     "execution_count": 22,
     "metadata": {},
     "output_type": "execute_result"
    }
   ],
   "source": [
    "scaler.fit(X_train)"
   ]
  },
  {
   "cell_type": "markdown",
   "metadata": {},
   "source": [
    "Una vez encontrados los parámetros de la estandarización se pueden consultar. Observar que los atributos calculados por el estimador, en este caso el *StandardScaler*, se diferencian de los demás atributos porque el nombre termina con guión bajo."
   ]
  },
  {
   "cell_type": "code",
   "execution_count": 23,
   "metadata": {},
   "outputs": [
    {
     "name": "stdout",
     "output_type": "stream",
     "text": [
      "[5.88111111 3.07111111 3.80333333 1.23222222]\n",
      "[0.87214862 0.40940185 1.83735619 0.79747209]\n",
      "90\n"
     ]
    }
   ],
   "source": [
    "print(scaler.mean_)\n",
    "print(scaler.scale_)\n",
    "print(scaler.n_samples_seen_)"
   ]
  },
  {
   "cell_type": "markdown",
   "metadata": {},
   "source": [
    "La normalización de los datos se realiza con el método *transform()*."
   ]
  },
  {
   "cell_type": "code",
   "execution_count": 24,
   "metadata": {},
   "outputs": [
    {
     "data": {
      "text/plain": [
       "Text(0.5, 1.0, 'Características de entrenamiento estandarizadas')"
      ]
     },
     "execution_count": 24,
     "metadata": {},
     "output_type": "execute_result"
    },
    {
     "data": {
      "image/png": "[encoded data removed]",
      "text/plain": [
       "<Figure size 432x288 with 1 Axes>"
      ]
     },
     "metadata": {
      "needs_background": "light"
     },
     "output_type": "display_data"
    }
   ],
   "source": [
    "# Se estandarizan los datos de entrenamiento\n",
    "X_train_std = scaler.transform(X_train)\n",
    "\n",
    "# Se estandarizan los datos de test\n",
    "X_test_std = scaler.transform(X_test)\n",
    "\n",
    "plt.scatter(X_train_std[:,0],X_train_std[:,1],c=y_train)\n",
    "plt.title('Características de entrenamiento estandarizadas')"
   ]
  },
  {
   "cell_type": "markdown",
   "metadata": {},
   "source": [
    "**Ejercicio:** Realizar una transformación de las características originales de forma que queden en el rango [-0.5,0.5] utilizando alguna de las funciones del modulo *preporcessing*."
   ]
  },
  {
   "cell_type": "code",
   "execution_count": 29,
   "metadata": {},
   "outputs": [
    {
     "name": "stdout",
     "output_type": "stream",
     "text": [
      "0.5000000000000001\n",
      "-0.5\n",
      "0.5000000000000001\n",
      "-0.5\n"
     ]
    }
   ],
   "source": [
    "min_max_scaler = sklearn.preprocessing.MinMaxScaler(feature_range=(-0.5,0.5))\n",
    "X_train_minmax = min_max_scaler.fit_transform(X_train)\n",
    "X_test_minmax = min_max_scaler.fit_transform(X_test)\n",
    "print(np.max(X_train_minmax))\n",
    "print(np.min(X_train_minmax))\n",
    "print(np.max(X_test_minmax))\n",
    "print(np.min(X_test_minmax))\n",
    "\n"
   ]
  },
  {
   "cell_type": "markdown",
   "metadata": {},
   "source": [
    "# Clasificación de imágenes\n",
    "\n",
    "Se utilizarán algunos de los clasificadores de scikit-learn para distinguir imágenes de *gatos* de *no gatos*."
   ]
  },
  {
   "cell_type": "markdown",
   "metadata": {},
   "source": [
    "### Los datos"
   ]
  },
  {
   "cell_type": "markdown",
   "metadata": {},
   "source": [
    "La siguiente celda carga los datos. La base cuenta con conjunto de imágenes para entrenamiento y un conjunto para test. En este caso las características a utilizar son directamente los valores de los píxeles de las imágenes. "
   ]
  },
  {
   "cell_type": "code",
   "execution_count": 30,
   "metadata": {},
   "outputs": [
    {
     "name": "stdout",
     "output_type": "stream",
     "text": [
      "Se levantaron 209 imágenes de entrenamiento\n",
      "72 pertenecen a la clase non-cat y 137 a la clase cat\n",
      "Se levantaron 50 imágenes de test\n",
      "33 pertenecen a la clase non-cat y 17 a la clase cat\n",
      "Las imágenes son de tamaño [64, 64, 3] \n"
     ]
    }
   ],
   "source": [
    "from aux_datos import load_cats_dataset\n",
    "features_train, y_train, features_test, y_test, clases = load_cats_dataset()\n",
    "print('Se levantaron %d imágenes de entrenamiento' % len(features_train))\n",
    "print('%d pertenecen a la clase %s y %d a la clase %s' % (np.sum(y_train==1),clases[0].decode(\"utf-8\"),\n",
    "                                                          np.sum(y_train==0),clases[1].decode(\"utf-8\"))  )\n",
    "print('Se levantaron %d imágenes de test' % len(features_test))\n",
    "print('%d pertenecen a la clase %s y %d a la clase %s' % (np.sum(y_test==1),clases[0].decode(\"utf-8\"),\n",
    "                                                          np.sum(y_test==0),clases[1].decode(\"utf-8\"))  )\n",
    "\n",
    "print('Las imágenes son de tamaño [%d, %d, %d] ' % (features_train.shape[1:]))\n"
   ]
  },
  {
   "cell_type": "markdown",
   "metadata": {},
   "source": [
    "Cada vez que se ejecuta la siguiente celda se muestra un ejemplo de cada una de las clases. "
   ]
  },
  {
   "cell_type": "code",
   "execution_count": 38,
   "metadata": {},
   "outputs": [
    {
     "data": {
      "image/png": "[encoded data removed]",
      "text/plain": [
       "<Figure size 1080x360 with 2 Axes>"
      ]
     },
     "metadata": {
      "needs_background": "light"
     },
     "output_type": "display_data"
    }
   ],
   "source": [
    "# Ejemplo de una imagen gato\n",
    "indices_gatos = [i for i, label in enumerate(y_train) if label]\n",
    "pos = np.random.randint(len(indices_gatos))\n",
    "gato = features_train[indices_gatos[pos]]\n",
    "\n",
    "plt.figure(figsize=(15,5))\n",
    "plt.subplot(1,2,1)\n",
    "plt.imshow(gato)\n",
    "plt.title('Ejemplo de gato')\n",
    "\n",
    "# Ejemplo de una imagen no gato\n",
    "indices_no_gatos = [i for i, label in enumerate(y_train) if not label]\n",
    "pos = np.random.randint(len(indices_no_gatos))\n",
    "gato = features_train[indices_no_gatos[pos]]\n",
    "plt.subplot(1,2,2)\n",
    "plt.imshow(features_train[indices_no_gatos[pos]])\n",
    "plt.title('Ejemplo de no gato')\n",
    "plt.show()"
   ]
  },
  {
   "cell_type": "markdown",
   "metadata": {},
   "source": [
    "## Normalización de características"
   ]
  },
  {
   "cell_type": "code",
   "execution_count": 39,
   "metadata": {},
   "outputs": [],
   "source": [
    "# Se hace el reshape de las características\n",
    "feat_train_flat = features_train.reshape(features_train.shape[0], -1)  \n",
    "feat_test_flat = features_test.reshape(features_test.shape[0], -1)  \n",
    "\n",
    "# Se normalizan los datos para que las características queden en el rango [-0.5, 0.5]\n",
    "feat_train_n = feat_train_flat/255. - 0.5 \n",
    "feat_test_n = feat_test_flat/255.  - 0.5"
   ]
  },
  {
   "cell_type": "markdown",
   "metadata": {},
   "source": [
    "## Regresión lineal"
   ]
  },
  {
   "cell_type": "code",
   "execution_count": 40,
   "metadata": {},
   "outputs": [],
   "source": [
    "def mostrar_pesos(W):\n",
    "    'Función auxiliar que muestra los pesos aprendidos en un modelo lineal'\n",
    "    plt.figure()\n",
    "    image = np.reshape(W, (64,64,3))\n",
    "    plt.imshow((image-image.min())/(image.max()-image.min()))\n",
    "    plt.tight_layout()"
   ]
  },
  {
   "cell_type": "code",
   "execution_count": 41,
   "metadata": {},
   "outputs": [
    {
     "name": "stdout",
     "output_type": "stream",
     "text": [
      "(12288,)\n"
     ]
    },
    {
     "data": {
      "image/png": "[encoded data removed]",
      "text/plain": [
       "<Figure size 432x288 with 1 Axes>"
      ]
     },
     "metadata": {
      "needs_background": "light"
     },
     "output_type": "display_data"
    }
   ],
   "source": [
    "from sklearn.linear_model import LinearRegression\n",
    "# Se define el clasificador\n",
    "lr = LinearRegression()\n",
    "# Se encuentran los parámetros\n",
    "lr.fit(feat_train_n,  y_train.flatten())\n",
    "# Se los muestra\n",
    "W_lr = lr.coef_\n",
    "print(W_lr.shape)\n",
    "mostrar_pesos(W_lr)"
   ]
  },
  {
   "cell_type": "markdown",
   "metadata": {},
   "source": [
    "## Regresión lineal mediante descenso por gradiente"
   ]
  },
  {
   "cell_type": "code",
   "execution_count": 42,
   "metadata": {},
   "outputs": [
    {
     "name": "stdout",
     "output_type": "stream",
     "text": [
      "(1, 12288)\n"
     ]
    },
    {
     "data": {
      "image/png": "[encoded data removed]",
      "text/plain": [
       "<Figure size 432x288 with 1 Axes>"
      ]
     },
     "metadata": {
      "needs_background": "light"
     },
     "output_type": "display_data"
    }
   ],
   "source": [
    "from sklearn.linear_model import SGDClassifier\n",
    "# Se define el clasificador\n",
    "sgd = SGDClassifier()\n",
    "# Se encuentran los parámetros\n",
    "sgd.fit(feat_train_n,  y_train.flatten())\n",
    "# Se los muestra\n",
    "W_sgd = sgd.coef_\n",
    "print(W_sgd.shape)\n",
    "mostrar_pesos(W_sgd)"
   ]
  },
  {
   "cell_type": "markdown",
   "metadata": {},
   "source": [
    "## Regresión logística"
   ]
  },
  {
   "cell_type": "code",
   "execution_count": 43,
   "metadata": {},
   "outputs": [
    {
     "name": "stdout",
     "output_type": "stream",
     "text": [
      "Accuracy con conjunto de entrenamiento: 1.000000\n",
      "Accuracy con conjunto de test: 0.700000\n"
     ]
    },
    {
     "data": {
      "image/png": "[encoded data removed]",
      "text/plain": [
       "<Figure size 432x288 with 1 Axes>"
      ]
     },
     "metadata": {
      "needs_background": "light"
     },
     "output_type": "display_data"
    }
   ],
   "source": [
    "from sklearn.linear_model import LogisticRegression\n",
    "# Se define el clasificador\n",
    "log_clf = LogisticRegression(solver='sag', max_iter=10000)\n",
    "# Se encuentran los parámetros\n",
    "log_clf.fit(feat_train_n,  y_train.flatten())\n",
    "# Se predicen los valores de las muestras de entrenamiento y test\n",
    "y_pred_train = log_clf.predict(feat_train_n)\n",
    "y_pred_test = log_clf.predict(feat_test_n)\n",
    "# Se calcula el desempeño para los conjuntos de entrenamiento y test\n",
    "print(\"Accuracy con conjunto de entrenamiento: %f\" % log_clf.score(feat_train_n, y_train.flatten()))\n",
    "print(\"Accuracy con conjunto de test: %f\" % log_clf.score(feat_test_n, y_test))\n",
    "# Se muestran los parámetros aprendidos\n",
    "W_log = log_clf.coef_\n",
    "mostrar_pesos(W_log)"
   ]
  },
  {
   "cell_type": "markdown",
   "metadata": {},
   "source": [
    "## Red neuronal de dos capas"
   ]
  },
  {
   "cell_type": "code",
   "execution_count": 44,
   "metadata": {},
   "outputs": [],
   "source": [
    "from sklearn.neural_network import MLPClassifier"
   ]
  },
  {
   "cell_type": "code",
   "execution_count": 45,
   "metadata": {},
   "outputs": [
    {
     "name": "stdout",
     "output_type": "stream",
     "text": [
      "Iteration 1, loss = 0.75356300\n",
      "Iteration 2, loss = 0.74971394\n",
      "Iteration 3, loss = 0.74162241\n",
      "Iteration 4, loss = 0.73162610\n",
      "Iteration 5, loss = 0.72034162\n",
      "Iteration 6, loss = 0.70848296\n",
      "Iteration 7, loss = 0.69710830\n",
      "Iteration 8, loss = 0.68523722\n",
      "Iteration 9, loss = 0.67378970\n",
      "Iteration 10, loss = 0.66284513\n",
      "Iteration 11, loss = 0.65235522\n",
      "Iteration 12, loss = 0.64242716\n",
      "Iteration 13, loss = 0.63293157\n",
      "Iteration 14, loss = 0.62382486\n",
      "Iteration 15, loss = 0.61679991\n",
      "Iteration 16, loss = 0.60973186\n",
      "Iteration 17, loss = 0.60318123\n",
      "Iteration 18, loss = 0.59642506\n",
      "Iteration 19, loss = 0.58983008\n",
      "Iteration 20, loss = 0.58322007\n",
      "Iteration 21, loss = 0.57762786\n",
      "Iteration 22, loss = 0.57175588\n",
      "Iteration 23, loss = 0.56613107\n",
      "Iteration 24, loss = 0.56050652\n",
      "Iteration 25, loss = 0.55499960\n",
      "Iteration 26, loss = 0.54958147\n",
      "Iteration 27, loss = 0.54469704\n",
      "Iteration 28, loss = 0.53948061\n",
      "Iteration 29, loss = 0.53556232\n",
      "Iteration 30, loss = 0.53005894\n",
      "Iteration 31, loss = 0.52512176\n",
      "Iteration 32, loss = 0.52028732\n",
      "Iteration 33, loss = 0.51542480\n",
      "Iteration 34, loss = 0.51036223\n",
      "Iteration 35, loss = 0.50539977\n",
      "Iteration 36, loss = 0.50065843\n",
      "Iteration 37, loss = 0.49685931\n",
      "Iteration 38, loss = 0.49267382\n",
      "Iteration 39, loss = 0.48865821\n",
      "Iteration 40, loss = 0.48393454\n",
      "Iteration 41, loss = 0.47911918\n",
      "Iteration 42, loss = 0.47460694\n",
      "Iteration 43, loss = 0.47213514\n",
      "Iteration 44, loss = 0.47070926\n",
      "Iteration 45, loss = 0.46966505\n",
      "Iteration 46, loss = 0.46727475\n",
      "Iteration 47, loss = 0.45964917\n",
      "Iteration 48, loss = 0.45233620\n",
      "Iteration 49, loss = 0.44795795\n",
      "Iteration 50, loss = 0.45427933\n",
      "Iteration 51, loss = 0.46481586\n",
      "Iteration 52, loss = 0.47142069\n",
      "Iteration 53, loss = 0.45102151\n",
      "Iteration 54, loss = 0.43798000\n",
      "Iteration 55, loss = 0.42860526\n",
      "Iteration 56, loss = 0.42541549\n",
      "Iteration 57, loss = 0.42687664\n",
      "Iteration 58, loss = 0.42993285\n",
      "Iteration 59, loss = 0.42580830\n",
      "Iteration 60, loss = 0.42116470\n",
      "Iteration 61, loss = 0.41235279\n",
      "Iteration 62, loss = 0.40710147\n",
      "Iteration 63, loss = 0.40372718\n",
      "Iteration 64, loss = 0.40139377\n",
      "Iteration 65, loss = 0.39872079\n",
      "Iteration 66, loss = 0.39686102\n",
      "Iteration 67, loss = 0.39412469\n",
      "Iteration 68, loss = 0.39269493\n",
      "Iteration 69, loss = 0.38977989\n",
      "Iteration 70, loss = 0.38645003\n",
      "Iteration 71, loss = 0.38351286\n",
      "Iteration 72, loss = 0.38040491\n",
      "Iteration 73, loss = 0.37776671\n",
      "Iteration 74, loss = 0.37551375\n",
      "Iteration 75, loss = 0.37213894\n",
      "Iteration 76, loss = 0.37432384\n",
      "Iteration 77, loss = 0.37812612\n",
      "Iteration 78, loss = 0.39372860\n",
      "Iteration 79, loss = 0.40459355\n",
      "Iteration 80, loss = 0.39311898\n",
      "Iteration 81, loss = 0.37706713\n",
      "Iteration 82, loss = 0.36420470\n",
      "Iteration 83, loss = 0.35330852\n",
      "Iteration 84, loss = 0.34916874\n",
      "Iteration 85, loss = 0.34865909\n",
      "Iteration 86, loss = 0.34632991\n",
      "Iteration 87, loss = 0.34537208\n",
      "Iteration 88, loss = 0.34593945\n",
      "Iteration 89, loss = 0.34533297\n",
      "Iteration 90, loss = 0.33760637\n",
      "Iteration 91, loss = 0.33378398\n",
      "Iteration 92, loss = 0.33113169\n",
      "Iteration 93, loss = 0.32920237\n",
      "Iteration 94, loss = 0.32723064\n",
      "Iteration 95, loss = 0.32570219\n",
      "Iteration 96, loss = 0.32371391\n",
      "Iteration 97, loss = 0.32142679\n",
      "Iteration 98, loss = 0.31918570\n",
      "Iteration 99, loss = 0.31694674\n",
      "Iteration 100, loss = 0.31587664\n",
      "Iteration 101, loss = 0.31273641\n",
      "Iteration 102, loss = 0.31220321\n",
      "Iteration 103, loss = 0.30990650\n",
      "Iteration 104, loss = 0.30763654\n",
      "Iteration 105, loss = 0.30536847\n",
      "Iteration 106, loss = 0.30290203\n",
      "Iteration 107, loss = 0.30066369\n",
      "Iteration 108, loss = 0.29899915\n",
      "Iteration 109, loss = 0.29814783\n",
      "Iteration 110, loss = 0.29752747\n",
      "Iteration 111, loss = 0.29720828\n",
      "Iteration 112, loss = 0.29703799\n",
      "Iteration 113, loss = 0.29430015\n",
      "Iteration 114, loss = 0.29123342\n",
      "Iteration 115, loss = 0.28656747\n",
      "Iteration 116, loss = 0.28351816\n",
      "Iteration 117, loss = 0.28360197\n",
      "Iteration 118, loss = 0.28479683\n",
      "Iteration 119, loss = 0.28443040\n",
      "Iteration 120, loss = 0.27952563\n",
      "Iteration 121, loss = 0.27585238\n",
      "Iteration 122, loss = 0.27406839\n",
      "Iteration 123, loss = 0.27316217\n",
      "Iteration 124, loss = 0.27181710\n",
      "Iteration 125, loss = 0.27093732\n",
      "Iteration 126, loss = 0.26921733\n",
      "Iteration 127, loss = 0.26731478\n",
      "Iteration 128, loss = 0.26499536\n",
      "Iteration 129, loss = 0.26341935\n",
      "Iteration 130, loss = 0.26228718\n",
      "Iteration 131, loss = 0.26254736\n",
      "Iteration 132, loss = 0.26077167\n",
      "Iteration 133, loss = 0.25781024\n",
      "Iteration 134, loss = 0.25547218\n",
      "Iteration 135, loss = 0.25334229\n",
      "Iteration 136, loss = 0.25153033\n",
      "Iteration 137, loss = 0.25034424\n",
      "Iteration 138, loss = 0.24896566\n",
      "Iteration 139, loss = 0.24754648\n",
      "Iteration 140, loss = 0.24548534\n",
      "Iteration 141, loss = 0.24353089\n",
      "Iteration 142, loss = 0.24227588\n",
      "Iteration 143, loss = 0.24067480\n",
      "Iteration 144, loss = 0.23907273\n",
      "Iteration 145, loss = 0.23789453\n",
      "Iteration 146, loss = 0.23685491\n",
      "Iteration 147, loss = 0.23578348\n",
      "Iteration 148, loss = 0.23428332\n",
      "Iteration 149, loss = 0.23259679\n",
      "Iteration 150, loss = 0.23116874\n",
      "Iteration 151, loss = 0.23086238\n",
      "Iteration 152, loss = 0.22985292\n",
      "Iteration 153, loss = 0.22842845\n",
      "Iteration 154, loss = 0.22525112\n",
      "Iteration 155, loss = 0.22514811\n",
      "Iteration 156, loss = 0.22338490\n",
      "Iteration 157, loss = 0.22139537\n",
      "Iteration 158, loss = 0.22004663\n",
      "Iteration 159, loss = 0.21980727\n",
      "Iteration 160, loss = 0.21972310\n",
      "Iteration 161, loss = 0.21664202\n",
      "Iteration 162, loss = 0.21628215\n",
      "Iteration 163, loss = 0.21818980\n",
      "Iteration 164, loss = 0.21820860\n",
      "Iteration 165, loss = 0.21587413\n",
      "Iteration 166, loss = 0.21264645\n",
      "Iteration 167, loss = 0.20986307\n",
      "Iteration 168, loss = 0.20850387\n",
      "Iteration 169, loss = 0.20873282\n",
      "Iteration 170, loss = 0.20968173\n",
      "Iteration 171, loss = 0.21005865\n",
      "Iteration 172, loss = 0.20514315\n",
      "Iteration 173, loss = 0.20280625\n",
      "Iteration 174, loss = 0.20152004\n",
      "Iteration 175, loss = 0.20049159\n",
      "Iteration 176, loss = 0.19949794\n",
      "Iteration 177, loss = 0.19829392\n",
      "Iteration 178, loss = 0.19704358\n",
      "Iteration 179, loss = 0.19599911\n",
      "Iteration 180, loss = 0.19509660\n",
      "Iteration 181, loss = 0.19397597\n",
      "Iteration 182, loss = 0.19295621\n",
      "Iteration 183, loss = 0.19211395\n",
      "Iteration 184, loss = 0.19116370\n",
      "Iteration 185, loss = 0.18991963\n",
      "Iteration 186, loss = 0.18891464\n",
      "Iteration 187, loss = 0.18788907\n",
      "Iteration 188, loss = 0.18707198\n",
      "Iteration 189, loss = 0.18590435\n",
      "Iteration 190, loss = 0.18473467\n",
      "Iteration 191, loss = 0.18356522\n",
      "Iteration 192, loss = 0.18246635\n",
      "Iteration 193, loss = 0.18167047\n",
      "Iteration 194, loss = 0.18119749\n",
      "Iteration 195, loss = 0.18107050\n",
      "Iteration 196, loss = 0.18051988\n",
      "Iteration 197, loss = 0.18021479\n",
      "Iteration 198, loss = 0.18023055\n",
      "Iteration 199, loss = 0.17879065\n",
      "Iteration 200, loss = 0.17786724\n",
      "Iteration 201, loss = 0.17620990\n",
      "Iteration 202, loss = 0.17334689\n",
      "Iteration 203, loss = 0.17271853\n",
      "Iteration 204, loss = 0.17246198\n",
      "Iteration 205, loss = 0.17148155\n",
      "Iteration 206, loss = 0.16963766\n",
      "Iteration 207, loss = 0.16806361\n",
      "Iteration 208, loss = 0.16699671\n",
      "Iteration 209, loss = 0.16601618\n",
      "Iteration 210, loss = 0.16508381\n",
      "Iteration 211, loss = 0.16461999\n",
      "Iteration 212, loss = 0.16449324\n",
      "Iteration 213, loss = 0.16436493\n",
      "Iteration 214, loss = 0.16415757\n",
      "Iteration 215, loss = 0.16295496\n",
      "Iteration 216, loss = 0.16139839\n",
      "Iteration 217, loss = 0.16016805\n",
      "Iteration 218, loss = 0.15856550\n",
      "Iteration 219, loss = 0.15673252\n",
      "Iteration 220, loss = 0.15543133\n",
      "Iteration 221, loss = 0.15448809\n",
      "Iteration 222, loss = 0.15358158\n",
      "Iteration 223, loss = 0.15264424\n",
      "Iteration 224, loss = 0.15175361\n",
      "Iteration 225, loss = 0.15114998\n",
      "Iteration 226, loss = 0.15043469\n",
      "Iteration 227, loss = 0.15005396\n",
      "Iteration 228, loss = 0.14922638\n",
      "Iteration 229, loss = 0.14824942\n",
      "Iteration 230, loss = 0.14762236\n",
      "Iteration 231, loss = 0.14611906\n",
      "Iteration 232, loss = 0.14521652\n",
      "Iteration 233, loss = 0.14447571\n",
      "Iteration 234, loss = 0.14357056\n",
      "Iteration 235, loss = 0.14281118\n",
      "Iteration 236, loss = 0.14196600\n",
      "Iteration 237, loss = 0.14116934\n",
      "Iteration 238, loss = 0.14069905\n",
      "Iteration 239, loss = 0.13996221\n",
      "Iteration 240, loss = 0.13895960\n",
      "Iteration 241, loss = 0.13764018\n",
      "Iteration 242, loss = 0.13677545\n",
      "Iteration 243, loss = 0.13605325\n",
      "Iteration 244, loss = 0.13542716\n",
      "Iteration 245, loss = 0.13467093\n",
      "Iteration 246, loss = 0.13397614\n",
      "Iteration 247, loss = 0.13325091\n",
      "Iteration 248, loss = 0.13263656\n",
      "Iteration 249, loss = 0.13202821\n",
      "Iteration 250, loss = 0.13155500\n",
      "Iteration 251, loss = 0.13084423\n",
      "Iteration 252, loss = 0.13058340\n",
      "Iteration 253, loss = 0.13026759\n",
      "Iteration 254, loss = 0.12972484\n",
      "Iteration 255, loss = 0.12887817\n",
      "Iteration 256, loss = 0.12789635\n"
     ]
    },
    {
     "name": "stdout",
     "output_type": "stream",
     "text": [
      "Iteration 257, loss = 0.12693796\n",
      "Iteration 258, loss = 0.12627357\n",
      "Iteration 259, loss = 0.12567212\n",
      "Iteration 260, loss = 0.12510199\n",
      "Iteration 261, loss = 0.12442744\n",
      "Iteration 262, loss = 0.12380131\n",
      "Iteration 263, loss = 0.12302570\n",
      "Iteration 264, loss = 0.12243991\n",
      "Iteration 265, loss = 0.12180634\n",
      "Iteration 266, loss = 0.12108165\n",
      "Iteration 267, loss = 0.12037558\n",
      "Iteration 268, loss = 0.11983444\n",
      "Iteration 269, loss = 0.11945391\n",
      "Iteration 270, loss = 0.11884890\n",
      "Iteration 271, loss = 0.11805292\n",
      "Iteration 272, loss = 0.11784715\n",
      "Iteration 273, loss = 0.11705285\n",
      "Iteration 274, loss = 0.11579519\n",
      "Iteration 275, loss = 0.11469630\n",
      "Iteration 276, loss = 0.11475509\n",
      "Iteration 277, loss = 0.11627292\n",
      "Iteration 278, loss = 0.11611510\n",
      "Iteration 279, loss = 0.11577641\n",
      "Iteration 280, loss = 0.11522538\n",
      "Iteration 281, loss = 0.11419029\n",
      "Iteration 282, loss = 0.11300579\n",
      "Iteration 283, loss = 0.11157269\n",
      "Iteration 284, loss = 0.11032780\n",
      "Iteration 285, loss = 0.10951129\n",
      "Iteration 286, loss = 0.10889055\n",
      "Iteration 287, loss = 0.10834673\n",
      "Iteration 288, loss = 0.10801956\n",
      "Iteration 289, loss = 0.10716241\n",
      "Iteration 290, loss = 0.10642156\n",
      "Iteration 291, loss = 0.10585013\n",
      "Iteration 292, loss = 0.10556936\n",
      "Iteration 293, loss = 0.10515639\n",
      "Iteration 294, loss = 0.10505128\n",
      "Iteration 295, loss = 0.10482779\n",
      "Iteration 296, loss = 0.10432124\n",
      "Iteration 297, loss = 0.10394401\n",
      "Iteration 298, loss = 0.10337178\n",
      "Iteration 299, loss = 0.10279692\n",
      "Iteration 300, loss = 0.10217678\n",
      "Iteration 301, loss = 0.10165884\n",
      "Iteration 302, loss = 0.10132946\n",
      "Iteration 303, loss = 0.10050784\n",
      "Iteration 304, loss = 0.09965375\n",
      "Iteration 305, loss = 0.09924618\n",
      "Iteration 306, loss = 0.09900048\n",
      "Iteration 307, loss = 0.09858004\n",
      "Iteration 308, loss = 0.09817861\n",
      "Iteration 309, loss = 0.09782687\n",
      "Iteration 310, loss = 0.09753928\n",
      "Iteration 311, loss = 0.09706283\n",
      "Iteration 312, loss = 0.09665400\n",
      "Iteration 313, loss = 0.09645084\n",
      "Iteration 314, loss = 0.09603070\n",
      "Iteration 315, loss = 0.09537819\n",
      "Iteration 316, loss = 0.09431988\n",
      "Iteration 317, loss = 0.09381166\n",
      "Iteration 318, loss = 0.09331142\n",
      "Iteration 319, loss = 0.09308216\n",
      "Iteration 320, loss = 0.09293206\n",
      "Iteration 321, loss = 0.09282787\n",
      "Iteration 322, loss = 0.09562780\n",
      "Iteration 323, loss = 0.09751659\n",
      "Iteration 324, loss = 0.09919319\n",
      "Iteration 325, loss = 0.09722869\n",
      "Iteration 326, loss = 0.09449147\n",
      "Iteration 327, loss = 0.09198428\n",
      "Iteration 328, loss = 0.09007194\n",
      "Iteration 329, loss = 0.08896282\n",
      "Iteration 330, loss = 0.08846873\n",
      "Iteration 331, loss = 0.08803386\n",
      "Iteration 332, loss = 0.08770622\n",
      "Iteration 333, loss = 0.08731692\n",
      "Iteration 334, loss = 0.08700082\n",
      "Iteration 335, loss = 0.08698332\n",
      "Iteration 336, loss = 0.08589017\n",
      "Iteration 337, loss = 0.08538551\n",
      "Iteration 338, loss = 0.08522422\n",
      "Iteration 339, loss = 0.08496394\n",
      "Iteration 340, loss = 0.08459654\n",
      "Iteration 341, loss = 0.08412205\n",
      "Iteration 342, loss = 0.08366447\n",
      "Iteration 343, loss = 0.08318532\n",
      "Iteration 344, loss = 0.08270344\n",
      "Iteration 345, loss = 0.08234288\n",
      "Iteration 346, loss = 0.08216977\n",
      "Iteration 347, loss = 0.08198234\n",
      "Iteration 348, loss = 0.08185920\n",
      "Iteration 349, loss = 0.08124313\n",
      "Iteration 350, loss = 0.08090017\n",
      "Iteration 351, loss = 0.08059738\n",
      "Iteration 352, loss = 0.08041040\n",
      "Iteration 353, loss = 0.07996925\n",
      "Iteration 354, loss = 0.07960127\n",
      "Iteration 355, loss = 0.07912960\n",
      "Iteration 356, loss = 0.07872546\n",
      "Iteration 357, loss = 0.07838180\n",
      "Iteration 358, loss = 0.07815553\n",
      "Iteration 359, loss = 0.07789262\n",
      "Iteration 360, loss = 0.07769944\n",
      "Iteration 361, loss = 0.07742603\n",
      "Iteration 362, loss = 0.07716178\n",
      "Iteration 363, loss = 0.07706806\n",
      "Iteration 364, loss = 0.07634973\n",
      "Iteration 365, loss = 0.07585495\n",
      "Iteration 366, loss = 0.07545435\n",
      "Iteration 367, loss = 0.07515607\n",
      "Iteration 368, loss = 0.07498158\n",
      "Iteration 369, loss = 0.07465695\n",
      "Iteration 370, loss = 0.07436154\n",
      "Iteration 371, loss = 0.07406222\n",
      "Iteration 372, loss = 0.07375933\n",
      "Iteration 373, loss = 0.07356383\n",
      "Iteration 374, loss = 0.07362035\n",
      "Iteration 375, loss = 0.07414993\n",
      "Iteration 376, loss = 0.07431963\n",
      "Iteration 377, loss = 0.07326927\n",
      "Iteration 378, loss = 0.07246449\n",
      "Iteration 379, loss = 0.07196059\n",
      "Iteration 380, loss = 0.07164453\n",
      "Iteration 381, loss = 0.07135860\n",
      "Iteration 382, loss = 0.07106076\n",
      "Iteration 383, loss = 0.07076523\n",
      "Iteration 384, loss = 0.07054993\n",
      "Iteration 385, loss = 0.07029156\n",
      "Iteration 386, loss = 0.07006328\n",
      "Iteration 387, loss = 0.06983105\n",
      "Iteration 388, loss = 0.06962847\n",
      "Iteration 389, loss = 0.06948993\n",
      "Iteration 390, loss = 0.06926106\n",
      "Iteration 391, loss = 0.06896913\n",
      "Iteration 392, loss = 0.06895068\n",
      "Iteration 393, loss = 0.06946954\n",
      "Iteration 394, loss = 0.07007904\n",
      "Iteration 395, loss = 0.07036617\n",
      "Iteration 396, loss = 0.06959769\n",
      "Iteration 397, loss = 0.06866484\n",
      "Iteration 398, loss = 0.06774721\n",
      "Iteration 399, loss = 0.06715709\n",
      "Iteration 400, loss = 0.06675337\n",
      "Iteration 401, loss = 0.06641854\n",
      "Iteration 402, loss = 0.06615795\n",
      "Iteration 403, loss = 0.06602083\n",
      "Iteration 404, loss = 0.06594598\n",
      "Iteration 405, loss = 0.06587271\n",
      "Iteration 406, loss = 0.06576677\n",
      "Iteration 407, loss = 0.06524223\n",
      "Iteration 408, loss = 0.06478383\n",
      "Iteration 409, loss = 0.06441563\n",
      "Iteration 410, loss = 0.06414352\n",
      "Iteration 411, loss = 0.06391277\n",
      "Iteration 412, loss = 0.06386784\n",
      "Iteration 413, loss = 0.06340136\n",
      "Iteration 414, loss = 0.06345973\n",
      "Iteration 415, loss = 0.06352899\n",
      "Iteration 416, loss = 0.06331405\n",
      "Iteration 417, loss = 0.06286911\n",
      "Iteration 418, loss = 0.06233296\n",
      "Iteration 419, loss = 0.06201177\n",
      "Iteration 420, loss = 0.06195947\n",
      "Iteration 421, loss = 0.06195765\n",
      "Iteration 422, loss = 0.06200888\n",
      "Iteration 423, loss = 0.06200079\n",
      "Iteration 424, loss = 0.06170090\n",
      "Iteration 425, loss = 0.06144011\n",
      "Iteration 426, loss = 0.06120176\n",
      "Iteration 427, loss = 0.06089898\n",
      "Iteration 428, loss = 0.06051768\n",
      "Iteration 429, loss = 0.06022408\n",
      "Iteration 430, loss = 0.05999492\n",
      "Iteration 431, loss = 0.05979681\n",
      "Iteration 432, loss = 0.05969335\n",
      "Iteration 433, loss = 0.05952525\n",
      "Iteration 434, loss = 0.05932822\n",
      "Iteration 435, loss = 0.05923061\n",
      "Iteration 436, loss = 0.05911674\n",
      "Iteration 437, loss = 0.05916988\n",
      "Iteration 438, loss = 0.05915061\n",
      "Iteration 439, loss = 0.05892194\n",
      "Iteration 440, loss = 0.05853015\n",
      "Iteration 441, loss = 0.05812253\n",
      "Iteration 442, loss = 0.05783703\n",
      "Iteration 443, loss = 0.05764100\n",
      "Iteration 444, loss = 0.05763347\n",
      "Iteration 445, loss = 0.05765315\n",
      "Iteration 446, loss = 0.05754038\n",
      "Iteration 447, loss = 0.05740818\n",
      "Iteration 448, loss = 0.05684891\n",
      "Iteration 449, loss = 0.05647424\n",
      "Iteration 450, loss = 0.05620733\n",
      "Iteration 451, loss = 0.05599505\n",
      "Iteration 452, loss = 0.05579180\n",
      "Iteration 453, loss = 0.05567293\n",
      "Iteration 454, loss = 0.05534873\n",
      "Iteration 455, loss = 0.05521655\n",
      "Iteration 456, loss = 0.05504272\n",
      "Iteration 457, loss = 0.05523031\n",
      "Iteration 458, loss = 0.05554500\n",
      "Iteration 459, loss = 0.05573201\n",
      "Iteration 460, loss = 0.05612969\n",
      "Iteration 461, loss = 0.05599336\n",
      "Iteration 462, loss = 0.05569512\n",
      "Iteration 463, loss = 0.05534090\n",
      "Iteration 464, loss = 0.05487880\n",
      "Iteration 465, loss = 0.05426723\n",
      "Iteration 466, loss = 0.05377212\n",
      "Iteration 467, loss = 0.05331261\n",
      "Iteration 468, loss = 0.05299843\n",
      "Iteration 469, loss = 0.05278963\n",
      "Iteration 470, loss = 0.05262589\n",
      "Iteration 471, loss = 0.05254699\n",
      "Iteration 472, loss = 0.05227512\n",
      "Iteration 473, loss = 0.05219387\n",
      "Iteration 474, loss = 0.05261171\n",
      "Iteration 475, loss = 0.05309317\n",
      "Iteration 476, loss = 0.05331136\n",
      "Iteration 477, loss = 0.05331164\n",
      "Iteration 478, loss = 0.05279111\n",
      "Iteration 479, loss = 0.05219493\n",
      "Iteration 480, loss = 0.05184902\n",
      "Iteration 481, loss = 0.05143265\n",
      "Iteration 482, loss = 0.05103985\n",
      "Iteration 483, loss = 0.05085815\n",
      "Iteration 484, loss = 0.05064250\n",
      "Iteration 485, loss = 0.05032410\n",
      "Iteration 486, loss = 0.05013173\n",
      "Iteration 487, loss = 0.04994826\n",
      "Iteration 488, loss = 0.04982507\n",
      "Iteration 489, loss = 0.04971649\n",
      "Iteration 490, loss = 0.04956044\n",
      "Iteration 491, loss = 0.04941621\n",
      "Iteration 492, loss = 0.04929229\n",
      "Iteration 493, loss = 0.04916761\n",
      "Iteration 494, loss = 0.04904866\n",
      "Iteration 495, loss = 0.04892269\n",
      "Iteration 496, loss = 0.04886658\n",
      "Iteration 497, loss = 0.04883987\n",
      "Iteration 498, loss = 0.04878851\n",
      "Iteration 499, loss = 0.04892301\n",
      "Iteration 500, loss = 0.04907020\n",
      "Iteration 501, loss = 0.04916959\n",
      "Iteration 502, loss = 0.04903922\n",
      "Iteration 503, loss = 0.04871157\n",
      "Iteration 504, loss = 0.04804752\n",
      "Iteration 505, loss = 0.04768950\n",
      "Iteration 506, loss = 0.04745689\n",
      "Iteration 507, loss = 0.04727248\n",
      "Iteration 508, loss = 0.04711635\n",
      "Iteration 509, loss = 0.04696545\n",
      "Iteration 510, loss = 0.04684189\n"
     ]
    },
    {
     "name": "stdout",
     "output_type": "stream",
     "text": [
      "Iteration 511, loss = 0.04672892\n",
      "Iteration 512, loss = 0.04666459\n",
      "Iteration 513, loss = 0.04656755\n",
      "Iteration 514, loss = 0.04643830\n",
      "Iteration 515, loss = 0.04632411\n",
      "Iteration 516, loss = 0.04626408\n",
      "Iteration 517, loss = 0.04620182\n",
      "Iteration 518, loss = 0.04614949\n",
      "Iteration 519, loss = 0.04610256\n",
      "Iteration 520, loss = 0.04604786\n",
      "Iteration 521, loss = 0.04584553\n",
      "Iteration 522, loss = 0.04559202\n",
      "Iteration 523, loss = 0.04528019\n",
      "Iteration 524, loss = 0.04505444\n",
      "Iteration 525, loss = 0.04487864\n",
      "Iteration 526, loss = 0.04474242\n",
      "Iteration 527, loss = 0.04469646\n",
      "Iteration 528, loss = 0.04463854\n",
      "Iteration 529, loss = 0.04451684\n",
      "Iteration 530, loss = 0.04436739\n",
      "Iteration 531, loss = 0.04423259\n",
      "Iteration 532, loss = 0.04410178\n",
      "Iteration 533, loss = 0.04396269\n",
      "Iteration 534, loss = 0.04384146\n",
      "Iteration 535, loss = 0.04375970\n",
      "Iteration 536, loss = 0.04369023\n",
      "Iteration 537, loss = 0.04365920\n",
      "Iteration 538, loss = 0.04355212\n",
      "Iteration 539, loss = 0.04355439\n",
      "Iteration 540, loss = 0.04338801\n",
      "Iteration 541, loss = 0.04300979\n",
      "Iteration 542, loss = 0.04293794\n",
      "Iteration 543, loss = 0.04295307\n",
      "Iteration 544, loss = 0.04292159\n",
      "Iteration 545, loss = 0.04278367\n",
      "Iteration 546, loss = 0.04260312\n",
      "Iteration 547, loss = 0.04247115\n",
      "Iteration 548, loss = 0.04237641\n",
      "Iteration 549, loss = 0.04229305\n",
      "Iteration 550, loss = 0.04223388\n",
      "Iteration 551, loss = 0.04204113\n",
      "Iteration 552, loss = 0.04191679\n",
      "Iteration 553, loss = 0.04182337\n",
      "Iteration 554, loss = 0.04169619\n",
      "Iteration 555, loss = 0.04159285\n",
      "Iteration 556, loss = 0.04150740\n",
      "Iteration 557, loss = 0.04143027\n",
      "Iteration 558, loss = 0.04135050\n",
      "Iteration 559, loss = 0.04127129\n",
      "Iteration 560, loss = 0.04116778\n",
      "Iteration 561, loss = 0.04106767\n",
      "Iteration 562, loss = 0.04095471\n",
      "Iteration 563, loss = 0.04086444\n",
      "Iteration 564, loss = 0.04077483\n",
      "Iteration 565, loss = 0.04064417\n",
      "Iteration 566, loss = 0.04052732\n",
      "Iteration 567, loss = 0.04043021\n",
      "Iteration 568, loss = 0.04034912\n",
      "Iteration 569, loss = 0.04025861\n",
      "Iteration 570, loss = 0.04018132\n",
      "Iteration 571, loss = 0.04009967\n",
      "Iteration 572, loss = 0.04001877\n",
      "Iteration 573, loss = 0.03999086\n",
      "Iteration 574, loss = 0.03997190\n",
      "Iteration 575, loss = 0.03994766\n",
      "Iteration 576, loss = 0.03987227\n",
      "Iteration 577, loss = 0.03978102\n",
      "Training loss did not improve more than tol=0.000100 for 10 consecutive epochs. Stopping.\n",
      "Accuracy con conjunto de entrenamiento: 1.000000\n",
      "Accuracy con conjunto de test: 0.660000\n"
     ]
    }
   ],
   "source": [
    "# Se define una red similar a la del práctico \n",
    "mlp = MLPClassifier(hidden_layer_sizes=(7,), activation='relu',max_iter=10000, alpha=0,\n",
    "                    solver='sgd', verbose=10, tol=1e-4, random_state=43,\n",
    "                    learning_rate_init=.001)\n",
    "\n",
    "mlp.fit(feat_train_n, y_train.flatten())\n",
    "print(\"Accuracy con conjunto de entrenamiento: %f\" % mlp.score(feat_train_n, y_train.flatten()))\n",
    "print(\"Accuracy con conjunto de test: %f\" % mlp.score(feat_test_n, y_test))"
   ]
  },
  {
   "cell_type": "markdown",
   "metadata": {},
   "source": [
    "## Medidas de desempeño"
   ]
  },
  {
   "cell_type": "markdown",
   "metadata": {},
   "source": [
    "En el módulo [metrics](https://scikit-learn.org/stable/modules/classes.html#sklearn-metrics-metrics) scikit-learn tiene implementadas varias medidas de desempeño. Tres de las mas utilizadas son: *accuracy*, *precision* y *recall* "
   ]
  },
  {
   "cell_type": "code",
   "execution_count": 46,
   "metadata": {},
   "outputs": [
    {
     "name": "stdout",
     "output_type": "stream",
     "text": [
      "Accuracy con conjunto de entrenamiento: 1.000000\n",
      "Accuracy con conjunto de test: 0.660000\n"
     ]
    }
   ],
   "source": [
    "# Accuracy\n",
    "from sklearn.metrics import accuracy_score\n",
    "y_train_pred = mlp.predict(feat_train_n)\n",
    "y_test_pred = mlp.predict(feat_test_n)\n",
    "print(\"Accuracy con conjunto de entrenamiento: %f\" % accuracy_score(y_train, y_train_pred))\n",
    "print(\"Accuracy con conjunto de test: %f\" % accuracy_score(y_test, y_test_pred))"
   ]
  },
  {
   "cell_type": "code",
   "execution_count": 47,
   "metadata": {},
   "outputs": [
    {
     "name": "stdout",
     "output_type": "stream",
     "text": [
      "Precision con conjunto de entrenamiento: 1.000000\n",
      "Precision con conjunto de test: 0.785714\n"
     ]
    }
   ],
   "source": [
    "# Precision = TP/(TP+FP)\n",
    "from sklearn.metrics import precision_score\n",
    "y_train_pred = mlp.predict(feat_train_n)\n",
    "y_test_pred = mlp.predict(feat_test_n)\n",
    "print(\"Precision con conjunto de entrenamiento: %f\" % precision_score(y_train, y_train_pred))\n",
    "print(\"Precision con conjunto de test: %f\" % precision_score(y_test, y_test_pred))"
   ]
  },
  {
   "cell_type": "code",
   "execution_count": 48,
   "metadata": {},
   "outputs": [
    {
     "name": "stdout",
     "output_type": "stream",
     "text": [
      "Recall con conjunto de entrenamiento: 1.000000\n",
      "Recall con conjunto de test: 0.666667\n"
     ]
    }
   ],
   "source": [
    "# Recall = TP/(TP+FN)\n",
    "from sklearn.metrics import recall_score\n",
    "y_train_pred = mlp.predict(feat_train_n)\n",
    "y_test_pred = mlp.predict(feat_test_n)\n",
    "print(\"Recall con conjunto de entrenamiento: %f\" % recall_score(y_train, y_train_pred))\n",
    "print(\"Recall con conjunto de test: %f\" % recall_score(y_test, y_test_pred))"
   ]
  },
  {
   "cell_type": "markdown",
   "metadata": {},
   "source": [
    "# Ejercicio "
   ]
  },
  {
   "cell_type": "markdown",
   "metadata": {},
   "source": [
    "Mejorar el desempeño, en términos de *accuracy*, tanto de la **red neuronal de dos capas** como del clasificador que utiliza **regresión logística**. Algunas de las modificaciones que se pueden evaluar son las siguientes:\n",
    "- Modificación del *learning rate*\n",
    "- Regularización mediante *weight decay*\n",
    "- Regularización mediante *early stopping*\n",
    "- En el caso de la red neuronal, además:\n",
    "    - Modificación del número de nodos en capa oculta de la red\n",
    "    - Función de *activación* utilizada\n",
    "    - Inicialización"
   ]
  },
  {
   "cell_type": "code",
   "execution_count": null,
   "metadata": {},
   "outputs": [],
   "source": [
    "# ..."
   ]
  },
  {
   "cell_type": "code",
   "execution_count": null,
   "metadata": {},
   "outputs": [],
   "source": []
  }
 ],
 "metadata": {
  "kernelspec": {
   "display_name": "Python 3",
   "language": "python",
   "name": "python3"
  },
  "language_info": {
   "codemirror_mode": {
    "name": "ipython",
    "version": 3
   },
   "file_extension": ".py",
   "mimetype": "text/x-python",
   "name": "python",
   "nbconvert_exporter": "python",
   "pygments_lexer": "ipython3",
   "version": "3.7.4"
  }
 },
 "nbformat": 4,
 "nbformat_minor": 2
}
