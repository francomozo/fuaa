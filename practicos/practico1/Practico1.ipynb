{
 "cells": [
  {
   "cell_type": "markdown",
   "metadata": {},
   "source": [
    "# Fundamentos de Aprendizaje Automático y Reconocimiento de Patrones\n",
    "***\n",
    "# Práctico 1"
   ]
  },
  {
   "cell_type": "code",
   "execution_count": 1,
   "metadata": {},
   "outputs": [],
   "source": [
    "# Se importan las biblotecas que se van a utilizar\n",
    "import numpy as np\n",
    "from matplotlib import pyplot as plt\n",
    "import sys\n",
    "import math\n",
    "\n",
    "plt.rcParams['figure.figsize'] = (10.0, 10.0) # tamaño de las figuras por defecto\n",
    "# el inline sirve para que las figuras se muestren dentro del notebook\n",
    "%matplotlib inline  "
   ]
  },
  {
   "cell_type": "markdown",
   "metadata": {},
   "source": [
    "## Objetivos\n",
    "\n",
    "En este práctico se profundizará en dos temas vistos en el teórico: el **modelo del perceptrón** y la **viabilidad del aprendizaje**. Los objetivos del práctico son:   \n",
    "\n",
    "- Familiarizarse con el notebook Jupyter\n",
    "    - Escribir código utilizando bibiliotecas de Python\n",
    "    - Escribir ecuaciones utilizando el formato Markdown. *Nota:* esta [tabla de comandos Tex](https://www.math.brown.edu/~jhs/ReferenceCards/TeXRefCard.v1.5.pdf) puede ser útil para escribir las ecuaciones.\n",
    "- Adquirir la intuición de que la superficie de decisión determinada por el **modelo del perceptrón** es un hiperplano. Se verá que en el caso de puntos que viven en el plano la superficie de decisión es una recta. \n",
    "-  Implementar el **algoritmo del perceptrón**. \n",
    "    -  Se verá que es posible utilizar al *perceptrón* para separar un conjunto de datos linealmente separable. \n",
    "    - Utilizando el **perceptrón** como caso particular de **modelo de aprendizaje**, se mostrará que la solución $g$ devuelta por el algoritmo de aprendizaje en general no coincide con la función $f$ que relaciona los puntos de entrada con las etiquetas. \n",
    "- Simular experimentos que permitan evaluar el alcance de la **Desigualdad de Hoeffding**   \n",
    "\n",
    "*** \n",
    "\n",
    "## Lista de ejercicios\n",
    "[El perceptrón](#ElPerceptron)\n",
    ">[Ejercicio 1](#Ejercicio1): regla de actualización de pesos      \n",
    "[Ejercicio 2](#Ejercicio2): frontera de decisión  \n",
    "[Ejercicio 3](#Ejercicio3): implementación del perceptrón  \n",
    "\n",
    "[Desigualdad de Hoeffding](#DesigualdadHoeffding)  \n",
    ">[Ejercicio 4](#Ejercicio4): bolillas rojas y verdes, evaluando una hipótesis  \n",
    "[Ejercicio 5](#Ejercicio5): monedas al aire, eligiendo una hipótesis "
   ]
  },
  {
   "cell_type": "markdown",
   "metadata": {},
   "source": [
    "<a id=\"ElPerceptron\"></a>\n",
    "# El Perceptrón"
   ]
  },
  {
   "cell_type": "markdown",
   "metadata": {},
   "source": [
    "Dado un punto  $\\mathbf{x} \\in R^d$ , el *modelo de perceptrón* le asigna la clase +1 o -1 de acuerdo a la siguiente expresión\n",
    "\n",
    "$$\n",
    "h(\\mathbf{x}) = signo \\left( \\sum_{i=1}^d w_i x_i + b \\right) \n",
    "$$\n",
    "\n",
    "A los efectos de hacer la notación más compacta, es habitual escribir dicha expresión en *coordenadas homogéneas*. Llamando $w_0$ a $b$ y agregando una coordenada con valor constante 1 a  $\\mathbf{x}$, es decir $\\mathbf{x} = [1, x_1, \\ldots , x_d] $ la expresión anterior queda\n",
    "\n",
    "$$\n",
    "h(\\mathbf{x}) = signo \\left( \\sum_{i=0}^d w_i x_i \\right) = signo \\left(\\mathbf{w}^T \\mathbf{x} \\right)\n",
    "$$  \n",
    "\n",
    "Para encontrar los parámetros del modelo es necesario contar con un conjunto de puntos de entrenamiento $\\mathbf{x_1}, \\ldots, \\mathbf{x_n}$ con sus correspondientes etiquetas $y_1, \\ldots, y_n$. El *algoritmo del perceptrón* recorre en forma iterativa el conjunto de puntos de entrenamiento y en cada paso $t$ se fija si el modelo clasifica correctamente al punto $\\mathbf{x}(t)$. En caso afirmativo no hace nada y en caso negativo actualiza los pesos de acuerdo a la siguiente regla \n",
    "\n",
    "$$\n",
    "\\mathbf{w}(t+1)=\\mathbf{w}(t)+y(t)\\mathbf{x}(t)\n",
    "$$\n",
    "\n",
    "siendo $y(t)$ la etiqueta correspondiente al punto $\\mathbf{x}(t)$"
   ]
  },
  {
   "cell_type": "markdown",
   "metadata": {},
   "source": [
    "<a id=\"Ejercicio1\"></a>\n",
    "## Ejercicio 1 "
   ]
  },
  {
   "cell_type": "markdown",
   "metadata": {},
   "source": [
    "Cada vez que se actualizan los pesos del perceptrón \n",
    "\n",
    "$$\n",
    "\\mathbf{w}(t+1)=\\mathbf{w}(t)+y(t)\\mathbf{x}(t)\n",
    "$$\n",
    "\n",
    "la frontera de decisión determinada por los pesos se mueve a una dirección tendiente a clasificar la muestra actual correctamente. Asumiendo que la muestra $\\mathbf{x}(t)$ es mal clasificada en el paso actual      \n",
    "\n",
    "** a)** Mostrar que $y(t) \\mathbf{w}^T(t) \\mathbf{x}(t)<0$.       "
   ]
  },
  {
   "cell_type": "markdown",
   "metadata": {},
   "source": [
    "**RESPUESTA:**  \n",
    "\n",
    "Si la muestra esta mal clasificada entonces $y(t)=-1$, y "
   ]
  },
  {
   "cell_type": "markdown",
   "metadata": {},
   "source": [
    "**b)** Mostrar que $y(t)\\mathbf{w}^T(t+1)\\mathbf{x}(t) > y(t)\\mathbf{w}^T(t)\\mathbf{x}(t)$         "
   ]
  },
  {
   "cell_type": "markdown",
   "metadata": {},
   "source": [
    "**RESPUESTA:**\n",
    "\n",
    "..."
   ]
  },
  {
   "cell_type": "markdown",
   "metadata": {},
   "source": [
    "**c)** Argumentar que la actualización de $\\mathbf{w}(t)$ a $\\mathbf{w}(t+1)$ es un movimiento en la dirección correcta en cuanto a clasificar a $\\mathbf{x}(t)$ correctamente se refiere."
   ]
  },
  {
   "cell_type": "markdown",
   "metadata": {},
   "source": [
    "**RESPUESTA:**   \n",
    "\n",
    "..."
   ]
  },
  {
   "cell_type": "markdown",
   "metadata": {},
   "source": [
    "<a id=\"Ejercicio2\"></a>\n",
    "## Ejercicio 2          "
   ]
  },
  {
   "cell_type": "markdown",
   "metadata": {},
   "source": [
    "Se considera el perceptrón en dos dimensiones: $h(\\mathbf{x}) = signo(\\mathbf{w}^T\\mathbf{x})$ donde $\\mathbf{w}=[w_0, w_1, w_2]^T$ y $\\mathbf{x}=[1, x_1, x_2]^T$. Técnicamente $\\mathbf{x}$ tiene tres coordenadas, pero al perceptrón en este caso se lo llama *bi-dimensional* porque la primera coordenada tiene un valor constante uno.    \n",
    "\n",
    "**a)** Mostrar que las regiones del plano donde $h(\\mathbf{x})= +1$ y $h(\\mathbf{x})= -1$ están separadas por una recta. Si se expresa dicha recta mediante la ecuación $x_2 = ax_1 + b$, escribir la pendiente $a$ y la intersección $b$ en función de $w_0$, $w_1$, $w_2$    "
   ]
  },
  {
   "cell_type": "markdown",
   "metadata": {},
   "source": [
    "**RESPUESTA:**  \n",
    "\n",
    "$(x_1,x_2)$ pertenecen a la recta. \n",
    "$x_2= -\\frac{w_1}{w_2}x_1 -\\frac{w_0}{w_2}$\n"
   ]
  },
  {
   "cell_type": "markdown",
   "metadata": {},
   "source": [
    "**b)** Graficar la frontera de decisión para los casos $\\mathbf{w}=[1,2,3]^T$ y $\\mathbf{w}=-[1,2,3]^T$ \n",
    "\n",
    "En dimensiones mayores a dos, las regiones +1 y -1 están separadas por un hyperplano, la generalización de una recta."
   ]
  },
  {
   "cell_type": "code",
   "execution_count": null,
   "metadata": {},
   "outputs": [],
   "source": [
    "# Se define el espacio  como la región comprendida en [-1,1] x [-1,+1]\n",
    "x1_min = -1; x1_max=1\n",
    "x2_min = -1; x2_max=1\n",
    "\n",
    "x1 = np.linspace(x1_min,x1_max)\n",
    "\n",
    "###################################################\n",
    "######## EMPIEZA ESPACIO PARA COMPLETAR CODIGO ####\n",
    "###################################################\n",
    "\n",
    "# Se definen los pesos\n",
    "# w1 =\n",
    "# w2 =\n",
    "\n",
    "# Se encuentran las ordenadas para los pesos anteriormente\n",
    "# definidos\n",
    "\n",
    "# Coordenadas x2 de acuerdo al modelo 1\n",
    "# x2_w1 =\n",
    "\n",
    "# Coordenadas x2 de acuerdo al modelo 2\n",
    "# x2_w2 =\n",
    "\n",
    "###################################################\n",
    "######## TERMINA ESPACIO PARA COMPLETAR CODIGO ####\n",
    "###################################################\n",
    "\n",
    "plt.figure()\n",
    "plt.plot(x1, x2_w1)\n",
    "plt.plot(x1, x2_w2)\n",
    "plt.legend(['Caso 1', 'Caso 2'])\n",
    "plt.xlabel('x1', fontsize=10)\n",
    "plt.ylabel('x2', fontsize=10)\n",
    "plt.title('Frontera de decisión determinada por el perceptrón')"
   ]
  },
  {
   "cell_type": "markdown",
   "metadata": {},
   "source": [
    "<a id=\"Ejercicio3\"></a>\n",
    "## Ejercicio 3 \n",
    "\n",
    "En este problema se explorará el comportamiento del perceptrón utilizando conjuntos de datos de entrenamiento de diferentes tamaño y dimensiones.  "
   ]
  },
  {
   "cell_type": "markdown",
   "metadata": {},
   "source": [
    "## Generar conjunto de entrenamiento \n",
    "\n",
    "Completar el código de la función `generar_conjunto_entrenamiento()`. Dentro de la misma se deberá eligir aleatoriamente una recta del plano como función objetivo $f$. La recta elegida divide al plano en dos regiones, a los puntos pertenecientes a una de ellas se les asignará la etiqueta +1 y a los pertenecientes a la otra se le asignará -1. Se asumirá que el espacio $\\mathcal{X} = [-1,1] \\times [-1,1]$. Los puntos $\\mathbf{x}_n$ del conjunto de entrenamiento serán elegidos de manera aleatoria y sus etiquetas $y_n$ serán asignadas evaluando la función objetivo para cada $\\mathbf{x}_n$. De esta forma se generará un conjunto de entrenamiento de tamaño $N=20$. "
   ]
  },
  {
   "cell_type": "code",
   "execution_count": 64,
   "metadata": {},
   "outputs": [],
   "source": [
    "def generar_conjunto_entrenamiento(numeroDeMuestras, d = 2,semilla = None):\n",
    "    \n",
    "    \"\"\" Esta función genera un conjunto de entrenamiento de tamaño numeroDeMuestras\n",
    "    Entrada:\n",
    "        numeroDeMuestras: cantidad de muestras que se devuelven\n",
    "        d: dimensión en la que viven las muestras generadas\n",
    "        semilla: valor que se le asigna al método random.seed()\n",
    "    Salida:\n",
    "        w_rand: vector de tamaño d+1 que contiene los parámetros \n",
    "                de la función objetivo elegida aleatoriamente\n",
    "        X : matriz de tamaño (numeroDeMuestras x (d+1)) que contiene las muestras de \n",
    "            entrenamiento generadas\n",
    "        y : vector de tamaño numeroDeMuestras que contine las etiquetas de las muestras generadas\n",
    "    \"\"\"\n",
    "    \n",
    "    # El espacio se restringe a la región [-1, 1] x [-1, 1]\n",
    "    x_min = -1\n",
    "    x_max =  1\n",
    "    \n",
    "    if semilla is not None:\n",
    "        np.random.seed(semilla)\n",
    "        \n",
    "    #######################################################\n",
    "    ######## EMPIEZA ESPACIO PARA COMPLETAR CODIGO ########\n",
    "    #######################################################\n",
    "    \n",
    "    # Se elige aleatoriamente una recta del plano como \n",
    "    # función objetivo f\n",
    "    \n",
    "    w_rand = np.random.rand(d + 1) \n",
    "\n",
    "    # Se elige aleatoriamente N puntos pertenecientes a \n",
    "    # la región de interés. Se agregan los unos correspondientes\n",
    "    # a las coordenadas homogéneas\n",
    "    \n",
    "    X = x_min + (x_max - x_min) * np.random.rand(numeroDeMuestras, d + 1) \n",
    "    X[:,0] = 1\n",
    "    # se generan las salidas utilizando el modelo del perceptrón\n",
    "    \n",
    "    w_rand_T = np.transpose(w_rand)\n",
    "    y = np.sign(X@w_rand_T)\n",
    "    \n",
    "    #######################################################\n",
    "    ######## TERMINA ESPACIO PARA COMPLETAR CODIGO ########\n",
    "    #######################################################\n",
    "    \n",
    "    return w_rand, X, y\n",
    "\n",
    "N = 20\n",
    "w, X, y = generar_conjunto_entrenamiento(N, semilla = 42)"
   ]
  },
  {
   "cell_type": "markdown",
   "metadata": {},
   "source": [
    "## Visualizar conjunto de entrenamiento \n",
    "\n",
    "Verificar el correcto funcionamiento graficando las muestras $ \\{ (x_n, y_n) \\} $ junto con la función objetivo $f$ indicando claramente a que clase pertenece cada una de las muestras. "
   ]
  },
  {
   "cell_type": "code",
   "execution_count": 58,
   "metadata": {},
   "outputs": [
    {
     "data": {
      "image/png": "[encoded data removed]",
      "text/plain": [
       "<Figure size 720x720 with 1 Axes>"
      ]
     },
     "metadata": {
      "needs_background": "light"
     },
     "output_type": "display_data"
    }
   ],
   "source": [
    "def graficar_entrenamiento_perceptron(X, y, w_f, w_g = None):\n",
    "\n",
    "    '''\n",
    "    Entrada: \n",
    "        X: matriz de tamaño Nx3 que contiene el conjunto de puntos de entrenamiento expresados en\n",
    "           en coordenadas homogeneas. La primera coordenada de cada punto es uno.\n",
    "        y: etiquetas asignadas a los puntos\n",
    "        w_f: parámetros de la función objetivo.\n",
    "        w_g: parámetros encontrados por el perceptrón\n",
    "    '''\n",
    "    plt.figure(figsize=(10,10))\n",
    "\n",
    "    # Se grafican los puntos sorteados\n",
    "    plt.scatter(X[y==-1, 1],X[ y==-1, 2], s=40, color='r', marker='*', label='etiqueta -1')\n",
    "    plt.scatter(X[y==1, 1], X[y==1, 2], s=40, color='b', marker='o', label='etiqueta 1')\n",
    "    \n",
    "    # Se grafica la superficie de decisión objetivo\n",
    "    x1 = np.linspace(-1 , 1)\n",
    "    x2_f = -w_f[1]/w_f[2] * x1 + -w_f[0]/w_f[2]\n",
    "    plt.plot(x1,x2_f, label =  'funcion objetivo')\n",
    "    \n",
    "    if w_g is not None:\n",
    "        # Se grafica la superficie de decisión encontrada\n",
    "        x2_g = -w_g[1]/w_g[2] * x1 + -w_g[0]/w_g[2]\n",
    "        plt.plot(x1,x2_g, label = 'funcion encontrada')\n",
    "\n",
    "    plt.legend()        \n",
    "    plt.xlim((-1,1))\n",
    "    plt.ylim((-1,1))\n",
    "    plt.xlabel('x1')\n",
    "    plt.ylabel('x2')\n",
    "    plt.title('Conjunto de entrenamiento generado')\n",
    "\n",
    "graficar_entrenamiento_perceptron(X, y, w)"
   ]
  },
  {
   "cell_type": "markdown",
   "metadata": {},
   "source": [
    "<a id=\"implementarPerceptron\"></a>\n",
    "## Implementar el perceptrón\n",
    "\n",
    "Implementar el método `entrenar_perceptron()`."
   ]
  },
  {
   "cell_type": "code",
   "execution_count": 65,
   "metadata": {},
   "outputs": [
    {
     "ename": "KeyboardInterrupt",
     "evalue": "",
     "output_type": "error",
     "traceback": [
      "\u001b[0;31m---------------------------------------------------------------------------\u001b[0m",
      "\u001b[0;31mKeyboardInterrupt\u001b[0m                         Traceback (most recent call last)",
      "\u001b[0;32m<ipython-input-65-56a2e01dd8dd>\u001b[0m in \u001b[0;36m<module>\u001b[0;34m\u001b[0m\n\u001b[1;32m     45\u001b[0m     \u001b[0;32mreturn\u001b[0m \u001b[0mw\u001b[0m\u001b[0;34m,\u001b[0m \u001b[0merror\u001b[0m\u001b[0;34m\u001b[0m\u001b[0;34m\u001b[0m\u001b[0m\n\u001b[1;32m     46\u001b[0m \u001b[0;34m\u001b[0m\u001b[0m\n\u001b[0;32m---> 47\u001b[0;31m \u001b[0mentrenar_perceptron\u001b[0m\u001b[0;34m(\u001b[0m\u001b[0mX\u001b[0m\u001b[0;34m,\u001b[0m \u001b[0my\u001b[0m\u001b[0;34m)\u001b[0m\u001b[0;34m\u001b[0m\u001b[0;34m\u001b[0m\u001b[0m\n\u001b[0m",
      "\u001b[0;32m<ipython-input-65-56a2e01dd8dd>\u001b[0m in \u001b[0;36mentrenar_perceptron\u001b[0;34m(X, y, w_inicial, maxIteraciones)\u001b[0m\n\u001b[1;32m     26\u001b[0m     \u001b[0merr\u001b[0m \u001b[0;34m=\u001b[0m \u001b[0;32mTrue\u001b[0m\u001b[0;34m\u001b[0m\u001b[0;34m\u001b[0m\u001b[0m\n\u001b[1;32m     27\u001b[0m     \u001b[0;32mwhile\u001b[0m \u001b[0;34m(\u001b[0m\u001b[0mitr\u001b[0m \u001b[0;34m<=\u001b[0m \u001b[0mmaxIteraciones\u001b[0m\u001b[0;34m)\u001b[0m \u001b[0;32mor\u001b[0m \u001b[0;34m(\u001b[0m\u001b[0merr\u001b[0m \u001b[0;34m==\u001b[0m \u001b[0;32mFalse\u001b[0m\u001b[0;34m)\u001b[0m\u001b[0;34m:\u001b[0m\u001b[0;34m\u001b[0m\u001b[0;34m\u001b[0m\u001b[0m\n\u001b[0;32m---> 28\u001b[0;31m         \u001b[0mw_T\u001b[0m \u001b[0;34m=\u001b[0m \u001b[0mnp\u001b[0m\u001b[0;34m.\u001b[0m\u001b[0mtranspose\u001b[0m\u001b[0;34m(\u001b[0m\u001b[0mw\u001b[0m\u001b[0;34m)\u001b[0m\u001b[0;34m\u001b[0m\u001b[0;34m\u001b[0m\u001b[0m\n\u001b[0m\u001b[1;32m     29\u001b[0m         \u001b[0mh\u001b[0m \u001b[0;34m=\u001b[0m \u001b[0mnp\u001b[0m\u001b[0;34m.\u001b[0m\u001b[0msign\u001b[0m\u001b[0;34m(\u001b[0m\u001b[0mX\u001b[0m\u001b[0;34m@\u001b[0m\u001b[0mw_T\u001b[0m\u001b[0;34m)\u001b[0m\u001b[0;34m\u001b[0m\u001b[0;34m\u001b[0m\u001b[0m\n\u001b[1;32m     30\u001b[0m         '''\n",
      "\u001b[0;31mKeyboardInterrupt\u001b[0m: "
     ]
    }
   ],
   "source": [
    "def entrenar_perceptron(X, y, w_inicial=None, maxIteraciones = 500):\n",
    "    \"\"\"\n",
    "    Entrada:\n",
    "        X: matriz de (Nxd+1) que contiene las muestras de entrenamiento\n",
    "        y: etiquetas asociadas a las muestras de entrenamiento\n",
    "        w_inicial: inicialización de los pesos del perceptrón\n",
    "        maxIteraciones: máxima cantidad de iteraciones que el algoritmo \n",
    "                        puede estar iterando\n",
    "\n",
    "        \n",
    "    Salida:\n",
    "        w: parámetros del modelos perceptrón   \n",
    "        error: lista que contiene los errores cometidos en cada iteración\n",
    "    \"\"\"\n",
    "    \n",
    "    if w_inicial is None:\n",
    "        # Se inicializan los pesos del perceptrón\n",
    "        w = np.random.rand(X.shape[1]) # w = np.zeros(d+1)\n",
    "    else:\n",
    "        w = w_inicial\n",
    " \n",
    "    #######################################################\n",
    "    ######## EMPIEZA ESPACIO PARA COMPLETAR CODIGO ########\n",
    "    #######################################################\n",
    "    itr = 0\n",
    "    err = True\n",
    "    while (itr <= maxIteraciones) or (err == False): \n",
    "        w_T = np.transpose(w)\n",
    "        h = np.sign(X@w_T)\n",
    "        \n",
    "        i = 0\n",
    "        while h[i] == y[i]:\n",
    "            i += 1\n",
    "        if i == X.shape[0]:\n",
    "            err = False\n",
    "        else:\n",
    "            w[i] += y[i]*np.transpose(X[i,:])  \n",
    "            itr += 1\n",
    "        \n",
    "\n",
    "    #######################################################\n",
    "    ######## TERMINA ESPACIO PARA COMPLETAR CODIGO ########\n",
    "    #######################################################\n",
    "    \n",
    "    return w, error\n",
    "\n",
    "entrenar_perceptron(X, y)"
   ]
  },
  {
   "cell_type": "markdown",
   "metadata": {},
   "source": [
    "## Entrenamiento base"
   ]
  },
  {
   "cell_type": "markdown",
   "metadata": {},
   "source": [
    "Entrenar el perceptrón e indicar cuánto demora en converger.  Graficar las muestras $ \\{ (x_n, y_n) \\} $ junto con la función objetivo $f$ y la hipótesis encontrada $g$. ¿Qué tan cercanas son $f$ y $g$?"
   ]
  },
  {
   "cell_type": "code",
   "execution_count": null,
   "metadata": {},
   "outputs": [],
   "source": [
    "w_perceptron, error = entrenar_perceptron(X,y)\n",
    "\n",
    "print('El perceptrón finalizó en la iteración %d' % len(error))\n",
    "# el error de entrenamiento que con el w encontrado debería ser cero\n",
    "print('El error de entrenamiento es %f' % error[-1])"
   ]
  },
  {
   "cell_type": "code",
   "execution_count": null,
   "metadata": {},
   "outputs": [],
   "source": [
    "# Se grafica el resultado del entrenamiento\n",
    "graficar_entrenamiento_perceptron(X,y,w,w_perceptron)"
   ]
  },
  {
   "cell_type": "markdown",
   "metadata": {},
   "source": [
    "### Entrenamiento con otro conjunto de entrenamiento"
   ]
  },
  {
   "cell_type": "markdown",
   "metadata": {},
   "source": [
    "Repetir el entrenamiento pero utilizando otro conjunto de tamaño $N=20$ generado aleatoriamente. Comparar los resultados con los obtenidos anteriormente."
   ]
  },
  {
   "cell_type": "code",
   "execution_count": null,
   "metadata": {},
   "outputs": [],
   "source": [
    "w, X, y = generar_conjunto_entrenamiento(N, semilla = 33)\n",
    "\n",
    "#######################################################\n",
    "######## EMPIEZA ESPACIO PARA COMPLETAR CODIGO ########\n",
    "#######################################################\n",
    "\n",
    "\n",
    "\n",
    "#######################################################\n",
    "######## TERMINA ESPACIO PARA COMPLETAR CODIGO ########\n",
    "#######################################################"
   ]
  },
  {
   "cell_type": "markdown",
   "metadata": {},
   "source": [
    "## Entrenando con mas muestras"
   ]
  },
  {
   "cell_type": "markdown",
   "metadata": {},
   "source": [
    "Repetir nuevamente el entrenamiento pero ahora utilizando un conjunto de tamaño $N=100$ generado aleatoriamente. Comparar los resultados obtenidos con el del *entrenamiento base*"
   ]
  },
  {
   "cell_type": "code",
   "execution_count": null,
   "metadata": {},
   "outputs": [],
   "source": [
    "#######################################################\n",
    "######## EMPIEZA ESPACIO PARA COMPLETAR CODIGO ########\n",
    "#######################################################\n",
    "\n",
    "\n",
    "\n",
    "#######################################################\n",
    "######## TERMINA ESPACIO PARA COMPLETAR CODIGO ########\n",
    "#######################################################"
   ]
  },
  {
   "cell_type": "markdown",
   "metadata": {},
   "source": [
    "Repetir el entrenamiento utilizando un conjunto de tamaño $N=1000$ generado aleatoriamente. Comparar los resultados obtenidos con el *entrenamiento base*   "
   ]
  },
  {
   "cell_type": "code",
   "execution_count": null,
   "metadata": {},
   "outputs": [],
   "source": [
    "#######################################################\n",
    "######## EMPIEZA ESPACIO PARA COMPLETAR CODIGO ########\n",
    "#######################################################\n",
    "\n",
    "\n",
    "\n",
    "#######################################################\n",
    "######## TERMINA ESPACIO PARA COMPLETAR CODIGO ########\n",
    "#######################################################"
   ]
  },
  {
   "cell_type": "markdown",
   "metadata": {},
   "source": [
    "** PREGUNTA: ** En función de los experimentos realizados, comentar como varía la calidad de la estimación y el tiempo de procesamiento en función del número de muestras $N$."
   ]
  },
  {
   "cell_type": "markdown",
   "metadata": {},
   "source": [
    "**RESPUESTA:**\n",
    "\n",
    "..."
   ]
  },
  {
   "cell_type": "markdown",
   "metadata": {},
   "source": [
    "## Aumentando la dimensión de los datos"
   ]
  },
  {
   "cell_type": "markdown",
   "metadata": {},
   "source": [
    "En caso de ser necesario, modificar `entrenar_perceptron` de forma tal que funcione con $\\mathbf{x}_n \\in \\Bbb{R}^{10}$ además de $\\mathbf{x}_n \\in \\Bbb{R}^{2}$. "
   ]
  },
  {
   "cell_type": "markdown",
   "metadata": {},
   "source": [
    "Generar un conjunto de entrenamiento linealmente separable de tamaño $N=1000$ con $\\mathbf{x}_n \\in \\Bbb{R}^{10}$ y utilizarlo para entrenar el perceptrón. ¿Cuántas actualizaciones le lleva al algoritmo converger?     "
   ]
  },
  {
   "cell_type": "code",
   "execution_count": 3,
   "metadata": {},
   "outputs": [],
   "source": [
    "#######################################################\n",
    "######## EMPIEZA ESPACIO PARA COMPLETAR CODIGO ########\n",
    "#######################################################\n",
    "\n",
    "\n",
    "#######################################################\n",
    "######## EMPIEZA ESPACIO PARA COMPLETAR CODIGO ########\n",
    "#######################################################"
   ]
  },
  {
   "cell_type": "markdown",
   "metadata": {},
   "source": [
    "<a id=\"DesigualdadHoeffding\"></a>\n",
    "# Desigualdad de Hoeffding"
   ]
  },
  {
   "cell_type": "markdown",
   "metadata": {},
   "source": [
    "<a id=\"Ejercicio5\"></a>\n",
    "## Ejercicio 4  "
   ]
  },
  {
   "cell_type": "markdown",
   "metadata": {},
   "source": [
    "Se considera un bolillero con bolillas rojas y verdes. La probabilidad de sacar una bolilla roja es $\\mu=0.9$.\n",
    "\n",
    "**a)** ¿Cuál es la probabilidad de que al sacar aleatoriamente 10 bolillas la fracción de bolillas rojas observada sea $\\nu \\leq 0.1$ ?    \n",
    "Sugerencias: i) utilizar la distrbución binomial ii) la respuesta es un número muy pequeño. "
   ]
  },
  {
   "cell_type": "code",
   "execution_count": 4,
   "metadata": {},
   "outputs": [],
   "source": [
    "# Para esta parte puede ser util math.factorial()\n",
    "\n",
    "#######################################################\n",
    "######## EMPIEZA ESPACIO PARA COMPLETAR CODIGO ########\n",
    "#######################################################\n",
    "\n",
    "\n",
    "\n",
    "#######################################################\n",
    "######## TERMINA ESPACIO PARA COMPLETAR CODIGO ########\n",
    "#######################################################"
   ]
  },
  {
   "cell_type": "markdown",
   "metadata": {},
   "source": [
    "**b)** Utilizar ahora la desigualdad de Hoeffding para acotar la probabilidad de que en una muestra de 10 bolillas la fracción de bolillas rojas observada sea $\\nu \\leq 0.1$. Comparar la respuesta con la de la parte anterior."
   ]
  },
  {
   "cell_type": "code",
   "execution_count": 5,
   "metadata": {},
   "outputs": [],
   "source": [
    "#######################################################\n",
    "######## EMPIEZA ESPACIO PARA COMPLETAR CODIGO ########\n",
    "#######################################################\n",
    "\n",
    "\n",
    "#######################################################\n",
    "######## TERMINA ESPACIO PARA COMPLETAR CODIGO ########\n",
    "#######################################################"
   ]
  },
  {
   "cell_type": "markdown",
   "metadata": {},
   "source": [
    "**c)** Suponga ahora que se quiere garantizar que la distancia entre el valor estimado y el real no sea mayor a $\\epsilon=0.05$ con una probabilidad de $0.97$. ¿Cuál es el mínimo número de bolillas $N$ que se necesitan sacar?"
   ]
  },
  {
   "cell_type": "code",
   "execution_count": 6,
   "metadata": {},
   "outputs": [],
   "source": [
    "#######################################################\n",
    "######## EMPIEZA ESPACIO PARA COMPLETAR CODIGO ########\n",
    "#######################################################\n",
    "\n",
    "\n",
    "\n",
    "#######################################################\n",
    "######## TERMINA ESPACIO PARA COMPLETAR CODIGO ########\n",
    "#######################################################"
   ]
  },
  {
   "cell_type": "markdown",
   "metadata": {},
   "source": [
    "<a id=\"Ejercicio6\"></a>\n",
    "## Ejercicio 5"
   ]
  },
  {
   "cell_type": "markdown",
   "metadata": {},
   "source": [
    "Este ejercicio ilustra la diferencia entre utilizar una hipótesis fija $h$ y utilizar la hipótesis final $g$ seleccionada por un algoritmo de aprendizaje. Completar el código de la función `realizar_experimento_moneda(numeroMonedas = 1000, numeroLanzamientosPorMoneda = 10, semilla=None)` y luego simular un experimento en que se lancen 1000 monedas al aire. Cada una de las 1000 monedas se lanzará 10 veces al aire. Se guardará la cantidad de veces que sale cara la moneda en los siguientes casos:\n",
    "\n",
    "* $c_0$ - la primera moneda lanzada\n",
    "* $c_{rand}$ - una moneda elegida aleatoriamente\n",
    "* $c_{min}$ - la moneda que salió cara menos veces\n",
    "\n",
    "Sean $\\nu_0$, $\\nu_{rand}$ y $\\nu_{min}$ la fracción de veces en que salió cara cada una de las monedas descritas anteriormente.\n",
    "\n",
    "a) ¿Cuál es el valor de $\\mu$ en cada uno de los casos?"
   ]
  },
  {
   "cell_type": "code",
   "execution_count": null,
   "metadata": {},
   "outputs": [],
   "source": [
    "def realizar_experimento_moneda(numeroMonedas = 1000, numeroLanzamientosPorMoneda = 10, \n",
    "                              semilla=None):\n",
    "    \"\"\"\n",
    "    Entrada:\n",
    "       numeroMonedas: cantidad de monedas que son lanzadas al aire\n",
    "       numeroLanzamientosPorMoneda: cantidad de veces que es lanzada cada moneda\n",
    "    Salida:\n",
    "       v0: fracción de veces que la moneda 0 salió cara \n",
    "       v_rand: fracción de veces que salió cara una moneda elegida aleatoriamente\n",
    "       v_min: fracción de veces que salió cara la moneda que salió cara menos veces\n",
    "    \"\"\"\n",
    "    if semilla is not None:\n",
    "        np.random.seed(semilla) # se fija la semilla para que el experimento sea repetible\n",
    "    \n",
    "    #######################################################\n",
    "    ######## EMPIEZA ESPACIO PARA COMPLETAR CODIGO ########\n",
    "    #######################################################\n",
    "    \n",
    "\n",
    "    \n",
    "    #######################################################\n",
    "    ######## EMPIEZA ESPACIO PARA COMPLETAR CODIGO ########\n",
    "    #######################################################\n",
    "    \n",
    "    return v0, v_rand, v_min\n",
    "\n",
    "N = 10\n",
    "v0, v_rand, v_min = realizar_experimento_moneda(numeroLanzamientosPorMoneda = N, semilla=42)\n",
    "print('\\mu_0 = %f, \\mu_{rand} = %f, \\mu_{min} = %f' % (v0, v_rand, v_min))"
   ]
  },
  {
   "cell_type": "markdown",
   "metadata": {},
   "source": [
    "b) Repetir el experimento de la parte a) muchas veces (por ejemplo 100000 veces) y graficar el histograma de $\\nu_1$, $\\nu_{rand}$ y $\\nu_{min}$ "
   ]
  },
  {
   "cell_type": "code",
   "execution_count": null,
   "metadata": {},
   "outputs": [],
   "source": [
    "numExperimentos = 10000 #100000\n",
    "V = np.zeros((numExperimentos, 3)) # matríz que guarda los resultados de los experimentos\n",
    "np.random.seed(42)\n",
    "\n",
    "#######################################################\n",
    "######## EMPIEZA ESPACIO PARA COMPLETAR CODIGO ########\n",
    "#######################################################\n",
    "\n",
    "\n",
    "\n",
    "#######################################################\n",
    "######## TERMINA ESPACIO PARA COMPLETAR CODIGO ########\n",
    "#######################################################"
   ]
  },
  {
   "cell_type": "code",
   "execution_count": null,
   "metadata": {},
   "outputs": [],
   "source": [
    "plt.figure(figsize=(30,10))    \n",
    "plt.subplot(1,3,1)\n",
    "histV0, binsV0, patchesV0 = plt.hist(V[:,0], bins= 11, range=(0,1), density=True)\n",
    "plt.title('Histograma de $v_0$', fontsize=20)\n",
    "plt.subplot(1,3,2)\n",
    "histVrand, binsVrand, patchesVrand = plt.hist(V[:,1], bins= 11, range=(0,1), density=True)\n",
    "plt.title('Histograma de $v_{rand}$', fontsize=20)\n",
    "plt.subplot(1,3,3)\n",
    "histVmin, binsVmin, patchesVmin = plt.hist(V[:,2], bins= 11, range=(0,1), density=True)\n",
    "plt.title('Histograma de $v_{min}$', fontsize=20)\n",
    "plt.show()"
   ]
  },
  {
   "cell_type": "markdown",
   "metadata": {},
   "source": [
    "c) Usando b) graficar una estimación de $P(\\vert \\nu - \\mu \\vert > \\epsilon )$ en función de $\\epsilon$ junto con la cota de Hoeffding (en la misma figura)"
   ]
  },
  {
   "cell_type": "code",
   "execution_count": null,
   "metadata": {},
   "outputs": [],
   "source": [
    "# Cota de Hoeffding\n",
    "epsilons = np.arange(0.,1.05,0.1)\n",
    "cotaHoeffding = 2.0 * np.exp(- 2* (epsilons**2) * N )\n",
    "mu=0.5\n",
    "\n",
    "def calcular_probabilidad_empirica(V_j, mu, epsilons):\n",
    "    '''\n",
    "    Calcula la probabilidad P(|nu - mu| > epsilon ) para un experimento\n",
    "    Entrada:\n",
    "        V_j: vector de tamaño N que almacena los resultados de N experimentos para una de las monedas\n",
    "        mu: valor de mu\n",
    "        epsilons: valores de epsilon para los que se desea calcular la probabilidad\n",
    "    Salida: \n",
    "        probabilidadEmpirica: vector de tamaño igual al largo de epsilons que contiene las probabilidades\n",
    "                             calculadas\n",
    "    '''\n",
    "    probabilidadEmpirica = np.zeros(len(epsilons))\n",
    "    for i, eps in enumerate(epsilons):\n",
    "        \n",
    "        #######################################################\n",
    "        ######## EMPIEZA ESPACIO PARA COMPLETAR CODIGO ########\n",
    "        #######################################################\n",
    "        \n",
    "        # se suman los experimentos que distaron de mu más de epsilon por debajo\n",
    "\n",
    "        \n",
    "        # se suman los experimentos que distaron de mu más de epsilon por arriba\n",
    "\n",
    "        \n",
    "        # se calcula la probabilidad para el epsilon correspondiente\n",
    "\n",
    "        \n",
    "        #######################################################\n",
    "        ######## TERMINA ESPACIO PARA COMPLETAR CODIGO ########\n",
    "        #######################################################\n",
    "        \n",
    "    return probabilidadEmpirica\n",
    "                \n",
    "resultadoEmpiricoCara0 = calcular_probabilidad_empirica(V[:,0], mu, epsilons)\n",
    "resultadoEmpiricoCaraAleatoria = calcular_probabilidad_empirica(V[:,1], mu, epsilons)\n",
    "resultadoEmpiricoCaraMenosVeces = calcular_probabilidad_empirica(V[:,2], mu, epsilons)\n",
    "\n",
    "\n",
    "plt.figure(figsize=(30,10))    \n",
    "plt.subplot(1,3,1)\n",
    "plt.plot(epsilons,cotaHoeffding, label='cota Hoeffding')\n",
    "plt.plot(epsilons,resultadoEmpiricoCara0, label='resultado empirico')\n",
    "plt.xlabel('epsilon', fontsize=20)\n",
    "plt.title('Cota de Hoeffding', fontsize=20)\n",
    "plt.legend()\n",
    "plt.subplot(1,3,2)\n",
    "plt.plot(epsilons,cotaHoeffding, label='cota Hoeffding')\n",
    "plt.plot(epsilons,resultadoEmpiricoCaraAleatoria, label='resultado empirico')\n",
    "plt.xlabel('epsilon', fontsize=20)\n",
    "plt.title('Cota de Hoeffding', fontsize=20)\n",
    "plt.legend()\n",
    "plt.subplot(1,3,3)\n",
    "plt.plot(epsilons,cotaHoeffding, label='cota Hoeffding')\n",
    "plt.plot(epsilons,resultadoEmpiricoCaraMenosVeces, label='resultado empirico')\n",
    "plt.xlabel('epsilon', fontsize=20)\n",
    "plt.title('Cota de Hoeffding', fontsize=20)\n",
    "plt.legend()\n",
    "plt.show()\n"
   ]
  },
  {
   "cell_type": "markdown",
   "metadata": {},
   "source": [
    "d) ¿Pará qué moneda(s) la distribución de $\\nu$ cumple con lo establecido por la desigualdad de Hoeffding?"
   ]
  },
  {
   "cell_type": "markdown",
   "metadata": {},
   "source": [
    "**Respuesta:**  \n",
    "\n",
    "... "
   ]
  },
  {
   "cell_type": "code",
   "execution_count": null,
   "metadata": {},
   "outputs": [],
   "source": []
  }
 ],
 "metadata": {
  "kernelspec": {
   "display_name": "Python 3",
   "language": "python",
   "name": "python3"
  },
  "language_info": {
   "codemirror_mode": {
    "name": "ipython",
    "version": 3
   },
   "file_extension": ".py",
   "mimetype": "text/x-python",
   "name": "python",
   "nbconvert_exporter": "python",
   "pygments_lexer": "ipython3",
   "version": "3.7.3"
  }
 },
 "nbformat": 4,
 "nbformat_minor": 2
}
