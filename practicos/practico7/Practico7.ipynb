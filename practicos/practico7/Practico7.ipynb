{
 "cells": [
  {
   "cell_type": "markdown",
   "metadata": {},
   "source": [
    "# <center> FUNDAMENTOS DE APRENDIZAJE AUTOMÁTICO <br> Y RECONOCIMIENTO DE PATRONES</center>\n",
    "# <center > K MEANS</center>\n",
    "## <center> Práctico 7, 2019 </center>      "
   ]
  },
  {
   "cell_type": "code",
   "execution_count": 2,
   "metadata": {},
   "outputs": [],
   "source": [
    "# Se importan las bibliotecas que se utilizarán\n",
    "import numpy as np\n",
    "\n",
    "import matplotlib\n",
    "import matplotlib.pyplot as plt\n",
    "\n",
    "from sklearn.datasets import load_iris\n",
    "from sklearn.datasets import load_digits\n",
    "\n",
    "from sklearn.model_selection import train_test_split\n",
    "\n",
    "from sklearn.metrics import classification_report, confusion_matrix\n",
    "\n",
    "from sklearn.neighbors import KNeighborsClassifier\n",
    "\n",
    "from sklearn.model_selection import GridSearchCV\n",
    "\n",
    "from sklearn.metrics import pairwise_distances\n",
    "\n",
    "%matplotlib notebook"
   ]
  },
  {
   "cell_type": "markdown",
   "metadata": {},
   "source": [
    "## Objetivos\n",
    "\n",
    "- Aplicar **k-vecinos** más cercanos para **clasificar** entre las 10 categorías de **dígitos**. Optimizar el parámetro *k* utilizando la biblioteca *scikit-learn*.\n",
    "- Estimar **densidades** de probabilidad mediante el método de **ventanas de Parzen** y aplicarlo a un problema de clasificación. \n",
    "- Implementar el algoritmo de **clustering k-means** y aplicarlo en datos sintéticos. Analizar su funcionamiento.   \n",
    "- Realizar **agrupamiento de datos** mediante **mezcla de gaussianas**. Implementarlo utilizando el esquema **Expectation Maximization** para encontrar los parámetros. Comparar este agrupamiento con el de *k-means*."
   ]
  },
  {
   "cell_type": "markdown",
   "metadata": {},
   "source": [
    "## Lista de ejercicios\n",
    "\n",
    "[Ejercicio 1](#Ejercicio1): *k-vecinos* más cercano       \n",
    "[Ejercicio 2](#Ejercicio2): ventanas de Parzen   \n",
    "[Ejercicio 3](#Ejercicio3): k-means   \n",
    "[Ejercicio 4](#Ejercicio4): mezcla de Gaussianas con EM   "
   ]
  },
  {
   "cell_type": "code",
   "execution_count": 12,
   "metadata": {},
   "outputs": [],
   "source": [
    "# funciones auxiliares (Ejecutar y seguir)\n",
    "def error_relativo(x, y):\n",
    "    ''' devuelve el error relativo'''\n",
    "    return np.max(np.abs(x - y) / (np.maximum(1e-8, np.abs(x) + np.abs(y))))"
   ]
  },
  {
   "cell_type": "markdown",
   "metadata": {},
   "source": [
    "## Ejercicio 1: k-vecinos más cercanos"
   ]
  },
  {
   "cell_type": "markdown",
   "metadata": {},
   "source": [
    "En este ejercicio se utilizará *k-vecinos más cercanos* para clasificar la base de dígitos que viene con *scikit-learn*. La siguiente celda levanta los datos."
   ]
  },
  {
   "cell_type": "code",
   "execution_count": 3,
   "metadata": {
    "scrolled": true
   },
   "outputs": [
    {
     "name": "stdout",
     "output_type": "stream",
     "text": [
      "La base de datos MNIST tiene 1797 dígitos\n"
     ]
    }
   ],
   "source": [
    "# se levantan los dígitos de la base MNIST\n",
    "mnist = load_digits()\n",
    "print('La base de datos MNIST tiene %d dígitos' % len(mnist.data))"
   ]
  },
  {
   "cell_type": "markdown",
   "metadata": {},
   "source": [
    "**Parte a)** Particionar aleatoriamente los datos utilizando el 70\\% de las muestras para entrenamiento, el 10\\% para validación y 20\\% para test."
   ]
  },
  {
   "cell_type": "code",
   "execution_count": 4,
   "metadata": {},
   "outputs": [
    {
     "name": "stdout",
     "output_type": "stream",
     "text": [
      "Verificacion de porcentajes: \n",
      "     - Conjunto de entrenamiento 69%.\n",
      "     - Conjunto de validacion 10%.\n",
      "     - Conjunto de test 20%.\n",
      "\n",
      "El conjunto de entrenamiento tiene 1257 dígitos\n",
      "El conjunto de validación tiene 180 dígitos\n",
      "El conjunto de test tiene 360 dígitos\n"
     ]
    }
   ],
   "source": [
    "np.random.seed(33)\n",
    "############################################################################################\n",
    "##########################  EMPIEZA ESPACIO PARA COMPLETAR CODIGO  #########################\n",
    "############################################################################################\n",
    "\n",
    "X, y = mnist.data, mnist.target\n",
    "\n",
    "X_train, X_test, y_train, y_test = train_test_split(X, y, test_size=0.2)\n",
    "\n",
    "X_train, X_val, y_train, y_val = train_test_split(X_train, y_train, test_size=0.125)\n",
    "\n",
    "total = len(mnist.data)\n",
    "porcentaje_train = len(y_train)*100/total\n",
    "porcentaje_val = len(y_val)*100/total\n",
    "porcentaje_test =  len(y_test)*100/total\n",
    "\n",
    "print(\"Verificacion de porcentajes: \")\n",
    "print(\"     - Conjunto de entrenamiento {}%.\".format(int(porcentaje_train)))\n",
    "print(\"     - Conjunto de validacion {}%.\".format(int(porcentaje_val)))\n",
    "print(\"     - Conjunto de test {}%.\".format(int(porcentaje_test)))\n",
    "\n",
    "print(\"\")\n",
    "############################################################################################\n",
    "##########################  TERMINA ESPACIO PARA COMPLETAR CODIGO  #########################\n",
    "###########################################################################################\n",
    " \n",
    "# Se muestra el tamaño de los conjuntos generados\n",
    "print(\"El conjunto de entrenamiento tiene {} dígitos\".format(len(y_train)))\n",
    "print(\"El conjunto de validación tiene {} dígitos\".format(len(y_val)))\n",
    "print(\"El conjunto de test tiene {} dígitos\".format(len(y_test)))"
   ]
  },
  {
   "cell_type": "markdown",
   "metadata": {},
   "source": [
    "**Parte b)** Se utilizará la clase `KNeighborsClassifier` de *scikit-learn* para encontrar un clasificador mediante el método de vecino más cercano. Para encontrar el valor óptimo de *k* se usará el error con el conjunto de validación. "
   ]
  },
  {
   "cell_type": "code",
   "execution_count": 19,
   "metadata": {
    "scrolled": false
   },
   "outputs": [
    {
     "data": {
      "image/png": "[encoded data removed]",
      "text/plain": [
       "<Figure size 360x360 with 1 Axes>"
      ]
     },
     "metadata": {
      "needs_background": "light"
     },
     "output_type": "display_data"
    }
   ],
   "source": [
    "# se determina el rango de valores de k a probar \n",
    "rango_k = range(1, 20)\n",
    "# se inicializan la listas que guardarán E_in y E_val \n",
    "E_in = []\n",
    "E_val = []\n",
    " \n",
    "for k in rango_k:\n",
    "    \n",
    "    ####################################################################################\n",
    "    #################  EMPIEZA ESPACIO PARA COMPLETAR CODIGO ###########################\n",
    "    ####################################################################################\n",
    "    \n",
    "    # se entrena el clasificador que usa k-vecinos \n",
    "    kNN_clf = KNeighborsClassifier(n_neighbors=k)\n",
    "    kNN_clf.fit(X_train, y_train)\n",
    "    \n",
    "    \n",
    "    \n",
    "    # se calculan y guardan E_in y E_val\n",
    "    E_in.append(1-kNN_clf.score(X_train, y_train))\n",
    "    E_val.append(1-kNN_clf.score(X_val, y_val))\n",
    "\n",
    "    ####################################################################################\n",
    "    #################  TERMINA ESPACIO PARA COMPLETAR CODIGO ###########################\n",
    "    ####################################################################################\n",
    "\n",
    "plt.figure(figsize=(5,5))\n",
    "plt.plot(rango_k, E_in,'*-', label='E_in')\n",
    "plt.plot(rango_k, E_val,'*-', label='E_val')\n",
    "plt.legend()\n",
    "plt.grid()\n",
    "plt.xlabel('k')\n",
    "plt.ylabel('error')\n",
    "plt.title('Error de clasificación utilizando k-vecinos más cercano')\n",
    "plt.tight_layout()"
   ]
  },
  {
   "cell_type": "markdown",
   "metadata": {},
   "source": [
    "**Parte c)** ¿Cuál es el valor óptimo de *k* y el error con el conjunto de validación para dicho *k* ?"
   ]
  },
  {
   "cell_type": "code",
   "execution_count": 9,
   "metadata": {},
   "outputs": [
    {
     "name": "stdout",
     "output_type": "stream",
     "text": [
      "[0.005555555555555536, 0.0, 0.011111111111111072, 0.011111111111111072, 0.01666666666666672, 0.01666666666666672, 0.01666666666666672, 0.01666666666666672, 0.011111111111111072, 0.011111111111111072, 0.01666666666666672, 0.01666666666666672, 0.01666666666666672, 0.011111111111111072, 0.011111111111111072, 0.01666666666666672, 0.01666666666666672, 0.011111111111111072, 0.011111111111111072]\n"
     ]
    }
   ],
   "source": [
    "print(E_val)"
   ]
  },
  {
   "cell_type": "code",
   "execution_count": 11,
   "metadata": {},
   "outputs": [
    {
     "name": "stdout",
     "output_type": "stream",
     "text": [
      "El valor óptimo de k es 2, el error con el conjunto de validación es 0.000000\n"
     ]
    }
   ],
   "source": [
    "####################################################################################\n",
    "#################  EMPIEZA ESPACIO PARA COMPLETAR CODIGO ###########################\n",
    "####################################################################################\n",
    "\n",
    "# se encuentra el valor óptimo de k\n",
    "k_opt = np.argmin(E_val)+1\n",
    "\n",
    "# error con el conjunto de validación\n",
    "e_val_opt = E_val[k_opt-1]\n",
    "\n",
    "####################################################################################\n",
    "#################  TERMINA ESPACIO PARA COMPLETAR CODIGO ###########################\n",
    "####################################################################################\n",
    "\n",
    "print('El valor óptimo de k es %d, el error con el conjunto de validación es %f' % (k_opt, e_val_opt))"
   ]
  },
  {
   "cell_type": "markdown",
   "metadata": {},
   "source": [
    "**Parte d)** Entrenar el clasificador óptimo y general las predicciones con el conjunto de test."
   ]
  },
  {
   "cell_type": "code",
   "execution_count": 7,
   "metadata": {},
   "outputs": [
    {
     "name": "stdout",
     "output_type": "stream",
     "text": [
      "[[29  0  0  0  0  0  0  0  0  0]\n",
      " [ 0 46  0  0  0  0  0  0  0  0]\n",
      " [ 0  0 37  0  0  0  0  0  0  0]\n",
      " [ 0  0  0 39  0  0  0  0  0  0]\n",
      " [ 0  0  0  0 25  0  0  0  0  0]\n",
      " [ 0  0  0  0  0 36  1  0  0  0]\n",
      " [ 0  0  0  0  0  0 41  0  0  0]\n",
      " [ 0  0  0  0  0  0  0 29  0  0]\n",
      " [ 0  3  0  0  0  0  0  0 41  0]\n",
      " [ 0  1  0  0  0  1  0  0  1 30]]\n"
     ]
    }
   ],
   "source": [
    "####################################################################################\n",
    "#################  EMPIEZA ESPACIO PARA COMPLETAR CODIGO ###########################\n",
    "####################################################################################\n",
    "\n",
    "# se entrena el clasificador óptimo\n",
    "knn_clf = KNeighborsClassifier(n_neighbors=k_opt)\n",
    "knn_clf.fit(X_train, y_train)\n",
    "\n",
    "# se generan las predicciones de test\n",
    "y_test_pred = knn_clf.predict(X_test)\n",
    "\n",
    "####################################################################################\n",
    "#################  TERMINA ESPACIO PARA COMPLETAR CODIGO ###########################\n",
    "####################################################################################\n",
    "\n",
    "print(confusion_matrix(y_test, y_test_pred))"
   ]
  },
  {
   "cell_type": "markdown",
   "metadata": {},
   "source": [
    "**Parte e)** Una forma alternativa de estimar los parámetros óptimos es mediante *validación cruzada* con *5 folds*. Utilice la clase `GridSearchCV` de *scikit-learn* para estimar los parámetros óptimos. "
   ]
  },
  {
   "cell_type": "code",
   "execution_count": 17,
   "metadata": {},
   "outputs": [
    {
     "name": "stdout",
     "output_type": "stream",
     "text": [
      "Fitting 5 folds for each of 19 candidates, totalling 95 fits\n"
     ]
    },
    {
     "name": "stderr",
     "output_type": "stream",
     "text": [
      "[Parallel(n_jobs=-1)]: Using backend LokyBackend with 12 concurrent workers.\n",
      "[Parallel(n_jobs=-1)]: Done   8 tasks      | elapsed:    2.6s\n"
     ]
    },
    {
     "name": "stdout",
     "output_type": "stream",
     "text": [
      "k optimo mediante cv = 1.000000\n",
      "accuracy = 0.986476\n"
     ]
    },
    {
     "name": "stderr",
     "output_type": "stream",
     "text": [
      "[Parallel(n_jobs=-1)]: Done  95 out of  95 | elapsed:    3.6s finished\n"
     ]
    }
   ],
   "source": [
    "####################################################################################\n",
    "#################  EMPIEZA ESPACIO PARA COMPLETAR CODIGO ###########################\n",
    "####################################################################################\n",
    "rango_k = range(1, 20)\n",
    "\n",
    "param_grid= {'n_neighbors' : rango_k}\n",
    "\n",
    "knn_cv = GridSearchCV(KNeighborsClassifier() , param_grid=param_grid, \n",
    "                    cv=5, verbose=3, n_jobs=-1)\n",
    "\n",
    "knn_cv.fit(X_train, y_train)\n",
    "\n",
    "\n",
    "####################################################################################\n",
    "#################  TERMINA ESPACIO PARA COMPLETAR CODIGO ###########################\n",
    "####################################################################################\n",
    "print('k optimo mediante cv = %f' % knn_cv.best_params_['n_neighbors'])\n",
    "print('accuracy = %f' % knn_cv.best_score_)"
   ]
  },
  {
   "cell_type": "markdown",
   "metadata": {},
   "source": [
    "**Parte f)** ¿Coinciden los valores óptimos encontrados? ¿Qué método le parece más adecuado para este problema en particular? "
   ]
  },
  {
   "cell_type": "markdown",
   "metadata": {},
   "source": [
    "**Respuesta:**  \n",
    "No da lo mismo,,,"
   ]
  },
  {
   "cell_type": "markdown",
   "metadata": {},
   "source": [
    "**Parte g)** Dado el gran desempeño alcanzado por *k-nn* en la separación de dígitos, se merece una oportunidad en el problema de separación de sonidos urbanos del práctico anterior. Evalúelo y comente los resultados. "
   ]
  },
  {
   "cell_type": "markdown",
   "metadata": {},
   "source": [
    "no"
   ]
  },
  {
   "cell_type": "markdown",
   "metadata": {},
   "source": [
    "## Ejercicio 2: ventanas de Parzen"
   ]
  },
  {
   "cell_type": "markdown",
   "metadata": {},
   "source": [
    "En este ejercicio se utilizará la base de datos Iris para clasificación de flores disponible en *scikit learn*. Se considerará sólo el *largo* y el *ancho* del pétalo como características."
   ]
  },
  {
   "cell_type": "code",
   "execution_count": 4,
   "metadata": {},
   "outputs": [
    {
     "name": "stdout",
     "output_type": "stream",
     "text": [
      "['sepal length (cm)', 'sepal width (cm)', 'petal length (cm)', 'petal width (cm)']\n"
     ]
    }
   ],
   "source": [
    "data = load_iris()\n",
    "print(data['feature_names'])"
   ]
  },
  {
   "cell_type": "markdown",
   "metadata": {},
   "source": [
    "**Parte a)** Construya el vector de características y las etiquetas que se utilizarán en este ejercicio."
   ]
  },
  {
   "cell_type": "code",
   "execution_count": 5,
   "metadata": {},
   "outputs": [],
   "source": [
    "features = [2,3] # se eligen dos características\n",
    "\n",
    "####################################################################################\n",
    "#################  EMPIEZA ESPACIO PARA COMPLETAR CODIGO ###########################\n",
    "####################################################################################\n",
    "\n",
    "# Vector de características en X\n",
    "X = data.data[:,features]\n",
    "\n",
    "# se almacenan las etiquetas en el vector labels\n",
    "labels = data.target\n",
    "\n",
    "\n",
    "####################################################################################\n",
    "#################  TERMINA ESPACIO PARA COMPLETAR CODIGO ###########################\n",
    "####################################################################################"
   ]
  },
  {
   "cell_type": "markdown",
   "metadata": {},
   "source": [
    "A continuación se muestra la distribución de patrones para las tres clases presentes, cada\n",
    "una de ellas con un color diferente."
   ]
  },
  {
   "cell_type": "code",
   "execution_count": 6,
   "metadata": {},
   "outputs": [
    {
     "data": {
      "image/png": "[encoded data removed]",
      "text/plain": [
       "<Figure size 360x360 with 1 Axes>"
      ]
     },
     "metadata": {
      "needs_background": "light"
     },
     "output_type": "display_data"
    }
   ],
   "source": [
    "plt.figure(figsize=(5,5))\n",
    "plt.scatter(X[:,0],X[:,1], c=labels)\n",
    "plt.xlabel(data['feature_names'][features[0]])\n",
    "plt.ylabel(data['feature_names'][features[1]])\n",
    "plt.title('Distribución de datos para la base iris')\n",
    "plt.tight_layout()"
   ]
  },
  {
   "cell_type": "markdown",
   "metadata": {},
   "source": [
    "Se desean estimar las densidades de cada clase utilizando el método de ventanas de Parzen con un *kernel* gaussiano de la forma: \n",
    "\n",
    "$$\n",
    "K(\\mathbf{x}, \\mathbf{z_i})=\\frac{1}{(2\\pi)^{d/2}\\vert \\Sigma \\vert^{1/2}} \n",
    "                               \\exp ^{\\left(-\\frac{1}{2}\\left( \\mathbf{x} - \\mathbf{z_i} \\right)^T \n",
    "                                        \\Sigma^{-1} \\left( \\mathbf{x} - \\mathbf{z_i} \\right) \\right)}\n",
    "$$"
   ]
  },
  {
   "cell_type": "markdown",
   "metadata": {},
   "source": [
    "**Parte b)** Implementar el método `evaluar_kernel_gaussiano()`. Dicho método se utilizará para determinar la similitud entre la muestra a evaluar $\\mathbf{x}$ y una muestra de entrenamiento $\\mathbf{z_i}$ utilizando un *kernel gaussiano*. "
   ]
  },
  {
   "cell_type": "code",
   "execution_count": 10,
   "metadata": {},
   "outputs": [],
   "source": [
    "def evaluar_kernel_gaussiano(x, mu, Sigma):\n",
    "    '''\n",
    "    Entrada:\n",
    "        x: vector a evaluar, de dimensión (d,1)\n",
    "        mu: media del núcleo gaussiano, de dimensión (d,1)\n",
    "        Sigma: covarianza del núcleo gaussiano, de dimensión (d,d)\n",
    "    Salida:\n",
    "        p: resultado de evaluar el kernel gaussiano\n",
    "    '''\n",
    "    ####################################################################################\n",
    "    #################  EMPIEZA ESPACIO PARA COMPLETAR CODIGO ###########################\n",
    "    ####################################################################################\n",
    "    \n",
    "    d = x.shape[0]\n",
    "\n",
    "    # calculo p de a partes\n",
    "    term_1 = 1/((2*np.pi)**(d/2)*np.linalg.norm(Sigma)**(1/2))\n",
    "    \n",
    "    term_2 = np.exp(-(1/2)*np.transpose(x - mu)@np.linalg.inv(Sigma)@(x - mu)) \n",
    "\n",
    "    p = term_1*np.squeeze(term_2)\n",
    "    \n",
    "    ####################################################################################\n",
    "    #################  EMPIEZA ESPACIO PARA COMPLETAR CODIGO ###########################\n",
    "    ####################################################################################\n",
    "\n",
    "    p = np.squeeze(p) # para asegurar que la salida es un escalar\n",
    "    return p"
   ]
  },
  {
   "cell_type": "code",
   "execution_count": 15,
   "metadata": {},
   "outputs": [
    {
     "name": "stdout",
     "output_type": "stream",
     "text": [
      "Testeando la función evaluar_kernel_gaussiano()\n",
      "Diferencia:  0.10375806712467447\n"
     ]
    }
   ],
   "source": [
    "# Se testea evaluar_kernel_gaussiano() \n",
    "\n",
    "np.random.seed(33)\n",
    "d=5\n",
    "x_ = np.random.randn(d,1)\n",
    "mu_= np.random.randn(d,1)\n",
    "Sigma_ = np.random.randn(d,d)\n",
    "Sigma_ = Sigma_ @ Sigma_.T  # para que sea semidefinida positiva\n",
    "\n",
    "p = evaluar_kernel_gaussiano(x_, mu_, Sigma_)\n",
    "\n",
    "p_correcto = 2.29350214e-07\n",
    "# Se compara la salida con la nuestra. El error debería ser menor a e-9\n",
    "print('Testeando la función evaluar_kernel_gaussiano()')\n",
    "print('Diferencia: ', error_relativo(p, p_correcto))"
   ]
  },
  {
   "cell_type": "markdown",
   "metadata": {},
   "source": [
    "**Parte c)** Implementar el método `estimar_densidad()` que evalúa, en un conjunto de puntos X, la densidad de probabilidad de pertenecer a una clase. La densidad se estima mediante el método de ventanas de Parzen utilizando los patrones de entrenamiento de dicha clase."
   ]
  },
  {
   "cell_type": "code",
   "execution_count": 16,
   "metadata": {},
   "outputs": [],
   "source": [
    "def estimar_densidad(X, Z, Sigma):\n",
    "    '''\n",
    "    Utiliza los patrones de entrenamiento Z pertenecientes a una misma clase, para \n",
    "    evaluar la densidad de probabilidad de dicha clase en los puntos pasados en X. \n",
    "    La densidad se estima mediante el método de ventanas de Parzen con núcleo gaussiano.   \n",
    "    Entrada:\n",
    "        X: matriz de tamaño Nxd que contiene los puntos en donde se quiere \n",
    "           evaluar la densidad\n",
    "        Z: matriz de tamaño Mxd que contiene los puntos de entrenamiento\n",
    "        Sigma: matriz de covarianza del kernel gaussiano\n",
    "    Salida:\n",
    "        densidades: vector de tamaño N que almacena la densidad en los puntos evaluados\n",
    "    '''\n",
    "    \n",
    "    N, d = X.shape\n",
    "    M, d = Z.shape\n",
    "    \n",
    "    ####################################################################################\n",
    "    #################  EMPIEZA ESPACIO PARA COMPLETAR CODIGO ###########################\n",
    "    ####################################################################################\n",
    "    \n",
    "    densidades = np.zeros(N)\n",
    "    for n in range(N):\n",
    "        for m in range(M):\n",
    "            densidades[n] += evaluar_kernel_gaussiano(X[n],Z[m],Sigma) \n",
    "        densidades[n] = densidades[n]/N\n",
    "        \n",
    "    ####################################################################################\n",
    "    #################  TERMINA ESPACIO PARA COMPLETAR CODIGO ###########################\n",
    "    ####################################################################################\n",
    "    \n",
    "    return densidades"
   ]
  },
  {
   "cell_type": "code",
   "execution_count": 17,
   "metadata": {},
   "outputs": [
    {
     "name": "stdout",
     "output_type": "stream",
     "text": [
      "Testeando la función evaluar_kernel_gaussiano()\n",
      "Diferencia:  0.9619142947909631\n"
     ]
    }
   ],
   "source": [
    "# Se testea estimar_densidad() \n",
    "np.random.seed(45)\n",
    "N=4; M=6\n",
    "d=3\n",
    "X_ = np.random.randn(N,d)\n",
    "Z_=  np.random.randn(M,d)\n",
    "Sigma_ = np.random.randn(d,d)\n",
    "Sigma_ = Sigma_ @ Sigma_.T  # para que sea semidefinida positiva\n",
    "\n",
    "densidades = estimar_densidad(X_, Z_, Sigma_)\n",
    "densidades_correctas = np.array([5.98438614e-02, 0, 4.83415432e-02, 1.86978536e-20])\n",
    "# Se compara la salida con la nuestra. El error debería ser menor a e-9\n",
    "print('Testeando la función evaluar_kernel_gaussiano()')\n",
    "print('Diferencia: ', error_relativo(densidades, densidades_correctas))"
   ]
  },
  {
   "cell_type": "markdown",
   "metadata": {},
   "source": [
    "**Parte d)** Se estimará la densidad de cada una de las clases de la base Iris en una grilla de 50x50 puntos.\n",
    "Se considerará para la estimación de las densidades una matriz $\\Sigma$ de la forma $\\Sigma=r^2 \\Sigma_c$ siendo $\\Sigma_c$ la matriz de covarianza de los datos pretenecientes a la clase y $r$ el parámetro que controla el ancho del *núcleo gaussiano*. "
   ]
  },
  {
   "cell_type": "code",
   "execution_count": 44,
   "metadata": {},
   "outputs": [
    {
     "data": {
      "image/png": "[encoded data removed]",
      "text/plain": [
       "<Figure size 360x360 with 1 Axes>"
      ]
     },
     "metadata": {
      "needs_background": "light"
     },
     "output_type": "display_data"
    },
    {
     "data": {
      "image/png": "[encoded data removed]",
      "text/plain": [
       "<Figure size 360x360 with 1 Axes>"
      ]
     },
     "metadata": {
      "needs_background": "light"
     },
     "output_type": "display_data"
    }
   ],
   "source": [
    "from mpl_toolkits.mplot3d import Axes3D\n",
    "\n",
    "r=1 # ancho del núcleo gaussiano\n",
    "\n",
    "for c in range(3):  # para cada una de las clases\n",
    "    \n",
    "    # se crea la grilla de 50x50 puntos que cubre el dominio de los puntos de la clase\n",
    "    x = np.linspace(X[labels==c,0].min(), X[labels==c,0].max())\n",
    "    y = np.linspace(X[labels==c,1].min(), X[labels==c,1].max())\n",
    "    xx, yy = np.meshgrid(x, y)\n",
    "    \n",
    "    ####################################################################################\n",
    "    #################  EMPIEZA ESPACIO PARA COMPLETAR CODIGO ###########################\n",
    "    ####################################################################################    \n",
    "    \n",
    "    \n",
    "    grilla = np.vstack((np.ndarray.flatten(xx),np.ndarray.flatten(yy))).T\n",
    "\n",
    "    # Se calculan las densidades en los puntos de la grilla. \n",
    "    # el arreglo 'densidades' tiene que tener las mismas dimensiones que xx e yy \n",
    "    \n",
    "    densidades = estimar_densidad(X=grilla, Z=X[labels==c], Sigma=r**2*np.cov(X[labels==c].T))\n",
    "    densidades = densidades.reshape((50,50))\n",
    "    \n",
    "    ####################################################################################\n",
    "    #################  TERMINA ESPACIO PARA COMPLETAR CODIGO ###########################\n",
    "    ####################################################################################    \n",
    "\n",
    "    fig = plt.figure(num='surface', figsize=(5,5)) \n",
    "    ax = fig.gca(projection='3d')\n",
    "    surf = ax.plot_surface(xx, yy, densidades, rstride=1, cstride=1, \n",
    "                           cmap= plt.cm.coolwarm)\n",
    "\n",
    "    \n",
    "    plt.figure(num='contour', figsize=(5,5))\n",
    "    plt.scatter(X[labels==c,0],X[labels==c,1])\n",
    "    cs = plt.contour(xx, yy, densidades, levels=5)\n",
    "    plt.clabel(cs, inline=1, fontsize=10)\n",
    "\n",
    "fig = plt.figure(num='surface', figsize=(5,5)) \n",
    "plt.title('Densidades estimadas')\n",
    "plt.tight_layout()    \n",
    "plt.figure(num='contour', figsize=(5,5))\n",
    "plt.grid()\n",
    "plt.title('Líneas de nivel de la densidades estimadas')\n",
    "plt.tight_layout()"
   ]
  },
  {
   "cell_type": "markdown",
   "metadata": {},
   "source": [
    "**Parte e)** Comente sobre la influencia del ancho de banda *r*  en las densidades estimadas y establezca un rango de valores razonable. Proponga un mecanismo para determinarlo automáticamente, esto es especialmente útil en aquellos casos en que no es posible visualizar las densidades resultantes."
   ]
  },
  {
   "cell_type": "markdown",
   "metadata": {},
   "source": [
    "**Respuesta:**    \n",
    "leer del libro\n"
   ]
  },
  {
   "cell_type": "markdown",
   "metadata": {},
   "source": [
    "<a id=\"Ejercicio3\"></a>\n",
    "## Ejercicio 3: k-means"
   ]
  },
  {
   "cell_type": "markdown",
   "metadata": {},
   "source": [
    "En este ejercicio se verá k-means como técnica de agrupamiento de datos.\n",
    "\n",
    "**Parte a)** Completar la implementación del algoritmo k-means."
   ]
  },
  {
   "cell_type": "code",
   "execution_count": 15,
   "metadata": {},
   "outputs": [],
   "source": [
    "def k_means(X, k, semilla=43):    \n",
    "    '''\n",
    "    Entrada:\n",
    "        X - arreglo de tamaño (N,d) que contiene los vectores de entrada\n",
    "        k - numero de clusters a encontrar\n",
    "        semilla - semilla que se usa para inicializar los centros.\n",
    "                  Elegir aleatoriamente k vectores de X\n",
    "    Salida:\n",
    "        centros: arreglo de tamaño (N,d) que contiene los centros de los \n",
    "                 clusters encontrados\n",
    "        etiquetas: vector de largo N que contiene a que cluster \n",
    "                   fue asignada la muestra  \n",
    "    '''\n",
    "    \n",
    "    np.random.seed(semilla)\n",
    "    \n",
    "    convergio = False  \n",
    "    n_iter = 0\n",
    "    ###########################################################################################\n",
    "    ##################    EMPIEZA ESPACIO PARA COMPLETAR CODIGO   #############################\n",
    "    ###########################################################################################\n",
    "    \n",
    "    # Se inicializan los centros de los clusters a muestras elegidas \n",
    "    # aleatoriamente \n",
    "    \n",
    "    N = X.shape[0]\n",
    "    d = X.shape[1]\n",
    "    \n",
    "    centros = np.random.randint(low=np.min(X),high=np.max(X),size=(k,d))\n",
    "    centros_nuevos = np.ones((k, d))\n",
    "    \n",
    "    while not convergio:\n",
    "        \n",
    "        # 1. Se asignan las etiquetas al cluster cuyo centro es el más cercano. \n",
    "        # Se sugiere usar pairwise_distances del paquete metrics de sklearn \n",
    "        dist_matrix = pairwise_distances(X, centros, n_jobs=-1)\n",
    "        \n",
    "        etiquetas = np.argmin(dist_matrix, axis=1)\n",
    "    \n",
    "        # 2. Se calculan los nuevos centros\n",
    "        for i in range(k):\n",
    "            points = [X[j] for j in range(N) if etiquetas[j] == i] # me quedo con los que tienen etiqueta i\n",
    "            if len(points) == 0:\n",
    "                centros_nuevos[i] = np.random.randint(low=np.min(X),high=np.max(X),size=(1,d))\n",
    "            else:    \n",
    "                centros_nuevos[i] = np.mean(points, axis=0)     \n",
    "        \n",
    "        # 3. Se evalúa la condición de convergencia (que los centros no cambien)\n",
    "        if np.array_equal(centros_nuevos, centros):\n",
    "            convergio = True\n",
    "        \n",
    "        # 4. Se actualiza la variable centros y se aumenta el número de iteración\n",
    "        centros = centros_nuevos.copy()\n",
    "        n_iter += 1\n",
    "    \n",
    "    ###########################################################################################\n",
    "    ##################    TERMINA ESPACIO PARA COMPLETAR CODIGO   #############################\n",
    "    ###########################################################################################\n",
    "    print('El algoritmo finalizó en la iter %d' % n_iter)\n",
    "    \n",
    "    return centros, etiquetas   "
   ]
  },
  {
   "cell_type": "markdown",
   "metadata": {},
   "source": [
    "**Parte b)** Aplicarlo al conjunto de datos del archivo `data/data_4clusters.npz`. La variable `X` contiene los patrones a agrupar. En este caso el número de clusters es 4."
   ]
  },
  {
   "cell_type": "code",
   "execution_count": 16,
   "metadata": {
    "scrolled": false
   },
   "outputs": [
    {
     "name": "stdout",
     "output_type": "stream",
     "text": [
      "(500, 2)\n",
      "El algoritmo finalizó en la iter 8\n"
     ]
    },
    {
     "data": {
      "image/png": "[encoded data removed]",
      "text/plain": [
       "<Figure size 360x360 with 1 Axes>"
      ]
     },
     "metadata": {
      "needs_background": "light"
     },
     "output_type": "display_data"
    }
   ],
   "source": [
    "f = np.load('data/data_4clusters.npz')\n",
    "X = f['X']\n",
    "y = f['y']\n",
    "print(X.shape)\n",
    "\n",
    "###########################################################################################\n",
    "##################    EMPIEZA ESPACIO PARA COMPLETAR CODIGO   #############################\n",
    "###########################################################################################\n",
    "\n",
    "centros, asignaciones = k_means(X, k=4,semilla=3000000)\n",
    "\n",
    "###########################################################################################\n",
    "##################    TERMINA ESPACIO PARA COMPLETAR CODIGO   #############################\n",
    "###########################################################################################\n",
    "\n",
    "dot_size = 50\n",
    "cmap = 'viridis'\n",
    "fig, ax = plt.subplots(figsize=(5,5))\n",
    "ax.scatter(X[:, 0], X[:, 1], c=asignaciones, s=dot_size, cmap=cmap)\n",
    "ax.scatter(centros[:, 0], centros[:, 1], marker='*', s=50, c='red')\n",
    "plt.title('Resultado de k-means', fontsize=18)\n",
    "plt.xlabel('x1')\n",
    "plt.ylabel('x2')\n",
    "plt.tight_layout()"
   ]
  },
  {
   "cell_type": "markdown",
   "metadata": {},
   "source": [
    "**Parte c)** Verificar el correcto funcionamiento del algoritmo comparando los resultados obtenidos con los de la variable `y`. Para ello usar algunas de las [métricas](https://scikit-learn.org/stable/modules/clustering.html#clustering-performance-evaluation) disponibles en *scikit-learn*. "
   ]
  },
  {
   "cell_type": "code",
   "execution_count": 92,
   "metadata": {
    "scrolled": true
   },
   "outputs": [
    {
     "name": "stdout",
     "output_type": "stream",
     "text": [
      "Resultado de Adjusted Rand index: 0.989333\n",
      "Resultado de Mutual Information based scores: 0.983078\n"
     ]
    }
   ],
   "source": [
    "from sklearn.metrics import adjusted_rand_score, adjusted_mutual_info_score\n",
    "\n",
    "# perfect labeling is scored 1.0 \n",
    "adj_rand_score = adjusted_rand_score(y, asignaciones) \n",
    "adj_mi_score = adjusted_mutual_info_score(y, asignaciones,average_method='arithmetic') \n",
    "\n",
    "print('Resultado de Adjusted Rand index: %f' % adj_rand_score)\n",
    "print('Resultado de Mutual Information based scores: %f' % adj_mi_score)"
   ]
  },
  {
   "cell_type": "markdown",
   "metadata": {},
   "source": [
    "**Parte d)** Al variar el valor de la semilla que controla la inicialización ¿Siempre obtuvo resultados satisfactorios? En caso negativo, proponga un esquema para robustecer el método."
   ]
  },
  {
   "cell_type": "code",
   "execution_count": 101,
   "metadata": {},
   "outputs": [
    {
     "name": "stdout",
     "output_type": "stream",
     "text": [
      "El algoritmo finalizó en la iter 9\n",
      "Valor de la semilla: 10\n",
      "    - ARI: 0.989333\n",
      "    - NMI: 0.983078\n",
      "\n",
      "El algoritmo finalizó en la iter 6\n",
      "Valor de la semilla: 20\n",
      "    - ARI: 0.994656\n",
      "    - NMI: 0.991536\n",
      "\n",
      "El algoritmo finalizó en la iter 5\n",
      "Valor de la semilla: 30\n",
      "    - ARI: 0.994656\n",
      "    - NMI: 0.991536\n",
      "\n",
      "El algoritmo finalizó en la iter 5\n",
      "Valor de la semilla: 40\n",
      "    - ARI: 0.994656\n",
      "    - NMI: 0.991536\n",
      "\n",
      "El algoritmo finalizó en la iter 8\n",
      "Valor de la semilla: 50\n",
      "    - ARI: 0.994656\n",
      "    - NMI: 0.991536\n",
      "\n",
      "El algoritmo finalizó en la iter 8\n",
      "Valor de la semilla: 60\n",
      "    - ARI: 0.989333\n",
      "    - NMI: 0.983078\n",
      "\n",
      "El algoritmo finalizó en la iter 10\n",
      "Valor de la semilla: 100\n",
      "    - ARI: 0.989333\n",
      "    - NMI: 0.983078\n",
      "\n"
     ]
    }
   ],
   "source": [
    "semillas = [10,20,30,40,50,60,100]\n",
    "\n",
    "for semilla in semillas:\n",
    "    centros, asignaciones = k_means(X, k=4,semilla=semilla)\n",
    "\n",
    "    adj_rand_score = adjusted_rand_score(y, asignaciones) \n",
    "    adj_mi_score = adjusted_mutual_info_score(y, asignaciones,average_method='arithmetic') \n",
    "    \n",
    "    print('Valor de la semilla: %i' % semilla)\n",
    "    print('    - ARI: %f' % adj_rand_score)\n",
    "    print('    - NMI: %f' % adj_mi_score)\n",
    "    print()"
   ]
  },
  {
   "cell_type": "markdown",
   "metadata": {},
   "source": [
    "**Respuesta:**    \n",
    "Los numeros dan bastante bien\n"
   ]
  },
  {
   "cell_type": "markdown",
   "metadata": {},
   "source": [
    "**Parte e)** Utilice el algoritmo k-means para separar el conjunto de datos `data_4clusters_stretched` y comente los resultados."
   ]
  },
  {
   "cell_type": "code",
   "execution_count": 124,
   "metadata": {},
   "outputs": [
    {
     "name": "stdout",
     "output_type": "stream",
     "text": [
      "El algoritmo finalizó en la iter 23\n"
     ]
    },
    {
     "data": {
      "application/javascript": [
       "/* Put everything inside the global mpl namespace */\n",
       "window.mpl = {};\n",
       "\n",
       "\n",
       "mpl.get_websocket_type = function() {\n",
       "    if (typeof(WebSocket) !== 'undefined') {\n",
       "        return WebSocket;\n",
       "    } else if (typeof(MozWebSocket) !== 'undefined') {\n",
       "        return MozWebSocket;\n",
       "    } else {\n",
       "        alert('Your browser does not have WebSocket support. ' +\n",
       "              'Please try Chrome, Safari or Firefox ≥ 6. ' +\n",
       "              'Firefox 4 and 5 are also supported but you ' +\n",
       "              'have to enable WebSockets in about:config.');\n",
       "    };\n",
       "}\n",
       "\n",
       "mpl.figure = function(figure_id, websocket, ondownload, parent_element) {\n",
       "    this.id = figure_id;\n",
       "\n",
       "    this.ws = websocket;\n",
       "\n",
       "    this.supports_binary = (this.ws.binaryType != undefined);\n",
       "\n",
       "    if (!this.supports_binary) {\n",
       "        var warnings = document.getElementById(\"mpl-warnings\");\n",
       "        if (warnings) {\n",
       "            warnings.style.display = 'block';\n",
       "            warnings.textContent = (\n",
       "                \"This browser does not support binary websocket messages. \" +\n",
       "                    \"Performance may be slow.\");\n",
       "        }\n",
       "    }\n",
       "\n",
       "    this.imageObj = new Image();\n",
       "\n",
       "    this.context = undefined;\n",
       "    this.message = undefined;\n",
       "    this.canvas = undefined;\n",
       "    this.rubberband_canvas = undefined;\n",
       "    this.rubberband_context = undefined;\n",
       "    this.format_dropdown = undefined;\n",
       "\n",
       "    this.image_mode = 'full';\n",
       "\n",
       "    this.root = $('<div/>');\n",
       "    this._root_extra_style(this.root)\n",
       "    this.root.attr('style', 'display: inline-block');\n",
       "\n",
       "    $(parent_element).append(this.root);\n",
       "\n",
       "    this._init_header(this);\n",
       "    this._init_canvas(this);\n",
       "    this._init_toolbar(this);\n",
       "\n",
       "    var fig = this;\n",
       "\n",
       "    this.waiting = false;\n",
       "\n",
       "    this.ws.onopen =  function () {\n",
       "            fig.send_message(\"supports_binary\", {value: fig.supports_binary});\n",
       "            fig.send_message(\"send_image_mode\", {});\n",
       "            if (mpl.ratio != 1) {\n",
       "                fig.send_message(\"set_dpi_ratio\", {'dpi_ratio': mpl.ratio});\n",
       "            }\n",
       "            fig.send_message(\"refresh\", {});\n",
       "        }\n",
       "\n",
       "    this.imageObj.onload = function() {\n",
       "            if (fig.image_mode == 'full') {\n",
       "                // Full images could contain transparency (where diff images\n",
       "                // almost always do), so we need to clear the canvas so that\n",
       "                // there is no ghosting.\n",
       "                fig.context.clearRect(0, 0, fig.canvas.width, fig.canvas.height);\n",
       "            }\n",
       "            fig.context.drawImage(fig.imageObj, 0, 0);\n",
       "        };\n",
       "\n",
       "    this.imageObj.onunload = function() {\n",
       "        fig.ws.close();\n",
       "    }\n",
       "\n",
       "    this.ws.onmessage = this._make_on_message_function(this);\n",
       "\n",
       "    this.ondownload = ondownload;\n",
       "}\n",
       "\n",
       "mpl.figure.prototype._init_header = function() {\n",
       "    var titlebar = $(\n",
       "        '<div class=\"ui-dialog-titlebar ui-widget-header ui-corner-all ' +\n",
       "        'ui-helper-clearfix\"/>');\n",
       "    var titletext = $(\n",
       "        '<div class=\"ui-dialog-title\" style=\"width: 100%; ' +\n",
       "        'text-align: center; padding: 3px;\"/>');\n",
       "    titlebar.append(titletext)\n",
       "    this.root.append(titlebar);\n",
       "    this.header = titletext[0];\n",
       "}\n",
       "\n",
       "\n",
       "\n",
       "mpl.figure.prototype._canvas_extra_style = function(canvas_div) {\n",
       "\n",
       "}\n",
       "\n",
       "\n",
       "mpl.figure.prototype._root_extra_style = function(canvas_div) {\n",
       "\n",
       "}\n",
       "\n",
       "mpl.figure.prototype._init_canvas = function() {\n",
       "    var fig = this;\n",
       "\n",
       "    var canvas_div = $('<div/>');\n",
       "\n",
       "    canvas_div.attr('style', 'position: relative; clear: both; outline: 0');\n",
       "\n",
       "    function canvas_keyboard_event(event) {\n",
       "        return fig.key_event(event, event['data']);\n",
       "    }\n",
       "\n",
       "    canvas_div.keydown('key_press', canvas_keyboard_event);\n",
       "    canvas_div.keyup('key_release', canvas_keyboard_event);\n",
       "    this.canvas_div = canvas_div\n",
       "    this._canvas_extra_style(canvas_div)\n",
       "    this.root.append(canvas_div);\n",
       "\n",
       "    var canvas = $('<canvas/>');\n",
       "    canvas.addClass('mpl-canvas');\n",
       "    canvas.attr('style', \"left: 0; top: 0; z-index: 0; outline: 0\")\n",
       "\n",
       "    this.canvas = canvas[0];\n",
       "    this.context = canvas[0].getContext(\"2d\");\n",
       "\n",
       "    var backingStore = this.context.backingStorePixelRatio ||\n",
       "\tthis.context.webkitBackingStorePixelRatio ||\n",
       "\tthis.context.mozBackingStorePixelRatio ||\n",
       "\tthis.context.msBackingStorePixelRatio ||\n",
       "\tthis.context.oBackingStorePixelRatio ||\n",
       "\tthis.context.backingStorePixelRatio || 1;\n",
       "\n",
       "    mpl.ratio = (window.devicePixelRatio || 1) / backingStore;\n",
       "\n",
       "    var rubberband = $('<canvas/>');\n",
       "    rubberband.attr('style', \"position: absolute; left: 0; top: 0; z-index: 1;\")\n",
       "\n",
       "    var pass_mouse_events = true;\n",
       "\n",
       "    canvas_div.resizable({\n",
       "        start: function(event, ui) {\n",
       "            pass_mouse_events = false;\n",
       "        },\n",
       "        resize: function(event, ui) {\n",
       "            fig.request_resize(ui.size.width, ui.size.height);\n",
       "        },\n",
       "        stop: function(event, ui) {\n",
       "            pass_mouse_events = true;\n",
       "            fig.request_resize(ui.size.width, ui.size.height);\n",
       "        },\n",
       "    });\n",
       "\n",
       "    function mouse_event_fn(event) {\n",
       "        if (pass_mouse_events)\n",
       "            return fig.mouse_event(event, event['data']);\n",
       "    }\n",
       "\n",
       "    rubberband.mousedown('button_press', mouse_event_fn);\n",
       "    rubberband.mouseup('button_release', mouse_event_fn);\n",
       "    // Throttle sequential mouse events to 1 every 20ms.\n",
       "    rubberband.mousemove('motion_notify', mouse_event_fn);\n",
       "\n",
       "    rubberband.mouseenter('figure_enter', mouse_event_fn);\n",
       "    rubberband.mouseleave('figure_leave', mouse_event_fn);\n",
       "\n",
       "    canvas_div.on(\"wheel\", function (event) {\n",
       "        event = event.originalEvent;\n",
       "        event['data'] = 'scroll'\n",
       "        if (event.deltaY < 0) {\n",
       "            event.step = 1;\n",
       "        } else {\n",
       "            event.step = -1;\n",
       "        }\n",
       "        mouse_event_fn(event);\n",
       "    });\n",
       "\n",
       "    canvas_div.append(canvas);\n",
       "    canvas_div.append(rubberband);\n",
       "\n",
       "    this.rubberband = rubberband;\n",
       "    this.rubberband_canvas = rubberband[0];\n",
       "    this.rubberband_context = rubberband[0].getContext(\"2d\");\n",
       "    this.rubberband_context.strokeStyle = \"#000000\";\n",
       "\n",
       "    this._resize_canvas = function(width, height) {\n",
       "        // Keep the size of the canvas, canvas container, and rubber band\n",
       "        // canvas in synch.\n",
       "        canvas_div.css('width', width)\n",
       "        canvas_div.css('height', height)\n",
       "\n",
       "        canvas.attr('width', width * mpl.ratio);\n",
       "        canvas.attr('height', height * mpl.ratio);\n",
       "        canvas.attr('style', 'width: ' + width + 'px; height: ' + height + 'px;');\n",
       "\n",
       "        rubberband.attr('width', width);\n",
       "        rubberband.attr('height', height);\n",
       "    }\n",
       "\n",
       "    // Set the figure to an initial 600x600px, this will subsequently be updated\n",
       "    // upon first draw.\n",
       "    this._resize_canvas(600, 600);\n",
       "\n",
       "    // Disable right mouse context menu.\n",
       "    $(this.rubberband_canvas).bind(\"contextmenu\",function(e){\n",
       "        return false;\n",
       "    });\n",
       "\n",
       "    function set_focus () {\n",
       "        canvas.focus();\n",
       "        canvas_div.focus();\n",
       "    }\n",
       "\n",
       "    window.setTimeout(set_focus, 100);\n",
       "}\n",
       "\n",
       "mpl.figure.prototype._init_toolbar = function() {\n",
       "    var fig = this;\n",
       "\n",
       "    var nav_element = $('<div/>');\n",
       "    nav_element.attr('style', 'width: 100%');\n",
       "    this.root.append(nav_element);\n",
       "\n",
       "    // Define a callback function for later on.\n",
       "    function toolbar_event(event) {\n",
       "        return fig.toolbar_button_onclick(event['data']);\n",
       "    }\n",
       "    function toolbar_mouse_event(event) {\n",
       "        return fig.toolbar_button_onmouseover(event['data']);\n",
       "    }\n",
       "\n",
       "    for(var toolbar_ind in mpl.toolbar_items) {\n",
       "        var name = mpl.toolbar_items[toolbar_ind][0];\n",
       "        var tooltip = mpl.toolbar_items[toolbar_ind][1];\n",
       "        var image = mpl.toolbar_items[toolbar_ind][2];\n",
       "        var method_name = mpl.toolbar_items[toolbar_ind][3];\n",
       "\n",
       "        if (!name) {\n",
       "            // put a spacer in here.\n",
       "            continue;\n",
       "        }\n",
       "        var button = $('<button/>');\n",
       "        button.addClass('ui-button ui-widget ui-state-default ui-corner-all ' +\n",
       "                        'ui-button-icon-only');\n",
       "        button.attr('role', 'button');\n",
       "        button.attr('aria-disabled', 'false');\n",
       "        button.click(method_name, toolbar_event);\n",
       "        button.mouseover(tooltip, toolbar_mouse_event);\n",
       "\n",
       "        var icon_img = $('<span/>');\n",
       "        icon_img.addClass('ui-button-icon-primary ui-icon');\n",
       "        icon_img.addClass(image);\n",
       "        icon_img.addClass('ui-corner-all');\n",
       "\n",
       "        var tooltip_span = $('<span/>');\n",
       "        tooltip_span.addClass('ui-button-text');\n",
       "        tooltip_span.html(tooltip);\n",
       "\n",
       "        button.append(icon_img);\n",
       "        button.append(tooltip_span);\n",
       "\n",
       "        nav_element.append(button);\n",
       "    }\n",
       "\n",
       "    var fmt_picker_span = $('<span/>');\n",
       "\n",
       "    var fmt_picker = $('<select/>');\n",
       "    fmt_picker.addClass('mpl-toolbar-option ui-widget ui-widget-content');\n",
       "    fmt_picker_span.append(fmt_picker);\n",
       "    nav_element.append(fmt_picker_span);\n",
       "    this.format_dropdown = fmt_picker[0];\n",
       "\n",
       "    for (var ind in mpl.extensions) {\n",
       "        var fmt = mpl.extensions[ind];\n",
       "        var option = $(\n",
       "            '<option/>', {selected: fmt === mpl.default_extension}).html(fmt);\n",
       "        fmt_picker.append(option);\n",
       "    }\n",
       "\n",
       "    // Add hover states to the ui-buttons\n",
       "    $( \".ui-button\" ).hover(\n",
       "        function() { $(this).addClass(\"ui-state-hover\");},\n",
       "        function() { $(this).removeClass(\"ui-state-hover\");}\n",
       "    );\n",
       "\n",
       "    var status_bar = $('<span class=\"mpl-message\"/>');\n",
       "    nav_element.append(status_bar);\n",
       "    this.message = status_bar[0];\n",
       "}\n",
       "\n",
       "mpl.figure.prototype.request_resize = function(x_pixels, y_pixels) {\n",
       "    // Request matplotlib to resize the figure. Matplotlib will then trigger a resize in the client,\n",
       "    // which will in turn request a refresh of the image.\n",
       "    this.send_message('resize', {'width': x_pixels, 'height': y_pixels});\n",
       "}\n",
       "\n",
       "mpl.figure.prototype.send_message = function(type, properties) {\n",
       "    properties['type'] = type;\n",
       "    properties['figure_id'] = this.id;\n",
       "    this.ws.send(JSON.stringify(properties));\n",
       "}\n",
       "\n",
       "mpl.figure.prototype.send_draw_message = function() {\n",
       "    if (!this.waiting) {\n",
       "        this.waiting = true;\n",
       "        this.ws.send(JSON.stringify({type: \"draw\", figure_id: this.id}));\n",
       "    }\n",
       "}\n",
       "\n",
       "\n",
       "mpl.figure.prototype.handle_save = function(fig, msg) {\n",
       "    var format_dropdown = fig.format_dropdown;\n",
       "    var format = format_dropdown.options[format_dropdown.selectedIndex].value;\n",
       "    fig.ondownload(fig, format);\n",
       "}\n",
       "\n",
       "\n",
       "mpl.figure.prototype.handle_resize = function(fig, msg) {\n",
       "    var size = msg['size'];\n",
       "    if (size[0] != fig.canvas.width || size[1] != fig.canvas.height) {\n",
       "        fig._resize_canvas(size[0], size[1]);\n",
       "        fig.send_message(\"refresh\", {});\n",
       "    };\n",
       "}\n",
       "\n",
       "mpl.figure.prototype.handle_rubberband = function(fig, msg) {\n",
       "    var x0 = msg['x0'] / mpl.ratio;\n",
       "    var y0 = (fig.canvas.height - msg['y0']) / mpl.ratio;\n",
       "    var x1 = msg['x1'] / mpl.ratio;\n",
       "    var y1 = (fig.canvas.height - msg['y1']) / mpl.ratio;\n",
       "    x0 = Math.floor(x0) + 0.5;\n",
       "    y0 = Math.floor(y0) + 0.5;\n",
       "    x1 = Math.floor(x1) + 0.5;\n",
       "    y1 = Math.floor(y1) + 0.5;\n",
       "    var min_x = Math.min(x0, x1);\n",
       "    var min_y = Math.min(y0, y1);\n",
       "    var width = Math.abs(x1 - x0);\n",
       "    var height = Math.abs(y1 - y0);\n",
       "\n",
       "    fig.rubberband_context.clearRect(\n",
       "        0, 0, fig.canvas.width / mpl.ratio, fig.canvas.height / mpl.ratio);\n",
       "\n",
       "    fig.rubberband_context.strokeRect(min_x, min_y, width, height);\n",
       "}\n",
       "\n",
       "mpl.figure.prototype.handle_figure_label = function(fig, msg) {\n",
       "    // Updates the figure title.\n",
       "    fig.header.textContent = msg['label'];\n",
       "}\n",
       "\n",
       "mpl.figure.prototype.handle_cursor = function(fig, msg) {\n",
       "    var cursor = msg['cursor'];\n",
       "    switch(cursor)\n",
       "    {\n",
       "    case 0:\n",
       "        cursor = 'pointer';\n",
       "        break;\n",
       "    case 1:\n",
       "        cursor = 'default';\n",
       "        break;\n",
       "    case 2:\n",
       "        cursor = 'crosshair';\n",
       "        break;\n",
       "    case 3:\n",
       "        cursor = 'move';\n",
       "        break;\n",
       "    }\n",
       "    fig.rubberband_canvas.style.cursor = cursor;\n",
       "}\n",
       "\n",
       "mpl.figure.prototype.handle_message = function(fig, msg) {\n",
       "    fig.message.textContent = msg['message'];\n",
       "}\n",
       "\n",
       "mpl.figure.prototype.handle_draw = function(fig, msg) {\n",
       "    // Request the server to send over a new figure.\n",
       "    fig.send_draw_message();\n",
       "}\n",
       "\n",
       "mpl.figure.prototype.handle_image_mode = function(fig, msg) {\n",
       "    fig.image_mode = msg['mode'];\n",
       "}\n",
       "\n",
       "mpl.figure.prototype.updated_canvas_event = function() {\n",
       "    // Called whenever the canvas gets updated.\n",
       "    this.send_message(\"ack\", {});\n",
       "}\n",
       "\n",
       "// A function to construct a web socket function for onmessage handling.\n",
       "// Called in the figure constructor.\n",
       "mpl.figure.prototype._make_on_message_function = function(fig) {\n",
       "    return function socket_on_message(evt) {\n",
       "        if (evt.data instanceof Blob) {\n",
       "            /* FIXME: We get \"Resource interpreted as Image but\n",
       "             * transferred with MIME type text/plain:\" errors on\n",
       "             * Chrome.  But how to set the MIME type?  It doesn't seem\n",
       "             * to be part of the websocket stream */\n",
       "            evt.data.type = \"image/png\";\n",
       "\n",
       "            /* Free the memory for the previous frames */\n",
       "            if (fig.imageObj.src) {\n",
       "                (window.URL || window.webkitURL).revokeObjectURL(\n",
       "                    fig.imageObj.src);\n",
       "            }\n",
       "\n",
       "            fig.imageObj.src = (window.URL || window.webkitURL).createObjectURL(\n",
       "                evt.data);\n",
       "            fig.updated_canvas_event();\n",
       "            fig.waiting = false;\n",
       "            return;\n",
       "        }\n",
       "        else if (typeof evt.data === 'string' && evt.data.slice(0, 21) == \"data:image/png;base64\") {\n",
       "            fig.imageObj.src = evt.data;\n",
       "            fig.updated_canvas_event();\n",
       "            fig.waiting = false;\n",
       "            return;\n",
       "        }\n",
       "\n",
       "        var msg = JSON.parse(evt.data);\n",
       "        var msg_type = msg['type'];\n",
       "\n",
       "        // Call the  \"handle_{type}\" callback, which takes\n",
       "        // the figure and JSON message as its only arguments.\n",
       "        try {\n",
       "            var callback = fig[\"handle_\" + msg_type];\n",
       "        } catch (e) {\n",
       "            console.log(\"No handler for the '\" + msg_type + \"' message type: \", msg);\n",
       "            return;\n",
       "        }\n",
       "\n",
       "        if (callback) {\n",
       "            try {\n",
       "                // console.log(\"Handling '\" + msg_type + \"' message: \", msg);\n",
       "                callback(fig, msg);\n",
       "            } catch (e) {\n",
       "                console.log(\"Exception inside the 'handler_\" + msg_type + \"' callback:\", e, e.stack, msg);\n",
       "            }\n",
       "        }\n",
       "    };\n",
       "}\n",
       "\n",
       "// from http://stackoverflow.com/questions/1114465/getting-mouse-location-in-canvas\n",
       "mpl.findpos = function(e) {\n",
       "    //this section is from http://www.quirksmode.org/js/events_properties.html\n",
       "    var targ;\n",
       "    if (!e)\n",
       "        e = window.event;\n",
       "    if (e.target)\n",
       "        targ = e.target;\n",
       "    else if (e.srcElement)\n",
       "        targ = e.srcElement;\n",
       "    if (targ.nodeType == 3) // defeat Safari bug\n",
       "        targ = targ.parentNode;\n",
       "\n",
       "    // jQuery normalizes the pageX and pageY\n",
       "    // pageX,Y are the mouse positions relative to the document\n",
       "    // offset() returns the position of the element relative to the document\n",
       "    var x = e.pageX - $(targ).offset().left;\n",
       "    var y = e.pageY - $(targ).offset().top;\n",
       "\n",
       "    return {\"x\": x, \"y\": y};\n",
       "};\n",
       "\n",
       "/*\n",
       " * return a copy of an object with only non-object keys\n",
       " * we need this to avoid circular references\n",
       " * http://stackoverflow.com/a/24161582/3208463\n",
       " */\n",
       "function simpleKeys (original) {\n",
       "  return Object.keys(original).reduce(function (obj, key) {\n",
       "    if (typeof original[key] !== 'object')\n",
       "        obj[key] = original[key]\n",
       "    return obj;\n",
       "  }, {});\n",
       "}\n",
       "\n",
       "mpl.figure.prototype.mouse_event = function(event, name) {\n",
       "    var canvas_pos = mpl.findpos(event)\n",
       "\n",
       "    if (name === 'button_press')\n",
       "    {\n",
       "        this.canvas.focus();\n",
       "        this.canvas_div.focus();\n",
       "    }\n",
       "\n",
       "    var x = canvas_pos.x * mpl.ratio;\n",
       "    var y = canvas_pos.y * mpl.ratio;\n",
       "\n",
       "    this.send_message(name, {x: x, y: y, button: event.button,\n",
       "                             step: event.step,\n",
       "                             guiEvent: simpleKeys(event)});\n",
       "\n",
       "    /* This prevents the web browser from automatically changing to\n",
       "     * the text insertion cursor when the button is pressed.  We want\n",
       "     * to control all of the cursor setting manually through the\n",
       "     * 'cursor' event from matplotlib */\n",
       "    event.preventDefault();\n",
       "    return false;\n",
       "}\n",
       "\n",
       "mpl.figure.prototype._key_event_extra = function(event, name) {\n",
       "    // Handle any extra behaviour associated with a key event\n",
       "}\n",
       "\n",
       "mpl.figure.prototype.key_event = function(event, name) {\n",
       "\n",
       "    // Prevent repeat events\n",
       "    if (name == 'key_press')\n",
       "    {\n",
       "        if (event.which === this._key)\n",
       "            return;\n",
       "        else\n",
       "            this._key = event.which;\n",
       "    }\n",
       "    if (name == 'key_release')\n",
       "        this._key = null;\n",
       "\n",
       "    var value = '';\n",
       "    if (event.ctrlKey && event.which != 17)\n",
       "        value += \"ctrl+\";\n",
       "    if (event.altKey && event.which != 18)\n",
       "        value += \"alt+\";\n",
       "    if (event.shiftKey && event.which != 16)\n",
       "        value += \"shift+\";\n",
       "\n",
       "    value += 'k';\n",
       "    value += event.which.toString();\n",
       "\n",
       "    this._key_event_extra(event, name);\n",
       "\n",
       "    this.send_message(name, {key: value,\n",
       "                             guiEvent: simpleKeys(event)});\n",
       "    return false;\n",
       "}\n",
       "\n",
       "mpl.figure.prototype.toolbar_button_onclick = function(name) {\n",
       "    if (name == 'download') {\n",
       "        this.handle_save(this, null);\n",
       "    } else {\n",
       "        this.send_message(\"toolbar_button\", {name: name});\n",
       "    }\n",
       "};\n",
       "\n",
       "mpl.figure.prototype.toolbar_button_onmouseover = function(tooltip) {\n",
       "    this.message.textContent = tooltip;\n",
       "};\n",
       "mpl.toolbar_items = [[\"Home\", \"Reset original view\", \"fa fa-home icon-home\", \"home\"], [\"Back\", \"Back to previous view\", \"fa fa-arrow-left icon-arrow-left\", \"back\"], [\"Forward\", \"Forward to next view\", \"fa fa-arrow-right icon-arrow-right\", \"forward\"], [\"\", \"\", \"\", \"\"], [\"Pan\", \"Pan axes with left mouse, zoom with right\", \"fa fa-arrows icon-move\", \"pan\"], [\"Zoom\", \"Zoom to rectangle\", \"fa fa-square-o icon-check-empty\", \"zoom\"], [\"\", \"\", \"\", \"\"], [\"Download\", \"Download plot\", \"fa fa-floppy-o icon-save\", \"download\"]];\n",
       "\n",
       "mpl.extensions = [\"eps\", \"pdf\", \"png\", \"ps\", \"raw\", \"svg\"];\n",
       "\n",
       "mpl.default_extension = \"png\";var comm_websocket_adapter = function(comm) {\n",
       "    // Create a \"websocket\"-like object which calls the given IPython comm\n",
       "    // object with the appropriate methods. Currently this is a non binary\n",
       "    // socket, so there is still some room for performance tuning.\n",
       "    var ws = {};\n",
       "\n",
       "    ws.close = function() {\n",
       "        comm.close()\n",
       "    };\n",
       "    ws.send = function(m) {\n",
       "        //console.log('sending', m);\n",
       "        comm.send(m);\n",
       "    };\n",
       "    // Register the callback with on_msg.\n",
       "    comm.on_msg(function(msg) {\n",
       "        //console.log('receiving', msg['content']['data'], msg);\n",
       "        // Pass the mpl event to the overridden (by mpl) onmessage function.\n",
       "        ws.onmessage(msg['content']['data'])\n",
       "    });\n",
       "    return ws;\n",
       "}\n",
       "\n",
       "mpl.mpl_figure_comm = function(comm, msg) {\n",
       "    // This is the function which gets called when the mpl process\n",
       "    // starts-up an IPython Comm through the \"matplotlib\" channel.\n",
       "\n",
       "    var id = msg.content.data.id;\n",
       "    // Get hold of the div created by the display call when the Comm\n",
       "    // socket was opened in Python.\n",
       "    var element = $(\"#\" + id);\n",
       "    var ws_proxy = comm_websocket_adapter(comm)\n",
       "\n",
       "    function ondownload(figure, format) {\n",
       "        window.open(figure.imageObj.src);\n",
       "    }\n",
       "\n",
       "    var fig = new mpl.figure(id, ws_proxy,\n",
       "                           ondownload,\n",
       "                           element.get(0));\n",
       "\n",
       "    // Call onopen now - mpl needs it, as it is assuming we've passed it a real\n",
       "    // web socket which is closed, not our websocket->open comm proxy.\n",
       "    ws_proxy.onopen();\n",
       "\n",
       "    fig.parent_element = element.get(0);\n",
       "    fig.cell_info = mpl.find_output_cell(\"<div id='\" + id + \"'></div>\");\n",
       "    if (!fig.cell_info) {\n",
       "        console.error(\"Failed to find cell for figure\", id, fig);\n",
       "        return;\n",
       "    }\n",
       "\n",
       "    var output_index = fig.cell_info[2]\n",
       "    var cell = fig.cell_info[0];\n",
       "\n",
       "};\n",
       "\n",
       "mpl.figure.prototype.handle_close = function(fig, msg) {\n",
       "    var width = fig.canvas.width/mpl.ratio\n",
       "    fig.root.unbind('remove')\n",
       "\n",
       "    // Update the output cell to use the data from the current canvas.\n",
       "    fig.push_to_output();\n",
       "    var dataURL = fig.canvas.toDataURL();\n",
       "    // Re-enable the keyboard manager in IPython - without this line, in FF,\n",
       "    // the notebook keyboard shortcuts fail.\n",
       "    IPython.keyboard_manager.enable()\n",
       "    $(fig.parent_element).html('<img src=\"' + dataURL + '\" width=\"' + width + '\">');\n",
       "    fig.close_ws(fig, msg);\n",
       "}\n",
       "\n",
       "mpl.figure.prototype.close_ws = function(fig, msg){\n",
       "    fig.send_message('closing', msg);\n",
       "    // fig.ws.close()\n",
       "}\n",
       "\n",
       "mpl.figure.prototype.push_to_output = function(remove_interactive) {\n",
       "    // Turn the data on the canvas into data in the output cell.\n",
       "    var width = this.canvas.width/mpl.ratio\n",
       "    var dataURL = this.canvas.toDataURL();\n",
       "    this.cell_info[1]['text/html'] = '<img src=\"' + dataURL + '\" width=\"' + width + '\">';\n",
       "}\n",
       "\n",
       "mpl.figure.prototype.updated_canvas_event = function() {\n",
       "    // Tell IPython that the notebook contents must change.\n",
       "    IPython.notebook.set_dirty(true);\n",
       "    this.send_message(\"ack\", {});\n",
       "    var fig = this;\n",
       "    // Wait a second, then push the new image to the DOM so\n",
       "    // that it is saved nicely (might be nice to debounce this).\n",
       "    setTimeout(function () { fig.push_to_output() }, 1000);\n",
       "}\n",
       "\n",
       "mpl.figure.prototype._init_toolbar = function() {\n",
       "    var fig = this;\n",
       "\n",
       "    var nav_element = $('<div/>');\n",
       "    nav_element.attr('style', 'width: 100%');\n",
       "    this.root.append(nav_element);\n",
       "\n",
       "    // Define a callback function for later on.\n",
       "    function toolbar_event(event) {\n",
       "        return fig.toolbar_button_onclick(event['data']);\n",
       "    }\n",
       "    function toolbar_mouse_event(event) {\n",
       "        return fig.toolbar_button_onmouseover(event['data']);\n",
       "    }\n",
       "\n",
       "    for(var toolbar_ind in mpl.toolbar_items){\n",
       "        var name = mpl.toolbar_items[toolbar_ind][0];\n",
       "        var tooltip = mpl.toolbar_items[toolbar_ind][1];\n",
       "        var image = mpl.toolbar_items[toolbar_ind][2];\n",
       "        var method_name = mpl.toolbar_items[toolbar_ind][3];\n",
       "\n",
       "        if (!name) { continue; };\n",
       "\n",
       "        var button = $('<button class=\"btn btn-default\" href=\"#\" title=\"' + name + '\"><i class=\"fa ' + image + ' fa-lg\"></i></button>');\n",
       "        button.click(method_name, toolbar_event);\n",
       "        button.mouseover(tooltip, toolbar_mouse_event);\n",
       "        nav_element.append(button);\n",
       "    }\n",
       "\n",
       "    // Add the status bar.\n",
       "    var status_bar = $('<span class=\"mpl-message\" style=\"text-align:right; float: right;\"/>');\n",
       "    nav_element.append(status_bar);\n",
       "    this.message = status_bar[0];\n",
       "\n",
       "    // Add the close button to the window.\n",
       "    var buttongrp = $('<div class=\"btn-group inline pull-right\"></div>');\n",
       "    var button = $('<button class=\"btn btn-mini btn-primary\" href=\"#\" title=\"Stop Interaction\"><i class=\"fa fa-power-off icon-remove icon-large\"></i></button>');\n",
       "    button.click(function (evt) { fig.handle_close(fig, {}); } );\n",
       "    button.mouseover('Stop Interaction', toolbar_mouse_event);\n",
       "    buttongrp.append(button);\n",
       "    var titlebar = this.root.find($('.ui-dialog-titlebar'));\n",
       "    titlebar.prepend(buttongrp);\n",
       "}\n",
       "\n",
       "mpl.figure.prototype._root_extra_style = function(el){\n",
       "    var fig = this\n",
       "    el.on(\"remove\", function(){\n",
       "\tfig.close_ws(fig, {});\n",
       "    });\n",
       "}\n",
       "\n",
       "mpl.figure.prototype._canvas_extra_style = function(el){\n",
       "    // this is important to make the div 'focusable\n",
       "    el.attr('tabindex', 0)\n",
       "    // reach out to IPython and tell the keyboard manager to turn it's self\n",
       "    // off when our div gets focus\n",
       "\n",
       "    // location in version 3\n",
       "    if (IPython.notebook.keyboard_manager) {\n",
       "        IPython.notebook.keyboard_manager.register_events(el);\n",
       "    }\n",
       "    else {\n",
       "        // location in version 2\n",
       "        IPython.keyboard_manager.register_events(el);\n",
       "    }\n",
       "\n",
       "}\n",
       "\n",
       "mpl.figure.prototype._key_event_extra = function(event, name) {\n",
       "    var manager = IPython.notebook.keyboard_manager;\n",
       "    if (!manager)\n",
       "        manager = IPython.keyboard_manager;\n",
       "\n",
       "    // Check for shift+enter\n",
       "    if (event.shiftKey && event.which == 13) {\n",
       "        this.canvas_div.blur();\n",
       "        event.shiftKey = false;\n",
       "        // Send a \"J\" for go to next cell\n",
       "        event.which = 74;\n",
       "        event.keyCode = 74;\n",
       "        manager.command_mode();\n",
       "        manager.handle_keydown(event);\n",
       "    }\n",
       "}\n",
       "\n",
       "mpl.figure.prototype.handle_save = function(fig, msg) {\n",
       "    fig.ondownload(fig, null);\n",
       "}\n",
       "\n",
       "\n",
       "mpl.find_output_cell = function(html_output) {\n",
       "    // Return the cell and output element which can be found *uniquely* in the notebook.\n",
       "    // Note - this is a bit hacky, but it is done because the \"notebook_saving.Notebook\"\n",
       "    // IPython event is triggered only after the cells have been serialised, which for\n",
       "    // our purposes (turning an active figure into a static one), is too late.\n",
       "    var cells = IPython.notebook.get_cells();\n",
       "    var ncells = cells.length;\n",
       "    for (var i=0; i<ncells; i++) {\n",
       "        var cell = cells[i];\n",
       "        if (cell.cell_type === 'code'){\n",
       "            for (var j=0; j<cell.output_area.outputs.length; j++) {\n",
       "                var data = cell.output_area.outputs[j];\n",
       "                if (data.data) {\n",
       "                    // IPython >= 3 moved mimebundle to data attribute of output\n",
       "                    data = data.data;\n",
       "                }\n",
       "                if (data['text/html'] == html_output) {\n",
       "                    return [cell, data, j];\n",
       "                }\n",
       "            }\n",
       "        }\n",
       "    }\n",
       "}\n",
       "\n",
       "// Register the function which deals with the matplotlib target/channel.\n",
       "// The kernel may be null if the page has been refreshed.\n",
       "if (IPython.notebook.kernel != null) {\n",
       "    IPython.notebook.kernel.comm_manager.register_target('matplotlib', mpl.mpl_figure_comm);\n",
       "}\n"
      ],
      "text/plain": [
       "<IPython.core.display.Javascript object>"
      ]
     },
     "metadata": {},
     "output_type": "display_data"
    },
    {
     "data": {
      "text/html": [
       "<img src=\"data:image/png;base64,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\" width=\"500\">"
      ],
      "text/plain": [
       "<IPython.core.display.HTML object>"
      ]
     },
     "metadata": {},
     "output_type": "display_data"
    },
    {
     "data": {
      "text/plain": [
       "Text(0.5, 1.0, 'Resultado de k-means')"
      ]
     },
     "execution_count": 124,
     "metadata": {},
     "output_type": "execute_result"
    }
   ],
   "source": [
    "f=np.load('data/data_4clusters_stretched.npz')\n",
    "f.files\n",
    "X_st = f['X_st']\n",
    "y_st = f['y_st']\n",
    "\n",
    "###########################################################################################\n",
    "##################    EMPIEZA ESPACIO PARA COMPLETAR CODIGO   #############################\n",
    "###########################################################################################\n",
    "\n",
    "centros_stretched, asignaciones_stretched = k_means(X_st, k=4)\n",
    "\n",
    "###########################################################################################\n",
    "##################    TERMINA ESPACIO PARA COMPLETAR CODIGO   #############################\n",
    "###########################################################################################\n",
    "\n",
    "fig, ax = plt.subplots(figsize=(5,5))\n",
    "ax.scatter(X_st[:, 0], X_st[:, 1], c=asignaciones_stretched, s=dot_size, cmap=cmap)\n",
    "ax.scatter(centros_stretched[:, 0], centros_stretched[:, 1], marker='*', s=50, c='red')\n",
    "plt.title('Resultado de k-means', fontsize=18)\n"
   ]
  },
  {
   "cell_type": "markdown",
   "metadata": {},
   "source": [
    "**Respuesta:**   \n",
    "En los clusters amarillo y verde, yo clasificaria algunos puntos de forma diferente , pero debido a como se toman las distancias no se separa como uno esperaria "
   ]
  },
  {
   "cell_type": "markdown",
   "metadata": {},
   "source": [
    "<a id=\"Ejercicio4\"></a>\n",
    "## Ejercicio 4: EM"
   ]
  },
  {
   "cell_type": "markdown",
   "metadata": {
    "collapsed": true
   },
   "source": [
    "El objetivo de este ejercicio es implementar el esquema Expectation Maximization (EM) para encontrar los parámetros que maximizan la verosimilitud del modelo Mezcla de Gaussianas para un conjunto de datos $X$. Si se utilizan $\\textit{K}$ componentes en la mezcla, el modelo está dado por:\n",
    "\n",
    "$$\n",
    "p(\\mathbf{x_n|\\Theta})=\\sum_{j=1}^K w_j \\mathcal{N}\\left( \\mathbf{x_n} \\vert \\mathbf{\\mu_j},\\mathbf{\\Sigma_j} \\right)\n",
    "$$"
   ]
  },
  {
   "cell_type": "markdown",
   "metadata": {},
   "source": [
    "Se implementará una función que utiliza el esquema EM para encontrar los parámetros óptimos en el caso de Mezcla de Gaussianas. Dentro de la función el esquema sigue los siguientes pasos:\n",
    "\n",
    "1. Inicialización\n",
    "2. Loop donde se calculan:\n",
    "    - *Expectation Step* \n",
    "    - *Maximization Step*  \n",
    "    - log verosimilitud de los datos\n",
    "    - se evalúa condición de continuidad en el loop\n",
    "\n",
    "\n",
    "**Parte a)** Implementar la función `inicializar_mezcla()` que es la encargada de inicializar las medias $\\mathbf{\\mu_j}$, las covarianzas $\\mathbf{\\Sigma_j}$ y los coeficientes $\\mathbf{w}$ de la mezcla . Para facilitar la comparación con el algoritmo *k-means* del ejercicio anterior se sugiere inicializar los $\\mathbf{\\mu_j}$ a $\\textit{k}$ vectores de $X$ elegidos aleatoriamente. "
   ]
  },
  {
   "cell_type": "code",
   "execution_count": 6,
   "metadata": {},
   "outputs": [],
   "source": [
    "def inicializar_mezcla(X, k, semilla):\n",
    "    '''\n",
    "    Entrada:\n",
    "        X: matriz de tamaño (N,d) que contiene N muestras, una por fila\n",
    "        k: número de clusters a encontrar\n",
    "        semilla: hace repetible la inicialización aleatoria de parámetros\n",
    "    Salida:\n",
    "        w: vector de largo k que contiene los pesos de la mezcla. \n",
    "           Se deben inicializar a valores aleatorios cuya suma da 1 \n",
    "        mus: arreglo de tamaño (k,d) que contiene las k medias\n",
    "        sigmas: arreglo de tamaño (k,d,d) que contiene las matrices de covarianza de los clusters\n",
    "    '''\n",
    "    N, d = X.shape\n",
    "    \n",
    "    # la semilla controla la inicialización de los parámetros\n",
    "    np.random.seed(semilla)\n",
    "    \n",
    "    ######################################################################################\n",
    "    ##################    EMPIEZA ESPACIO PARA COMPLETAR CODIGO   ########################\n",
    "    ######################################################################################\n",
    "\n",
    "    # se inicializan los mus eligiendo k vectores al azar\n",
    "    index = (np.random.rand(k)*N).astype(int)\n",
    "    mus = X[index] \n",
    "    \n",
    "    # los sigmas se inicializan a la identidad\n",
    "    sigmas = np.identity(d) + np.zeros((k,d,d))\n",
    "\n",
    "    # se inicializan el vector de pesos\n",
    "    w = np.random.rand(k)\n",
    "    w = w/np.sum(w)\n",
    "\n",
    "    ########################################################################################\n",
    "    ##################    TERMINAA ESPACIO PARA COMPLETAR CODIGO   #########################\n",
    "    ########################################################################################\n",
    "    \n",
    "    return w, mus, sigmas"
   ]
  },
  {
   "cell_type": "code",
   "execution_count": 7,
   "metadata": {},
   "outputs": [
    {
     "name": "stdout",
     "output_type": "stream",
     "text": [
      "Testeando la función inicializar_mezcla()\n"
     ]
    }
   ],
   "source": [
    "# Se testea inicializar_mezcla() \n",
    "N=7; d=2; k=2\n",
    "X_ = np.random.randn(N,d)\n",
    "semilla = 43\n",
    "w, mus, sigmas = inicializar_mezcla(X, k, semilla)\n",
    "\n",
    "sigmas_correctos = np.array([[[1., 0.], [0., 1.]], [[1., 0.], [0., 1.]]])\n",
    "\n",
    "print('Testeando la función inicializar_mezcla()')\n",
    "assert np.sum(w)==1, 'La suma de los w debe dar 1'\n",
    "assert np.min(w)>=0, 'Los w deben ser positivos o cero'\n",
    "assert mus.shape == (k,d), 'El tamaño de la matriz de mus no es correcto'\n",
    "for j in range(k):\n",
    "    assert np.allclose(sigmas[j], np.eye(len(sigmas[j]))), 'Los sigmas deben inicializarse a la identidad'\n"
   ]
  },
  {
   "cell_type": "markdown",
   "metadata": {},
   "source": [
    "**Parte b)** Implementar `expectation_step`. Se calcula la probabilidad de que la *n-ésima* muestra haya sido generada por la componente *j-ésima* de la mezcla. Para ello se utilizan los parámetros actuales   \n",
    "\n",
    "$$\n",
    "\\gamma_{nj} = \\frac{w_j \\mathcal{N}\\left( \\mathbf{x_n} \\vert \\mathbf{\\mu_j},\\mathbf{\\Sigma_j} \\right)}{\\sum_{l=1}^{k} w_l \\mathcal{N}\\left( \\mathbf{x_n} \\vert \\mathbf{\\mu_l},\\mathbf{\\Sigma_l} \\right)} \n",
    "$$"
   ]
  },
  {
   "cell_type": "code",
   "execution_count": 8,
   "metadata": {},
   "outputs": [],
   "source": [
    "def expectation_step(X, w, mus, sigmas):\n",
    "    '''\n",
    "    Entrada:\n",
    "        X: matriz de tamaño Nxd con las muestras a evaluar\n",
    "        w: vector de largo k que contiene los pesos de la mezcla. \n",
    "        mus: arreglo de tamaño (k,d) que contiene las k medias\n",
    "        sigmas: arreglo de tamaño (k,d,d) que contiene las matrices de covarianza de los clusters\n",
    "    Salida:\n",
    "        gammas: matriz de tamaño Nxk con las probabilidades de pertenencia a cada cluster\n",
    "    '''\n",
    "    \n",
    "\n",
    "    ######################################################################################\n",
    "    ##################    EMPIEZA ESPACIO PARA COMPLETAR CODIGO   ########################\n",
    "    ######################################################################################\n",
    "    N = X.shape[0]\n",
    "    k = mus.shape[0]\n",
    "    d = mus.shape[1]\n",
    "    \n",
    "    gammas = np.zeros((N,k))\n",
    "\n",
    "    for n in range(N):\n",
    "        for j in range(k):\n",
    "            # calculo el denominador\n",
    "            denominador = np.sum([w[l]*evaluar_kernel_gaussiano(X[n], mus[l], sigmas[l]) for l in range(k)])\n",
    "            \n",
    "            gammas[n,j] = w[j]*evaluar_kernel_gaussiano(X[n], mus[j], sigmas[j])/denominador\n",
    "    \n",
    "    ######################################################################################\n",
    "    ##################    TERMINA ESPACIO PARA COMPLETAR CODIGO   ########################\n",
    "    ######################################################################################\n",
    "    return gammas"
   ]
  },
  {
   "cell_type": "code",
   "execution_count": 13,
   "metadata": {},
   "outputs": [
    {
     "name": "stdout",
     "output_type": "stream",
     "text": [
      "[[3.66754635e-04 9.99633245e-01]\n",
      " [9.99999657e-01 3.43219909e-07]]\n",
      "Testeando la función expectation_step()\n",
      "Diferencias en gammas:  0.4642898669545327\n"
     ]
    }
   ],
   "source": [
    "# Se testea expectation_step() \n",
    "np.random.seed(3)\n",
    "N=2; d=3; k=2\n",
    "X_ = np.random.randn(N,d)\n",
    "w_ = np.random.rand(k)\n",
    "w_ = w_ / np.sum(w_)\n",
    "mus_= np.random.randn(k,d)\n",
    "sigmas_= np.random.randn(k,d,d)\n",
    "for j in range(k):\n",
    "    sigmas_[j]= sigmas_[j] @ sigmas_[j].T\n",
    "\n",
    "gammas = expectation_step(X_, w_, mus_, sigmas_)\n",
    "print(gammas)\n",
    "gammas_correctos = np.array([[1.34208238e-04, 9.99865792e-01],\n",
    "                             [9.99999062e-01, 9.38144350e-07]])\n",
    "\n",
    "# Se compara la salida con la nuestra. Los errores deberían ser del orden de e-9 o menos\n",
    "print('Testeando la función expectation_step()')\n",
    "print('Diferencias en gammas: ', error_relativo(gammas, gammas_correctos))"
   ]
  },
  {
   "cell_type": "markdown",
   "metadata": {},
   "source": [
    "**Parte c)** Implementar `maximization_step()`. Se encuentran los parámetros óptimos utilizando la distribución de $\\gamma_{nj}$ actual\n",
    "\n",
    "\\begin{align*}\n",
    "&N_j                       = \\sum_{n=1}^{N}\\gamma_{nj} \\\\\n",
    "&\\mathbf{\\mu_j^{new}}      = \\frac{1}{N_j}\\sum_{n=1}^{N}\\gamma_{nj}\\mathbf{x_n}  \\\\\n",
    "&\\mathbf{\\Sigma_j^{new}}   = \\frac{1}{N_j}\\sum_{n=1}^{N}\\gamma_{nj}\\left(\\mathbf{x_n}-\\mathbf{\\mu_j}\\right)\\left(\\mathbf{x_n}-\\mathbf{\\mu_j}\\right)^T  \\\\\n",
    "&w_j^{new}               = \\frac{N_j}{N} \\\\\n",
    "\\end{align*}"
   ]
  },
  {
   "cell_type": "code",
   "execution_count": 14,
   "metadata": {},
   "outputs": [],
   "source": [
    "def maximization_step(X, gammas):\n",
    "    '''\n",
    "    Entrada:\n",
    "        X: matriz de tamaño Nxd con las muestras a evaluar\n",
    "        gammas: matriz de tamaño Nxk con las probabilidades de pertenencia a cada cluster\n",
    "    Salida:\n",
    "        w: vector de pesos de la mezcla\n",
    "        mus: arreglo de (k,d) con las medias de los clusters\n",
    "        sigmas: arreglo de (k,d,d) que contiene las matrices de covarianza de los clusters        \n",
    "    '''\n",
    "    \n",
    "    ######################################################################################\n",
    "    ##################    EMPIEZA ESPACIO PARA COMPLETAR CODIGO   ########################\n",
    "    ######################################################################################  \n",
    "    \n",
    "    N = X.shape[0]\n",
    "    d = X.shape[1]\n",
    "    k = gammas.shape[1]\n",
    "    \n",
    "    N_jvec = np.sum(gammas, axis=0)\n",
    "    \n",
    "    w = N_jvec/N\n",
    "    \n",
    "    mus = np.zeros((k,d))\n",
    "    for j in range(k):\n",
    "        mus[j] = (1/N_jvec[j])*(gammas[:,j].reshape(1,N))@X\n",
    "    \n",
    "    sigmas = np.zeros((k,d,d))\n",
    "    m = 0\n",
    "    for j in range(k):\n",
    "        for n in range(N):\n",
    "            sigmas[j] += gammas[n,j]*(X[n]-mus[j]).reshape(d,1) @ (X[n]-mus[j]).reshape(1,d)\n",
    "        sigmas[j] = sigmas[j]/N_jvec[j]\n",
    "\n",
    "    ######################################################################################\n",
    "    ##################    TERMINA ESPACIO PARA COMPLETAR CODIGO   ########################\n",
    "    ######################################################################################\n",
    "\n",
    "    return w, mus, sigmas"
   ]
  },
  {
   "cell_type": "code",
   "execution_count": 15,
   "metadata": {},
   "outputs": [
    {
     "name": "stdout",
     "output_type": "stream",
     "text": [
      "Testeando la función inicializar_mezcla()\n",
      "Diferencias en w:  3.819325734164596e-09\n",
      "Diferencias en mus:  1.7318041728563604e-08\n",
      "Diferencias en sigmas:  6.5305878323675244e-09\n"
     ]
    }
   ],
   "source": [
    "# Se testea maximization_step() \n",
    "np.random.seed(84)\n",
    "N=5; d=2; k=2\n",
    "X_ = np.random.randn(N,d)\n",
    "gammas_ = np.random.randn(N,k)\n",
    "w, mus, sigmas = maximization_step(X_, gammas_)\n",
    "\n",
    "w_correcto = np.array([-0.50647492,  0.60709566])\n",
    "mus_correctos = np.array([[ 0.03196345, -1.57011573], [-0.12383003, -0.67268656]])\n",
    "sigmas_correctos = np.array([[[ 0.58728466, -0.36449661],[-0.36449661,  0.4157087 ]],\n",
    "                             [[ 0.21543145, -0.16303434],[-0.16303434,  0.30495924]]])\n",
    "\n",
    "# Se compara la salida con la nuestra. Los errores deberían ser del orden de e-8 o menos\n",
    "print('Testeando la función inicializar_mezcla()')\n",
    "print('Diferencias en w: ', error_relativo(w, w_correcto))\n",
    "print('Diferencias en mus: ', error_relativo(mus, mus_correctos))\n",
    "print('Diferencias en sigmas: ', error_relativo(sigmas, sigmas_correctos))"
   ]
  },
  {
   "cell_type": "markdown",
   "metadata": {},
   "source": [
    "**Parte e)** Implemente el método `log_verosimilitud()` que evalúa la log-verosimilitud de los datos con el modelo. "
   ]
  },
  {
   "cell_type": "code",
   "execution_count": 18,
   "metadata": {},
   "outputs": [],
   "source": [
    "from scipy.stats import multivariate_normal as mvn"
   ]
  },
  {
   "cell_type": "code",
   "execution_count": 19,
   "metadata": {},
   "outputs": [],
   "source": [
    "def log_verosimilitud(X, w, mus, sigmas):\n",
    "    '''\n",
    "    Entrada:\n",
    "        X: matriz de tamaño Nxd que contiene las muestras\n",
    "        w: vector de tamaño k que contiene los pesos actuales\n",
    "        mus: matriz de tamaño (k,d) que contiene las medias, una por fila\n",
    "        sigmas: arreglo de tamaño (k,d,d) que contiene las matrices de covarianza\n",
    "     Salida:\n",
    "        log_ver: log verosimilitud de las muestras con el modelo (escalar)\n",
    "    '''\n",
    "    \n",
    "    ######################################################################################\n",
    "    ##################    EMPIEZA ESPACIO PARA COMPLETAR CODIGO   ########################\n",
    "    ######################################################################################\n",
    "    N = X.shape[0]\n",
    "    k = mus.shape[0]\n",
    "    \n",
    "    log_ver = 0\n",
    "    log_ver_aux = 0\n",
    "    for n in range(N):\n",
    "        for j in range(k):\n",
    "            log_ver_aux += w[j]*mvn.pdf(X[n], mean=mus[j], cov=sigmas[j])\n",
    "        log_ver -= np.log(log_ver_aux)  \n",
    "        log_ver_aux = 0\n",
    "    \n",
    "    ######################################################################################\n",
    "    ##################    TERMINA ESPACIO PARA COMPLETAR CODIGO   ########################\n",
    "    ######################################################################################\n",
    "    return log_ver"
   ]
  },
  {
   "cell_type": "code",
   "execution_count": 19,
   "metadata": {},
   "outputs": [
    {
     "name": "stdout",
     "output_type": "stream",
     "text": [
      "28.48357133785192\n",
      "Testeando la función log_verosimilitud()\n",
      "Diferencias en log_ver:  1.0\n"
     ]
    }
   ],
   "source": [
    "# Se testea log_verosimilitud() \n",
    "np.random.seed(22)\n",
    "N=3; d=3; k=2\n",
    "X_ = np.random.randn(N,d)\n",
    "w_ = np.random.rand(k)\n",
    "w_ = w_ / np.sum(w_)\n",
    "mus_= np.random.randn(k,d)\n",
    "sigmas_= np.random.randn(k,d,d)\n",
    "for j in range(k):\n",
    "    sigmas_[j]= sigmas_[j] @ sigmas_[j].T\n",
    "\n",
    "log_ver = log_verosimilitud(X_, w_, mus_, sigmas_)\n",
    "print(log_ver)\n",
    "log_ver_correcto = -28.48357133785\n",
    "\n",
    "# Se compara la salida con la nuestra. El error debería ser del orden de e-9 o menos\n",
    "print('Testeando la función log_verosimilitud()')\n",
    "print('Diferencias en log_ver: ', error_relativo(log_ver, log_ver_correcto))"
   ]
  },
  {
   "cell_type": "markdown",
   "metadata": {},
   "source": [
    "**Parte f)** Complete la implementación de `gmm_EM`. Para ello utilice las implementaciones de las partes anteriores."
   ]
  },
  {
   "cell_type": "code",
   "execution_count": 53,
   "metadata": {},
   "outputs": [],
   "source": [
    "def gmm_EM(X, k, tol=0.01, max_iter=100, semilla = 2):\n",
    "    '''\n",
    "    Entrada:\n",
    "        X: matriz de tamaño Nxd que contiene N muestras, una por fila\n",
    "        k: número de clusters a encontrar\n",
    "        tol: si la log verosimilitud en el paso actual no mejora al menos tol\n",
    "             respecto a la del paso anterior se termina la optimización \n",
    "        max_iter: máximo número de iteraciones en la optimización\n",
    "        semilla: semilla a utilizar en la inicialización de las gaussianas\n",
    "    Salida:\n",
    "        log_ver: lista que almacena las log-verosimilitudes calculadas durante la optimización\n",
    "        gammas: matriz de tamaño Nxk con las probabilidades de pertenencia a cada cluster\n",
    "        w: vector de tamaño k que contiene los pesos estimados\n",
    "        mus: matriz de tamaño (k,d) que contiene las medias, una por fila\n",
    "        sigmas: arreglo de tamaño (k,d,d) que contiene las matrices de covarianza\n",
    "    '''\n",
    "    N, d = X.shape\n",
    "    \n",
    "    w, mus, sigmas = inicializar_mezcla(X, k, semilla)\n",
    "\n",
    "    log_ver_previa = -np.infty ; \n",
    "    log_ver=[] # lista que almacena las log-verosimilitudes durante la optimización\n",
    "    \n",
    "    termino = False\n",
    "    n_iter = 0\n",
    "    while not termino:\n",
    "        \n",
    "       ######################################################################################\n",
    "       ##################    EMPIEZA ESPACIO PARA COMPLETAR CODIGO   ########################\n",
    "       ######################################################################################        \n",
    "        \n",
    "        # E-step   \n",
    "        gammas = expectation_step(X, w, mus, sigmas)\n",
    "\n",
    "        # M-step        \n",
    "        w, mus, sigmas = maximization_step(X, gammas)\n",
    " \n",
    "        # se actualiza la log verosimilitud\n",
    "        log_ver_actual = log_verosimilitud(X, w, mus, sigmas)\n",
    "\n",
    "        # se evalúa condición de terminación (dos condiciones)\n",
    "        if (n_iter >= max_iter) or (np.abs(log_ver_actual - log_ver_previa) < tol):\n",
    "            termino = True \n",
    "        ######################################################################################\n",
    "        ##################    EMPIEZA ESPACIO PARA COMPLETAR CODIGO   ########################\n",
    "        ######################################################################################\n",
    "        \n",
    "        log_ver.append(log_ver_actual)\n",
    "        log_ver_previa = log_ver_actual\n",
    "\n",
    "        n_iter += 1\n",
    "    \n",
    "        print('Iteración %d, log verosimilitud = %f ' % (n_iter, log_ver_actual))\n",
    "        \n",
    "    return log_ver, gammas, w, mus, sigmas"
   ]
  },
  {
   "cell_type": "markdown",
   "metadata": {},
   "source": [
    "## Evaluación utilizando data_4clusters"
   ]
  },
  {
   "cell_type": "markdown",
   "metadata": {},
   "source": [
    "La siguiente celda evalúa la implementación realizada. Verifique que la log verosimilitud es monótona creciente."
   ]
  },
  {
   "cell_type": "code",
   "execution_count": 54,
   "metadata": {},
   "outputs": [
    {
     "name": "stdout",
     "output_type": "stream",
     "text": [
      "Iteración 1, log verosimilitud = 999.406704 \n",
      "Iteración 2, log verosimilitud = 948.404543 \n",
      "Iteración 3, log verosimilitud = 895.259037 \n",
      "Iteración 4, log verosimilitud = 889.120466 \n",
      "Iteración 5, log verosimilitud = 892.588230 \n",
      "Iteración 6, log verosimilitud = 895.732171 \n",
      "Iteración 7, log verosimilitud = 895.537366 \n",
      "Iteración 8, log verosimilitud = 891.508737 \n",
      "Iteración 9, log verosimilitud = 888.480671 \n",
      "Iteración 10, log verosimilitud = 885.600394 \n",
      "Iteración 11, log verosimilitud = 883.287754 \n",
      "Iteración 12, log verosimilitud = 882.807881 \n",
      "Iteración 13, log verosimilitud = 883.094372 \n",
      "Iteración 14, log verosimilitud = 883.334368 \n",
      "Iteración 15, log verosimilitud = 883.470567 \n",
      "Iteración 16, log verosimilitud = 883.546120 \n",
      "Iteración 17, log verosimilitud = 883.591054 \n",
      "Iteración 18, log verosimilitud = 883.620824 \n",
      "Iteración 19, log verosimilitud = 883.642693 \n",
      "Iteración 20, log verosimilitud = 883.659875 \n",
      "Iteración 21, log verosimilitud = 883.673730 \n",
      "Iteración 22, log verosimilitud = 883.684862 \n",
      "Iteración 23, log verosimilitud = 883.693632 \n",
      "Iteración 24, log verosimilitud = 883.700361 \n",
      "Iteración 25, log verosimilitud = 883.705378 \n",
      "Iteración 26, log verosimilitud = 883.709008 \n",
      "Iteración 27, log verosimilitud = 883.711549 \n",
      "Iteración 28, log verosimilitud = 883.713261 \n",
      "Iteración 29, log verosimilitud = 883.714360 \n",
      "Iteración 30, log verosimilitud = 883.715024 \n"
     ]
    },
    {
     "data": {
      "text/plain": [
       "Text(0.5, 0, 'iteraciones')"
      ]
     },
     "execution_count": 54,
     "metadata": {},
     "output_type": "execute_result"
    },
    {
     "data": {
      "image/png": "[encoded data removed]",
      "text/plain": [
       "<Figure size 432x288 with 1 Axes>"
      ]
     },
     "metadata": {
      "needs_background": "light"
     },
     "output_type": "display_data"
    }
   ],
   "source": [
    "f=np.load('data/data_4clusters_stretched.npz')\n",
    "f.files\n",
    "X_st = f['X_st']\n",
    "y_st = f['y_st']\n",
    "#log_vero, gammas, w, mus, sigmas = gmm_EM(X_st, k=4, max_iter=100, tol=0.001)\n",
    "log_vero, gammas, w, mus, sigmas = gmm_EM(X_st, k=4, max_iter=100, tol=0.001, semilla=22)\n",
    "\n",
    "plt.figure()\n",
    "plt.plot(log_vero)\n",
    "plt.title('Log verosimilitud')\n",
    "plt.xlabel('iteraciones')"
   ]
  },
  {
   "cell_type": "markdown",
   "metadata": {},
   "source": [
    "**Parte g)** Realice la asignación de clusters y compare los resultados con los obtenidos con el algoritmo *k-means*."
   ]
  },
  {
   "cell_type": "code",
   "execution_count": 58,
   "metadata": {},
   "outputs": [],
   "source": [
    "######################################################################################\n",
    "##################    EMPIEZA ESPACIO PARA COMPLETAR CODIGO   ########################\n",
    "###################################################################################### \n",
    "# vector de tamaño N que almacena los clusters asignados a cada muestra \n",
    "asignaciones_gmm = np.argmax(gammas,axis=1)     \n",
    "\n",
    "######################################################################################\n",
    "##################    TERMINA ESPACIO PARA COMPLETAR CODIGO   ########################\n",
    "###################################################################################### "
   ]
  },
  {
   "cell_type": "code",
   "execution_count": 61,
   "metadata": {},
   "outputs": [
    {
     "data": {
      "text/plain": [
       "Text(0.5, 1.0, 'resultado EM')"
      ]
     },
     "execution_count": 61,
     "metadata": {},
     "output_type": "execute_result"
    },
    {
     "data": {
      "image/png": "[encoded data removed]",
      "text/plain": [
       "<Figure size 360x360 with 1 Axes>"
      ]
     },
     "metadata": {
      "needs_background": "light"
     },
     "output_type": "display_data"
    }
   ],
   "source": [
    "# Se muestran con el mismo color los puntos pertenecientes al mismo cluster \n",
    "fig, ax = plt.subplots(figsize=(5,5))\n",
    "dot_size = 50\n",
    "cmap = 'viridis'\n",
    "ax.scatter(X_st[:, 0], X_st[:, 1], c=asignaciones_gmm, s=dot_size, cmap=cmap)\n",
    "plt.title('resultado EM', fontsize=18)"
   ]
  },
  {
   "cell_type": "code",
   "execution_count": null,
   "metadata": {},
   "outputs": [],
   "source": []
  }
 ],
 "metadata": {
  "kernelspec": {
   "display_name": "Python 3",
   "language": "python",
   "name": "python3"
  },
  "language_info": {
   "codemirror_mode": {
    "name": "ipython",
    "version": 3
   },
   "file_extension": ".py",
   "mimetype": "text/x-python",
   "name": "python",
   "nbconvert_exporter": "python",
   "pygments_lexer": "ipython3",
   "version": "3.7.4"
  }
 },
 "nbformat": 4,
 "nbformat_minor": 2
}
