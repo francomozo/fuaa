{
 "cells": [
  {
   "cell_type": "markdown",
   "metadata": {},
   "source": [
    "# Fundamentos de Aprendizaje Automático y Reconocimiento de Patrones\n",
    "***\n",
    "# Práctico 5"
   ]
  },
  {
   "cell_type": "code",
   "execution_count": 1,
   "metadata": {},
   "outputs": [],
   "source": [
    "# Se importan las bibliotecas que se utilizarán\n",
    "import numpy as np\n",
    "import h5py\n",
    "import matplotlib.pyplot as plt\n",
    "\n",
    "%matplotlib inline\n",
    "plt.rcParams['figure.figsize'] = (5.0, 4.0) # set default size of plots\n",
    "plt.rcParams['image.interpolation'] = 'nearest'\n",
    "plt.rcParams['image.cmap'] = 'gray'\n",
    "\n",
    "%load_ext autoreload\n",
    "%autoreload 2\n"
   ]
  },
  {
   "cell_type": "markdown",
   "metadata": {},
   "source": [
    "## Objetivos\n",
    "\n",
    "- Implementar desde cero una red neuronal de dos capas\n",
    "- Utilizar la implementación para:\n",
    "    - Clasificar datos sintéticos \n",
    "    - Clasificar entre imágenes de gatos y no gatos\n",
    "- Adquirir cierta intuición sobre las fronteras de decisión determinadas por una red neuronal"
   ]
  },
  {
   "cell_type": "markdown",
   "metadata": {},
   "source": [
    "## Lista de ejercicios\n",
    "\n",
    "[Ejercicio 1](#Ejercicio1): implementación de una red neuronal de dos capas       \n",
    "[Ejercicio 2](#Ejercicio2): jugando con tensorflow playground   "
   ]
  },
  {
   "cell_type": "markdown",
   "metadata": {},
   "source": [
    "<a id=\"Ejercicio1\"></a>\n",
    "## Ejercicio 1: Implementación de una red neuronal de dos capas"
   ]
  },
  {
   "cell_type": "markdown",
   "metadata": {},
   "source": [
    "### Notación:\n",
    "\n",
    "- En general, la arquitectura de una red de $L$ capas de define mediante el vector $[d^{(0)},d^{(1)},\\ldots, d^{(L)}]$, siendo $d^{l}$ el número de nodos de la capa $l$.\n",
    "- En una red neuronal de dos capas, es decir con $L=2$, con $l=0$ se referirá a la entrada (no se considera una capa) y con $l=2$ se referirá a la capa de salida.     \n",
    "- A la señal de entrada a la activación $j$ de la capa $l$ se le llamará $s_j^{(l)}$ y a la de salida $x_j^{(l)}$. Así, por ejemplo:\n",
    "    - La coordenada $j$ del vector de características $\\mathbf{x^{(0)}}$ es $x_j^{(0)}$     \n",
    "    - La coordenada $j$ del vector de salida $\\mathbf{x^{(L)}}$ es $x_j^{(L)}$"
   ]
  },
  {
   "cell_type": "code",
   "execution_count": 2,
   "metadata": {},
   "outputs": [],
   "source": [
    "# funciones auxiliares (Ejecutar y seguir)\n",
    "def error_relativo(x, y):\n",
    "    ''' devuelve el error relativo'''\n",
    "    return np.max(np.abs(x - y) / (np.maximum(1e-8, np.abs(x) + np.abs(y))))\n",
    "\n",
    "def calcular_gradiente_numerico_array(f, x, df, h=1e-5):\n",
    "    '''\n",
    "    Evalúa el gradiente numérico para una función que acepta un arreglo numpy y\n",
    "    devuelve un arreglo numpy.\n",
    "    '''\n",
    "    grad = np.zeros_like(x)\n",
    "    it = np.nditer(x, flags=['multi_index'], op_flags=['readwrite'])\n",
    "    while not it.finished:\n",
    "        ix = it.multi_index\n",
    "\n",
    "        oldval = x[ix]\n",
    "        x[ix] = oldval + h\n",
    "        pos = f(x).copy()\n",
    "        x[ix] = oldval - h\n",
    "        neg = f(x).copy()\n",
    "        x[ix] = oldval\n",
    "\n",
    "        grad[ix] = np.sum((pos - neg) * df) / (2 * h)\n",
    "        it.iternext()\n",
    "    return grad\n",
    "\n",
    "\n",
    "def calcular_gradiente_numerico(f, x, verbose=True, h=0.00001):\n",
    "    '''\n",
    "    Evalúa el gradiente numérico de f en x\n",
    "    - f es una función que recibe un solo argumente\n",
    "    - x es el punto (numpy array) en que se evalúa el gradiente\n",
    "    '''\n",
    "    \n",
    "    # se inicializa el gradiente \n",
    "    grad = np.zeros_like(x)\n",
    "    # se define un iterador sobre todos los elementos de x\n",
    "    it = np.nditer(x, flags=['multi_index'], op_flags=['readwrite'])\n",
    "    while not it.finished:\n",
    "\n",
    "        # se evalúa la función en x+h\n",
    "        ix = it.multi_index\n",
    "        oldval = x[ix]\n",
    "        x[ix] = oldval + h # se suma h al valor original de x\n",
    "        fxph = f(x) # se evalúa f(x + h)\n",
    "        x[ix] = oldval - h\n",
    "        fxmh = f(x) # se evalúa f(x - h)\n",
    "        x[ix] = oldval # se restaura el valor original de x\n",
    "\n",
    "        # se calcula la derivada parcial con la fórmula centrada\n",
    "        grad[ix] = (fxph - fxmh) / (2 * h) \n",
    "        if verbose:\n",
    "            print(ix, grad[ix])\n",
    "        it.iternext() # step to next dimension\n",
    "\n",
    "    return grad"
   ]
  },
  {
   "cell_type": "markdown",
   "metadata": {},
   "source": [
    "## Descripción del ejercicio"
   ]
  },
  {
   "cell_type": "markdown",
   "metadata": {},
   "source": [
    "Se implementarán algunos de los elementos constitutivos de una red neuronal que más se utilizan en la práctica.  Con ellos se construirán un par de redes neuronales de dos capas. En este ejercicio se limitará la profundidad de la red a 2 para evitar entrar en los detalles de implementación propios de una red muy general. No obstante, los bloques a implementar se diseñaron de forma que conceptualmente sean similares a los que se utilizarían en una red neuronal más profunda. A continuación se muestra un diagrama de bloques de la red neuronal que se implementará y se describen los distintos bloques."
   ]
  },
  {
   "cell_type": "markdown",
   "metadata": {},
   "source": [
    "<img src=\"img/diagrama_de_bloques.png\" alt=\"drawing\" width=\"500\"/>"
   ]
  },
  {
   "cell_type": "markdown",
   "metadata": {},
   "source": [
    "- **Inicializar parámetros:** Inicializa los parámentros de la red. A los pesos de la capa $l$ de la red le llamaremos $W_l$, $b_l$ con $l=1,2$. \n",
    "- **Propagación hacia adelante:** La *propagación hacia adelante*  o *forward propagation* consiste en estimar la salida de la red a partir de la entrada. Cada nodo o capa de la red tiene un método *forward* asociado. En este ejercicio se implementarán los métodos forward asociados a los siguientes bloques:\n",
    "        - Afin\n",
    "        - Activación \n",
    "        - Afin --> Activación\n",
    "        \n",
    "- **Loss:** Calcula el valor de la función de costo a optimizar. Se implementarán dos funciones de costo:\n",
    "        - Entropía cruzada\n",
    "        - Error cuadrático medio\n",
    "- **Propagación hacia atrás:** Durante la *propagación hacia atrás* o *backpropagation* se calculan los gradientes necesarios para actualizar los parámetros de la red. Se implementarán métodos *backward* para los siguientes bloques:\n",
    "        - Afin\n",
    "        - Activación \n",
    "        - Afin --> Activación\n",
    "- **Update:** Es el boque encargado de actualizar los parámetros. Para ello utiliza los gradientes calculados durante la *propagación hacia atrás* y un método de optimización. En este práctico se utilizará *descenso por gradiente* como método de optimización."
   ]
  },
  {
   "cell_type": "markdown",
   "metadata": {},
   "source": [
    "## 1- Bloque de Inicialización"
   ]
  },
  {
   "cell_type": "markdown",
   "metadata": {},
   "source": [
    "Se implementará el bloque de inicialización para el caso de una red neuronal de dos capas con la siguiente estructura:    \n",
    "  Afín --> Activación 1 --> Afín --> Activacion 2        \n",
    "\n",
    "**Ejercicio:** Completar la implementación de `inicializar_pesos()`. Los pesos $W_l$ serán inicializados en valores aleatorios pequeños. Los pesos correspondientes a términos de *bias* se inicializarán a cero."
   ]
  },
  {
   "cell_type": "code",
   "execution_count": 17,
   "metadata": {},
   "outputs": [],
   "source": [
    "def inicializar_pesos(d_0, d_1, d_2, tipo='aleatoria', std_ruido=0.01, semilla=1):\n",
    "    \"\"\"\n",
    "    Entrada:\n",
    "        d_0: dimensión del vector de características\n",
    "        d_1: número de nodos de la capa oculta\n",
    "        d_2: número de nodos de la capa de salida\n",
    "        tipo: string que indica el tipo de inicialización a utilizar en los pesos\n",
    "            'aleatoria': inicializa los pesos a valores aleatorios con distribución\n",
    "                         gaussiana. Los términos de bias se inicializan a cero.\n",
    "        std_rudio: desviación estandar del ruido gaussiano\n",
    "        semilla: semilla a utilizar para generar los valores aleatorios\n",
    "    \n",
    "    Salida:\n",
    "        diccionario con los siguientes pares clave-valor:\n",
    "            W1: matriz de pesos de la capa 1 de tamaño (d_0, d_1)\n",
    "            b1: vector de bias de la capa 1 de tamaño (d_1)\n",
    "            W2: matriz de pesos de capa 2 de tamaño (d_1, d_2)\n",
    "            b2: vector de bias de la capa 2 de tamaño (d_2)\n",
    "    \"\"\"\n",
    "    \n",
    "    np.random.seed(semilla)\n",
    "        \n",
    "    if tipo == 'aleatoria':\n",
    "        \n",
    "        ####################################################################################\n",
    "        ###########  EMPIEZA ESPACIO PARA COMPLETAR CODIGO  ################################\n",
    "        ####################################################################################\n",
    "        W1 = np.random.rand(d_0, d_1)*1e-1\n",
    "        b1 = np.zeros(d_1)\n",
    "        W2 = np.random.rand(d_1, d_2)*1e-1\n",
    "        b2 = np.zeros(d_2)\n",
    "    \n",
    "        ####################################################################################\n",
    "        ###########  TERMINA ESPACIO PARA COMPLETAR CODIGO  ################################\n",
    "        ####################################################################################\n",
    "    \n",
    "    assert(W1.shape == (d_0, d_1 ))\n",
    "    assert(b1.shape == (d_1,))\n",
    "    assert(W2.shape == (d_1, d_2))\n",
    "    assert(b2.shape == (d_2,))\n",
    "    \n",
    "    # Se genera el diccionario con los valores inicializados\n",
    "    parametros = {'W1': W1,\n",
    "                  'b1': b1,\n",
    "                  'W2': W2,\n",
    "                  'b2': b2}\n",
    "    \n",
    "    return parametros    "
   ]
  },
  {
   "cell_type": "code",
   "execution_count": 16,
   "metadata": {},
   "outputs": [
    {
     "name": "stdout",
     "output_type": "stream",
     "text": [
      "Testeando la incialización aleatoria:\n",
      "Diferencia en W1:  1.0\n",
      "Diferencia en b1:  0.0\n",
      "Diferencia en W2:  1.0\n",
      "Diferencia en b2:  0.0\n"
     ]
    }
   ],
   "source": [
    "# Se testea la inicialización con pesos aleatorios\n",
    "parametros = inicializar_pesos(3,6,1)\n",
    "\n",
    "W1_correcto = np.array([[ 0.01624345, -0.00611756, -0.00528172, -0.01072969,  0.00865408, -0.02301539],\n",
    "                         [ 0.01744812, -0.00761207,  0.00319039, -0.0024937,   0.01462108, -0.02060141],\n",
    "                         [-0.00322417, -0.00384054,  0.01133769, -0.01099891, -0.00172428, -0.00877858]])\n",
    "b1_correcto = np.array([0., 0., 0., 0., 0., 0.])\n",
    "W2_correcto = np.array([[ 0.00042214] , [ 0.00582815], [-0.01100619], [ 0.01144724], [ 0.00901591], [ 0.00502494]])\n",
    "b2_correcto = np.array([0.])\n",
    "\n",
    "# Se compara la salida con la nuestra. El error debería ser e-6 o menos.\n",
    "print('Testeando la incialización aleatoria:')\n",
    "print('Diferencia en W1: ', error_relativo(parametros['W1'], W1_correcto))\n",
    "print('Diferencia en b1: ', error_relativo(parametros['b1'], b1_correcto))\n",
    "print('Diferencia en W2: ', error_relativo(parametros['W2'], W2_correcto))\n",
    "print('Diferencia en b2: ', error_relativo(parametros['b2'], b2_correcto))"
   ]
  },
  {
   "cell_type": "markdown",
   "metadata": {},
   "source": [
    "**Observación:** *La inicialización de pesos en este caso fue aleatoria. Con redes de pocas capas esta inicialización suele producir buenos resultados. Sin embargo, a medida que aumenta la profundidad de la red la correcta inicialización de los parámetros adquiere una relevancia mayor. Quien quiera profundizar en la importancia de la inicialización en el caso de redes profundas puede consultar:* \n",
    "\n",
    "* [Glorot, Xavier, and Yoshua Bengio. “Understanding the difficulty of\n",
    "    training deep feedforward neural networks.” International Conference on Artificial Intelligence and Statistics. 2010.](http://proceedings.mlr.press/v9/glorot10a/glorot10a.pdf)\n",
    "* [He, Kaiming, et al. “Delving deep into rectifiers: Surpassing human-level\n",
    "    performance on imagenet classification.” arXiv preprint arXiv:1502.01852 (2015).](https://arxiv.org/pdf/1502.01852v1.pdf)"
   ]
  },
  {
   "cell_type": "markdown",
   "metadata": {},
   "source": [
    "## 2- Bloques Forward\n",
    "\n",
    "En esta sección se implementarán los métodos *forward* de los componentes de la red neuronal de dos capas que vamos a utilizar. Observar que la capa oculta tiene un número $d^{(1)}$ de nodos mientras que la de salida tiene 1 un solo nodo. Además observar que en cada nodo se realiza una *transformación afin* de los datos de entrada y luego de pasa el resultado por una *función de activación*.\n",
    "\n",
    "<img src=\"img/red_dos_capas.png\" alt=\"drawing\" width=\"600\"/>"
   ]
  },
  {
   "cell_type": "markdown",
   "metadata": {},
   "source": [
    "En particular, se implementarán los métodos *forward* de los siguientes bloques: \n",
    "\n",
    "- Bloque Afín  \n",
    "- Bloque Activación donde la activación puede ser ReLU, Sigmoide o TangenteH.\n",
    "- Bloque Afín -> Activación  "
   ]
  },
  {
   "cell_type": "markdown",
   "metadata": {},
   "source": [
    "### 2.1 - Forward Afín\n",
    "\n",
    "La señal de entrada a la activación de la capa $\\textit{l}$ puede escribirse como:\n",
    "\n",
    "$$\n",
    "\\mathbf{s}^{(l)}=\\left( W^{(l)} \\right)^T \\mathbf{x}^{(l-1)}+ \\mathbf{b}^{(l)}   \\tag{1}\n",
    "$$\n",
    "\n",
    "donde $\\mathbf{s}^{(l)}$ y $\\mathbf{b}^{(l)}$ son vectores de tamaño $d^{(l)}$, $\\mathbf{x}^{(l-1)}$  es un vector de tamaño $d^{(l-1)}$ y $W^{(l)}$ es una matriz de tamaño $d^{(l-1)} \\times d^{(l)}$.\n",
    "\n",
    "**Observación:** *Esta forma de escribir $\\mathbf{s}^{(l)}$ es levemente distinta a la expresión del libro, en la que todos los parámetros de la capa se agrupan en una matriz $W^{(l)}$ de tamaño $d^{(l-1)+1} \\times d^{(l)}$. En esta expresión se desacoplan los parámetros de bias y se indican mediante el vector $\\mathbf{b}^{(l)}$. Una ventaja práctica que tiene desacoplar los parámetros de bias es que $\\mathbf{x}^{(l)}=\\theta \\left(\\mathbf{s}^{(l)}\\right) $ en vez de la expresión en coordenadas homogéneas $\\mathbf{x}^{(l)}= \\left[ 1 , \\left( \\theta \\left(\\mathbf{s}^{(l)}\\right) \\right)^T \\right]^T $ que utiliza el libro del curso.*\n",
    "\n",
    "La ecuación (1) es válida cuando la entrada a la capa es un único vector $\\mathbf{x}^{(l-1)}$. En la práctica es más habitual procesar un $\\textit{batch}$ de vectores de entrada a la vez, por lo tanto es deseable contar con una expresión que genere la salida para todos los vectores de entrada a la vez. Al evitar la utilización de un bloque $\\textit{for}$ que itere por cada una de las muestras del $\\textit{batch}$ se mejora la eficiencia de la implementación.   \n",
    "\n",
    "\n",
    "La versión de la ecuación (1) que actúa sobre un conjunto de muestras a la vez es la siguiente:\n",
    "\n",
    "$$\n",
    "S^{(l)} = X^{(l-1)}W^{(l)} +b^{(l)}\\tag{2}\n",
    "$$\n",
    "\n",
    "donde $X^{[0]} = X$, siendo X una matriz que contiene un vector de características en cada fila.\n",
    "\n",
    "**Ejercicio**: Implementar el método `afin_forward()` utilizando la versión eficiente dada por la ecuación (2)."
   ]
  },
  {
   "cell_type": "code",
   "execution_count": 18,
   "metadata": {},
   "outputs": [],
   "source": [
    "def afin_forward(X, W, b):\n",
    "    \"\"\"\n",
    "    Implementa la propagación hacia adelante en una capa afin.\n",
    "\n",
    "    Entrada:\n",
    "        X: matriz de tamaño (N, dim capa anterior) que en cada fila contiene un vector de\n",
    "           activaciones de la capa anterior (o datos de entrada)\n",
    "        W: matriz de pesos de tamaño (dim de capa anterior, dim de capa actual) \n",
    "        b: vector de bias de tamaño (dim de la capa actual,)\n",
    "\n",
    "    Salida:\n",
    "        S: matriz de tamaño (N, dim de capa actual) que contiene\n",
    "           los scores o señal de entrada a la activación  \n",
    "        cache: (X, W, b) tupla que contiene X, W y b. \n",
    "               Son almacenados para calcular el paso backward eficientemente\n",
    "    \"\"\"\n",
    "    \n",
    "    ####################################################################################\n",
    "    ###########  EMPIEZA ESPACIO PARA COMPLETAR CODIGO  ################################\n",
    "    ####################################################################################\n",
    "\n",
    "    S = X@W + b\n",
    "\n",
    "    ####################################################################################\n",
    "    ###########  EMPIEZA ESPACIO PARA COMPLETAR CODIGO  ################################\n",
    "    ####################################################################################\n",
    "    \n",
    "    assert(S.shape == (X.shape[0], W.shape[1] ))\n",
    "    cache = (X, W, b)\n",
    "    \n",
    "    return S, cache"
   ]
  },
  {
   "cell_type": "code",
   "execution_count": 19,
   "metadata": {},
   "outputs": [
    {
     "name": "stdout",
     "output_type": "stream",
     "text": [
      "Testeando afin_forward:\n",
      "diferencia:  9.769849468192957e-10\n"
     ]
    }
   ],
   "source": [
    "# Se testea afin_forward (solo la salida)\n",
    "\n",
    "num_muestras = 2\n",
    "dim_entrada = 120\n",
    "dim_salida = 3\n",
    "\n",
    "x = np.linspace(-0.1, 0.5, num=num_muestras * dim_entrada).reshape(num_muestras, dim_entrada)\n",
    "w = np.linspace(-0.2, 0.3, num=dim_entrada *dim_salida ).reshape(dim_entrada, dim_salida)\n",
    "b = np.linspace(-0.3, 0.1, num=dim_salida)\n",
    "\n",
    "S, _ = afin_forward(x, w, b)\n",
    "S_correcto = np.array([[ 1.49834967,  1.70660132,  1.91485297],\n",
    "                        [ 3.25553199,  3.5141327,   3.77273342]])\n",
    "\n",
    "# Se compara la salida con la nuestra. El error debería dar e-9 o menos.\n",
    "print('Testeando afin_forward:')\n",
    "print('diferencia: ', error_relativo(S, S_correcto))"
   ]
  },
  {
   "cell_type": "markdown",
   "metadata": {},
   "source": [
    "### 2.2 - Funciones de activación"
   ]
  },
  {
   "cell_type": "markdown",
   "metadata": {},
   "source": [
    "En este notebook se implementarán tres de las funciones de activación más utilizadas:\n",
    "\n",
    "- **Sigmoide**: $\\sigma(S) = \\sigma(X W  + b) = \\frac{1}{ 1 + e^{-(X W  + b)}}$. Esta función devuelve, además de la activación resultante, la variable cache que contiene la señal `S` que dio lugar a la activación (se utiilza luego durante la propagación hacia atrás).\n",
    "\n",
    "``` python\n",
    "X, cache = sigmoid(S)\n",
    "```\n",
    "\n",
    "- **Tangente Hiperbólica**: $\\tanh(S) = \\frac{e^S-e^{-S}}{e^S+e^{-S}}$. Esta función devuelve, además del resultado de *np.tanh(S)*, la variable cache que contiene la señal `S` que dio lugar a la activación (se utiilza luego durante la propagación hacia atrás).       \n",
    "\n",
    "``` python\n",
    "X, cache = tanh(S)\n",
    "```\n",
    "\n",
    "\n",
    "- **Rectified Linear Unit**:  $ReLU(S) = max(0, S)$.  Al igual que en el caso de la activación sigmoide, esta función devuelve además de la activación resultante, la variable cache que contiene la señal `S` que dio lugar a la activación (se utiilza luego durante la propagación hacia atrás).\n",
    "\n",
    "``` python\n",
    "X, cache = relu(Z)\n",
    "```"
   ]
  },
  {
   "cell_type": "code",
   "execution_count": 22,
   "metadata": {},
   "outputs": [],
   "source": [
    "def sigmoide(S):\n",
    "    \"\"\"\n",
    "    Implementa la activación sigmoide\n",
    "    \n",
    "    Entrada:\n",
    "        S: arreglo numpy que contiene las entradas a la activación. \n",
    "           Las dimensiones de entrada no están definidas.\n",
    "    \n",
    "    Salida:\n",
    "        X: arreglo del mismo tamaño que S que contiene la salida de sigmoid(S) \n",
    "        cache: devuelve S para utilizar durante la propagación hacia atrás\n",
    "    \"\"\"\n",
    "    \n",
    "    ####################################################################################\n",
    "    ###########  EMPIEZA ESPACIO PARA COMPLETAR CODIGO  ################################\n",
    "    ####################################################################################\n",
    "\n",
    "    X = 1/(1 + np.exp(-S.copy()))\n",
    "    cache = S.copy()\n",
    "    \n",
    "    ####################################################################################\n",
    "    ###########  TERMINA ESPACIO PARA COMPLETAR CODIGO  ################################\n",
    "    ####################################################################################\n",
    "    assert X.shape == S.shape, 'La entrada y la salida deben ser del mismo tamaño'\n",
    "    return X, cache"
   ]
  },
  {
   "cell_type": "code",
   "execution_count": 23,
   "metadata": {},
   "outputs": [
    {
     "name": "stdout",
     "output_type": "stream",
     "text": [
      "Testeando la función sigmoide()\n",
      "Diferencia:  5.157221295671855e-09\n"
     ]
    }
   ],
   "source": [
    "# Se testea sigmoide() \n",
    "\n",
    "S = np.linspace(-0.5, 0.5, num=12).reshape(3, 4)\n",
    "\n",
    "X, _ = sigmoide(S)\n",
    "X_correcto = np.array([[0.37754067, 0.39913012, 0.42111892, 0.44342513],\n",
    "                         [0.46596182, 0.48863832, 0.51136168, 0.53403818],\n",
    "                         [0.55657487, 0.57888108, 0.60086988, 0.62245933]])\n",
    "\n",
    "# Se compara la salida con la nuestra. El error debería ser del orden de e-8\n",
    "print('Testeando la función sigmoide()')\n",
    "print('Diferencia: ', error_relativo(X, X_correcto))\n"
   ]
  },
  {
   "cell_type": "code",
   "execution_count": 24,
   "metadata": {},
   "outputs": [],
   "source": [
    "def tanh(S):\n",
    "    \"\"\"\n",
    "    Implementa la activación tangente hiperbólica\n",
    "    \n",
    "    Entrada:\n",
    "        S: arreglo numpy que contiene las entradas a la activación. \n",
    "           Las dimensiones de entrada no están definidas.\n",
    "    \n",
    "    Salida:\n",
    "        X: arreglo del mismo tamaño que S que contiene la salida de tanh(S) \n",
    "        cache: devuelve S para utilizar durante la propagación hacia atrás\n",
    "    \"\"\"\n",
    "    \n",
    "    ####################################################################################\n",
    "    ###########  EMPIEZA ESPACIO PARA COMPLETAR CODIGO  ################################\n",
    "    ####################################################################################\n",
    "\n",
    "    X = (np.exp(S.copy()) - np.exp(-S.copy()))/(np.exp(S.copy()) + np.exp(-S.copy()))\n",
    "    cache = S.copy()\n",
    "    \n",
    "    ####################################################################################\n",
    "    ###########  TERMINA ESPACIO PARA COMPLETAR CODIGO  ################################\n",
    "    ####################################################################################\n",
    "    assert X.shape == S.shape, 'La entrada y la salida deben ser del mismo tamaño'\n",
    "    return X, cache"
   ]
  },
  {
   "cell_type": "code",
   "execution_count": 25,
   "metadata": {},
   "outputs": [
    {
     "name": "stdout",
     "output_type": "stream",
     "text": [
      "Testeando la función tanh()\n",
      "Diferencia:  3.829228808681821e-08\n"
     ]
    }
   ],
   "source": [
    "# Se testea tanh() \n",
    "\n",
    "S = np.linspace(-0.5, 0.5, num=12).reshape(3, 4)\n",
    "\n",
    "X, _ = tanh(S)\n",
    "X_correcto = np.array([[-0.46211716, -0.38770051, -0.30786199, -0.22343882],\n",
    "                         [-0.13552465, -0.04542327,  0.04542327,  0.13552465],\n",
    "                         [ 0.22343882,  0.30786199,  0.38770051, 0.46211716]])\n",
    "\n",
    "# Se compara la salida con la nuestra. El error debería ser del orden de e-8\n",
    "print('Testeando la función tanh()')\n",
    "print('Diferencia: ', error_relativo(X, X_correcto))\n"
   ]
  },
  {
   "cell_type": "code",
   "execution_count": 36,
   "metadata": {},
   "outputs": [],
   "source": [
    "def relu(S):\n",
    "    '''\n",
    "    Implementa la activación relu\n",
    "    \n",
    "    Entrada:\n",
    "        S: arreglo numpy que contiene las entradas a la activación. \n",
    "           Las dimensiones de entrada no están definidas.\n",
    "    \n",
    "    Salida:\n",
    "        X: arreglo del mismo tamaño que S que contiene la salida de relu(S) \n",
    "        cache: devuelve S para utilizar durante la propagación hacia atrás\n",
    "    '''\n",
    "    \n",
    "    ####################################################################################\n",
    "    ###########  EMPIEZA ESPACIO PARA COMPLETAR CODIGO  ################################\n",
    "    ####################################################################################\n",
    "\n",
    "    X = S.copy()*0\n",
    "    \n",
    "    for i in range(S.shape[0]): \n",
    "        for j in range(S.shape[1]):\n",
    "            if S[i,j] > 0:\n",
    "                X[i,j] = S[i,j].copy()\n",
    "        \n",
    "    cache = S.copy()\n",
    "    \n",
    "    ####################################################################################\n",
    "    ###########  TERMINA ESPACIO PARA COMPLETAR CODIGO  ################################\n",
    "    ####################################################################################\n",
    "    assert(X.shape == S.shape)\n",
    "        \n",
    "    return X, cache"
   ]
  },
  {
   "cell_type": "code",
   "execution_count": 38,
   "metadata": {},
   "outputs": [
    {
     "name": "stdout",
     "output_type": "stream",
     "text": [
      "Testeando la función relu()\n",
      "Diferencia:  4.999999798022158e-08\n"
     ]
    }
   ],
   "source": [
    "# Testeando la función relu()\n",
    "\n",
    "x = np.linspace(-0.5, 0.5, num=12).reshape(3, 4)\n",
    "\n",
    "X, _ = relu(x)\n",
    "X_correcto = np.array([[ 0.,          0.,          0.,          0.,        ],\n",
    "                        [ 0.,          0.,          0.04545455,  0.13636364,],\n",
    "                        [ 0.22727273,  0.31818182,  0.40909091,  0.5,       ]])\n",
    "\n",
    "# Se compara la salida con la nuestra. El error debería ser del orden de e-8\n",
    "print('Testeando la función relu()')\n",
    "print('Diferencia: ', error_relativo(X, X_correcto))"
   ]
  },
  {
   "cell_type": "markdown",
   "metadata": {},
   "source": [
    "### 2.3 - Aplicación conjunta de capa afin y activación"
   ]
  },
  {
   "cell_type": "markdown",
   "metadata": {},
   "source": [
    "Cuando se implementan redes profundas es conveniente agrupar varias funciones en una sola operación. Para ejemplificar, en este caso crearemos una capa que aplique la transformación lineal y una de las activaciones disponibles. \n",
    "\n",
    "**Ejercicio**: Implementar la propagación hacia adelante de una capa *Afin->Activacion*. El método `afin_activacion_forward()` implementa la operación:\n",
    "\n",
    "$$\n",
    "X^{[l]} = \\theta(S^{(l)}) = \\theta(X^{(l-1)}W^{(l)} +b^{(l)})\n",
    "$$\n",
    "\n",
    "donde la activación $\\theta(\\cdot)$ será alguna de las implementadas. Se deberá hacer uso de `afin_forward()` y de la función de activación pasada como argumento. "
   ]
  },
  {
   "cell_type": "code",
   "execution_count": 39,
   "metadata": {},
   "outputs": [],
   "source": [
    "def afin_activacion_forward(X_prev, W, b, activacion):\n",
    "    \"\"\"\n",
    "    Implementa la propagación hacia adelante para una capa Afin->Activación \n",
    "    Entrada:\n",
    "        X_prev: arreglo de tamaño (N, dim capa anterior) que contiene la \n",
    "                activación de la capa anterior (o datos de entrada):          \n",
    "        W: matriz de pesos de tamaño (dim de capa anterior, dim de capa actual)  \n",
    "        b: vector de bias de tamaño (dim de la capa actual)\n",
    "        activacion: la activacion a utilizar en esta capa se indica con uno de los \n",
    "                    siguientes strings: 'sigmoide', 'tanh' o 'relu'\n",
    "\n",
    "    Salida:\n",
    "        X: arreglo de tamaño (N, dim de capa actual) que contiene la salida \n",
    "           de la función de activación  \n",
    "        cache: tupla que contiene \"cache_afin\" y \"cache_activacion\".\n",
    "               Se almacenan para calcular la propagación hacia atrás eficientemente\n",
    "    \"\"\"\n",
    "    \n",
    "    \n",
    "    ####################################################################################\n",
    "    ###########  EMPIEZA ESPACIO PARA COMPLETAR CODIGO  ################################\n",
    "    ####################################################################################\n",
    "\n",
    "    S, cache_afin = afin_forward(X_prev, W, b)\n",
    "        \n",
    "    if activacion == 'sigmoide':\n",
    "        X, cache_activacion = sigmoide(S)\n",
    "    elif activacion == 'tanh':\n",
    "        X, cache_activacion = tanh(S)\n",
    "    elif activacion == 'relu':\n",
    "        X, cache_activacion = relu(S)\n",
    "    \n",
    "    \n",
    "    ####################################################################################\n",
    "    ###########  TERMINA ESPACIO PARA COMPLETAR CODIGO  ################################\n",
    "    ####################################################################################\n",
    "    \n",
    "    assert (X.shape == (X_prev.shape[0], W.shape[1]))\n",
    "    cache = (cache_afin, cache_activacion)\n",
    "\n",
    "    return X, cache"
   ]
  },
  {
   "cell_type": "code",
   "execution_count": 40,
   "metadata": {},
   "outputs": [
    {
     "name": "stdout",
     "output_type": "stream",
     "text": [
      "Testeando afin_activacion_forward con activación sigmoide:\n",
      "diferencia:  2.8286980165180753e-09\n",
      "Testeando afin_activacion_forward con activación tanh:\n",
      "diferencia:  5.346405168705657e-09\n",
      "Testeando afin_activacion_forward con activación relu:\n",
      "diferencia:  2.870847555008169e-09\n"
     ]
    }
   ],
   "source": [
    "# Se testea afin_activacion_forward (solo la salida)\n",
    "\n",
    "num_muestras = 3\n",
    "dim_entrada = 80\n",
    "dim_salida = 2\n",
    "\n",
    "x_prev = np.linspace(-0.1, 0.5, num=num_muestras * dim_entrada).reshape(num_muestras, dim_entrada)\n",
    "w = np.linspace(-0.2, 0.3, num=dim_entrada *dim_salida ).reshape(dim_entrada, dim_salida)\n",
    "b = np.linspace(-0.3, 0.1, num=dim_salida)\n",
    "\n",
    "\n",
    "print('Testeando afin_activacion_forward con activación sigmoide:')\n",
    "X, _ = afin_activacion_forward(x_prev, w, b, 'sigmoide')\n",
    "X_correcto = np.array([[0.59153611, 0.6835444 ],\n",
    "                       [0.75921928, 0.8318392 ],\n",
    "                       [0.87286027, 0.91888762]])\n",
    "# Se compara la salida con la nuestra. El error debería dar  del orden de e-9.\n",
    "print('diferencia: ', error_relativo(X, X_correcto))\n",
    "\n",
    "\n",
    "print('Testeando afin_activacion_forward con activación tanh:')\n",
    "X, _ = afin_activacion_forward(x_prev, w, b, 'tanh')\n",
    "X_correcto = np.array([[0.35427088, 0.64699264],\n",
    "                       [0.81722466, 0.92147542],\n",
    "                       [0.95844863, 0.98453647],])\n",
    "# Se compara la salida con la nuestra. El error debería dar  del orden de e-9.\n",
    "print('diferencia: ', error_relativo(X, X_correcto))\n",
    "\n",
    "\n",
    "print('Testeando afin_activacion_forward con activación relu:')\n",
    "X, _ = afin_activacion_forward(x_prev, w, b, 'relu')\n",
    "X_correcto = np.array([[[0.3703192,  0.77010868],\n",
    "                        [1.14840399, 1.59871845],\n",
    "                        [1.92648878, 2.42732823]],])\n",
    "\n",
    "# Se compara la salida con la nuestra. El error debería dar  del orden de e-9.\n",
    "print('diferencia: ', error_relativo(X, X_correcto))"
   ]
  },
  {
   "cell_type": "markdown",
   "metadata": {},
   "source": [
    "## 3 - Función de costo\n",
    "\n",
    "En esta sección se implementarán dos de las funciones de costo más utilizadas.  \n",
    "\n",
    "- **Entropía cruzada:** Es la función de costo más utilizada en problemas de clasificación binaria. Se recuerda que la misma se define mediante la fórmula:\n",
    "$$\n",
    "H(\\mathbf{\\mathbf{x}^{(L)}}, \\mathbf{y})= -\\frac{1}{N} \\sum\\limits_{n = 1}^{N} \\left( y_n\\log x^{(L)}_n + (1-y_n)\\log\\left(1- x^{(L)}_n\\right) \\right) \\tag{3}\n",
    "$$\n",
    "\n",
    "- **Error cuadrático medio:** Es la función de costo más utilizada en problemas de regresión. Se recuerda que la misma se define mediante la fórmula:\n",
    "$$\n",
    "MSE(\\mathbf{x}^{(L)}, \\mathbf{y})= \\frac{1}{2N} \\sum\\limits_{n = 1}^{N} \\left(y_n - x^{(L)}_n \\right)^2 \\tag{4}\n",
    "$$\n",
    "**Ejercicio**: Implementar los método `mse()` y `entropia_cruzada()`. Observar que en ambos casos la función deberá devolver, además del costo, el gradiente del costo respecto al vector $\\mathbf{x}^{(L)}$ (salida de la red y entrada del bloque *Loss*)."
   ]
  },
  {
   "cell_type": "code",
   "execution_count": 50,
   "metadata": {},
   "outputs": [],
   "source": [
    "def mse(xL, y):\n",
    "    \"\"\"\n",
    "    Implementa el error cuadratico medio como función de costo de una red neuronal con una sola capa\n",
    "    de salida.\n",
    "\n",
    "    Entrada:\n",
    "        xL: vector de dimensión (N,1) que contiene las salidas generadas por la red neuronal para N muestras.\n",
    "        y:  vector de dimensión (N,1) que contiene las salidas esperadas\n",
    "\n",
    "    Salida:\n",
    "        costo: escalar con el costo calculado\n",
    "        dxL: gradiente del costo respecto a xL, tiene las mismas dimensiones que xL\n",
    "    \"\"\"\n",
    "    \n",
    "    N = len(y)\n",
    "    ####################################################################################\n",
    "    ###########  EMPIEZA ESPACIO PARA COMPLETAR CODIGO  ################################\n",
    "    ####################################################################################\n",
    "    \n",
    "    costo = 0\n",
    "    \n",
    "    for n in range(1,N):\n",
    "        costo -= (y[n] - xL[n])**2\n",
    "    \n",
    "    costo = costo/N\n",
    "\n",
    "    dxL = 0\n",
    "    for n in range(1,N):\n",
    "        costo -= y[n]*np.log(xL[n]) + (1-y[n])*np.log(1-xL[n])\n",
    "    \n",
    "    ####################################################################################\n",
    "    ###########  TERMINA ESPACIO PARA COMPLETAR CODIGO  ################################\n",
    "    ####################################################################################\n",
    "\n",
    "    costo = np.squeeze(costo) # Para asegurarnos que la salida sea un escalar (Ej: transforma [[12]] en 12).\n",
    "    assert(costo.shape == ())\n",
    "    assert(dxL.shape == xL.shape), 'Las dimensiones de dxL y xL deben ser iguales'\n",
    "    return costo, dxL"
   ]
  },
  {
   "cell_type": "code",
   "execution_count": 51,
   "metadata": {},
   "outputs": [
    {
     "ename": "AttributeError",
     "evalue": "'int' object has no attribute 'shape'",
     "output_type": "error",
     "traceback": [
      "\u001b[1;31m---------------------------------------------------------------------------\u001b[0m",
      "\u001b[1;31mAttributeError\u001b[0m                            Traceback (most recent call last)",
      "\u001b[1;32m<ipython-input-51-fd06bc3e13e3>\u001b[0m in \u001b[0;36m<module>\u001b[1;34m\u001b[0m\n\u001b[0;32m      5\u001b[0m \u001b[0my\u001b[0m \u001b[1;33m=\u001b[0m \u001b[0mnp\u001b[0m\u001b[1;33m.\u001b[0m\u001b[0mrandom\u001b[0m\u001b[1;33m.\u001b[0m\u001b[0mrand\u001b[0m\u001b[1;33m(\u001b[0m\u001b[0mnum_inputs\u001b[0m\u001b[1;33m,\u001b[0m\u001b[1;36m1\u001b[0m\u001b[1;33m)\u001b[0m\u001b[1;33m\u001b[0m\u001b[1;33m\u001b[0m\u001b[0m\n\u001b[0;32m      6\u001b[0m \u001b[1;33m\u001b[0m\u001b[0m\n\u001b[1;32m----> 7\u001b[1;33m \u001b[0mdxL_num\u001b[0m \u001b[1;33m=\u001b[0m \u001b[0mcalcular_gradiente_numerico\u001b[0m\u001b[1;33m(\u001b[0m\u001b[1;32mlambda\u001b[0m \u001b[0mxL\u001b[0m\u001b[1;33m:\u001b[0m \u001b[0mmse\u001b[0m\u001b[1;33m(\u001b[0m\u001b[0mxL\u001b[0m\u001b[1;33m,\u001b[0m \u001b[0my\u001b[0m\u001b[1;33m)\u001b[0m\u001b[1;33m[\u001b[0m\u001b[1;36m0\u001b[0m\u001b[1;33m]\u001b[0m\u001b[1;33m,\u001b[0m \u001b[0mxL\u001b[0m\u001b[1;33m,\u001b[0m \u001b[0mverbose\u001b[0m\u001b[1;33m=\u001b[0m\u001b[1;32mFalse\u001b[0m\u001b[1;33m)\u001b[0m\u001b[1;33m\u001b[0m\u001b[1;33m\u001b[0m\u001b[0m\n\u001b[0m\u001b[0;32m      8\u001b[0m \u001b[0mcosto\u001b[0m\u001b[1;33m,\u001b[0m \u001b[0mdxL\u001b[0m \u001b[1;33m=\u001b[0m \u001b[0mmse\u001b[0m\u001b[1;33m(\u001b[0m\u001b[0mxL\u001b[0m\u001b[1;33m,\u001b[0m \u001b[0my\u001b[0m\u001b[1;33m)\u001b[0m\u001b[1;33m\u001b[0m\u001b[1;33m\u001b[0m\u001b[0m\n\u001b[0;32m      9\u001b[0m \u001b[1;33m\u001b[0m\u001b[0m\n",
      "\u001b[1;32m<ipython-input-2-83d4eec084ab>\u001b[0m in \u001b[0;36mcalcular_gradiente_numerico\u001b[1;34m(f, x, verbose, h)\u001b[0m\n\u001b[0;32m     43\u001b[0m         \u001b[0moldval\u001b[0m \u001b[1;33m=\u001b[0m \u001b[0mx\u001b[0m\u001b[1;33m[\u001b[0m\u001b[0mix\u001b[0m\u001b[1;33m]\u001b[0m\u001b[1;33m\u001b[0m\u001b[1;33m\u001b[0m\u001b[0m\n\u001b[0;32m     44\u001b[0m         \u001b[0mx\u001b[0m\u001b[1;33m[\u001b[0m\u001b[0mix\u001b[0m\u001b[1;33m]\u001b[0m \u001b[1;33m=\u001b[0m \u001b[0moldval\u001b[0m \u001b[1;33m+\u001b[0m \u001b[0mh\u001b[0m \u001b[1;31m# se suma h al valor original de x\u001b[0m\u001b[1;33m\u001b[0m\u001b[1;33m\u001b[0m\u001b[0m\n\u001b[1;32m---> 45\u001b[1;33m         \u001b[0mfxph\u001b[0m \u001b[1;33m=\u001b[0m \u001b[0mf\u001b[0m\u001b[1;33m(\u001b[0m\u001b[0mx\u001b[0m\u001b[1;33m)\u001b[0m \u001b[1;31m# se evalúa f(x + h)\u001b[0m\u001b[1;33m\u001b[0m\u001b[1;33m\u001b[0m\u001b[0m\n\u001b[0m\u001b[0;32m     46\u001b[0m         \u001b[0mx\u001b[0m\u001b[1;33m[\u001b[0m\u001b[0mix\u001b[0m\u001b[1;33m]\u001b[0m \u001b[1;33m=\u001b[0m \u001b[0moldval\u001b[0m \u001b[1;33m-\u001b[0m \u001b[0mh\u001b[0m\u001b[1;33m\u001b[0m\u001b[1;33m\u001b[0m\u001b[0m\n\u001b[0;32m     47\u001b[0m         \u001b[0mfxmh\u001b[0m \u001b[1;33m=\u001b[0m \u001b[0mf\u001b[0m\u001b[1;33m(\u001b[0m\u001b[0mx\u001b[0m\u001b[1;33m)\u001b[0m \u001b[1;31m# se evalúa f(x - h)\u001b[0m\u001b[1;33m\u001b[0m\u001b[1;33m\u001b[0m\u001b[0m\n",
      "\u001b[1;32m<ipython-input-51-fd06bc3e13e3>\u001b[0m in \u001b[0;36m<lambda>\u001b[1;34m(xL)\u001b[0m\n\u001b[0;32m      5\u001b[0m \u001b[0my\u001b[0m \u001b[1;33m=\u001b[0m \u001b[0mnp\u001b[0m\u001b[1;33m.\u001b[0m\u001b[0mrandom\u001b[0m\u001b[1;33m.\u001b[0m\u001b[0mrand\u001b[0m\u001b[1;33m(\u001b[0m\u001b[0mnum_inputs\u001b[0m\u001b[1;33m,\u001b[0m\u001b[1;36m1\u001b[0m\u001b[1;33m)\u001b[0m\u001b[1;33m\u001b[0m\u001b[1;33m\u001b[0m\u001b[0m\n\u001b[0;32m      6\u001b[0m \u001b[1;33m\u001b[0m\u001b[0m\n\u001b[1;32m----> 7\u001b[1;33m \u001b[0mdxL_num\u001b[0m \u001b[1;33m=\u001b[0m \u001b[0mcalcular_gradiente_numerico\u001b[0m\u001b[1;33m(\u001b[0m\u001b[1;32mlambda\u001b[0m \u001b[0mxL\u001b[0m\u001b[1;33m:\u001b[0m \u001b[0mmse\u001b[0m\u001b[1;33m(\u001b[0m\u001b[0mxL\u001b[0m\u001b[1;33m,\u001b[0m \u001b[0my\u001b[0m\u001b[1;33m)\u001b[0m\u001b[1;33m[\u001b[0m\u001b[1;36m0\u001b[0m\u001b[1;33m]\u001b[0m\u001b[1;33m,\u001b[0m \u001b[0mxL\u001b[0m\u001b[1;33m,\u001b[0m \u001b[0mverbose\u001b[0m\u001b[1;33m=\u001b[0m\u001b[1;32mFalse\u001b[0m\u001b[1;33m)\u001b[0m\u001b[1;33m\u001b[0m\u001b[1;33m\u001b[0m\u001b[0m\n\u001b[0m\u001b[0;32m      8\u001b[0m \u001b[0mcosto\u001b[0m\u001b[1;33m,\u001b[0m \u001b[0mdxL\u001b[0m \u001b[1;33m=\u001b[0m \u001b[0mmse\u001b[0m\u001b[1;33m(\u001b[0m\u001b[0mxL\u001b[0m\u001b[1;33m,\u001b[0m \u001b[0my\u001b[0m\u001b[1;33m)\u001b[0m\u001b[1;33m\u001b[0m\u001b[1;33m\u001b[0m\u001b[0m\n\u001b[0;32m      9\u001b[0m \u001b[1;33m\u001b[0m\u001b[0m\n",
      "\u001b[1;32m<ipython-input-50-98f46e960b9d>\u001b[0m in \u001b[0;36mmse\u001b[1;34m(xL, y)\u001b[0m\n\u001b[0;32m     35\u001b[0m     \u001b[0mcosto\u001b[0m \u001b[1;33m=\u001b[0m \u001b[0mnp\u001b[0m\u001b[1;33m.\u001b[0m\u001b[0msqueeze\u001b[0m\u001b[1;33m(\u001b[0m\u001b[0mcosto\u001b[0m\u001b[1;33m)\u001b[0m \u001b[1;31m# Para asegurarnos que la salida sea un escalar (Ej: transforma [[12]] en 12).\u001b[0m\u001b[1;33m\u001b[0m\u001b[1;33m\u001b[0m\u001b[0m\n\u001b[0;32m     36\u001b[0m     \u001b[1;32massert\u001b[0m\u001b[1;33m(\u001b[0m\u001b[0mcosto\u001b[0m\u001b[1;33m.\u001b[0m\u001b[0mshape\u001b[0m \u001b[1;33m==\u001b[0m \u001b[1;33m(\u001b[0m\u001b[1;33m)\u001b[0m\u001b[1;33m)\u001b[0m\u001b[1;33m\u001b[0m\u001b[1;33m\u001b[0m\u001b[0m\n\u001b[1;32m---> 37\u001b[1;33m     \u001b[1;32massert\u001b[0m\u001b[1;33m(\u001b[0m\u001b[0mdxL\u001b[0m\u001b[1;33m.\u001b[0m\u001b[0mshape\u001b[0m \u001b[1;33m==\u001b[0m \u001b[0mxL\u001b[0m\u001b[1;33m.\u001b[0m\u001b[0mshape\u001b[0m\u001b[1;33m)\u001b[0m\u001b[1;33m,\u001b[0m \u001b[1;34m'Las dimensiones de dxL y xL deben ser iguales'\u001b[0m\u001b[1;33m\u001b[0m\u001b[1;33m\u001b[0m\u001b[0m\n\u001b[0m\u001b[0;32m     38\u001b[0m     \u001b[1;32mreturn\u001b[0m \u001b[0mcosto\u001b[0m\u001b[1;33m,\u001b[0m \u001b[0mdxL\u001b[0m\u001b[1;33m\u001b[0m\u001b[1;33m\u001b[0m\u001b[0m\n",
      "\u001b[1;31mAttributeError\u001b[0m: 'int' object has no attribute 'shape'"
     ]
    }
   ],
   "source": [
    "# Se testea la implementación de la función de costo error cuadrático medio\n",
    "np.random.seed(43)\n",
    "num_inputs = 9\n",
    "xL = np.random.rand(num_inputs,1)\n",
    "y = np.random.rand(num_inputs,1)\n",
    "\n",
    "dxL_num = calcular_gradiente_numerico(lambda xL: mse(xL, y)[0], xL, verbose=False)\n",
    "costo, dxL = mse(xL, y)\n",
    "\n",
    "# Testing de mse(). El costo debería dar cercano a 0.069 y el error en dxL en el entorno de e-10\n",
    "print('\\nTesting mse():')\n",
    "print('costo: ', costo)\n",
    "print('error en dxL: ', error_relativo(dxL_num, dxL))"
   ]
  },
  {
   "cell_type": "code",
   "execution_count": 52,
   "metadata": {},
   "outputs": [],
   "source": [
    "def entropia_cruzada(xL, y):\n",
    "    \"\"\"\n",
    "    Implementa la entropía cruzada\n",
    "\n",
    "    Entrada:\n",
    "        xL: vector de dimensión (N,1) que contiene las ¨probabilidades¨ de pertenecer a la clase positiva \n",
    "            estimadas por el modelo\n",
    "        y: vector de etiquetas de dimesión (N,1) (con unos para la clase positiva y 0 para la negativa)\n",
    "\n",
    "    Salida:\n",
    "        costo: escalar con el costo calculado\n",
    "        dxL: gradiente del costo respecto a xL, tiene las mismas dimensiones que xL\n",
    "    \"\"\"\n",
    "    \n",
    "    N = len(y)\n",
    "    ####################################################################################\n",
    "    ###########  EMPIEZA ESPACIO PARA COMPLETAR CODIGO  ################################\n",
    "    ####################################################################################\n",
    "\n",
    "    costo = 0\n",
    "    \n",
    "    for n in range(1,N):\n",
    "        costo -= y[n]*np.log(xL[n]) + (1-y[n])*np.log(1-xL[n])\n",
    "    costo = costo/N\n",
    "\n",
    "    dxL = xL.copy()*0\n",
    "    \n",
    "    for n in range(1,N):\n",
    "        dxL -= y[n]/xL[n] - (1-y[n])/(1-xL[n])        \n",
    "    dxL = dxL/N\n",
    "    \n",
    "    ####################################################################################\n",
    "    ###########  TERMINA ESPACIO PARA COMPLETAR CODIGO  ################################\n",
    "    ####################################################################################\n",
    "\n",
    "    costo = np.squeeze(costo) # Para asegurarnos que la salida sea un escalar (Ej: transforma [[12]] en 12).\n",
    "    assert(costo.shape == ())\n",
    "    assert(dxL.shape == xL.shape), 'Las dimensiones de dxL y xL deben ser iguales'\n",
    "    return costo, dxL"
   ]
  },
  {
   "cell_type": "code",
   "execution_count": 53,
   "metadata": {},
   "outputs": [
    {
     "name": "stdout",
     "output_type": "stream",
     "text": [
      "\n",
      "Testing entropia_cruzada:\n",
      "costo:  1.0321568484869208\n",
      "error en dP:  1.0\n"
     ]
    }
   ],
   "source": [
    "# Se testea la implementación de la entropía cruzada\n",
    "np.random.seed(231)\n",
    "num_classes, num_inputs = 2, 10\n",
    "xL = np.random.rand(num_inputs,1)\n",
    "y = np.random.randint(num_classes, size=(num_inputs,1))\n",
    "\n",
    "dxL_num = calcular_gradiente_numerico(lambda xL: entropia_cruzada(xL, y)[0], xL, verbose=False)\n",
    "costo, dxL = entropia_cruzada(xL, y)\n",
    "\n",
    "# Testing la entropía cruzada. El costo debería dar cercano a 1.05 y el error en dP alrededor de 1e-8\n",
    "print('\\nTesting entropia_cruzada:')\n",
    "print('costo: ', costo)\n",
    "print('error en dP: ', error_relativo(dxL_num, dxL))"
   ]
  },
  {
   "cell_type": "markdown",
   "metadata": {},
   "source": [
    "## 4 - Propagación hacia atrás\n",
    "\n",
    "Al igual que como se hizo con la propagación hacia adelante, se implementarán funciones de ayuda para realizar la propagación hacia atrás. Se recuerda que la propagación hacia atrás se utiliza para calcular el gradiente de la función de costo respecto a los parámetros de la red. \n",
    "\n",
    "<img src=\"img/diagrama_backpropagation.png\" style=\"width:8=1012px;height:223px;\">\n",
    "<caption><center> Propagación hacia adelante y atrás en una red de dos capas con arquitectura: Afin->Activación 1->Afin->Activación 2 <br> </center></caption>  "
   ]
  },
  {
   "cell_type": "markdown",
   "metadata": {},
   "source": [
    "A continuación se implementará la versión *backward* de cada una de las funciones *forward* implementadas anteriormente. Es decir, se implementarán las siguientes funciones de propagación hacia atrás:\n",
    "- AFIN backward\n",
    "- ACTIVACION backward \n",
    "- AFIN -> ACTIVACION backward donde ACTIVACION puede ser *ReLU*, *sigmoide* o *tanh*"
   ]
  },
  {
   "cell_type": "markdown",
   "metadata": {},
   "source": [
    "### 4.1 - Afin backward\n",
    "\n",
    "Durante la propagación hacia adelante en la capa $l$ (sin considerar la activación) se calcula para una muestra: \n",
    "\n",
    "$$\n",
    "\\mathbf{s}^{(l)}=\\left( W^{(l)} \\right)^T \\mathbf{x}^{(l-1)}+ \\mathbf{b}^{(l)}   \\tag{1}\n",
    "$$\n",
    "\n",
    "Si se llama $e_n$ al costo debido a la muesta $n$ y se asume conocido el *vector de sensibilidad* $\\delta^{(l)}=\\frac{\\partial e_n}{\\partial \\mathbf{s}^{(l)}}$, en el teórico del curso se vio que \n",
    "\n",
    "$$\n",
    "\\frac{\\partial{e_n}}{\\partial{W^{(l)}}}=\\mathbf{x}^{(l-1)} \\left( \\delta^{(l)} \\right)^T\n",
    "$$\n",
    "\n",
    "Análogamente a como se hizo en el caso de la propagación hacia adelante, si se considera la contribución al error de un conjunto de muestras a la vez la ecuación se puede escribir en forma vectorizada como:\n",
    "\n",
    "$$\n",
    "\\frac{\\partial{E}}{\\partial{W^{(l)}}}= dW^{(l)} = \\left( X^{(l-1)}\\right)^ T dS^{(l)}   \\tag{5}\n",
    "$$\n",
    "\n",
    "donde $dS^{(l)}$ es una matríz de tamaño $N\\times d^{(l)}$ que en cada fila contiene el vector de sensibilidad $\\delta^{(l)}_n$ correspondiente a una de las muestras.\n",
    "\n",
    "Las derivadas respecto al vector de bias $\\mathbf{b}^{(l)}$ se calculan de forma similar (puede pensarse como un caso particular en que $X^{(l-1)}$ es un vector columna de unos) por lo que\n",
    "\n",
    "$$\n",
    "\\frac{\\partial{E}}{\\partial{\\mathbf{b}^{(l)}}}= d\\mathbf{b}^{(l)} =\\mathbb{1} ^ T dS^{(l)}  \\tag{6}\n",
    "$$\n",
    "\n",
    "Finalmente se calcula la influencia de cada una de las características en el error. Considerando primero el caso de una muestra, se tiene que:\n",
    "\n",
    "$$\n",
    "\\frac{\\partial{e_n}}{\\partial{\\mathbf{x}^{(l-1)}}} = W^{(l)} \\delta^{(l)}\n",
    "$$\n",
    "\n",
    "que en forma vectorizada puede escribirse como:\n",
    "\n",
    "$$ \n",
    " \\frac{\\partial E }{\\partial X^{(l-1)}} = dX^{(l-1)} = dS^{(l)} \\left( W^{(l) }\\right)^T \\tag{7}\n",
    "$$"
   ]
  },
  {
   "cell_type": "markdown",
   "metadata": {},
   "source": [
    "\n",
    "**Ejercicio**: Utilizando las ecuaciones (5),(6) y (7) implementar el método `afin_backward()`."
   ]
  },
  {
   "cell_type": "code",
   "execution_count": 56,
   "metadata": {},
   "outputs": [],
   "source": [
    "def afin_backward(dS, cache):\n",
    "    \"\"\"\n",
    "    Implementa la propagación hacia atrás para una capa l (sin considerar la activación)\n",
    "\n",
    "    Entrada:\n",
    "        dS: Gradiente de la función de costo con respecto a la salida de la capa actual \n",
    "            (sin considerar la activación)\n",
    "        cache: tupla de valores (X_prev, W, b) calculados durante la propagación hacia adelante\n",
    "               de la capa actual\n",
    "\n",
    "    Salida:\n",
    "        dX_prev: Gradiente de la función de costo con respecto a la activación de la capa anterior (l-1), \n",
    "                 tiene el mismo tamaño que X_prev\n",
    "        dW: Gradiente de la función de costo con respecto a W (de la capa actual l), \n",
    "            tiene el mismo tamaño que W\n",
    "        db: Gradiente de la función de costo con respecto a b (de la capa actual l), \n",
    "            tiene el mismo tamaño que b\n",
    "    \"\"\"\n",
    "    X_prev, W, b = cache\n",
    "    N = X_prev.shape[0]\n",
    "\n",
    "    ####################################################################################\n",
    "    ###########  EMPIEZA ESPACIO PARA COMPLETAR CODIGO  ################################\n",
    "    ####################################################################################\n",
    "    \n",
    "    ones = np.ones(dS.shape[0])\n",
    "    \n",
    "    dW = np.transpose(X_prev)@dS\n",
    "    db = np.transpose(ones)@dS\n",
    "    dX_prev = dS@np.transpose(W)\n",
    "    \n",
    "    ####################################################################################\n",
    "    ###########  TERMINA ESPACIO PARA COMPLETAR CODIGO  ################################\n",
    "    ####################################################################################\n",
    "\n",
    "    assert (dX_prev.shape == X_prev.shape)\n",
    "    assert (dW.shape == W.shape)\n",
    "    assert (db.shape == b.shape)\n",
    "    \n",
    "    return dX_prev, dW, db"
   ]
  },
  {
   "cell_type": "code",
   "execution_count": 57,
   "metadata": {},
   "outputs": [
    {
     "name": "stdout",
     "output_type": "stream",
     "text": [
      "Testing afin_backward():\n",
      "dx error:  3.669042497648924e-09\n",
      "dw error:  3.7482312588464514e-11\n",
      "db error:  1.640806364146397e-11\n"
     ]
    }
   ],
   "source": [
    "# Test de afin_backward\n",
    "np.random.seed(43)\n",
    "x = np.random.randn(10, 6)\n",
    "w = np.random.randn(6, 5)\n",
    "b = np.random.randn(5)\n",
    "dout = np.random.randn(10, 5)\n",
    "\n",
    "dx_num = calcular_gradiente_numerico_array(lambda x: afin_forward(x, w, b)[0], x, dout)\n",
    "dw_num = calcular_gradiente_numerico_array(lambda w: afin_forward(x, w, b)[0], w, dout)\n",
    "db_num = calcular_gradiente_numerico_array(lambda b: afin_forward(x, w, b)[0], b, dout)\n",
    "\n",
    "_, cache = afin_forward(x, w, b)\n",
    "dx, dw, db = afin_backward(dout, cache)\n",
    "\n",
    "# El error debería ser del orden de e-9 o menos\n",
    "print('Testing afin_backward():')\n",
    "print('dx error: ', error_relativo(dx_num, dx))\n",
    "print('dw error: ', error_relativo(dw_num, dw))\n",
    "print('db error: ', error_relativo(db_num, db))"
   ]
  },
  {
   "cell_type": "markdown",
   "metadata": {},
   "source": [
    "### 4.2 - Activación backward"
   ]
  },
  {
   "cell_type": "markdown",
   "metadata": {},
   "source": [
    "Si  $\\theta(\\cdot)$ es la función de activación, entonces tanto\n",
    "`sigmoide_backward()` como `tanh_backward()` y `relu_backward()` calculan \n",
    "\n",
    "$$\n",
    "dS^{(l)} = dX^{(l)} * \\theta'(S^{(l)})   \\tag{8}\n",
    "$$.  \n",
    "\n",
    "donde $\\theta'(\\cdot)$ debe ser calculado para cada caso. "
   ]
  },
  {
   "cell_type": "markdown",
   "metadata": {},
   "source": [
    "**Ejercicio**: Implementar los métodos *backward* cada una de las funciones de activación implementadas"
   ]
  },
  {
   "cell_type": "code",
   "execution_count": 5,
   "metadata": {},
   "outputs": [],
   "source": [
    "def tanh_backward(dX, cache):\n",
    "    \"\"\"\n",
    "    Implementa la propagación hacia atrás de una activación tanh().\n",
    "\n",
    "    Entrada:\n",
    "        dX: gradiente de la función de costo respecto a la salida de la capa tanh(),\n",
    "              el tamaño del arreglo no está definido\n",
    "        cache: 'S' valor almacenado durante la propagación hacia adelante\n",
    "\n",
    "    Returns:\n",
    "        dS: Gradiene del costo respecto a S\n",
    "    \"\"\"\n",
    "    \n",
    "    S = cache\n",
    "    \n",
    "    ####################################################################################\n",
    "    ###########  EMPIEZA ESPACIO PARA COMPLETAR CODIGO  ################################\n",
    "    ####################################################################################\n",
    "    \n",
    "    dS\n",
    "     \n",
    "    ####################################################################################\n",
    "    ###########  TERMINA ESPACIO PARA COMPLETAR CODIGO  ################################\n",
    "    ####################################################################################\n",
    "    \n",
    "    assert (dS.shape == S.shape), 'dS y S no tienen el mismo tamaño'\n",
    "    assert (dX.shape == S.shape), 'dX y S no tienen el mismo tamaño'\n",
    "    \n",
    "    return dS"
   ]
  },
  {
   "cell_type": "code",
   "execution_count": null,
   "metadata": {},
   "outputs": [],
   "source": [
    "# Test de tanh_backward\n",
    "\n",
    "np.random.seed(231)\n",
    "S = np.random.randn(10, 10)\n",
    "dout = np.random.randn(*S.shape)\n",
    "\n",
    "dS_num = calcular_gradiente_numerico_array(lambda S: tanh(S)[0], S, dout)\n",
    "\n",
    "_, cache = tanh(S)\n",
    "dS = tanh_backward(dout, cache)\n",
    "\n",
    "# El error debería ser del orden de e-10\n",
    "print('Testing tanh_backward():')\n",
    "print('dS error: ', error_relativo(dS_num, dS))\n"
   ]
  },
  {
   "cell_type": "code",
   "execution_count": null,
   "metadata": {},
   "outputs": [],
   "source": [
    "def sigmoide_backward(dX, cache):\n",
    "    \"\"\"\n",
    "    Implementa la propagación hacia atrás de una activación Sigmoide.\n",
    "\n",
    "    Entrada:\n",
    "        dX: gradiente de la función de costo respecto a la salida de la capa relu,\n",
    "              el tamaño del arreglo no está definido\n",
    "        cache: 'S' valor almacenado durante la propagación hacia adelante\n",
    "\n",
    "    Returns:\n",
    "    dS -- Gradiene del costo respecto a S\n",
    "    \"\"\"\n",
    "    \n",
    "    S = cache\n",
    "    \n",
    "    ####################################################################################\n",
    "    ###########  EMPIEZA ESPACIO PARA COMPLETAR CODIGO  ################################\n",
    "    ####################################################################################\n",
    "    \n",
    "    # dS = \n",
    "     \n",
    "    ####################################################################################\n",
    "    ###########  TERMINA ESPACIO PARA COMPLETAR CODIGO  ################################\n",
    "    ####################################################################################\n",
    "    \n",
    "    assert (dS.shape == S.shape), 'dS y S no tienen el mismo tamaño'\n",
    "    assert (dX.shape == S.shape), 'dX y S no tienen el mismo tamaño'\n",
    "    \n",
    "    return dS"
   ]
  },
  {
   "cell_type": "code",
   "execution_count": null,
   "metadata": {},
   "outputs": [],
   "source": [
    "# Test de sigmoid_backward\n",
    "np.random.seed(231)\n",
    "S = np.random.randn(10, 10)\n",
    "dout = np.random.randn(*S.shape)\n",
    "\n",
    "dS_num = calcular_gradiente_numerico_array(lambda S: sigmoide(S)[0], S, dout)\n",
    "\n",
    "_, cache = sigmoide(S)\n",
    "dS = sigmoide_backward(dout, cache)\n",
    "\n",
    "# El error debería ser del orden de e-10 o menos\n",
    "print('Testing relu_backward():')\n",
    "print('dS error: ', error_relativo(dS_num, dS))\n"
   ]
  },
  {
   "cell_type": "code",
   "execution_count": null,
   "metadata": {},
   "outputs": [],
   "source": [
    "def relu_backward(dX, cache):\n",
    "    \"\"\"\n",
    "    Implementa la propagación hacia atrás de una activación ReLu.\n",
    "\n",
    "    Entrada:\n",
    "        dX: gradiente de la función de costo respecto a la salida de la capa relu,\n",
    "              el tamaño del arreglo no está definido\n",
    "        cache: 'S' valor almacenado durante la propagación hacia adelante\n",
    "\n",
    "    Returns:\n",
    "    dS -- Gradiene del costo respecto a S\n",
    "    \"\"\"\n",
    "    \n",
    "    S = cache\n",
    "    \n",
    "    ####################################################################################\n",
    "    ###########  EMPIEZA ESPACIO PARA COMPLETAR CODIGO  ################################\n",
    "    ####################################################################################\n",
    "    \n",
    "    # dS = \n",
    "    \n",
    "    ####################################################################################\n",
    "    ###########  TERMINA ESPACIO PARA COMPLETAR CODIGO  ################################\n",
    "    ####################################################################################\n",
    "    \n",
    "    assert (dS.shape == S.shape)\n",
    "    \n",
    "    return dS"
   ]
  },
  {
   "cell_type": "code",
   "execution_count": null,
   "metadata": {},
   "outputs": [],
   "source": [
    "# Test de relu_backward\n",
    "np.random.seed(231)\n",
    "x = np.random.randn(10, 10)\n",
    "dout = np.random.randn(*x.shape)\n",
    "\n",
    "dS_num = calcular_gradiente_numerico_array(lambda x: relu(x)[0], x, dout)\n",
    "\n",
    "_, cache = relu(x)\n",
    "dS = relu_backward(dout, cache)\n",
    "\n",
    "# El error debería ser del orden de e-12\n",
    "print('Testing relu_backward():')\n",
    "print('dS error: ', error_relativo(dS_num, dS))\n"
   ]
  },
  {
   "cell_type": "markdown",
   "metadata": {},
   "source": [
    "### 4.3 - Afin --> Activacion backward\n",
    "\n",
    "A continuación se implementará la función que realiza la propagación hacia atrás del la capa *Afin-->Activacion*. \n",
    "\n",
    "**Ejercicio**: Implementar la función `afin_activacion_backward()`. Para ello utilizar las funciones implementadas anteriormente: `afin_backward` y la ¨`activacion_backward`¨ que corresponda. \n"
   ]
  },
  {
   "cell_type": "code",
   "execution_count": null,
   "metadata": {},
   "outputs": [],
   "source": [
    "def afin_activacion_backward(dX, cache, activacion):\n",
    "    '''\n",
    "    Implementar la propagación hacia atrás para la capa Afin->Activacion.\n",
    "    \n",
    "    Entradas:\n",
    "        dX: gradiente del costo respecto a la salida de la capa actual \n",
    "        cache: tupla con los valores(cache_afin, cache_activacion) \n",
    "        activacion: la activación a utilizar en esta capa, puede ser 'sigmoide', 'tanh' o 'relu'\n",
    "    Salidas:\n",
    "        dX_prev: Gradiente del costo con respecto a la activación de la capa anterior(l-1), \n",
    "                 tiene las mismas dimensiones que X_prev\n",
    "        dW -- Gradiente del costo con respecto a W (de la capa actual l), \n",
    "              tiene las mismas dimensiones que W\n",
    "        db -- Gradiente del costo con respecto a b (de la capa actual l), \n",
    "              tiene las mismas dimensiones que b\n",
    "    '''\n",
    "    cache_afin, cache_activacion = cache\n",
    "    \n",
    "    ####################################################################################\n",
    "    ###########  EMPIEZA ESPACIO PARA COMPLETAR CODIGO  ################################\n",
    "    ####################################################################################\n",
    "    \n",
    "\n",
    "    \n",
    "    ####################################################################################\n",
    "    ###########  TERMINA ESPACIO PARA COMPLETAR CODIGO  ################################\n",
    "    ####################################################################################\n",
    "    \n",
    "    return dX_prev, dW, db"
   ]
  },
  {
   "cell_type": "code",
   "execution_count": null,
   "metadata": {},
   "outputs": [],
   "source": [
    "np.random.seed(231)\n",
    "x = np.random.randn(2, 12)\n",
    "w = np.random.randn(12, 10)\n",
    "b = np.random.randn(10)\n",
    "dout = np.random.randn(2, 10)\n",
    "\n",
    "activaciones = ['relu', 'sigmoide','tanh']\n",
    "\n",
    "for activacion in activaciones:\n",
    "    out, cache = afin_activacion_forward(x, w, b, activacion)\n",
    "    dx, dw, db = afin_activacion_backward(dout, cache, activacion)\n",
    "\n",
    "    dx_num = calcular_gradiente_numerico_array(lambda x: afin_activacion_forward(x, w, b, activacion)[0], x, dout)\n",
    "    dw_num = calcular_gradiente_numerico_array(lambda w: afin_activacion_forward(x, w, b, activacion)[0], w, dout)\n",
    "    db_num = calcular_gradiente_numerico_array(lambda b: afin_activacion_forward(x, w, b, activacion)[0], b, dout)\n",
    "\n",
    "    # Los errores deberían ser del orden de e-9 o menos\n",
    "    print('Testing afin_' + activacion + '_forward y afin_' + activacion + '_backward:')\n",
    "    print('dx error: ', error_relativo(dx_num, dx))\n",
    "    print('dw error: ', error_relativo(dw_num, dw))\n",
    "    print('db error: ', error_relativo(db_num, db))"
   ]
  },
  {
   "cell_type": "markdown",
   "metadata": {},
   "source": [
    "##  5 - Actualización de los parámetros\n",
    "\n",
    "En esta sección se actualizarán los parámetros del modelo mediante el método de *descenso por gradiente*:\n",
    "\n",
    "$$ W^{(l)} = W^{(l)} -\\eta \\text{ } dW^{(l)} \\tag{9}$$\n",
    "$$ \\mathbf{b}^{(l)} = \\mathbf{b}^{(l)} -\\eta \\text{ } \\mathbf{db}^{(l)} \\tag{10}$$\n",
    "\n",
    "donde $\\eta$ es el *learning rate*. "
   ]
  },
  {
   "cell_type": "markdown",
   "metadata": {},
   "source": [
    "**Ejercicio**: Implementar `actualizar_parametros()` para actualizar los parámetros usando *descenso por gradiente*. Luego de actualizar los parámetros, almacenarlos en el diccionario de parámetros. "
   ]
  },
  {
   "cell_type": "code",
   "execution_count": null,
   "metadata": {},
   "outputs": [],
   "source": [
    "def actualizar_parametros(parametros, gradientes, learning_rate):\n",
    "    \"\"\"\n",
    "    Se actualizan los parámetros utilizando descenso por gradiente. Si bien en este notebook se trabaja \n",
    "    con una red de dos capas, el método se implementa en forma genérica para mostrar como se haría en el\n",
    "    caso más general.\n",
    "    \n",
    "    Entrada:\n",
    "        parametros: diccionario de python que contiene los parámetros \n",
    "        gradientes: diccionario de python que contiene los gradientes \n",
    "                    (las salidas de los métodos backward)\n",
    "    \n",
    "    Salida:\n",
    "        parametros: diccionario de python que contiene los parámetros actualizados \n",
    "                    parametros[\"W\" + str(l)] = ... \n",
    "                    parametros[\"b\" + str(l)] = ...\n",
    "    \"\"\"\n",
    "    \n",
    "    L = len(parametros) // 2 # número de capas en la red neuronal\n",
    "    \n",
    "    # Se actualiza cada uno de los parámetros. En el caso de una red profunda de L capas\n",
    "    # se hace con un loop que va recorriendo cada parámetro\n",
    "    for l in range(1,L+1):\n",
    "        \n",
    "        ####################################################################################\n",
    "        ###########  EMPIEZA ESPACIO PARA COMPLETAR CODIGO  ################################\n",
    "        ####################################################################################\n",
    "        \n",
    "\n",
    "        \n",
    "        ####################################################################################\n",
    "        ###########  TERMINA ESPACIO PARA COMPLETAR CODIGO  ################################\n",
    "        ####################################################################################\n",
    "    \n",
    "    return parametros"
   ]
  },
  {
   "cell_type": "markdown",
   "metadata": {},
   "source": [
    "# Clasificación utilizando datos sintéticos"
   ]
  },
  {
   "cell_type": "code",
   "execution_count": 8,
   "metadata": {},
   "outputs": [],
   "source": [
    "from aux_datos import  generar_flor, mostrar_frontera_decision"
   ]
  },
  {
   "cell_type": "markdown",
   "metadata": {},
   "source": [
    "Se generan datos sintéticos con forma de flor pertenecientes a dos clases: $cero$ y $uno$."
   ]
  },
  {
   "cell_type": "code",
   "execution_count": 9,
   "metadata": {},
   "outputs": [
    {
     "name": "stdout",
     "output_type": "stream",
     "text": [
      "(400, 2) (400, 1)\n"
     ]
    }
   ],
   "source": [
    "X, Y = generar_flor()\n",
    "print(X.shape, Y.shape)"
   ]
  },
  {
   "cell_type": "code",
   "execution_count": 10,
   "metadata": {
    "scrolled": false
   },
   "outputs": [
    {
     "data": {
      "image/png": "[encoded data removed]",
      "text/plain": [
       "<Figure size 432x288 with 1 Axes>"
      ]
     },
     "metadata": {
      "needs_background": "light"
     },
     "output_type": "display_data"
    }
   ],
   "source": [
    "# Se muestran los datos\n",
    "plt.scatter(X[:,0], X[:,1], c=Y.flatten(), s=40, cmap=plt.cm.Spectral);"
   ]
  },
  {
   "cell_type": "markdown",
   "metadata": {},
   "source": [
    "### Red para clasificar los datos sintéticos"
   ]
  },
  {
   "cell_type": "markdown",
   "metadata": {},
   "source": [
    "Para clasificar los datos sintéticos se utilizará una red de dos capas con la siguiente arquitectura:   \n",
    "\n",
    "*Afin->Tanh->Afin->Sigmoide* \n",
    "\n",
    "**Ejercicio:** Completar la implementación de los métodos `red_dos_capas_datos_sinteticos()` utilizando los métodos *forward* y *backward* adecuados para dicha arquitectura. Como función de costo se utilizará la *entropía cruzada*."
   ]
  },
  {
   "cell_type": "code",
   "execution_count": 11,
   "metadata": {},
   "outputs": [],
   "source": [
    "def red_dos_capas_datos_sinteticos(X, Y, dims_capas, num_iter = 1000, learning_rate = 1,\n",
    "                                   mostrar_costo=False, semilla=100):\n",
    "    \"\"\"\n",
    "    Implementa una red neuronal de dos capas: Afin->Tanh->Afin->Sigmoide.\n",
    "    \n",
    "    Entrada:\n",
    "        X: datos de entrada, de tamaño (N, d_0)\n",
    "        Y: etiquetas (1 para la clase positiva y 0 para la negativa), de tamaño (N,1)\n",
    "        dims_capas: dimensiones de las capas(d_0, d_1, d_2)\n",
    "        num_iter: número de iteraciones del loop de optimización\n",
    "        learning_rate: learning rate utilizado para la actualización mediante descenso por gradiente\n",
    "        mostrar_costo: Si vale True, se muestra el costo cada 100 iteraciones \n",
    "        semilla: semilla utilizada para la generación de números aleatorios \n",
    "    Salida:\n",
    "        parametros: un diccionario de python que contiene W1, W2, b1, and b2\n",
    "    \"\"\"\n",
    "    \n",
    "    np.random.seed(semilla)\n",
    "    gradientes = {} # se inicializa el diccionario que almacena los gradiantes\n",
    "    costos = []     # lista que almacena el costo\n",
    "    N = X.shape[0]  # número de muestras\n",
    "    d_0, d_1, d_2 = dims_capas  \n",
    "    \n",
    "    # Se inicializan los parámetros del diccionario llamando a una de las \n",
    "    # funciones previamente implementadas\n",
    "    parametros = inicializar_pesos(d_0, d_1, d_2, semilla=semilla)\n",
    "     \n",
    "    # Se obtienen W1, b1, W2 y b2 del diccionario de parámetros.\n",
    "    W1 = parametros[\"W1\"]\n",
    "    b1 = parametros[\"b1\"]\n",
    "    W2 = parametros[\"W2\"]\n",
    "    b2 = parametros[\"b2\"]\n",
    "    \n",
    "    # Loop (descenso por gradiente)\n",
    "\n",
    "    for i in range(0, num_iter):\n",
    "\n",
    "        ####################################################################################\n",
    "        ###########  EMPIEZA ESPACIO PARA COMPLETAR CODIGO  ################################\n",
    "        ####################################################################################\n",
    "        \n",
    "        # Propagación hacia adelante: Afin -> Tanh -> Afin -> Sigmoide. \n",
    "        # Entradas: \"X, W1, b1\". Salidas: \"X1, cache1, X2, cache2\".\n",
    "\n",
    "        \n",
    "        # Se calcula el costo y se inicia la propagación hacia atrás\n",
    "\n",
    "        \n",
    "        # Propagación hacia atrás. \n",
    "        # Entradas: \"dX2, cache2, cache1\". Salidas: \"dX1, dW2, db2, dW1, db1, dX0 (no utilizado)\".\n",
    "        # print('dX2 shape:', dX2.shape)\n",
    "\n",
    "\n",
    "        # Se almacenan los gradientes recientemente calculados en el diccionario \n",
    " \n",
    "        \n",
    "        # Se actualizan los parámetros\n",
    "\n",
    "        \n",
    "        # Se obtienen los nuevos W1, b1, W2 y b2 del diccionario de parámetros.\n",
    "        \n",
    "        \n",
    "        ####################################################################################\n",
    "        ###########  TERMINA ESPACIO PARA COMPLETAR CODIGO  ################################\n",
    "        ####################################################################################\n",
    "\n",
    "        # Se muestra la evolución del costo cada 100 iteraciones\n",
    "        if mostrar_costo and i % 100 == 0:\n",
    "            print(\"Costo luego de iteracion {}: {}\".format(i, np.squeeze(costo)))\n",
    "\n",
    "        if mostrar_costo and i % 100 == 0:\n",
    "            costos.append(costo)\n",
    "         \n",
    "    # se muestra el costo\n",
    "    plt.plot(np.squeeze(costos))\n",
    "    plt.ylabel('costo')\n",
    "    plt.xlabel('iteraciones (sobre 100)')\n",
    "    plt.title(\"Learning rate =\" + str(learning_rate))\n",
    "    plt.show()\n",
    "    \n",
    "    return parametros"
   ]
  },
  {
   "cell_type": "code",
   "execution_count": 12,
   "metadata": {},
   "outputs": [],
   "source": [
    "### Se definen las constantes que determinan la arquitectura de la red ####\n",
    "d_0 = X.shape[1]   \n",
    "d_1 = 4\n",
    "d_2 = 1\n",
    "dims_capas = [d_0, d_1, d_2]"
   ]
  },
  {
   "cell_type": "code",
   "execution_count": null,
   "metadata": {},
   "outputs": [],
   "source": [
    "# Se entrena la red, con los parámetros por defecto el costo debería ser alrededor de 0.69 en la iteración 0 y \n",
    "# menor que 0.25 en la 10000\n",
    "parametros_red_2capas_datos_sinteticos = red_dos_capas_datos_sinteticos(X, Y, dims_capas = [d_0, d_1, d_2], \n",
    "                                                                        num_iter = 10000, mostrar_costo=True)"
   ]
  },
  {
   "cell_type": "markdown",
   "metadata": {},
   "source": [
    "### Mostrar la frontera de decisión"
   ]
  },
  {
   "cell_type": "markdown",
   "metadata": {},
   "source": [
    "Para mostrar la frontera de decisión se deberá completar primero la implementación del método `predecir_clase_datos_sinteticos()`. Dicho método utiliza los parámetros de la red recientemente encontrados para predecir la clase de los vectores de características pasados como parámetro. "
   ]
  },
  {
   "cell_type": "code",
   "execution_count": null,
   "metadata": {},
   "outputs": [],
   "source": [
    "def predecir_clase_datos_sinteticos(X, parametros):\n",
    "    \"\"\"\n",
    "    Esta función predice la clase de los datos sintéticos. \n",
    "    \n",
    "    Entrada:\n",
    "        X: matriz de tamaño Nx2 que en cada fila contiene un vector de características\n",
    "        parametros: parametros del modelo ya entrenado\n",
    "    \n",
    "    Salida:\n",
    "        p : vector de tamaño Nx1 que contiene las predicciones realizadas (0 o 1)\n",
    "    \"\"\"\n",
    "    \n",
    "    # Se obtienen W1, b1, W2 y b2 del diccionario de parámetros.\n",
    "    W1 = parametros[\"W1\"]\n",
    "    b1 = parametros[\"b1\"]\n",
    "    W2 = parametros[\"W2\"]\n",
    "    b2 = parametros[\"b2\"]\n",
    "    \n",
    "    N = X.shape[0]\n",
    "    p = np.zeros((N,1))\n",
    "    \n",
    "    ####################################################################################\n",
    "    ###########  EMPIEZA ESPACIO PARA COMPLETAR CODIGO  ################################\n",
    "    ####################################################################################\n",
    "    \n",
    "    # Se hace la propagación hacia adelante de los datos de entrada X. Tener en cuenta que la\n",
    "    # arquitectura utilizada en la red fue Afin-->Tanh-->Afin-->Sigmoide\n",
    "    # ~ 2 lineas de codigo\n",
    "\n",
    "\n",
    "    # Se obtienen las predicciones. Si la salida es mayor que 0.5 se asigna la clase 1, de lo \n",
    "    # contrario se asigna 0\n",
    "    # ~ 1 linea de codigo\n",
    "    \n",
    "    ####################################################################################\n",
    "    ###########  TERMINA ESPACIO PARA COMPLETAR CODIGO  ################################\n",
    "    ####################################################################################\n",
    "\n",
    "        \n",
    "    return p"
   ]
  },
  {
   "cell_type": "markdown",
   "metadata": {},
   "source": [
    "La siguiente celda muestra el porcentaje de acierto con el conjunto de entrenamiento. Verificar que para los parámetros por defecto es mayor al 90%."
   ]
  },
  {
   "cell_type": "code",
   "execution_count": null,
   "metadata": {},
   "outputs": [],
   "source": [
    "predicciones_train = predecir_clase_datos_sinteticos(X, parametros_red_2capas_datos_sinteticos)\n",
    "porcentaje_aciertos = np.mean(predicciones_train==Y)\n",
    "print('El porcentaje de aciertos es %f' % porcentaje_aciertos)"
   ]
  },
  {
   "cell_type": "code",
   "execution_count": null,
   "metadata": {},
   "outputs": [],
   "source": [
    "# Se muestra la frontera de decisión. Verificar que es razonable para el conjunto de entrenamiento.\n",
    "mostrar_frontera_decision(lambda x: predecir_clase_datos_sinteticos(x, parametros_red_2capas_datos_sinteticos), X, Y.flatten())\n",
    "plt.title('Frontera de decisión para una capa oculta de ' + str(d_1) + ' nodos')"
   ]
  },
  {
   "cell_type": "markdown",
   "metadata": {},
   "source": [
    "**Pregunta:** Variar la cantidad de nodos utilizados en la capa oculta y comentar sobre la influencia de dicho parámetro en la superficie de decisión obtenida."
   ]
  },
  {
   "cell_type": "markdown",
   "metadata": {},
   "source": [
    "**Respuesta:**  \n",
    "\n",
    "..."
   ]
  },
  {
   "cell_type": "markdown",
   "metadata": {},
   "source": [
    "# Clasificación de imágenes\n",
    "\n",
    "Se utilizarán las funciones implementadas anteriormente para distinguir imágenes de *gatos* de *no gatos*."
   ]
  },
  {
   "cell_type": "markdown",
   "metadata": {},
   "source": [
    "### Los datos"
   ]
  },
  {
   "cell_type": "markdown",
   "metadata": {},
   "source": [
    "La siguiente celda carga los datos. La base cuenta con conjunto de imágenes para entrenamiento y un conjunto para test. En este caso las características a utilizar son directamente los valores de los píxeles de las imágenes. "
   ]
  },
  {
   "cell_type": "code",
   "execution_count": 14,
   "metadata": {},
   "outputs": [
    {
     "name": "stdout",
     "output_type": "stream",
     "text": [
      "Se levantaron 209 imágenes de entrenamiento\n",
      "72 pertenecen a la clase non-cat y 137 a la clase cat\n",
      "Se levantaron 50 imágenes de test\n",
      "33 pertenecen a la clase non-cat y 17 a la clase cat\n",
      "Las imágenes son de tamaño [64, 64, 3] \n"
     ]
    }
   ],
   "source": [
    "from aux_datos import load_cats_dataset\n",
    "features_train, y_train, features_test, y_test, clases = load_cats_dataset()\n",
    "print('Se levantaron %d imágenes de entrenamiento' % len(features_train))\n",
    "print('%d pertenecen a la clase %s y %d a la clase %s' % (np.sum(y_train==1),clases[0].decode(\"utf-8\"),\n",
    "                                                          np.sum(y_train==0),clases[1].decode(\"utf-8\"))  )\n",
    "print('Se levantaron %d imágenes de test' % len(features_test))\n",
    "print('%d pertenecen a la clase %s y %d a la clase %s' % (np.sum(y_test==1),clases[0].decode(\"utf-8\"),\n",
    "                                                          np.sum(y_test==0),clases[1].decode(\"utf-8\"))  )\n",
    "\n",
    "print('Las imágenes son de tamaño [%d, %d, %d] ' % (features_train.shape[1:]))\n"
   ]
  },
  {
   "cell_type": "markdown",
   "metadata": {},
   "source": [
    "Cada vez que se ejecuta la siguiente celda se muestra un ejemplo de cada una de las clases. "
   ]
  },
  {
   "cell_type": "code",
   "execution_count": null,
   "metadata": {},
   "outputs": [],
   "source": [
    "# Ejemplo de una imagen gato\n",
    "indices_gatos = [i for i, label in enumerate(y_train) if label]\n",
    "pos = np.random.randint(len(indices_gatos))\n",
    "gato = features_train[indices_gatos[pos]]\n",
    "\n",
    "plt.figure(figsize=(15,5))\n",
    "plt.subplot(1,2,1)\n",
    "plt.imshow(gato)\n",
    "plt.title('Ejemplo de gato')\n",
    "\n",
    "# Ejemplo de una imagen no gato\n",
    "indices_no_gatos = [i for i, label in enumerate(y_train) if not label]\n",
    "pos = np.random.randint(len(indices_no_gatos))\n",
    "gato = features_train[indices_no_gatos[pos]]\n",
    "plt.subplot(1,2,2)\n",
    "plt.imshow(features_train[indices_no_gatos[pos]])\n",
    "plt.title('Ejemplo de no gato')\n",
    "plt.show()"
   ]
  },
  {
   "cell_type": "markdown",
   "metadata": {},
   "source": [
    "## Red neuronal de dos capas para clasificar imágenes de gatos\n",
    "\n",
    "**Ejercicio**: Completar la implementación de los métodos `red_dos_capas_clasifica_gatos()` utilizando los métodos *forward* y *backward* adecuados para dicha arquitectura. Como función de costo se utilizará la *entropía cruzada*. La red deberá tener la siguiente estructura: \n",
    "\n",
    "*AFIN -> RELU -> AFIN -> SIGMOIDE*\n",
    "\n"
   ]
  },
  {
   "cell_type": "code",
   "execution_count": null,
   "metadata": {},
   "outputs": [],
   "source": [
    "def red_dos_capas_clasifica_gatos(X, Y, dims_capas, num_iter = 1000, learning_rate = 1,  \n",
    "                                   mostrar_costo=False, semilla=100):\n",
    "    \"\"\"\n",
    "    Implementa una red neuronal de dos capas: Afin->Relu->Afin->Sigmoide.\n",
    "    \n",
    "    Entrada:\n",
    "        X: datos de entrada, de tamaño (N, d_0)\n",
    "        Y: etiquetas (1 para la clase positiva y 0 para la negativa), de tamaño (N,1)\n",
    "        dims_capas: dimensiones de las caoas(d_0, d_1, d_2)\n",
    "        num_iter: número de iteraciones del loop de optimización\n",
    "        learning_rate: learning rate utilizado para la actualización mediante descenso por gradiente\n",
    "        mostrar_costo: Si vale True, se muestra el costo cada 100 iteraciones \n",
    "        semilla: semilla utilizada para la generación de números aleatorios \n",
    "    Salida:\n",
    "        parametros: un diccionario de python que contiene W1, W2, b1, and b2\n",
    "    \"\"\"\n",
    "    \n",
    "    np.random.seed(semilla)\n",
    "    gradientes = {} # se inicializa el diccionario que almacena los gradiantes\n",
    "    costos = []     # lista que almacena el costo\n",
    "    N = X.shape[0]  # número de muestras\n",
    "    d_0, d_1, d_2 = dims_capas  \n",
    "    \n",
    "    # Se inicializan los parámetros del diccionario llamando a una de las \n",
    "    # funciones previamente implementadas\n",
    "    parametros = inicializar_pesos(d_0, d_1, d_2, semilla=semilla)\n",
    "     \n",
    "    # Se obtienen W1, b1, W2 y b2 del diccionario de parámetros.\n",
    "    W1 = parametros[\"W1\"]\n",
    "    b1 = parametros[\"b1\"]\n",
    "    W2 = parametros[\"W2\"]\n",
    "    b2 = parametros[\"b2\"]\n",
    "    \n",
    "    # Loop (descenso por gradiente)\n",
    "\n",
    "    for i in range(0, num_iter):\n",
    "\n",
    "        ####################################################################################\n",
    "        ###########  EMPIEZA ESPACIO PARA COMPLETAR CODIGO  ################################\n",
    "        ####################################################################################\n",
    "        \n",
    "        # Propagación hacia adelante: Afin -> ReLu -> Afin -> Sigmoide. \n",
    "        # Entradas: \"X, W1, b1\". Salidas: \"X1, cache1, X2, cache2\".\n",
    "\n",
    "        \n",
    "        # Se calcula el costo y se inicia la propagación hacia atrás\n",
    "\n",
    "        \n",
    "        # Propagación hacia atrás. \n",
    "        # Entradas: \"dX2, cache2, cache1\". Salidas: \"dX1, dW2, db2, dW1, db1, dX0 (no utilizado)\".\n",
    "        # print('dX2 shape:', dX2.shape)\n",
    "\n",
    "\n",
    "        # Se almacenan los gradientes recientemente calculados en el diccionario \n",
    "        \n",
    "        \n",
    "        # Se actualizan los parámetros\n",
    "        \n",
    "        \n",
    "        # Se obtienen los nuevos W1, b1, W2 y b2 del diccionario de parámetros.\n",
    "        \n",
    "        \n",
    "        ####################################################################################\n",
    "        ###########  TERMINA ESPACIO PARA COMPLETAR CODIGO  ################################\n",
    "        ####################################################################################\n",
    "\n",
    "        # Se muestra la evolución del costo cada 100 iteraciones\n",
    "        if mostrar_costo and i % 100 == 0:\n",
    "            print(\"Costo luego de iteracion {}: {}\".format(i, np.squeeze(costo)))\n",
    "            #print(W1,b1)\n",
    "        if mostrar_costo and i % 100 == 0:\n",
    "            costos.append(costo)\n",
    "         \n",
    "    # se muestra el costo\n",
    "    plt.plot(np.squeeze(costos))\n",
    "    plt.ylabel('costo')\n",
    "    plt.xlabel('iteraciones (sobre 100)')\n",
    "    plt.title(\"Learning rate =\" + str(learning_rate))\n",
    "    plt.show()\n",
    "    \n",
    "    return parametros"
   ]
  },
  {
   "cell_type": "markdown",
   "metadata": {},
   "source": [
    "Se definen las constantes que determinan la arquitectura de la red. En este caso se usarán como características los valores de los píxeles de la imagen. La capa oculta tendrá 7 nodos y habrá un solo nodo en la capa de salida."
   ]
  },
  {
   "cell_type": "code",
   "execution_count": null,
   "metadata": {},
   "outputs": [],
   "source": [
    "### CONSTANTES QUE DEFINEN EL MODELO ####\n",
    "d_0=features_train.shape[1]*features_train.shape[2]*features_train.shape[3]\n",
    "d_1 = 7\n",
    "d_2 = 1\n",
    "dims_capas = [d_0, d_1, d_2]"
   ]
  },
  {
   "cell_type": "markdown",
   "metadata": {},
   "source": [
    "Se hace un *reshape* de las imágenes de entrenamiento para que las entradas a la red sean vectores unidimensionales. Además se las normaliza para que los valores estén en el rango [0, 1] en vez del rango [0, 255] original."
   ]
  },
  {
   "cell_type": "code",
   "execution_count": null,
   "metadata": {},
   "outputs": [],
   "source": [
    "# Se hace el reshape de las características\n",
    "feat_train_flat = features_train.reshape(features_train.shape[0], -1)  \n",
    "\n",
    "# Se normalizan los datos para que las características queden en el rango [-0.5, 0.5]\n",
    "train_x = feat_train_flat/255. -0.5"
   ]
  },
  {
   "cell_type": "markdown",
   "metadata": {},
   "source": [
    "Ejecutar la siguiente celda y encontrar los parámetros del modelo. El costo debería decrecer con el paso de las iteraciones. Verificar que el  \"Costo luego de iteracion 0\" es aproximadamente 0.69, si no es así se recomienda para la ejecución con el cuadrado (⬛) de la barra superior del notebook y tratar de encontrar el error."
   ]
  },
  {
   "cell_type": "code",
   "execution_count": null,
   "metadata": {},
   "outputs": [],
   "source": [
    "parametros_red_gatos = red_dos_capas_clasifica_gatos(train_x, y_train, dims_capas = [d_0, d_1, d_2], \n",
    "                                                     learning_rate=0.1, num_iter = 5000, mostrar_costo=True)"
   ]
  },
  {
   "cell_type": "markdown",
   "metadata": {},
   "source": [
    "Si la función de costo decreció por debajo de 0.003 al acercarse la iteración 5000 entonces la implementación es correcta y has podido entrenar la red neuronal. A continuación veremos qué tan bien funcionan los parámetros encontrados con el conjunto de entrenamiento. "
   ]
  },
  {
   "cell_type": "markdown",
   "metadata": {},
   "source": [
    "**Ejercicio:** Completar la implementación del método `clasificar_gato()` para que dado un conjunto de imágenes de entrada y los parámetros de la red encontrados durante el entrenamiento devuelva si pertenece a la clase gato o no."
   ]
  },
  {
   "cell_type": "code",
   "execution_count": null,
   "metadata": {},
   "outputs": [],
   "source": [
    "def clasificar_gato(X, parametros):\n",
    "    \"\"\"\n",
    "    Esta función predice si las imágenes almacenadas en el vector X son gatos o no\n",
    "    \n",
    "    Entrada:\n",
    "        X: matriz de tamaño N x d_0 que contiene N imágenes almacenadas una por fila\n",
    "        parametros: parámetros óptimos encontrados al entrenar la red\n",
    "    \n",
    "    Salida:\n",
    "        p: predicciones realizadas por la red para las imágenes en X (1 si es gato, 0 si no)\n",
    "    \"\"\"\n",
    "    \n",
    "    # Se obtienen W1, b1, W2 y b2 del diccionario de parámetros.\n",
    "    W1 = parametros[\"W1\"]\n",
    "    b1 = parametros[\"b1\"]\n",
    "    W2 = parametros[\"W2\"]\n",
    "    b2 = parametros[\"b2\"]\n",
    "    \n",
    "    N = X.shape[0]\n",
    "    p = np.zeros((N,1))\n",
    "    \n",
    "    ####################################################################################\n",
    "    ###########  EMPIEZA ESPACIO PARA COMPLETAR CODIGO  ################################\n",
    "    ####################################################################################\n",
    "    \n",
    "    # Se realiza la propagación hacia adelante de las imágenes de entrada\n",
    "    # ~ 2 lineas de código\n",
    "    \n",
    "    \n",
    "    # Se realiza la predicción \n",
    "    # ~ 1 línea de código\n",
    "\n",
    "    \n",
    "    ####################################################################################\n",
    "    ###########  TERMINA ESPACIO PARA COMPLETAR CODIGO  ################################\n",
    "    ####################################################################################\n",
    "    \n",
    "        \n",
    "    return p"
   ]
  },
  {
   "cell_type": "markdown",
   "metadata": {},
   "source": [
    "Verificar que la red entrenada hace un trabajo fantástico con el conjunto de entrenamiento."
   ]
  },
  {
   "cell_type": "code",
   "execution_count": null,
   "metadata": {},
   "outputs": [],
   "source": [
    "predicciones_train = clasificar_gato(train_x, parametros_red_gatos)\n",
    "accuracy_train = str(np.mean((predicciones_train == y_train)))\n",
    "print(\"Porcentaje de acierto en entrenamiento: \"  + accuracy_train)"
   ]
  },
  {
   "cell_type": "markdown",
   "metadata": {},
   "source": [
    "¿Cerca del 100% de acierto? ¡Bien hecho! Excelente trabajo. Ahora sólo resta evaluar con el conjunto reservado para test."
   ]
  },
  {
   "cell_type": "code",
   "execution_count": null,
   "metadata": {
    "scrolled": true
   },
   "outputs": [],
   "source": [
    "####################################################################################\n",
    "###########  EMPIEZA ESPACIO PARA COMPLETAR CODIGO  ################################\n",
    "####################################################################################\n",
    "\n",
    "# accuracy_test = \n",
    "\n",
    "####################################################################################\n",
    "###########  TERMINA ESPACIO PARA COMPLETAR CODIGO  ################################\n",
    "####################################################################################\n",
    "print(\"Porcentaje de acierto en test: \"  + accuracy_test)"
   ]
  },
  {
   "cell_type": "markdown",
   "metadata": {},
   "source": [
    "¿Mucho mejor que tirar una moneda? Seguro que si."
   ]
  },
  {
   "cell_type": "markdown",
   "metadata": {},
   "source": [
    "**Ejercicio:** Comente cuáles son a su criterio las razones que explican el resultado obtenido y comente al menos un par de estrategias que de haberse implementado seguramente habrían redituado en un mejor desempeño con el conjunto de test. "
   ]
  },
  {
   "cell_type": "markdown",
   "metadata": {},
   "source": [
    "**Respuesta:** \n",
    "\n",
    "..."
   ]
  },
  {
   "cell_type": "markdown",
   "metadata": {},
   "source": [
    "<a id=\"Ejercicio2\"></a>\n",
    "# Ejercicio 2: Jugando con Tensorflow playground"
   ]
  },
  {
   "cell_type": "markdown",
   "metadata": {},
   "source": [
    "**Parte 1)** Ejecutar el [modelo parte 1](https://playground.tensorflow.org/#activation=linear&regularization=L2&batchSize=10&dataset=xor&regDataset=reg-plane&learningRate=0.01&regularizationRate=0&noise=35&networkShape=1&seed=0.68341&showTestData=false&discretize=false&percTrainData=50&x=true&y=true&xTimesY=false&xSquared=false&ySquared=false&cosX=false&sinX=false&cosY=false&sinY=false&collectStats=false&problem=classification&initZero=false&hideText=false&showTestData_hide=false&discretize_hide=false) y corroborar que no es capaz de separar correctamente los datos. Explicar."
   ]
  },
  {
   "cell_type": "markdown",
   "metadata": {},
   "source": [
    "**Respuesta:** ..."
   ]
  },
  {
   "cell_type": "markdown",
   "metadata": {},
   "source": [
    "**Parte 2)** Aumentar el número de neuronas en capa oculta a dos. ¿Se pueden separar los datos? "
   ]
  },
  {
   "cell_type": "markdown",
   "metadata": {},
   "source": [
    "**Respuesta:** ..."
   ]
  },
  {
   "cell_type": "markdown",
   "metadata": {},
   "source": [
    "**Parte 3)** Aumentar el número de neuronas en capa oculta a tres utilizando como función de activación ReLU. ¿Es este modelo adecuado para separar los datos? Ejecutar varias veces cambiando la inicialización."
   ]
  },
  {
   "cell_type": "markdown",
   "metadata": {},
   "source": [
    "**Respuesta:** ..."
   ]
  },
  {
   "cell_type": "markdown",
   "metadata": {},
   "source": [
    "**Parte 4)** Probar ahora con la siguiente arquitectura:\n",
    "- Primera capa oculta con tres neuronas\n",
    "- Segunda capa oculta con tres neuronas\n",
    "- Tercera capa oculta con dos neuronas\n",
    "\n",
    "¿Este modelo se ajusta mejor a los datos? ¿Converge más rápido y con mayor asiduidad que el de la parte 3? A los efectos de este ejercicio consideraremos que el modelo converge si el error de test es menor a 0.177."
   ]
  },
  {
   "cell_type": "markdown",
   "metadata": {},
   "source": [
    "**Respuesta:** ..."
   ]
  },
  {
   "cell_type": "markdown",
   "metadata": {},
   "source": [
    "**Parte 5)** Utilizando sólamente $X_1$ y $X_2$ como características construir un modelo que separe adecuadamente los datos con [distribución en espiral](https://playground.tensorflow.org/#activation=linear&regularization=L2&batchSize=10&dataset=spiral&regDataset=reg-plane&learningRate=0.01&regularizationRate=0&noise=0&networkShape=1&seed=0.63187&showTestData=false&discretize=false&percTrainData=50&x=true&y=true&xTimesY=false&xSquared=false&ySquared=false&cosX=false&sinX=false&cosY=false&sinY=false&collectStats=false&problem=classification&initZero=false&hideText=false&showTestData_hide=false&discretize_hide=false). Para ello puede variar libremente el número de capas ocultas y la cantidad de nodos por capa oculta. Indique además los valores elegidos para los siguientes parámetros y las razones que guiaron la elección:\n",
    "- learning rate\n",
    "- activación\n",
    "- tipo de regularización\n",
    "- factor de regularización"
   ]
  },
  {
   "cell_type": "markdown",
   "metadata": {},
   "source": [
    "**Respuesta:** ..."
   ]
  },
  {
   "cell_type": "markdown",
   "metadata": {},
   "source": [
    "**Parte 6)** La extracción de características puede ser útil aún cuando se trabaja con clasificadores de gran capacidad expresiva como las redes neuronales. Utilizando las transformaciones de características a la entrada que considere convenientes, encontrar la arquitectura de red con menor cantidad de nodos que produzca un error con el conjunto de test menor a 0.1. *Sugerencia:*  guarde registro del momento. "
   ]
  },
  {
   "cell_type": "markdown",
   "metadata": {},
   "source": [
    "**Respuesta:**..."
   ]
  }
 ],
 "metadata": {
  "kernelspec": {
   "display_name": "Python 3",
   "language": "python",
   "name": "python3"
  },
  "language_info": {
   "codemirror_mode": {
    "name": "ipython",
    "version": 3
   },
   "file_extension": ".py",
   "mimetype": "text/x-python",
   "name": "python",
   "nbconvert_exporter": "python",
   "pygments_lexer": "ipython3",
   "version": "3.7.4"
  }
 },
 "nbformat": 4,
 "nbformat_minor": 2
}
