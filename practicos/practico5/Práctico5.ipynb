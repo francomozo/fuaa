{
 "cells": [
  {
   "cell_type": "markdown",
   "metadata": {},
   "source": [
    "# Fundamentos de Aprendizaje Automático y Reconocimiento de Patrones\n",
    "\n",
    "# * REDES NEURONALES *\n",
    "***\n",
    "# Práctico 5"
   ]
  },
  {
   "cell_type": "code",
   "execution_count": 1,
   "metadata": {},
   "outputs": [],
   "source": [
    "# Se importan las bibliotecas que se utilizarán\n",
    "import numpy as np\n",
    "import h5py\n",
    "import matplotlib.pyplot as plt\n",
    "\n",
    "%matplotlib inline\n",
    "plt.rcParams['figure.figsize'] = (5.0, 4.0) # set default size of plots\n",
    "plt.rcParams['image.interpolation'] = 'nearest'\n",
    "plt.rcParams['image.cmap'] = 'gray'\n",
    "\n",
    "%load_ext autoreload\n",
    "%autoreload 2\n"
   ]
  },
  {
   "cell_type": "markdown",
   "metadata": {},
   "source": [
    "## Objetivos\n",
    "\n",
    "- Implementar desde cero una red neuronal de dos capas\n",
    "- Utilizar la implementación para:\n",
    "    - Clasificar datos sintéticos \n",
    "    - Clasificar entre imágenes de gatos y no gatos\n",
    "- Adquirir cierta intuición sobre las fronteras de decisión determinadas por una red neuronal"
   ]
  },
  {
   "cell_type": "markdown",
   "metadata": {},
   "source": [
    "## Lista de ejercicios\n",
    "\n",
    "[Ejercicio 1](#Ejercicio1): implementación de una red neuronal de dos capas       \n",
    "[Ejercicio 2](#Ejercicio2): jugando con tensorflow playground   "
   ]
  },
  {
   "cell_type": "markdown",
   "metadata": {},
   "source": [
    "<a id=\"Ejercicio1\"></a>\n",
    "## Ejercicio 1: Implementación de una red neuronal de dos capas"
   ]
  },
  {
   "cell_type": "markdown",
   "metadata": {},
   "source": [
    "### Notación:\n",
    "\n",
    "- En general, la arquitectura de una red de $L$ capas de define mediante el vector $[d^{(0)},d^{(1)},\\ldots, d^{(L)}]$, siendo $d^{l}$ el número de nodos de la capa $l$.\n",
    "- En una red neuronal de dos capas, es decir con $L=2$, con $l=0$ se referirá a la entrada (no se considera una capa) y con $l=2$ se referirá a la capa de salida.     \n",
    "- A la señal de entrada a la activación $j$ de la capa $l$ se le llamará $s_j^{(l)}$ y a la de salida $x_j^{(l)}$. Así, por ejemplo:\n",
    "    - La coordenada $j$ del vector de características $\\mathbf{x^{(0)}}$ es $x_j^{(0)}$     \n",
    "    - La coordenada $j$ del vector de salida $\\mathbf{x^{(L)}}$ es $x_j^{(L)}$"
   ]
  },
  {
   "cell_type": "code",
   "execution_count": 2,
   "metadata": {},
   "outputs": [],
   "source": [
    "# funciones auxiliares (Ejecutar y seguir)\n",
    "def error_relativo(x, y):\n",
    "    ''' devuelve el error relativo'''\n",
    "    return np.max(np.abs(x - y) / (np.maximum(1e-8, np.abs(x) + np.abs(y))))\n",
    "\n",
    "def calcular_gradiente_numerico_array(f, x, df, h=1e-5):\n",
    "    '''\n",
    "    Evalúa el gradiente numérico para una función que acepta un arreglo numpy y\n",
    "    devuelve un arreglo numpy.\n",
    "    '''\n",
    "    grad = np.zeros_like(x)\n",
    "    it = np.nditer(x, flags=['multi_index'], op_flags=['readwrite'])\n",
    "    while not it.finished:\n",
    "        ix = it.multi_index\n",
    "\n",
    "        oldval = x[ix]\n",
    "        x[ix] = oldval + h\n",
    "        pos = f(x).copy()\n",
    "        x[ix] = oldval - h\n",
    "        neg = f(x).copy()\n",
    "        x[ix] = oldval\n",
    "\n",
    "        grad[ix] = np.sum((pos - neg) * df) / (2 * h)\n",
    "        it.iternext()\n",
    "    return grad\n",
    "\n",
    "\n",
    "def calcular_gradiente_numerico(f, x, verbose=True, h=0.00001):\n",
    "    '''\n",
    "    Evalúa el gradiente numérico de f en x\n",
    "    - f es una función que recibe un solo argumente\n",
    "    - x es el punto (numpy array) en que se evalúa el gradiente\n",
    "    '''\n",
    "    \n",
    "    # se inicializa el gradiente \n",
    "    grad = np.zeros_like(x)\n",
    "    # se define un iterador sobre todos los elementos de x\n",
    "    it = np.nditer(x, flags=['multi_index'], op_flags=['readwrite'])\n",
    "    while not it.finished:\n",
    "\n",
    "        # se evalúa la función en x+h\n",
    "        ix = it.multi_index\n",
    "        oldval = x[ix]\n",
    "        x[ix] = oldval + h # se suma h al valor original de x\n",
    "        fxph = f(x) # se evalúa f(x + h)\n",
    "        x[ix] = oldval - h\n",
    "        fxmh = f(x) # se evalúa f(x - h)\n",
    "        x[ix] = oldval # se restaura el valor original de x\n",
    "\n",
    "        # se calcula la derivada parcial con la fórmula centrada\n",
    "        grad[ix] = (fxph - fxmh) / (2 * h) \n",
    "        if verbose:\n",
    "            print(ix, grad[ix])\n",
    "        it.iternext() # step to next dimension\n",
    "\n",
    "    return grad"
   ]
  },
  {
   "cell_type": "markdown",
   "metadata": {},
   "source": [
    "## Descripción del ejercicio"
   ]
  },
  {
   "cell_type": "markdown",
   "metadata": {},
   "source": [
    "Se implementarán algunos de los elementos constitutivos de una red neuronal que más se utilizan en la práctica.  Con ellos se construirán un par de redes neuronales de dos capas. En este ejercicio se limitará la profundidad de la red a 2 para evitar entrar en los detalles de implementación propios de una red muy general. No obstante, los bloques a implementar se diseñaron de forma que conceptualmente sean similares a los que se utilizarían en una red neuronal más profunda. A continuación se muestra un diagrama de bloques de la red neuronal que se implementará y se describen los distintos bloques."
   ]
  },
  {
   "cell_type": "markdown",
   "metadata": {},
   "source": [
    "<img src=\"img/diagrama_de_bloques.png\" alt=\"drawing\" width=\"500\"/>"
   ]
  },
  {
   "cell_type": "markdown",
   "metadata": {},
   "source": [
    "- **Inicializar parámetros:** Inicializa los parámentros de la red. A los pesos de la capa $l$ de la red le llamaremos $W_l$, $b_l$ con $l=1,2$. \n",
    "- **Propagación hacia adelante:** La *propagación hacia adelante*  o *forward propagation* consiste en estimar la salida de la red a partir de la entrada. Cada nodo o capa de la red tiene un método *forward* asociado. En este ejercicio se implementarán los métodos forward asociados a los siguientes bloques:\n",
    "        - Afin\n",
    "        - Activación \n",
    "        - Afin --> Activación\n",
    "        \n",
    "- **Loss:** Calcula el valor de la función de costo a optimizar. Se implementarán dos funciones de costo:\n",
    "        - Entropía cruzada\n",
    "        - Error cuadrático medio\n",
    "- **Propagación hacia atrás:** Durante la *propagación hacia atrás* o *backpropagation* se calculan los gradientes necesarios para actualizar los parámetros de la red. Se implementarán métodos *backward* para los siguientes bloques:\n",
    "        - Afin\n",
    "        - Activación \n",
    "        - Afin --> Activación\n",
    "- **Update:** Es el boque encargado de actualizar los parámetros. Para ello utiliza los gradientes calculados durante la *propagación hacia atrás* y un método de optimización. En este práctico se utilizará *descenso por gradiente* como método de optimización."
   ]
  },
  {
   "cell_type": "markdown",
   "metadata": {},
   "source": [
    "## 1- Bloque de Inicialización"
   ]
  },
  {
   "cell_type": "markdown",
   "metadata": {},
   "source": [
    "Se implementará el bloque de inicialización para el caso de una red neuronal de dos capas con la siguiente estructura:    \n",
    "  Afín --> Activación 1 --> Afín --> Activacion 2        \n",
    "\n",
    "**Ejercicio:** Completar la implementación de `inicializar_pesos()`. Los pesos $W_l$ serán inicializados en valores aleatorios pequeños. Los pesos correspondientes a términos de *bias* se inicializarán a cero."
   ]
  },
  {
   "cell_type": "code",
   "execution_count": 3,
   "metadata": {},
   "outputs": [],
   "source": [
    "def inicializar_pesos(d_0, d_1, d_2, tipo='aleatoria', std_ruido=0.01, semilla=1):\n",
    "    \"\"\"\n",
    "    Entrada:\n",
    "        d_0: dimensión del vector de características\n",
    "        d_1: número de nodos de la capa oculta\n",
    "        d_2: número de nodos de la capa de salida\n",
    "        tipo: string que indica el tipo de inicialización a utilizar en los pesos\n",
    "            'aleatoria': inicializa los pesos a valores aleatorios con distribución\n",
    "                         gaussiana. Los términos de bias se inicializan a cero.\n",
    "        std_rudio: desviación estandar del ruido gaussiano\n",
    "        semilla: semilla a utilizar para generar los valores aleatorios\n",
    "    \n",
    "    Salida:\n",
    "        diccionario con los siguientes pares clave-valor:\n",
    "            W1: matriz de pesos de la capa 1 de tamaño (d_0, d_1)\n",
    "            b1: vector de bias de la capa 1 de tamaño (d_1)\n",
    "            W2: matriz de pesos de capa 2 de tamaño (d_1, d_2)\n",
    "            b2: vector de bias de la capa 2 de tamaño (d_2)\n",
    "    \"\"\"\n",
    "    \n",
    "    np.random.seed(semilla)\n",
    "        \n",
    "    if tipo == 'aleatoria':\n",
    "        \n",
    "        ####################################################################################\n",
    "        ###########  EMPIEZA ESPACIO PARA COMPLETAR CODIGO  ################################\n",
    "        ####################################################################################\n",
    "        W1 = np.random.normal(size=(d_0, d_1))*std_ruido\n",
    "        b1 = np.zeros(d_1)\n",
    "        W2 = np.random.normal(size=(d_1, d_2))*std_ruido\n",
    "        b2 = np.zeros(d_2)\n",
    "    \n",
    "        ####################################################################################\n",
    "        ###########  TERMINA ESPACIO PARA COMPLETAR CODIGO  ################################\n",
    "        ####################################################################################\n",
    "    \n",
    "    assert(W1.shape == (d_0, d_1 ))\n",
    "    assert(b1.shape == (d_1,))\n",
    "    assert(W2.shape == (d_1, d_2))\n",
    "    assert(b2.shape == (d_2,))\n",
    "    \n",
    "    # Se genera el diccionario con los valores inicializados\n",
    "    parametros = {'W1': W1,\n",
    "                  'b1': b1,\n",
    "                  'W2': W2,\n",
    "                  'b2': b2}\n",
    "    \n",
    "    return parametros    "
   ]
  },
  {
   "cell_type": "code",
   "execution_count": 34,
   "metadata": {},
   "outputs": [
    {
     "name": "stdout",
     "output_type": "stream",
     "text": [
      "Testeando la incialización aleatoria:\n",
      "Diferencia en W1:  7.528514403884451e-07\n",
      "Diferencia en b1:  0.0\n",
      "Diferencia en W2:  3.0000138227282463e-06\n",
      "Diferencia en b2:  0.0\n"
     ]
    }
   ],
   "source": [
    "# Se testea la inicialización con pesos aleatorios\n",
    "parametros = inicializar_pesos(3,6,1)\n",
    "\n",
    "W1_correcto = np.array([[ 0.01624345, -0.00611756, -0.00528172, -0.01072969,  0.00865408, -0.02301539],\n",
    "                         [ 0.01744812, -0.00761207,  0.00319039, -0.0024937,   0.01462108, -0.02060141],\n",
    "                         [-0.00322417, -0.00384054,  0.01133769, -0.01099891, -0.00172428, -0.00877858]])\n",
    "b1_correcto = np.array([0., 0., 0., 0., 0., 0.])\n",
    "W2_correcto = np.array([[ 0.00042214] , [ 0.00582815], [-0.01100619], [ 0.01144724], [ 0.00901591], [ 0.00502494]])\n",
    "b2_correcto = np.array([0.])\n",
    "\n",
    "# Se compara la salida con la nuestra. El error debería ser e-6 o menos.\n",
    "print('Testeando la incialización aleatoria:')\n",
    "print('Diferencia en W1: ', error_relativo(parametros['W1'], W1_correcto))\n",
    "print('Diferencia en b1: ', error_relativo(parametros['b1'], b1_correcto))\n",
    "print('Diferencia en W2: ', error_relativo(parametros['W2'], W2_correcto))\n",
    "print('Diferencia en b2: ', error_relativo(parametros['b2'], b2_correcto))"
   ]
  },
  {
   "cell_type": "markdown",
   "metadata": {},
   "source": [
    "**Observación:** *La inicialización de pesos en este caso fue aleatoria. Con redes de pocas capas esta inicialización suele producir buenos resultados. Sin embargo, a medida que aumenta la profundidad de la red la correcta inicialización de los parámetros adquiere una relevancia mayor. Quien quiera profundizar en la importancia de la inicialización en el caso de redes profundas puede consultar:* \n",
    "\n",
    "* [Glorot, Xavier, and Yoshua Bengio. “Understanding the difficulty of\n",
    "    training deep feedforward neural networks.” International Conference on Artificial Intelligence and Statistics. 2010.](http://proceedings.mlr.press/v9/glorot10a/glorot10a.pdf)\n",
    "* [He, Kaiming, et al. “Delving deep into rectifiers: Surpassing human-level\n",
    "    performance on imagenet classification.” arXiv preprint arXiv:1502.01852 (2015).](https://arxiv.org/pdf/1502.01852v1.pdf)"
   ]
  },
  {
   "cell_type": "markdown",
   "metadata": {},
   "source": [
    "## 2- Bloques Forward\n",
    "\n",
    "En esta sección se implementarán los métodos *forward* de los componentes de la red neuronal de dos capas que vamos a utilizar. Observar que la capa oculta tiene un número $d^{(1)}$ de nodos mientras que la de salida tiene 1 un solo nodo. Además observar que en cada nodo se realiza una *transformación afin* de los datos de entrada y luego de pasa el resultado por una *función de activación*.\n",
    "\n",
    "<img src=\"img/red_dos_capas.png\" alt=\"drawing\" width=\"600\"/>"
   ]
  },
  {
   "cell_type": "markdown",
   "metadata": {},
   "source": [
    "En particular, se implementarán los métodos *forward* de los siguientes bloques: \n",
    "\n",
    "- Bloque Afín  \n",
    "- Bloque Activación donde la activación puede ser ReLU, Sigmoide o TangenteH.\n",
    "- Bloque Afín -> Activación  "
   ]
  },
  {
   "cell_type": "markdown",
   "metadata": {},
   "source": [
    "### 2.1 - Forward Afín\n",
    "\n",
    "La señal de entrada a la activación de la capa $\\textit{l}$ puede escribirse como:\n",
    "\n",
    "$$\n",
    "\\mathbf{s}^{(l)}=\\left( W^{(l)} \\right)^T \\mathbf{x}^{(l-1)}+ \\mathbf{b}^{(l)}   \\tag{1}\n",
    "$$\n",
    "\n",
    "donde $\\mathbf{s}^{(l)}$ y $\\mathbf{b}^{(l)}$ son vectores de tamaño $d^{(l)}$, $\\mathbf{x}^{(l-1)}$  es un vector de tamaño $d^{(l-1)}$ y $W^{(l)}$ es una matriz de tamaño $d^{(l-1)} \\times d^{(l)}$.\n",
    "\n",
    "**Observación:** *Esta forma de escribir $\\mathbf{s}^{(l)}$ es levemente distinta a la expresión del libro, en la que todos los parámetros de la capa se agrupan en una matriz $W^{(l)}$ de tamaño $d^{(l-1)+1} \\times d^{(l)}$. En esta expresión se desacoplan los parámetros de bias y se indican mediante el vector $\\mathbf{b}^{(l)}$. Una ventaja práctica que tiene desacoplar los parámetros de bias es que $\\mathbf{x}^{(l)}=\\theta \\left(\\mathbf{s}^{(l)}\\right) $ en vez de la expresión en coordenadas homogéneas $\\mathbf{x}^{(l)}= \\left[ 1 , \\left( \\theta \\left(\\mathbf{s}^{(l)}\\right) \\right)^T \\right]^T $ que utiliza el libro del curso.*\n",
    "\n",
    "La ecuación (1) es válida cuando la entrada a la capa es un único vector $\\mathbf{x}^{(l-1)}$. En la práctica es más habitual procesar un $\\textit{batch}$ de vectores de entrada a la vez, por lo tanto es deseable contar con una expresión que genere la salida para todos los vectores de entrada a la vez. Al evitar la utilización de un bloque $\\textit{for}$ que itere por cada una de las muestras del $\\textit{batch}$ se mejora la eficiencia de la implementación.   \n",
    "\n",
    "\n",
    "La versión de la ecuación (1) que actúa sobre un conjunto de muestras a la vez es la siguiente:\n",
    "\n",
    "$$\n",
    "S^{(l)} = X^{(l-1)}W^{(l)} +b^{(l)}\\tag{2}\n",
    "$$\n",
    "\n",
    "donde $X^{[0]} = X$, siendo X una matriz que contiene un vector de características en cada fila.\n",
    "\n",
    "**Ejercicio**: Implementar el método `afin_forward()` utilizando la versión eficiente dada por la ecuación (2)."
   ]
  },
  {
   "cell_type": "code",
   "execution_count": 4,
   "metadata": {},
   "outputs": [],
   "source": [
    "def afin_forward(X, W, b):\n",
    "    \"\"\"\n",
    "    Implementa la propagación hacia adelante en una capa afin.\n",
    "\n",
    "    Entrada:\n",
    "        X: matriz de tamaño (N, dim capa anterior) que en cada fila contiene un vector de\n",
    "           activaciones de la capa anterior (o datos de entrada)\n",
    "        W: matriz de pesos de tamaño (dim de capa anterior, dim de capa actual) \n",
    "        b: vector de bias de tamaño (dim de la capa actual,)\n",
    "\n",
    "    Salida:\n",
    "        S: matriz de tamaño (N, dim de capa actual) que contiene\n",
    "           los scores o señal de entrada a la activación  \n",
    "        cache: (X, W, b) tupla que contiene X, W y b. \n",
    "               Son almacenados para calcular el paso backward eficientemente\n",
    "    \"\"\"\n",
    "    \n",
    "    ####################################################################################\n",
    "    ###########  EMPIEZA ESPACIO PARA COMPLETAR CODIGO  ################################\n",
    "    ####################################################################################\n",
    "\n",
    "    S = X@W + b\n",
    "\n",
    "    ####################################################################################\n",
    "    ###########  EMPIEZA ESPACIO PARA COMPLETAR CODIGO  ################################\n",
    "    ####################################################################################\n",
    "    \n",
    "    assert(S.shape == (X.shape[0], W.shape[1] ))\n",
    "    cache = (X, W, b)\n",
    "    \n",
    "    return S, cache"
   ]
  },
  {
   "cell_type": "code",
   "execution_count": 36,
   "metadata": {},
   "outputs": [
    {
     "name": "stdout",
     "output_type": "stream",
     "text": [
      "Testeando afin_forward:\n",
      "diferencia:  9.769849468192957e-10\n"
     ]
    }
   ],
   "source": [
    "# Se testea afin_forward (solo la salida)\n",
    "\n",
    "num_muestras = 2\n",
    "dim_entrada = 120\n",
    "dim_salida = 3\n",
    "\n",
    "x = np.linspace(-0.1, 0.5, num=num_muestras * dim_entrada).reshape(num_muestras, dim_entrada)\n",
    "w = np.linspace(-0.2, 0.3, num=dim_entrada *dim_salida ).reshape(dim_entrada, dim_salida)\n",
    "b = np.linspace(-0.3, 0.1, num=dim_salida)\n",
    "\n",
    "S, _ = afin_forward(x, w, b)\n",
    "S_correcto = np.array([[ 1.49834967,  1.70660132,  1.91485297],\n",
    "                        [ 3.25553199,  3.5141327,   3.77273342]])\n",
    "\n",
    "# Se compara la salida con la nuestra. El error debería dar e-9 o menos.\n",
    "print('Testeando afin_forward:')\n",
    "print('diferencia: ', error_relativo(S, S_correcto))"
   ]
  },
  {
   "cell_type": "markdown",
   "metadata": {},
   "source": [
    "### 2.2 - Funciones de activación"
   ]
  },
  {
   "cell_type": "markdown",
   "metadata": {},
   "source": [
    "En este notebook se implementarán tres de las funciones de activación más utilizadas:\n",
    "\n",
    "- **Sigmoide**: $\\sigma(S) = \\sigma(X W  + b) = \\frac{1}{ 1 + e^{-(X W  + b)}}$. Esta función devuelve, además de la activación resultante, la variable cache que contiene la señal `S` que dio lugar a la activación (se utiilza luego durante la propagación hacia atrás).\n",
    "\n",
    "``` python\n",
    "X, cache = sigmoid(S)\n",
    "```\n",
    "\n",
    "- **Tangente Hiperbólica**: $\\tanh(S) = \\frac{e^S-e^{-S}}{e^S+e^{-S}}$. Esta función devuelve, además del resultado de *np.tanh(S)*, la variable cache que contiene la señal `S` que dio lugar a la activación (se utiilza luego durante la propagación hacia atrás).       \n",
    "\n",
    "``` python\n",
    "X, cache = tanh(S)\n",
    "```\n",
    "\n",
    "\n",
    "- **Rectified Linear Unit**:  $ReLU(S) = max(0, S)$.  Al igual que en el caso de la activación sigmoide, esta función devuelve además de la activación resultante, la variable cache que contiene la señal `S` que dio lugar a la activación (se utiilza luego durante la propagación hacia atrás).\n",
    "\n",
    "``` python\n",
    "X, cache = relu(Z)\n",
    "```"
   ]
  },
  {
   "cell_type": "code",
   "execution_count": 37,
   "metadata": {},
   "outputs": [],
   "source": [
    "def sigmoide(S):\n",
    "    \"\"\"\n",
    "    Implementa la activación sigmoide\n",
    "    \n",
    "    Entrada:\n",
    "        S: arreglo numpy que contiene las entradas a la activación. \n",
    "           Las dimensiones de entrada no están definidas.\n",
    "    \n",
    "    Salida:\n",
    "        X: arreglo del mismo tamaño que S que contiene la salida de sigmoid(S) \n",
    "        cache: devuelve S para utilizar durante la propagación hacia atrás\n",
    "    \"\"\"\n",
    "    \n",
    "    ####################################################################################\n",
    "    ###########  EMPIEZA ESPACIO PARA COMPLETAR CODIGO  ################################\n",
    "    ####################################################################################\n",
    "\n",
    "    X = 1/(1 + np.exp(-S.copy()))\n",
    "    cache = S.copy()\n",
    "    \n",
    "    ####################################################################################\n",
    "    ###########  TERMINA ESPACIO PARA COMPLETAR CODIGO  ################################\n",
    "    ####################################################################################\n",
    "    assert X.shape == S.shape, 'La entrada y la salida deben ser del mismo tamaño'\n",
    "    return X, cache"
   ]
  },
  {
   "cell_type": "code",
   "execution_count": 38,
   "metadata": {},
   "outputs": [
    {
     "name": "stdout",
     "output_type": "stream",
     "text": [
      "Testeando la función sigmoide()\n",
      "Diferencia:  5.157221295671855e-09\n"
     ]
    }
   ],
   "source": [
    "# Se testea sigmoide() \n",
    "\n",
    "S = np.linspace(-0.5, 0.5, num=12).reshape(3, 4)\n",
    "\n",
    "X, _ = sigmoide(S)\n",
    "X_correcto = np.array([[0.37754067, 0.39913012, 0.42111892, 0.44342513],\n",
    "                         [0.46596182, 0.48863832, 0.51136168, 0.53403818],\n",
    "                         [0.55657487, 0.57888108, 0.60086988, 0.62245933]])\n",
    "\n",
    "# Se compara la salida con la nuestra. El error debería ser del orden de e-8\n",
    "print('Testeando la función sigmoide()')\n",
    "print('Diferencia: ', error_relativo(X, X_correcto))\n"
   ]
  },
  {
   "cell_type": "code",
   "execution_count": 39,
   "metadata": {},
   "outputs": [],
   "source": [
    "def tanh(S):\n",
    "    \"\"\"\n",
    "    Implementa la activación tangente hiperbólica\n",
    "    \n",
    "    Entrada:\n",
    "        S: arreglo numpy que contiene las entradas a la activación. \n",
    "           Las dimensiones de entrada no están definidas.\n",
    "    \n",
    "    Salida:\n",
    "        X: arreglo del mismo tamaño que S que contiene la salida de tanh(S) \n",
    "        cache: devuelve S para utilizar durante la propagación hacia atrás\n",
    "    \"\"\"\n",
    "    \n",
    "    ####################################################################################\n",
    "    ###########  EMPIEZA ESPACIO PARA COMPLETAR CODIGO  ################################\n",
    "    ####################################################################################\n",
    "\n",
    "    X = (np.exp(S.copy()) - np.exp(-S.copy()))/(np.exp(S.copy()) + np.exp(-S.copy()))\n",
    "    cache = S.copy()\n",
    "    \n",
    "    ####################################################################################\n",
    "    ###########  TERMINA ESPACIO PARA COMPLETAR CODIGO  ################################\n",
    "    ####################################################################################\n",
    "    assert X.shape == S.shape, 'La entrada y la salida deben ser del mismo tamaño'\n",
    "    return X, cache"
   ]
  },
  {
   "cell_type": "code",
   "execution_count": 40,
   "metadata": {},
   "outputs": [
    {
     "name": "stdout",
     "output_type": "stream",
     "text": [
      "Testeando la función tanh()\n",
      "Diferencia:  3.829228808681821e-08\n"
     ]
    }
   ],
   "source": [
    "# Se testea tanh() \n",
    "\n",
    "S = np.linspace(-0.5, 0.5, num=12).reshape(3, 4)\n",
    "\n",
    "X, _ = tanh(S)\n",
    "X_correcto = np.array([[-0.46211716, -0.38770051, -0.30786199, -0.22343882],\n",
    "                         [-0.13552465, -0.04542327,  0.04542327,  0.13552465],\n",
    "                         [ 0.22343882,  0.30786199,  0.38770051, 0.46211716]])\n",
    "\n",
    "# Se compara la salida con la nuestra. El error debería ser del orden de e-8\n",
    "print('Testeando la función tanh()')\n",
    "print('Diferencia: ', error_relativo(X, X_correcto))\n"
   ]
  },
  {
   "cell_type": "code",
   "execution_count": 41,
   "metadata": {},
   "outputs": [],
   "source": [
    "def relu(S):\n",
    "    '''\n",
    "    Implementa la activación relu\n",
    "    \n",
    "    Entrada:\n",
    "        S: arreglo numpy que contiene las entradas a la activación. \n",
    "           Las dimensiones de entrada no están definidas.\n",
    "    \n",
    "    Salida:\n",
    "        X: arreglo del mismo tamaño que S que contiene la salida de relu(S) \n",
    "        cache: devuelve S para utilizar durante la propagación hacia atrás\n",
    "    '''\n",
    "    \n",
    "    ####################################################################################\n",
    "    ###########  EMPIEZA ESPACIO PARA COMPLETAR CODIGO  ################################\n",
    "    ####################################################################################\n",
    "\n",
    "    X = S.copy()*0\n",
    "    \n",
    "    for i in range(S.shape[0]): \n",
    "        for j in range(S.shape[1]):\n",
    "            if S[i,j] > 0:\n",
    "                X[i,j] = S[i,j].copy()\n",
    "        \n",
    "    cache = S.copy()\n",
    "    \n",
    "    ####################################################################################\n",
    "    ###########  TERMINA ESPACIO PARA COMPLETAR CODIGO  ################################\n",
    "    ####################################################################################\n",
    "    assert(X.shape == S.shape)\n",
    "        \n",
    "    return X, cache"
   ]
  },
  {
   "cell_type": "code",
   "execution_count": 42,
   "metadata": {},
   "outputs": [
    {
     "name": "stdout",
     "output_type": "stream",
     "text": [
      "Testeando la función relu()\n",
      "Diferencia:  4.999999798022158e-08\n"
     ]
    }
   ],
   "source": [
    "# Testeando la función relu()\n",
    "\n",
    "x = np.linspace(-0.5, 0.5, num=12).reshape(3, 4)\n",
    "\n",
    "X, _ = relu(x)\n",
    "X_correcto = np.array([[ 0.,          0.,          0.,          0.,        ],\n",
    "                        [ 0.,          0.,          0.04545455,  0.13636364,],\n",
    "                        [ 0.22727273,  0.31818182,  0.40909091,  0.5,       ]])\n",
    "\n",
    "# Se compara la salida con la nuestra. El error debería ser del orden de e-8\n",
    "print('Testeando la función relu()')\n",
    "print('Diferencia: ', error_relativo(X, X_correcto))"
   ]
  },
  {
   "cell_type": "markdown",
   "metadata": {},
   "source": [
    "### 2.3 - Aplicación conjunta de capa afin y activación"
   ]
  },
  {
   "cell_type": "markdown",
   "metadata": {},
   "source": [
    "Cuando se implementan redes profundas es conveniente agrupar varias funciones en una sola operación. Para ejemplificar, en este caso crearemos una capa que aplique la transformación lineal y una de las activaciones disponibles. \n",
    "\n",
    "**Ejercicio**: Implementar la propagación hacia adelante de una capa *Afin->Activacion*. El método `afin_activacion_forward()` implementa la operación:\n",
    "\n",
    "$$\n",
    "X^{[l]} = \\theta(S^{(l)}) = \\theta(X^{(l-1)}W^{(l)} +b^{(l)})\n",
    "$$\n",
    "\n",
    "donde la activación $\\theta(\\cdot)$ será alguna de las implementadas. Se deberá hacer uso de `afin_forward()` y de la función de activación pasada como argumento. "
   ]
  },
  {
   "cell_type": "code",
   "execution_count": 43,
   "metadata": {},
   "outputs": [],
   "source": [
    "def afin_activacion_forward(X_prev, W, b, activacion):\n",
    "    \"\"\"\n",
    "    Implementa la propagación hacia adelante para una capa Afin->Activación \n",
    "    Entrada:\n",
    "        X_prev: arreglo de tamaño (N, dim capa anterior) que contiene la \n",
    "                activación de la capa anterior (o datos de entrada):          \n",
    "        W: matriz de pesos de tamaño (dim de capa anterior, dim de capa actual)  \n",
    "        b: vector de bias de tamaño (dim de la capa actual)\n",
    "        activacion: la activacion a utilizar en esta capa se indica con uno de los \n",
    "                    siguientes strings: 'sigmoide', 'tanh' o 'relu'\n",
    "\n",
    "    Salida:\n",
    "        X: arreglo de tamaño (N, dim de capa actual) que contiene la salida \n",
    "           de la función de activación  \n",
    "        cache: tupla que contiene \"cache_afin\" y \"cache_activacion\".\n",
    "               Se almacenan para calcular la propagación hacia atrás eficientemente\n",
    "    \"\"\"\n",
    "    \n",
    "    \n",
    "    ####################################################################################\n",
    "    ###########  EMPIEZA ESPACIO PARA COMPLETAR CODIGO  ################################\n",
    "    ####################################################################################\n",
    "\n",
    "    S, cache_afin = afin_forward(X_prev, W, b)\n",
    "        \n",
    "    if activacion == 'sigmoide':\n",
    "        X, cache_activacion = sigmoide(S)\n",
    "    elif activacion == 'tanh':\n",
    "        X, cache_activacion = tanh(S)\n",
    "    elif activacion == 'relu':\n",
    "        X, cache_activacion = relu(S)\n",
    "    \n",
    "    \n",
    "    ####################################################################################\n",
    "    ###########  TERMINA ESPACIO PARA COMPLETAR CODIGO  ################################\n",
    "    ####################################################################################\n",
    "    \n",
    "    assert (X.shape == (X_prev.shape[0], W.shape[1]))\n",
    "    cache = (cache_afin, cache_activacion)\n",
    "\n",
    "    return X, cache"
   ]
  },
  {
   "cell_type": "code",
   "execution_count": 44,
   "metadata": {},
   "outputs": [
    {
     "name": "stdout",
     "output_type": "stream",
     "text": [
      "Testeando afin_activacion_forward con activación sigmoide:\n",
      "diferencia:  2.8286980165180753e-09\n",
      "Testeando afin_activacion_forward con activación tanh:\n",
      "diferencia:  5.346405168705657e-09\n",
      "Testeando afin_activacion_forward con activación relu:\n",
      "diferencia:  2.870847555008169e-09\n"
     ]
    }
   ],
   "source": [
    "# Se testea afin_activacion_forward (solo la salida)\n",
    "\n",
    "num_muestras = 3\n",
    "dim_entrada = 80\n",
    "dim_salida = 2\n",
    "\n",
    "x_prev = np.linspace(-0.1, 0.5, num=num_muestras * dim_entrada).reshape(num_muestras, dim_entrada)\n",
    "w = np.linspace(-0.2, 0.3, num=dim_entrada *dim_salida ).reshape(dim_entrada, dim_salida)\n",
    "b = np.linspace(-0.3, 0.1, num=dim_salida)\n",
    "\n",
    "\n",
    "print('Testeando afin_activacion_forward con activación sigmoide:')\n",
    "X, _ = afin_activacion_forward(x_prev, w, b, 'sigmoide')\n",
    "X_correcto = np.array([[0.59153611, 0.6835444 ],\n",
    "                       [0.75921928, 0.8318392 ],\n",
    "                       [0.87286027, 0.91888762]])\n",
    "# Se compara la salida con la nuestra. El error debería dar  del orden de e-9.\n",
    "print('diferencia: ', error_relativo(X, X_correcto))\n",
    "\n",
    "\n",
    "print('Testeando afin_activacion_forward con activación tanh:')\n",
    "X, _ = afin_activacion_forward(x_prev, w, b, 'tanh')\n",
    "X_correcto = np.array([[0.35427088, 0.64699264],\n",
    "                       [0.81722466, 0.92147542],\n",
    "                       [0.95844863, 0.98453647],])\n",
    "# Se compara la salida con la nuestra. El error debería dar  del orden de e-9.\n",
    "print('diferencia: ', error_relativo(X, X_correcto))\n",
    "\n",
    "\n",
    "print('Testeando afin_activacion_forward con activación relu:')\n",
    "X, _ = afin_activacion_forward(x_prev, w, b, 'relu')\n",
    "X_correcto = np.array([[[0.3703192,  0.77010868],\n",
    "                        [1.14840399, 1.59871845],\n",
    "                        [1.92648878, 2.42732823]],])\n",
    "\n",
    "# Se compara la salida con la nuestra. El error debería dar  del orden de e-9.\n",
    "print('diferencia: ', error_relativo(X, X_correcto))"
   ]
  },
  {
   "cell_type": "markdown",
   "metadata": {},
   "source": [
    "## 3 - Función de costo\n",
    "\n",
    "En esta sección se implementarán dos de las funciones de costo más utilizadas.  \n",
    "\n",
    "- **Entropía cruzada:** Es la función de costo más utilizada en problemas de clasificación binaria. Se recuerda que la misma se define mediante la fórmula:\n",
    "$$\n",
    "H(\\mathbf{\\mathbf{x}^{(L)}}, \\mathbf{y})= -\\frac{1}{N} \\sum\\limits_{n = 1}^{N} \\left( y_n\\log x^{(L)}_n + (1-y_n)\\log\\left(1- x^{(L)}_n\\right) \\right) \\tag{3}\n",
    "$$\n",
    "\n",
    "- **Error cuadrático medio:** Es la función de costo más utilizada en problemas de regresión. Se recuerda que la misma se define mediante la fórmula:\n",
    "$$\n",
    "MSE(\\mathbf{x}^{(L)}, \\mathbf{y})= \\frac{1}{2N} \\sum\\limits_{n = 1}^{N} \\left(y_n - x^{(L)}_n \\right)^2 \\tag{4}\n",
    "$$\n",
    "**Ejercicio**: Implementar los método `mse()` y `entropia_cruzada()`. Observar que en ambos casos la función deberá devolver, además del costo, el gradiente del costo respecto al vector $\\mathbf{x}^{(L)}$ (salida de la red y entrada del bloque *Loss*)."
   ]
  },
  {
   "cell_type": "code",
   "execution_count": 45,
   "metadata": {},
   "outputs": [],
   "source": [
    "def mse(xL, y):\n",
    "    \"\"\"\n",
    "    Implementa el error cuadratico medio como función de costo de una red neuronal con una sola capa\n",
    "    de salida.\n",
    "\n",
    "    Entrada:\n",
    "        xL: vector de dimensión (N,1) que contiene las salidas generadas por la red neuronal para N muestras.\n",
    "        y:  vector de dimensión (N,1) que contiene las salidas esperadas\n",
    "\n",
    "    Salida:\n",
    "        costo: escalar con el costo calculado\n",
    "        dxL: gradiente del costo respecto a xL, tiene las mismas dimensiones que xL\n",
    "    \"\"\"\n",
    "    \n",
    "    N = len(y)\n",
    "    ####################################################################################\n",
    "    ###########  EMPIEZA ESPACIO PARA COMPLETAR CODIGO  ################################\n",
    "    ####################################################################################\n",
    "    # Funcion de costo\n",
    "    costo = 0\n",
    "    for n in range(N):\n",
    "        costo += np.power((y[n] - xL[n]), 2)\n",
    "    costo = costo/(2*N)\n",
    "\n",
    "    # Gradiente\n",
    "    dxL = np.zeros_like(xL)\n",
    "    for n in range(N):\n",
    "        dxL[n] -= y[n] - xL[n]\n",
    "    dxL = dxL/N\n",
    "    \n",
    "    ####################################################################################\n",
    "    ###########  TERMINA ESPACIO PARA COMPLETAR CODIGO  ################################\n",
    "    ####################################################################################\n",
    "\n",
    "    costo = np.squeeze(costo) # Para asegurarnos que la salida sea un escalar (Ej: transforma [[12]] en 12).\n",
    "    assert(costo.shape == ())\n",
    "    assert(dxL.shape == xL.shape), 'Las dimensiones de dxL y xL deben ser iguales'\n",
    "    return costo, dxL"
   ]
  },
  {
   "cell_type": "code",
   "execution_count": 46,
   "metadata": {},
   "outputs": [
    {
     "name": "stdout",
     "output_type": "stream",
     "text": [
      "\n",
      "Testing mse():\n",
      "costo:  0.06933626891081793\n",
      "error en dxL:  9.374841613232854e-11\n"
     ]
    }
   ],
   "source": [
    "# Se testea la implementación de la función de costo error cuadrático medio\n",
    "np.random.seed(43)\n",
    "num_inputs = 9\n",
    "xL = np.random.rand(num_inputs,1)\n",
    "y = np.random.rand(num_inputs,1)\n",
    "\n",
    "dxL_num = calcular_gradiente_numerico(lambda xL: mse(xL, y)[0], xL, verbose=False)\n",
    "costo, dxL = mse(xL, y)\n",
    "\n",
    "# Testing de mse(). El costo debería dar cercano a 0.069 y el error en dxL en el entorno de e-10\n",
    "print('\\nTesting mse():')\n",
    "print('costo: ', costo)\n",
    "print('error en dxL: ', error_relativo(dxL_num, dxL))"
   ]
  },
  {
   "cell_type": "code",
   "execution_count": 47,
   "metadata": {},
   "outputs": [],
   "source": [
    "def entropia_cruzada(xL, y):\n",
    "    \"\"\"\n",
    "    Implementa la entropía cruzada\n",
    "\n",
    "    Entrada:\n",
    "        xL: vector de dimensión (N,1) que contiene las ¨probabilidades¨ de pertenecer a la clase positiva \n",
    "            estimadas por el modelo\n",
    "        y: vector de etiquetas de dimesión (N,1) (con unos para la clase positiva y 0 para la negativa)\n",
    "\n",
    "    Salida:\n",
    "        costo: escalar con el costo calculado\n",
    "        dxL: gradiente del costo respecto a xL, tiene las mismas dimensiones que xL\n",
    "    \"\"\"\n",
    "    \n",
    "    N = len(y)\n",
    "    ####################################################################################\n",
    "    ###########  EMPIEZA ESPACIO PARA COMPLETAR CODIGO  ################################\n",
    "    ####################################################################################\n",
    "    # Funcion de costo\n",
    "    costo = 0\n",
    "    for n in range(N):\n",
    "        costo -= y[n]*np.log(xL[n]) + (1-y[n])*np.log(1-xL[n])\n",
    "    costo = costo/N\n",
    "\n",
    "    #Gradiente\n",
    "    dxL = np.zeros_like(xL)\n",
    "    for n in range(N):\n",
    "        dxL[n] -= y[n]/xL[n] - (1-y[n])/(1-xL[n])    \n",
    "    dxL = dxL/N\n",
    "    \n",
    "    ####################################################################################\n",
    "    ###########  TERMINA ESPACIO PARA COMPLETAR CODIGO  ################################\n",
    "    ####################################################################################\n",
    "\n",
    "    costo = np.squeeze(costo) # Para asegurarnos que la salida sea un escalar (Ej: transforma [[12]] en 12).\n",
    "    assert(costo.shape == ())\n",
    "    assert(dxL.shape == xL.shape), 'Las dimensiones de dxL y xL deben ser iguales'\n",
    "    return costo, dxL"
   ]
  },
  {
   "cell_type": "code",
   "execution_count": 48,
   "metadata": {},
   "outputs": [
    {
     "name": "stdout",
     "output_type": "stream",
     "text": [
      "\n",
      "Testing entropia_cruzada:\n",
      "costo:  1.05681162393179\n",
      "error en dP:  1.0993162320064296e-08\n"
     ]
    }
   ],
   "source": [
    "# Se testea la implementación de la entropía cruzada\n",
    "np.random.seed(231)\n",
    "num_classes, num_inputs = 2, 10\n",
    "xL = np.random.rand(num_inputs,1)\n",
    "y = np.random.randint(num_classes, size=(num_inputs,1))\n",
    "\n",
    "dxL_num = calcular_gradiente_numerico(lambda xL: entropia_cruzada(xL, y)[0], xL, verbose=False)\n",
    "costo, dxL = entropia_cruzada(xL, y)\n",
    "\n",
    "# Testing la entropía cruzada. El costo debería dar cercano a 1.05 y el error en dP alrededor de 1e-8\n",
    "print('\\nTesting entropia_cruzada:')\n",
    "print('costo: ', costo)\n",
    "print('error en dP: ', error_relativo(dxL_num, dxL))"
   ]
  },
  {
   "cell_type": "markdown",
   "metadata": {},
   "source": [
    "## 4 - Propagación hacia atrás\n",
    "\n",
    "Al igual que como se hizo con la propagación hacia adelante, se implementarán funciones de ayuda para realizar la propagación hacia atrás. Se recuerda que la propagación hacia atrás se utiliza para calcular el gradiente de la función de costo respecto a los parámetros de la red. \n",
    "\n",
    "<img src=\"img/diagrama_backpropagation.png\" style=\"width:8=1012px;height:223px;\">\n",
    "<caption><center> Propagación hacia adelante y atrás en una red de dos capas con arquitectura: Afin->Activación 1->Afin->Activación 2 <br> </center></caption>  "
   ]
  },
  {
   "cell_type": "markdown",
   "metadata": {},
   "source": [
    "A continuación se implementará la versión *backward* de cada una de las funciones *forward* implementadas anteriormente. Es decir, se implementarán las siguientes funciones de propagación hacia atrás:\n",
    "- AFIN backward\n",
    "- ACTIVACION backward \n",
    "- AFIN -> ACTIVACION backward donde ACTIVACION puede ser *ReLU*, *sigmoide* o *tanh*"
   ]
  },
  {
   "cell_type": "markdown",
   "metadata": {},
   "source": [
    "### 4.1 - Afin backward\n",
    "\n",
    "Durante la propagación hacia adelante en la capa $l$ (sin considerar la activación) se calcula para una muestra: \n",
    "\n",
    "$$\n",
    "\\mathbf{s}^{(l)}=\\left( W^{(l)} \\right)^T \\mathbf{x}^{(l-1)}+ \\mathbf{b}^{(l)}   \\tag{1}\n",
    "$$\n",
    "\n",
    "Si se llama $e_n$ al costo debido a la muesta $n$ y se asume conocido el *vector de sensibilidad* $\\delta^{(l)}=\\frac{\\partial e_n}{\\partial \\mathbf{s}^{(l)}}$, en el teórico del curso se vio que \n",
    "\n",
    "$$\n",
    "\\frac{\\partial{e_n}}{\\partial{W^{(l)}}}=\\mathbf{x}^{(l-1)} \\left( \\delta^{(l)} \\right)^T\n",
    "$$\n",
    "\n",
    "Análogamente a como se hizo en el caso de la propagación hacia adelante, si se considera la contribución al error de un conjunto de muestras a la vez la ecuación se puede escribir en forma vectorizada como:\n",
    "\n",
    "$$\n",
    "\\frac{\\partial{E}}{\\partial{W^{(l)}}}= dW^{(l)} = \\left( X^{(l-1)}\\right)^ T dS^{(l)}   \\tag{5}\n",
    "$$\n",
    "\n",
    "donde $dS^{(l)}$ es una matríz de tamaño $N\\times d^{(l)}$ que en cada fila contiene el vector de sensibilidad $\\delta^{(l)}_n$ correspondiente a una de las muestras.\n",
    "\n",
    "Las derivadas respecto al vector de bias $\\mathbf{b}^{(l)}$ se calculan de forma similar (puede pensarse como un caso particular en que $X^{(l-1)}$ es un vector columna de unos) por lo que\n",
    "\n",
    "$$\n",
    "\\frac{\\partial{E}}{\\partial{\\mathbf{b}^{(l)}}}= d\\mathbf{b}^{(l)} =\\mathbb{1} ^ T dS^{(l)}  \\tag{6}\n",
    "$$\n",
    "\n",
    "Finalmente se calcula la influencia de cada una de las características en el error. Considerando primero el caso de una muestra, se tiene que:\n",
    "\n",
    "$$\n",
    "\\frac{\\partial{e_n}}{\\partial{\\mathbf{x}^{(l-1)}}} = W^{(l)} \\delta^{(l)}\n",
    "$$\n",
    "\n",
    "que en forma vectorizada puede escribirse como:\n",
    "\n",
    "$$ \n",
    " \\frac{\\partial E }{\\partial X^{(l-1)}} = dX^{(l-1)} = dS^{(l)} \\left( W^{(l) }\\right)^T \\tag{7}\n",
    "$$"
   ]
  },
  {
   "cell_type": "markdown",
   "metadata": {},
   "source": [
    "\n",
    "**Ejercicio**: Utilizando las ecuaciones (5),(6) y (7) implementar el método `afin_backward()`."
   ]
  },
  {
   "cell_type": "code",
   "execution_count": 5,
   "metadata": {},
   "outputs": [],
   "source": [
    "def afin_backward(dS, cache):\n",
    "    \"\"\"\n",
    "    Implementa la propagación hacia atrás para una capa l (sin considerar la activación)\n",
    "\n",
    "    Entrada:\n",
    "        dS: Gradiente de la función de costo con respecto a la salida de la capa actual \n",
    "            (sin considerar la activación)\n",
    "        cache: tupla de valores (X_prev, W, b) calculados durante la propagación hacia adelante\n",
    "               de la capa actual\n",
    "\n",
    "    Salida:\n",
    "        dX_prev: Gradiente de la función de costo con respecto a la activación de la capa anterior (l-1), \n",
    "                 tiene el mismo tamaño que X_prev\n",
    "        dW: Gradiente de la función de costo con respecto a W (de la capa actual l), \n",
    "            tiene el mismo tamaño que W\n",
    "        db: Gradiente de la función de costo con respecto a b (de la capa actual l), \n",
    "            tiene el mismo tamaño que b\n",
    "    \"\"\"\n",
    "    X_prev, W, b = cache\n",
    "    N = X_prev.shape[0]\n",
    "\n",
    "    ####################################################################################\n",
    "    ###########  EMPIEZA ESPACIO PARA COMPLETAR CODIGO  ################################\n",
    "    ####################################################################################\n",
    "    \n",
    "    ones = np.ones(dS.shape[0])\n",
    "    \n",
    "    dW = np.transpose(X_prev)@dS\n",
    "    db = np.transpose(ones)@dS\n",
    "    dX_prev = dS@np.transpose(W)\n",
    "    \n",
    "    ####################################################################################\n",
    "    ###########  TERMINA ESPACIO PARA COMPLETAR CODIGO  ################################\n",
    "    ####################################################################################\n",
    "\n",
    "    assert (dX_prev.shape == X_prev.shape)\n",
    "    assert (dW.shape == W.shape)\n",
    "    assert (db.shape == b.shape)\n",
    "    \n",
    "    return dX_prev, dW, db"
   ]
  },
  {
   "cell_type": "code",
   "execution_count": 8,
   "metadata": {},
   "outputs": [
    {
     "name": "stdout",
     "output_type": "stream",
     "text": [
      "Testing afin_backward():\n",
      "dx error:  3.669042497648924e-09\n",
      "dw error:  3.7482312588464514e-11\n",
      "db error:  1.640806364146397e-11\n"
     ]
    }
   ],
   "source": [
    "# Test de afin_backward\n",
    "np.random.seed(43)\n",
    "x = np.random.randn(10, 6)\n",
    "w = np.random.randn(6, 5)\n",
    "b = np.random.randn(5)\n",
    "dout = np.random.randn(10, 5)\n",
    "\n",
    "dx_num = calcular_gradiente_numerico_array(lambda x: afin_forward(x, w, b)[0], x, dout)\n",
    "dw_num = calcular_gradiente_numerico_array(lambda w: afin_forward(x, w, b)[0], w, dout)\n",
    "db_num = calcular_gradiente_numerico_array(lambda b: afin_forward(x, w, b)[0], b, dout)\n",
    "\n",
    "_, cache = afin_forward(x, w, b)\n",
    "dx, dw, db = afin_backward(dout, cache)\n",
    "\n",
    "# El error debería ser del orden de e-9 o menos\n",
    "print('Testing afin_backward():')\n",
    "print('dx error: ', error_relativo(dx_num, dx))\n",
    "print('dw error: ', error_relativo(dw_num, dw))\n",
    "print('db error: ', error_relativo(db_num, db))"
   ]
  },
  {
   "cell_type": "markdown",
   "metadata": {},
   "source": [
    "### 4.2 - Activación backward"
   ]
  },
  {
   "cell_type": "markdown",
   "metadata": {},
   "source": [
    "Si  $\\theta(\\cdot)$ es la función de activación, entonces tanto\n",
    "`sigmoide_backward()` como `tanh_backward()` y `relu_backward()` calculan \n",
    "\n",
    "$$\n",
    "dS^{(l)} = dX^{(l)} * \\theta'(S^{(l)})   \\tag{8}\n",
    "$$\n",
    "\n",
    "donde $\\theta'(\\cdot)$ debe ser calculado para cada caso. "
   ]
  },
  {
   "cell_type": "markdown",
   "metadata": {},
   "source": [
    "**Ejercicio**: Implementar los métodos *backward* cada una de las funciones de activación implementadas"
   ]
  },
  {
   "cell_type": "code",
   "execution_count": 51,
   "metadata": {},
   "outputs": [],
   "source": [
    "def tanh_backward(dX, cache):\n",
    "    \"\"\"\n",
    "    Implementa la propagación hacia atrás de una activación tanh().\n",
    "\n",
    "    Entrada:\n",
    "        dX: gradiente de la función de costo respecto a la salida de la capa tanh(),\n",
    "              el tamaño del arreglo no está definido\n",
    "        cache: 'S' valor almacenado durante la propagación hacia adelante\n",
    "\n",
    "    Returns:\n",
    "        dS: Gradiene del costo respecto a S\n",
    "    \"\"\"\n",
    "    \n",
    "    S = cache\n",
    "    \n",
    "    ####################################################################################\n",
    "    ###########  EMPIEZA ESPACIO PARA COMPLETAR CODIGO  ################################\n",
    "    ####################################################################################\n",
    "    ones = np.ones_like(S)\n",
    "    theta_S,_ = tanh(S) \n",
    "    theta_S_sqr = np.power(theta_S, 2)\n",
    "    \n",
    "    dS = dX*(ones - theta_S_sqr)\n",
    "    \n",
    "    ####################################################################################\n",
    "    ###########  TERMINA ESPACIO PARA COMPLETAR CODIGO  ################################\n",
    "    ####################################################################################\n",
    "    \n",
    "    assert (dS.shape == S.shape), 'dS y S no tienen el mismo tamaño'\n",
    "    assert (dX.shape == S.shape), 'dX y S no tienen el mismo tamaño'\n",
    "    \n",
    "    return dS"
   ]
  },
  {
   "cell_type": "code",
   "execution_count": 52,
   "metadata": {},
   "outputs": [
    {
     "name": "stdout",
     "output_type": "stream",
     "text": [
      "Testing tanh_backward():\n",
      "dS error:  1.5682053742463614e-10\n"
     ]
    }
   ],
   "source": [
    "# Test de tanh_backward\n",
    "\n",
    "np.random.seed(231)\n",
    "S = np.random.randn(10, 10)\n",
    "dout = np.random.randn(*S.shape)\n",
    "\n",
    "dS_num = calcular_gradiente_numerico_array(lambda S: tanh(S)[0], S, dout)\n",
    "\n",
    "_, cache = tanh(S)\n",
    "dS = tanh_backward(dout, cache)\n",
    "\n",
    "# El error debería ser del orden de e-10\n",
    "print('Testing tanh_backward():')\n",
    "print('dS error: ', error_relativo(dS_num, dS))\n"
   ]
  },
  {
   "cell_type": "code",
   "execution_count": 53,
   "metadata": {},
   "outputs": [],
   "source": [
    "def sigmoide_backward(dX, cache):\n",
    "    \"\"\"\n",
    "    Implementa la propagación hacia atrás de una activación Sigmoide.\n",
    "\n",
    "    Entrada:\n",
    "        dX: gradiente de la función de costo respecto a la salida de la capa relu,\n",
    "              el tamaño del arreglo no está definido\n",
    "        cache: 'S' valor almacenado durante la propagación hacia adelante\n",
    "\n",
    "    Returns:\n",
    "        dS: Gradiene del costo respecto a S\n",
    "    \"\"\"\n",
    "    \n",
    "    S = cache\n",
    "    \n",
    "    ####################################################################################\n",
    "    ###########  EMPIEZA ESPACIO PARA COMPLETAR CODIGO  ################################\n",
    "    ####################################################################################\n",
    "    \n",
    "    sigm, _ = sigmoide(S)\n",
    "     \n",
    "    sigmoide_prima = sigm*(1-sigm)\n",
    "    \n",
    "    dS = dX*sigmoide_prima\n",
    "     \n",
    "    ####################################################################################\n",
    "    ###########  TERMINA ESPACIO PARA COMPLETAR CODIGO  ################################\n",
    "    ####################################################################################\n",
    "    \n",
    "    assert (dS.shape == S.shape), 'dS y S no tienen el mismo tamaño'\n",
    "    assert (dX.shape == S.shape), 'dX y S no tienen el mismo tamaño'\n",
    "    \n",
    "    return dS"
   ]
  },
  {
   "cell_type": "code",
   "execution_count": 54,
   "metadata": {},
   "outputs": [
    {
     "name": "stdout",
     "output_type": "stream",
     "text": [
      "Testing sigmoide_backward():\n",
      "dS error:  3.446520386706568e-11\n"
     ]
    }
   ],
   "source": [
    "# Test de sigmoid_backward\n",
    "np.random.seed(231)\n",
    "S = np.random.randn(10, 10)\n",
    "dout = np.random.randn(*S.shape)\n",
    "\n",
    "dS_num = calcular_gradiente_numerico_array(lambda S: sigmoide(S)[0], S, dout)\n",
    "\n",
    "_, cache = sigmoide(S)\n",
    "dS = sigmoide_backward(dout, cache)\n",
    "\n",
    "# El error debería ser del orden de e-10 o menos\n",
    "print('Testing sigmoide_backward():')\n",
    "print('dS error: ', error_relativo(dS_num, dS))\n",
    "#####\n"
   ]
  },
  {
   "cell_type": "code",
   "execution_count": 55,
   "metadata": {},
   "outputs": [],
   "source": [
    "def relu_backward(dX, cache):\n",
    "    \"\"\"\n",
    "    Implementa la propagación hacia atrás de una activación ReLu.\n",
    "\n",
    "    Entrada:\n",
    "        dX: gu,\n",
    "              el tamaño del arreglo no está definido\n",
    "        cache: 'S' valor almacenado durante la propagación hacia adelante\n",
    "\n",
    "    Returns:\n",
    "    dS -- Gradiene del costo respecto a S\n",
    "    \"\"\"\n",
    "    \n",
    "    S = cache\n",
    "    \n",
    "    ####################################################################################\n",
    "    ###########  EMPIEZA ESPACIO PARA COMPLETAR CODIGO  ################################\n",
    "    ####################################################################################\n",
    "    relu_S, _ = relu(S)\n",
    "    relu_prima = np.zeros_like(relu_S)\n",
    "\n",
    "    for i in range(relu_S.shape[0]):\n",
    "        for j in range(relu_S.shape[1]):\n",
    "            if relu_S[i,j] != 0:\n",
    "                relu_prima[i,j] = 1\n",
    "    \n",
    "    dS = dX*relu_prima\n",
    "    \n",
    "\n",
    "    ####################################################################################\n",
    "    ###########  TERMINA ESPACIO PARA COMPLETAR CODIGO  ################################\n",
    "    ####################################################################################\n",
    "    assert (dS.shape == S.shape)\n",
    "    \n",
    "    return dS"
   ]
  },
  {
   "cell_type": "code",
   "execution_count": 56,
   "metadata": {},
   "outputs": [
    {
     "name": "stdout",
     "output_type": "stream",
     "text": [
      "Testing relu_backward():\n",
      "dS error:  3.2756349136310288e-12\n"
     ]
    }
   ],
   "source": [
    "# Test de relu_backward\n",
    "np.random.seed(231)\n",
    "x = np.random.randn(10, 10)\n",
    "dout = np.random.randn(*x.shape)\n",
    "\n",
    "dS_num = calcular_gradiente_numerico_array(lambda x: relu(x)[0], x, dout)\n",
    "\n",
    "_, cache = relu(x)\n",
    "dS = relu_backward(dout, cache)\n",
    "\n",
    "# El error debería ser del orden de e-12\n",
    "print('Testing relu_backward():')\n",
    "print('dS error: ', error_relativo(dS_num, dS))\n"
   ]
  },
  {
   "cell_type": "markdown",
   "metadata": {},
   "source": [
    "### 4.3 - Afin --> Activacion backward\n",
    "\n",
    "A continuación se implementará la función que realiza la propagación hacia atrás de la capa *Afin-->Activacion*. \n",
    "\n",
    "**Ejercicio**: Implementar la función `afin_activacion_backward()`. Para ello utilizar las funciones implementadas anteriormente: `afin_backward` y la ¨`activacion_backward`¨ que corresponda. \n"
   ]
  },
  {
   "cell_type": "code",
   "execution_count": 57,
   "metadata": {},
   "outputs": [],
   "source": [
    "def afin_activacion_backward(dX, cache, activacion):\n",
    "    '''\n",
    "    Implementar la propagación hacia atrás para la capa Afin->Activacion.\n",
    "    \n",
    "    Entradas:\n",
    "        dX: gradiente del costo respecto a la salida de la capa actual \n",
    "        cache: tupla con los valores(cache_afin, cache_activacion) \n",
    "        activacion: la activación a utilizar en esta capa, puede ser 'sigmoide', 'tanh' o 'relu'\n",
    "    Salidas:\n",
    "        dX_prev: Gradiente del costo con respecto a la activación de la capa anterior(l-1), \n",
    "                 tiene las mismas dimensiones que X_prev\n",
    "        dW -- Gradiente del costo con respecto a W (de la capa actual l), \n",
    "              tiene las mismas dimensiones que W\n",
    "        db -- Gradiente del costo con respecto a b (de la capa actual l), \n",
    "              tiene las mismas dimensiones que b\n",
    "    '''\n",
    "    cache_afin, cache_activacion = cache\n",
    "    \n",
    "    ####################################################################################\n",
    "    ###########  EMPIEZA ESPACIO PARA COMPLETAR CODIGO  ################################\n",
    "    ####################################################################################\n",
    "    \n",
    "    if activacion == 'sigmoide':\n",
    "        dS = sigmoide_backward(dX,cache_activacion)\n",
    "    elif activacion == 'tanh':\n",
    "        dS = tanh_backward(dX,cache_activacion)\n",
    "    elif activacion == 'relu':\n",
    "        dS = relu_backward(dX,cache_activacion)\n",
    "    \n",
    "    dX_prev, dW, db = afin_backward(dS, cache_afin)\n",
    "    \n",
    "    ####################################################################################\n",
    "    ###########  TERMINA ESPACIO PARA COMPLETAR CODIGO  ################################\n",
    "    ####################################################################################\n",
    "    \n",
    "    return dX_prev, dW, db"
   ]
  },
  {
   "cell_type": "code",
   "execution_count": 58,
   "metadata": {},
   "outputs": [
    {
     "name": "stdout",
     "output_type": "stream",
     "text": [
      "Testing afin_relu_forward y afin_relu_backward:\n",
      "dx error:  2.299579177309368e-11\n",
      "dw error:  8.162011105764925e-11\n",
      "db error:  7.826724021458994e-12\n",
      "Testing afin_sigmoide_forward y afin_sigmoide_backward:\n",
      "dx error:  1.2456866720267148e-10\n",
      "dw error:  2.7821318184319518e-09\n",
      "db error:  1.5238231225526454e-10\n",
      "Testing afin_tanh_forward y afin_tanh_backward:\n",
      "dx error:  1.2147824891719628e-09\n",
      "dw error:  9.382371715169434e-09\n",
      "db error:  1.1637072479695982e-09\n"
     ]
    }
   ],
   "source": [
    "np.random.seed(231)\n",
    "x = np.random.randn(2, 12)\n",
    "w = np.random.randn(12, 10)\n",
    "b = np.random.randn(10)\n",
    "dout = np.random.randn(2, 10)\n",
    "\n",
    "activaciones = ['relu', 'sigmoide','tanh']\n",
    "\n",
    "for activacion in activaciones:\n",
    "    out, cache = afin_activacion_forward(x, w, b, activacion)\n",
    "    dx, dw, db = afin_activacion_backward(dout, cache, activacion)\n",
    "    \n",
    "    dx_num = calcular_gradiente_numerico_array(lambda x: afin_activacion_forward(x, w, b, activacion)[0], x, dout)\n",
    "    dw_num = calcular_gradiente_numerico_array(lambda w: afin_activacion_forward(x, w, b, activacion)[0], w, dout)\n",
    "    db_num = calcular_gradiente_numerico_array(lambda b: afin_activacion_forward(x, w, b, activacion)[0], b, dout)\n",
    "\n",
    "    # Los errores deberían ser del orden de e-9 o menos\n",
    "    print('Testing afin_' + activacion + '_forward y afin_' + activacion + '_backward:')\n",
    "    print('dx error: ', error_relativo(dx_num, dx))\n",
    "    print('dw error: ', error_relativo(dw_num, dw))\n",
    "    print('db error: ', error_relativo(db_num, db))\n",
    "    "
   ]
  },
  {
   "cell_type": "markdown",
   "metadata": {},
   "source": [
    "##  5 - Actualización de los parámetros\n",
    "\n",
    "En esta sección se actualizarán los parámetros del modelo mediante el método de *descenso por gradiente*:\n",
    "\n",
    "$$ W^{(l)} = W^{(l)} -\\eta \\text{ } dW^{(l)} \\tag{9}$$\n",
    "$$ \\mathbf{b}^{(l)} = \\mathbf{b}^{(l)} -\\eta \\text{ } \\mathbf{db}^{(l)} \\tag{10}$$\n",
    "\n",
    "donde $\\eta$ es el *learning rate*. "
   ]
  },
  {
   "cell_type": "markdown",
   "metadata": {},
   "source": [
    "**Ejercicio**: Implementar `actualizar_parametros()` para actualizar los parámetros usando *descenso por gradiente*. Luego de actualizar los parámetros, almacenarlos en el diccionario de parámetros. "
   ]
  },
  {
   "cell_type": "code",
   "execution_count": 59,
   "metadata": {},
   "outputs": [],
   "source": [
    "def actualizar_parametros(parametros, gradientes, learning_rate):\n",
    "    \"\"\"\n",
    "    Se actualizan los parámetros utilizando descenso por gradiente. Si bien en este notebook se trabaja \n",
    "    con una red de dos capas, el método se implementa en forma genérica para mostrar como se haría en el\n",
    "    caso más general.\n",
    "    \n",
    "    Entrada:\n",
    "        parametros: diccionario de python que contiene los parámetros \n",
    "        gradientes: diccionario de python que contiene los gradientes \n",
    "                    (las salidas de los métodos backward)\n",
    "    \n",
    "    Salida:\n",
    "        parametros: diccionario de python que contiene los parámetros actualizados \n",
    "                    parametros[\"W\" + str(l)] = ... \n",
    "                    parametros[\"b\" + str(l)] = ...\n",
    "    \"\"\"\n",
    "    \n",
    "    L = len(parametros) // 2 # número de capas en la red neuronal\n",
    "    \n",
    "    # Se actualiza cada uno de los parámetros. En el caso de una red profunda de L capas\n",
    "    # se hace con un loop que va recorriendo cada parámetro\n",
    "    for l in range(1,L+1):\n",
    "        \n",
    "        ####################################################################################\n",
    "        ###########  EMPIEZA ESPACIO PARA COMPLETAR CODIGO  ################################\n",
    "        ####################################################################################\n",
    "        \n",
    "        parametros[\"W\" + str(l)] = parametros[\"W\" + str(l)] - learning_rate*gradientes[\"dW\" + str(l)]\n",
    "        parametros[\"b\" + str(l)] = parametros[\"b\" + str(l)] - learning_rate*gradientes[\"db\" + str(l)]\n",
    "\n",
    "        ####################################################################################\n",
    "        ###########  TERMINA ESPACIO PARA COMPLETAR CODIGO  ################################\n",
    "        ####################################################################################\n",
    "    \n",
    "    return parametros"
   ]
  },
  {
   "cell_type": "markdown",
   "metadata": {},
   "source": [
    "# Clasificación utilizando datos sintéticos"
   ]
  },
  {
   "cell_type": "code",
   "execution_count": 60,
   "metadata": {},
   "outputs": [],
   "source": [
    "from aux_datos import  generar_flor, mostrar_frontera_decision"
   ]
  },
  {
   "cell_type": "markdown",
   "metadata": {},
   "source": [
    "Se generan datos sintéticos con forma de flor pertenecientes a dos clases: $cero$ y $uno$."
   ]
  },
  {
   "cell_type": "code",
   "execution_count": 61,
   "metadata": {},
   "outputs": [
    {
     "name": "stdout",
     "output_type": "stream",
     "text": [
      "(400, 2) (400, 1)\n"
     ]
    }
   ],
   "source": [
    "X, Y = generar_flor()\n",
    "print(X.shape, Y.shape)"
   ]
  },
  {
   "cell_type": "code",
   "execution_count": 62,
   "metadata": {
    "scrolled": false
   },
   "outputs": [
    {
     "data": {
      "image/png": "[encoded data removed]",
      "text/plain": [
       "<Figure size 360x288 with 1 Axes>"
      ]
     },
     "metadata": {
      "needs_background": "light"
     },
     "output_type": "display_data"
    }
   ],
   "source": [
    "# Se muestran los datos\n",
    "plt.scatter(X[:,0], X[:,1], c=Y.flatten(), s=40, cmap=plt.cm.Spectral);"
   ]
  },
  {
   "cell_type": "markdown",
   "metadata": {},
   "source": [
    "### Red para clasificar los datos sintéticos"
   ]
  },
  {
   "cell_type": "markdown",
   "metadata": {},
   "source": [
    "Para clasificar los datos sintéticos se utilizará una red de dos capas con la siguiente arquitectura:   \n",
    "\n",
    "*Afin->Tanh->Afin->Sigmoide* \n",
    "\n",
    "**Ejercicio:** Completar la implementación de los métodos `red_dos_capas_datos_sinteticos()` utilizando los métodos *forward* y *backward* adecuados para dicha arquitectura. Como función de costo se utilizará la *entropía cruzada*."
   ]
  },
  {
   "cell_type": "code",
   "execution_count": 81,
   "metadata": {},
   "outputs": [],
   "source": [
    "def red_dos_capas_datos_sinteticos(X, Y, dims_capas, num_iter = 1000, learning_rate = 1,\n",
    "                                   mostrar_costo=False, semilla=100):\n",
    "    \"\"\"\n",
    "    Implementa una red neuronal de dos capas: Afin->Tanh->Afin->Sigmoide.\n",
    "    \n",
    "    Entrada:\n",
    "        X: datos de entrada, de tamaño (N, d_0)\n",
    "        Y: etiquetas (1 para la clase positiva y 0 para la negativa), de tamaño (N,1)\n",
    "        dims_capas: dimensiones de las capas(d_0, d_1, d_2)\n",
    "        num_iter: número de iteraciones del loop de optimización\n",
    "        learning_rate: learning rate utilizado para la actualización mediante descenso por gradiente\n",
    "        mostrar_costo: Si vale True, se muestra el costo cada 100 iteraciones \n",
    "        semilla: semilla utilizada para la generación de números aleatorios \n",
    "    Salida:\n",
    "        parametros: un diccionario de python que contiene W1, W2, b1, y b2\n",
    "    \"\"\"\n",
    "    \n",
    "    np.random.seed(semilla)\n",
    "    gradientes = {} # se inicializa el diccionario que almacena los gradiantes\n",
    "    costos = []     # lista que almacena el costo\n",
    "    N = X.shape[0]  # número de muestras\n",
    "    d_0, d_1, d_2 = dims_capas  \n",
    "    \n",
    "    # Se inicializan los parámetros del diccionario llamando a una de las \n",
    "    # funciones previamente implementadas\n",
    "    parametros = inicializar_pesos(d_0, d_1, d_2, semilla=semilla)\n",
    "\n",
    "    # Se obtienen W1, b1, W2 y b2 del diccionario de parámetros.\n",
    "    W1 = parametros[\"W1\"]\n",
    "    b1 = parametros[\"b1\"]\n",
    "    W2 = parametros[\"W2\"]\n",
    "    b2 = parametros[\"b2\"]\n",
    "\n",
    "    # Loop (descenso por gradiente)\n",
    "\n",
    "    for i in range(0, num_iter):\n",
    "\n",
    "        ####################################################################################\n",
    "        ###########  EMPIEZA ESPACIO PARA COMPLETAR CODIGO  ################################\n",
    "        ####################################################################################\n",
    "      \n",
    "        # Propagación hacia adelante: Afin -> Tanh -> Afin -> Sigmoide. \n",
    "        # Entradas: \"X, W1, b1\". Salidas: \"X1, cache1, X2, cache2\".\n",
    "        X1, cache1 = afin_activacion_forward(X, W1, b1, 'tanh')\n",
    "        X2, cache2 = afin_activacion_forward(X1, W2, b2, 'sigmoide')\n",
    "        \n",
    "        # Se calcula el costo y se inicia la propagación hacia atrás\n",
    "        costo, dX2 = entropia_cruzada(X2, Y)\n",
    "\n",
    "        \n",
    "        # Propagación hacia atrás. \n",
    "        # Entradas: \"dX2, cache2, cache1\". Salidas: \"dX1, dW2, db2, dW1, db1, dX0 (no utilizado)\".\n",
    "        # print('dX2 shape:', dX2.shape)\n",
    "        \n",
    "        dX1, dW2, db2 = afin_activacion_backward(dX2, cache2, 'sigmoide')\n",
    "        dX0, dW1, db1 = afin_activacion_backward(dX1, cache1, 'tanh')\n",
    "        \n",
    "        # Se almacenan los gradientes recientemente calculados en el diccionario \n",
    "        gradientes = {'dX0': dX0,\n",
    "                      'dW1': dW1,\n",
    "                      'db1': db1,\n",
    "                      'dX1': dX1,\n",
    "                      'dW2': dW2,\n",
    "                      'db2': db2}\n",
    "        \n",
    "        # Se actualizan los parámetros\n",
    "        parametros = actualizar_parametros(parametros, gradientes, learning_rate)\n",
    "        \n",
    "        # Se obtienen los nuevos W1, b1, W2 y b2 del diccionario de parámetros.\n",
    "        W1 = parametros[\"W1\"]\n",
    "        b1 = parametros[\"b1\"]\n",
    "        W2 = parametros[\"W2\"]\n",
    "        b2 = parametros[\"b2\"]\n",
    "        \n",
    "        ####################################################################################\n",
    "        ###########  TERMINA ESPACIO PARA COMPLETAR CODIGO  ################################\n",
    "        ####################################################################################\n",
    "\n",
    "        # Se muestra la evolución del costo cada 100 iteraciones\n",
    "        if mostrar_costo and i % 100 == 0:\n",
    "            print(\"Costo luego de iteracion {}: {}\".format(i, np.squeeze(costo)))\n",
    "\n",
    "        if mostrar_costo and i % 100 == 0:\n",
    "            costos.append(costo)\n",
    "   \n",
    "    # se muestra el costo\n",
    "    plt.plot(np.squeeze(costos))\n",
    "    plt.ylabel('costo')\n",
    "    plt.xlabel('iteraciones (sobre 100)')\n",
    "    plt.title(\"Learning rate =\" + str(learning_rate))\n",
    "    plt.show()\n",
    "    \n",
    "    return parametros"
   ]
  },
  {
   "cell_type": "code",
   "execution_count": 82,
   "metadata": {},
   "outputs": [],
   "source": [
    "### Se definen las constantes que determinan la arquitectura de la red ####\n",
    "d_0 = X.shape[1]   \n",
    "d_1 = 4\n",
    "d_2 = 1\n",
    "dims_capas = [d_0, d_1, d_2]"
   ]
  },
  {
   "cell_type": "code",
   "execution_count": 83,
   "metadata": {
    "scrolled": true
   },
   "outputs": [
    {
     "name": "stdout",
     "output_type": "stream",
     "text": [
      "Costo luego de iteracion 0: 0.6931354295967626\n",
      "Costo luego de iteracion 100: 0.49175793240257804\n",
      "Costo luego de iteracion 200: 0.34294637269365\n",
      "Costo luego de iteracion 300: 0.3217169193168766\n",
      "Costo luego de iteracion 400: 0.31126090780174154\n",
      "Costo luego de iteracion 500: 0.30457180849157023\n",
      "Costo luego de iteracion 600: 0.2997511689120919\n",
      "Costo luego de iteracion 700: 0.29582697852196843\n",
      "Costo luego de iteracion 800: 0.29197877708336617\n",
      "Costo luego de iteracion 900: 0.28840603308413615\n",
      "Costo luego de iteracion 1000: 0.28564465783042176\n",
      "Costo luego de iteracion 1100: 0.28344063310320583\n",
      "Costo luego de iteracion 1200: 0.28160893434159184\n",
      "Costo luego de iteracion 1300: 0.28002748597385146\n",
      "Costo luego de iteracion 1400: 0.27862127626251687\n",
      "Costo luego de iteracion 1500: 0.277344841348189\n",
      "Costo luego de iteracion 1600: 0.276169687751776\n",
      "Costo luego de iteracion 1700: 0.27507703042306875\n",
      "Costo luego de iteracion 1800: 0.27405377387861807\n",
      "Costo luego de iteracion 1900: 0.2730902984944843\n",
      "Costo luego de iteracion 2000: 0.27217923362227703\n",
      "Costo luego de iteracion 2100: 0.2713147583678579\n",
      "Costo luego de iteracion 2200: 0.27049217778057844\n",
      "Costo luego de iteracion 2300: 0.2697076441036739\n",
      "Costo luego de iteracion 2400: 0.2689579598497286\n",
      "Costo luego de iteracion 2500: 0.2682404323030805\n",
      "Costo luego de iteracion 2600: 0.26755276361741087\n",
      "Costo luego de iteracion 2700: 0.2668929670181467\n",
      "Costo luego de iteracion 2800: 0.26625930266533643\n",
      "Costo luego de iteracion 2900: 0.2656502284779368\n",
      "Costo luego de iteracion 3000: 0.2650643623835579\n",
      "Costo luego de iteracion 3100: 0.26450045329873706\n",
      "Costo luego de iteracion 3200: 0.26395735877484755\n",
      "Costo luego de iteracion 3300: 0.2634340277244846\n",
      "Costo luego de iteracion 3400: 0.2629294870117924\n",
      "Costo luego de iteracion 3500: 0.2624428309749484\n",
      "Costo luego de iteracion 3600: 0.2619732131694483\n",
      "Costo luego de iteracion 3700: 0.2615198397912998\n",
      "Costo luego de iteracion 3800: 0.2610819643707364\n",
      "Costo luego de iteracion 3900: 0.26065888342793964\n",
      "Costo luego de iteracion 4000: 0.26024993285929293\n",
      "Costo luego de iteracion 4100: 0.25985448488110596\n",
      "Costo luego de iteracion 4200: 0.25947194540181795\n",
      "Costo luego de iteracion 4300: 0.2591017517267232\n",
      "Costo luego de iteracion 4400: 0.25874337052391855\n",
      "Costo luego de iteracion 4500: 0.2583962959984676\n",
      "Costo luego de iteracion 4600: 0.2580600482353391\n",
      "Costo luego de iteracion 4700: 0.25773417168164675\n",
      "Costo luego de iteracion 4800: 0.25741823374606887\n",
      "Costo luego de iteracion 4900: 0.25711182349871836\n",
      "Costo luego de iteracion 5000: 0.25681455045868634\n",
      "Costo luego de iteracion 5100: 0.25652604345935565\n",
      "Costo luego de iteracion 5200: 0.2562459495837229\n",
      "Costo luego de iteracion 5300: 0.2559739331634857\n",
      "Costo luego de iteracion 5400: 0.2557096748368065\n",
      "Costo luego de iteracion 5500: 0.2554528706604863\n",
      "Costo luego de iteracion 5600: 0.255203231272897\n",
      "Costo luego de iteracion 5700: 0.25496048110448566\n",
      "Costo luego de iteracion 5800: 0.25472435763299645\n",
      "Costo luego de iteracion 5900: 0.25449461068083296\n",
      "Costo luego de iteracion 6000: 0.25427100175217837\n",
      "Costo luego de iteracion 6100: 0.2540533034076633\n",
      "Costo luego de iteracion 6200: 0.2538412986745049\n",
      "Costo luego de iteracion 6300: 0.2536347804901592\n",
      "Costo luego de iteracion 6400: 0.25343355117762995\n",
      "Costo luego de iteracion 6500: 0.25323742195067367\n",
      "Costo luego de iteracion 6600: 0.25304621244722464\n",
      "Costo luego de iteracion 6700: 0.252859750289442\n",
      "Costo luego de iteracion 6800: 0.25267787066886954\n",
      "Costo luego de iteracion 6900: 0.2525004159552603\n",
      "Costo luego de iteracion 7000: 0.25232723532770146\n",
      "Costo luego de iteracion 7100: 0.2521581844267403\n",
      "Costo luego de iteracion 7200: 0.2519931250262753\n",
      "Costo luego de iteracion 7300: 0.25183192472405647\n",
      "Costo luego de iteracion 7400: 0.2516744566496859\n",
      "Costo luego de iteracion 7500: 0.2515205991890816\n",
      "Costo luego de iteracion 7600: 0.25137023572442124\n",
      "Costo luego de iteracion 7700: 0.2512232543886437\n",
      "Costo luego de iteracion 7800: 0.25107954783363357\n",
      "Costo luego de iteracion 7900: 0.2509390130112712\n",
      "Costo luego de iteracion 8000: 0.25080155096657825\n",
      "Costo luego de iteracion 8100: 0.2506670666422302\n",
      "Costo luego de iteracion 8200: 0.25053546869376137\n",
      "Costo luego de iteracion 8300: 0.25040666931481687\n",
      "Costo luego de iteracion 8400: 0.25028058407186227\n",
      "Costo luego de iteracion 8500: 0.25015713174777576\n",
      "Costo luego de iteracion 8600: 0.2500362341938081\n",
      "Costo luego de iteracion 8700: 0.24991781618940745\n",
      "Costo luego de iteracion 8800: 0.24980180530944918\n",
      "Costo luego de iteracion 8900: 0.24968813179843852\n",
      "Costo luego de iteracion 9000: 0.24957672845126944\n",
      "Costo luego de iteracion 9100: 0.2494675305001732\n",
      "Costo luego de iteracion 9200: 0.24936047550748414\n",
      "Costo luego de iteracion 9300: 0.2492555032638943\n",
      "Costo luego de iteracion 9400: 0.2491525556918825\n",
      "Costo luego de iteracion 9500: 0.24905157675402145\n",
      "Costo luego de iteracion 9600: 0.24895251236588478\n",
      "Costo luego de iteracion 9700: 0.24885531031329788\n",
      "Costo luego de iteracion 9800: 0.24875992017368623\n",
      "Costo luego de iteracion 9900: 0.2486662932412932\n"
     ]
    },
    {
     "data": {
      "image/png": "[encoded data removed]",
      "text/plain": [
       "<Figure size 360x288 with 1 Axes>"
      ]
     },
     "metadata": {
      "needs_background": "light"
     },
     "output_type": "display_data"
    }
   ],
   "source": [
    "# Se entrena la red, con los parámetros por defecto el costo debería ser alrededor de 0.69 en la iteración 0 y \n",
    "# menor que 0.25 en la 10000\n",
    "parametros_red_2capas_datos_sinteticos = red_dos_capas_datos_sinteticos(X, Y, dims_capas = [d_0, d_1, d_2], \n",
    "                                                                        num_iter = 10000, mostrar_costo=True)"
   ]
  },
  {
   "cell_type": "markdown",
   "metadata": {},
   "source": [
    "### Mostrar la frontera de decisión"
   ]
  },
  {
   "cell_type": "markdown",
   "metadata": {},
   "source": [
    "Para mostrar la frontera de decisión se deberá completar primero la implementación del método `predecir_clase_datos_sinteticos()`. Dicho método utiliza los parámetros de la red recientemente encontrados para predecir la clase de los vectores de características pasados como parámetro. "
   ]
  },
  {
   "cell_type": "code",
   "execution_count": 76,
   "metadata": {},
   "outputs": [],
   "source": [
    "def predecir_clase_datos_sinteticos(X, parametros):\n",
    "    \"\"\"\n",
    "    Esta función predice la clase de los datos sintéticos. \n",
    "    \n",
    "    Entrada:\n",
    "        X: matriz de tamaño Nx2 que en cada fila contiene un vector de características\n",
    "        parametros: parametros del modelo ya entrenado\n",
    "    \n",
    "    Salida:\n",
    "        p : vector de tamaño Nx1 que contiene las predicciones realizadas (0 o 1)\n",
    "    \"\"\"\n",
    "    \n",
    "    # Se obtienen W1, b1, W2 y b2 del diccionario de parámetros.\n",
    "    W1 = parametros[\"W1\"]\n",
    "    b1 = parametros[\"b1\"]\n",
    "    W2 = parametros[\"W2\"]\n",
    "    b2 = parametros[\"b2\"]\n",
    "    \n",
    "    N = X.shape[0]\n",
    "    p = np.zeros((N,1))\n",
    "    \n",
    "    ####################################################################################\n",
    "    ###########  EMPIEZA ESPACIO PARA COMPLETAR CODIGO  ################################\n",
    "    ####################################################################################\n",
    "    \n",
    "    # Se hace la propagación hacia adelante de los datos de entrada X. Tener en cuenta que la\n",
    "    # arquitectura utilizada en la red fue Afin-->Tanh-->Afin-->Sigmoide\n",
    "    X1, cache1 = afin_activacion_forward(X, W1, b1, 'tanh')\n",
    "    X2, cache2 = afin_activacion_forward(X1, W2, b2, 'sigmoide')\n",
    "\n",
    "\n",
    "    # Se obtienen las predicciones. Si la salida es mayor que 0.5 se asigna la clase 1, de lo \n",
    "    # contrario se asigna 0\n",
    "    p = (X2 > 0.5).astype(int)\n",
    "    \n",
    "    ####################################################################################\n",
    "    ###########  TERMINA ESPACIO PARA COMPLETAR CODIGO  ################################\n",
    "    ####################################################################################\n",
    "\n",
    "        \n",
    "    return p"
   ]
  },
  {
   "cell_type": "markdown",
   "metadata": {},
   "source": [
    "La siguiente celda muestra el porcentaje de acierto con el conjunto de entrenamiento. Verificar que para los parámetros por defecto es mayor al 90%."
   ]
  },
  {
   "cell_type": "code",
   "execution_count": 77,
   "metadata": {},
   "outputs": [
    {
     "name": "stdout",
     "output_type": "stream",
     "text": [
      "El porcentaje de aciertos es 0.912500\n"
     ]
    }
   ],
   "source": [
    "predicciones_train = predecir_clase_datos_sinteticos(X, parametros_red_2capas_datos_sinteticos)\n",
    "porcentaje_aciertos = np.mean(predicciones_train==Y)\n",
    "print('El porcentaje de aciertos es %f' % porcentaje_aciertos)"
   ]
  },
  {
   "cell_type": "code",
   "execution_count": 78,
   "metadata": {},
   "outputs": [
    {
     "data": {
      "text/plain": [
       "Text(0.5, 1.0, 'Frontera de decisión para una capa oculta de 4 nodos')"
      ]
     },
     "execution_count": 78,
     "metadata": {},
     "output_type": "execute_result"
    },
    {
     "data": {
      "image/png": "[encoded data removed]",
      "text/plain": [
       "<Figure size 360x360 with 1 Axes>"
      ]
     },
     "metadata": {
      "needs_background": "light"
     },
     "output_type": "display_data"
    }
   ],
   "source": [
    "# Se muestra la frontera de decisión. Verificar que es razonable para el conjunto de entrenamiento.\n",
    "mostrar_frontera_decision(lambda x: predecir_clase_datos_sinteticos(x, parametros_red_2capas_datos_sinteticos), X, Y.flatten())\n",
    "plt.title('Frontera de decisión para una capa oculta de ' + str(d_1) + ' nodos')"
   ]
  },
  {
   "cell_type": "markdown",
   "metadata": {},
   "source": [
    "**Pregunta:** Variar la cantidad de nodos utilizados en la capa oculta y comentar sobre la influencia de dicho parámetro en la superficie de decisión obtenida."
   ]
  },
  {
   "cell_type": "code",
   "execution_count": 84,
   "metadata": {
    "scrolled": true
   },
   "outputs": [
    {
     "name": "stdout",
     "output_type": "stream",
     "text": [
      "Costo luego de iteracion 0: 0.69315954272205\n",
      "Costo luego de iteracion 100: 0.648637306711248\n",
      "Costo luego de iteracion 200: 0.6436140399563532\n",
      "Costo luego de iteracion 300: 0.641614460025675\n",
      "Costo luego de iteracion 400: 0.6404028872269351\n",
      "Costo luego de iteracion 500: 0.6395441287669318\n",
      "Costo luego de iteracion 600: 0.6388839401659536\n",
      "Costo luego de iteracion 700: 0.6383507972798369\n",
      "Costo luego de iteracion 800: 0.6379058347484922\n",
      "Costo luego de iteracion 900: 0.6375255913360994\n",
      "Costo luego de iteracion 1000: 0.6371948086318163\n",
      "Costo luego de iteracion 1100: 0.6369029994231762\n",
      "Costo luego de iteracion 1200: 0.63664264380381\n",
      "Costo luego de iteracion 1300: 0.6364081663569834\n",
      "Costo luego de iteracion 1400: 0.6361953203028581\n",
      "Costo luego de iteracion 1500: 0.6360007981757178\n",
      "Costo luego de iteracion 1600: 0.6358219756182952\n",
      "Costo luego de iteracion 1700: 0.6356567370145215\n",
      "Costo luego de iteracion 1800: 0.6355033533911288\n",
      "Costo luego de iteracion 1900: 0.6353603948076194\n",
      "Costo luego de iteracion 2000: 0.6352266661506804\n",
      "Costo luego de iteracion 2100: 0.6351011592042385\n",
      "Costo luego de iteracion 2200: 0.6349830162828767\n",
      "Costo luego de iteracion 2300: 0.6348715022377664\n",
      "Costo luego de iteracion 2400: 0.6347659826277747\n",
      "Costo luego de iteracion 2500: 0.634665906499315\n",
      "Costo luego de iteracion 2600: 0.6345707926585586\n",
      "Costo luego de iteracion 2700: 0.6344802186227817\n",
      "Costo luego de iteracion 2800: 0.634393811650072\n",
      "Costo luego de iteracion 2900: 0.6343112413979302\n",
      "Costo luego de iteracion 3000: 0.6342322138704859\n",
      "Costo luego de iteracion 3100: 0.6341564663940037\n",
      "Costo luego de iteracion 3200: 0.634083763419507\n",
      "Costo luego de iteracion 3300: 0.6340138929956429\n",
      "Costo luego de iteracion 3400: 0.633946663788434\n",
      "Costo luego de iteracion 3500: 0.6338819025501121\n",
      "Costo luego de iteracion 3600: 0.6338194519589795\n",
      "Costo luego de iteracion 3700: 0.6337591687675085\n",
      "Costo luego de iteracion 3800: 0.6337009222079003\n",
      "Costo luego de iteracion 3900: 0.6336445926137404\n",
      "Costo luego de iteracion 4000: 0.6335900702239021\n",
      "Costo luego de iteracion 4100: 0.6335372541408498\n",
      "Costo luego de iteracion 4200: 0.6334860514202694\n",
      "Costo luego de iteracion 4300: 0.6334363762728622\n",
      "Costo luego de iteracion 4400: 0.6333881493623315\n",
      "Costo luego de iteracion 4500: 0.6333412971860904\n",
      "Costo luego de iteracion 4600: 0.6332957515274388\n",
      "Costo luego de iteracion 4700: 0.6332514489696108\n",
      "Costo luego de iteracion 4800: 0.6332083304636079\n",
      "Costo luego de iteracion 4900: 0.6331663409429292\n",
      "Costo luego de iteracion 5000: 0.6331254289792182\n",
      "Costo luego de iteracion 5100: 0.6330855464738862\n",
      "Costo luego de iteracion 5200: 0.6330466483812454\n",
      "Costo luego de iteracion 5300: 0.6330086924594769\n",
      "Costo luego de iteracion 5400: 0.6329716390461274\n",
      "Costo luego de iteracion 5500: 0.6329354508553776\n",
      "Costo luego de iteracion 5600: 0.6329000927945854\n",
      "Costo luego de iteracion 5700: 0.6328655317979627\n",
      "Costo luego de iteracion 5800: 0.6328317366755651\n",
      "Costo luego de iteracion 5900: 0.6327986779759216\n",
      "Costo luego de iteracion 6000: 0.6327663278608496\n",
      "Costo luego de iteracion 6100: 0.6327346599912435\n",
      "Costo luego de iteracion 6200: 0.6327036494226592\n",
      "Costo luego de iteracion 6300: 0.632673272509765\n",
      "Costo luego de iteracion 6400: 0.6326435068187481\n",
      "Costo luego de iteracion 6500: 0.6326143310468816\n",
      "Costo luego de iteracion 6600: 0.6325857249486465\n",
      "Costo luego de iteracion 6700: 0.6325576692676836\n",
      "Costo luego de iteracion 6800: 0.6325301456741106\n",
      "Costo luego de iteracion 6900: 0.6325031367066786\n",
      "Costo luego de iteracion 7000: 0.6324766257193388\n",
      "Costo luego de iteracion 7100: 0.6324505968318125\n",
      "Costo luego de iteracion 7200: 0.6324250348838407\n",
      "Costo luego de iteracion 7300: 0.6323999253927383\n",
      "Costo luego de iteracion 7400: 0.6323752545140596\n",
      "Costo luego de iteracion 7500: 0.6323510090050138\n",
      "Costo luego de iteracion 7600: 0.6323271761904562\n",
      "Costo luego de iteracion 7700: 0.6323037439312578\n",
      "Costo luego de iteracion 7800: 0.6322807005947978\n",
      "Costo luego de iteracion 7900: 0.6322580350274655\n",
      "Costo luego de iteracion 8000: 0.6322357365289981\n",
      "Costo luego de iteracion 8100: 0.6322137948284852\n",
      "Costo luego de iteracion 8200: 0.6321922000619498\n",
      "Costo luego de iteracion 8300: 0.6321709427513568\n",
      "Costo luego de iteracion 8400: 0.6321500137849347\n",
      "Costo luego de iteracion 8500: 0.6321294043987815\n",
      "Costo luego de iteracion 8600: 0.6321091061595333\n",
      "Costo luego de iteracion 8700: 0.6320891109481463\n",
      "Costo luego de iteracion 8800: 0.6320694109446479\n",
      "Costo luego de iteracion 8900: 0.6320499986137753\n",
      "Costo luego de iteracion 9000: 0.6320308666914903\n",
      "Costo luego de iteracion 9100: 0.6320120081722478\n",
      "Costo luego de iteracion 9200: 0.6319934162970422\n",
      "Costo luego de iteracion 9300: 0.6319750845420852\n",
      "Costo luego de iteracion 9400: 0.6319570066081723\n",
      "Costo luego de iteracion 9500: 0.6319391764105957\n",
      "Costo luego de iteracion 9600: 0.6319215880696415\n",
      "Costo luego de iteracion 9700: 0.6319042359016165\n",
      "Costo luego de iteracion 9800: 0.6318871144103134\n",
      "Costo luego de iteracion 9900: 0.6318702182789955\n"
     ]
    },
    {
     "data": {
      "image/png": "[encoded data removed]",
      "text/plain": [
       "<Figure size 360x288 with 1 Axes>"
      ]
     },
     "metadata": {
      "needs_background": "light"
     },
     "output_type": "display_data"
    },
    {
     "name": "stdout",
     "output_type": "stream",
     "text": [
      "Costo luego de iteracion 0: 0.6931256894030373\n",
      "Costo luego de iteracion 100: 0.6041421884845558\n",
      "Costo luego de iteracion 200: 0.35092652418834697\n",
      "Costo luego de iteracion 300: 0.323016547420933\n",
      "Costo luego de iteracion 400: 0.3117124722431767\n",
      "Costo luego de iteracion 500: 0.3049483171496702\n",
      "Costo luego de iteracion 600: 0.300206895063274\n",
      "Costo luego de iteracion 700: 0.2965814197898256\n",
      "Costo luego de iteracion 800: 0.29365259817730466\n",
      "Costo luego de iteracion 900: 0.29119587798332547\n",
      "Costo luego de iteracion 1000: 0.2890785472950094\n",
      "Costo luego de iteracion 1100: 0.2872163580990107\n",
      "Costo luego de iteracion 1200: 0.2855528294831295\n",
      "Costo luego de iteracion 1300: 0.2840484300693494\n",
      "Costo luego de iteracion 1400: 0.28267450980919423\n",
      "Costo luego de iteracion 1500: 0.28140969665254545\n",
      "Costo luego de iteracion 1600: 0.28023765411038454\n",
      "Costo luego de iteracion 1700: 0.2791456298838226\n",
      "Costo luego de iteracion 1800: 0.2781234848561531\n",
      "Costo luego de iteracion 1900: 0.2771630249169795\n",
      "Costo luego de iteracion 2000: 0.2762575299745445\n",
      "Costo luego de iteracion 2100: 0.2754014150111887\n",
      "Costo luego de iteracion 2200: 0.2745899817305327\n",
      "Costo luego de iteracion 2300: 0.2738192336818029\n",
      "Costo luego de iteracion 2400: 0.2730857366878373\n",
      "Costo luego de iteracion 2500: 0.2723865121322915\n",
      "Costo luego de iteracion 2600: 0.271718954422394\n",
      "Costo luego de iteracion 2700: 0.2710807664662233\n",
      "Costo luego de iteracion 2800: 0.2704699087284172\n",
      "Costo luego de iteracion 2900: 0.2698845586280154\n",
      "Costo luego de iteracion 3000: 0.269323077889466\n",
      "Costo luego de iteracion 3100: 0.2687839860644319\n",
      "Costo luego de iteracion 3200: 0.2682659388816507\n",
      "Costo luego de iteracion 3300: 0.26776771040423625\n",
      "Costo luego de iteracion 3400: 0.2672881782122544\n",
      "Costo luego de iteracion 3500: 0.26682631100650583\n",
      "Costo luego de iteracion 3600: 0.26638115816364477\n",
      "Costo luego de iteracion 3700: 0.2659518408746528\n",
      "Costo luego de iteracion 3800: 0.26553754457656764\n",
      "Costo luego de iteracion 3900: 0.2651375124474204\n",
      "Costo luego de iteracion 4000: 0.26475103978076886\n",
      "Costo luego de iteracion 4100: 0.26437746909250687\n",
      "Costo luego de iteracion 4200: 0.26401618584099895\n",
      "Costo luego de iteracion 4300: 0.26366661466402364\n",
      "Costo luego de iteracion 4400: 0.2633282160537281\n",
      "Costo luego de iteracion 4500: 0.26300048340493726\n",
      "Costo luego de iteracion 4600: 0.2626829403834781\n",
      "Costo luego de iteracion 4700: 0.26237513857027106\n",
      "Costo luego de iteracion 4800: 0.26207665534426566\n",
      "Costo luego de iteracion 4900: 0.2617870919733223\n",
      "Costo luego de iteracion 5000: 0.26150607188693575\n",
      "Costo luego de iteracion 5100: 0.261233239108748\n",
      "Costo luego de iteracion 5200: 0.2609682568300414\n",
      "Costo luego de iteracion 5300: 0.2607108061081494\n",
      "Costo luego de iteracion 5400: 0.260460584675952\n",
      "Costo luego de iteracion 5500: 0.2602173058505398\n",
      "Costo luego de iteracion 5600: 0.2599806975306908\n",
      "Costo luego de iteracion 5700: 0.2597505012741448\n",
      "Costo luego de iteracion 5800: 0.25952647144680263\n",
      "Costo luego de iteracion 5900: 0.2593083744369059\n",
      "Costo luego de iteracion 6000: 0.25909598792811894\n",
      "Costo luego de iteracion 6100: 0.2588891002260892\n",
      "Costo luego de iteracion 6200: 0.2586875096337174\n",
      "Costo luego de iteracion 6300: 0.25849102387084666\n",
      "Costo luego de iteracion 6400: 0.2582994595345788\n",
      "Costo luego de iteracion 6500: 0.25811264159678166\n",
      "Costo luego de iteracion 6600: 0.25793040293574054\n",
      "Costo luego de iteracion 6700: 0.2577525838991688\n",
      "Costo luego de iteracion 6800: 0.25757903189609765\n",
      "Costo luego de iteracion 6900: 0.2574096010153902\n",
      "Costo luego de iteracion 7000: 0.2572441516688048\n",
      "Costo luego de iteracion 7100: 0.2570825502567917\n",
      "Costo luego de iteracion 7200: 0.2569246688552856\n",
      "Costo luego de iteracion 7300: 0.2567703849219722\n",
      "Costo luego de iteracion 7400: 0.2566195810206191\n",
      "Costo luego de iteracion 7500: 0.25647214456216444\n",
      "Costo luego de iteracion 7600: 0.2563279675613855\n",
      "Costo luego de iteracion 7700: 0.25618694640806966\n",
      "Costo luego de iteracion 7800: 0.25604898165166523\n",
      "Costo luego de iteracion 7900: 0.25591397779852615\n",
      "Costo luego de iteracion 8000: 0.25578184312086677\n",
      "Costo luego de iteracion 8100: 0.2556524894766682\n",
      "Costo luego de iteracion 8200: 0.2555258321398043\n",
      "Costo luego de iteracion 8300: 0.2554017896397325\n",
      "Costo luego de iteracion 8400: 0.2552802836101013\n",
      "Costo luego de iteracion 8500: 0.255161238645739\n",
      "Costo luego de iteracion 8600: 0.25504458216746817\n",
      "Costo luego de iteracion 8700: 0.2549302442942513\n",
      "Costo luego de iteracion 8800: 0.2548181577222299\n",
      "Costo luego de iteracion 8900: 0.2547082576102039\n",
      "Costo luego de iteracion 9000: 0.25460048147118447\n",
      "Costo luego de iteracion 9100: 0.2544947690696168\n",
      "Costo luego de iteracion 9200: 0.25439106232396735\n",
      "Costo luego de iteracion 9300: 0.25428930521431314\n",
      "Costo luego de iteracion 9400: 0.25418944369467544\n",
      "Costo luego de iteracion 9500: 0.25409142560978104\n",
      "Costo luego de iteracion 9600: 0.2539952006160182\n",
      "Costo luego de iteracion 9700: 0.2539007201063241\n",
      "Costo luego de iteracion 9800: 0.25380793713878164\n",
      "Costo luego de iteracion 9900: 0.2537168063687236\n"
     ]
    },
    {
     "data": {
      "image/png": "[encoded data removed]",
      "text/plain": [
       "<Figure size 360x288 with 1 Axes>"
      ]
     },
     "metadata": {
      "needs_background": "light"
     },
     "output_type": "display_data"
    },
    {
     "name": "stdout",
     "output_type": "stream",
     "text": [
      "Costo luego de iteracion 0: 0.6931554185842007\n",
      "Costo luego de iteracion 100: 0.5418740911953666\n",
      "Costo luego de iteracion 200: 0.3463402938299417\n",
      "Costo luego de iteracion 300: 0.3233941941503719\n",
      "Costo luego de iteracion 400: 0.3127191351131352\n",
      "Costo luego de iteracion 500: 0.3059690167837148\n",
      "Costo luego de iteracion 600: 0.30093362559248726\n",
      "Costo luego de iteracion 700: 0.29658982402754747\n",
      "Costo luego de iteracion 800: 0.29256969788356046\n",
      "Costo luego de iteracion 900: 0.28924578508072346\n",
      "Costo luego de iteracion 1000: 0.28654847198318967\n",
      "Costo luego de iteracion 1100: 0.284300147878148\n",
      "Costo luego de iteracion 1200: 0.28237331584617714\n",
      "Costo luego de iteracion 1300: 0.28067110549102325\n",
      "Costo luego de iteracion 1400: 0.2791262972780807\n",
      "Costo luego de iteracion 1500: 0.2776922469530135\n",
      "Costo luego de iteracion 1600: 0.2763314499350374\n",
      "Costo luego de iteracion 1700: 0.2749967748650438\n",
      "Costo luego de iteracion 1800: 0.2735459873149879\n",
      "Costo luego de iteracion 1900: 0.2703592312156636\n",
      "Costo luego de iteracion 2000: 0.2628887426830713\n",
      "Costo luego de iteracion 2100: 0.2582439671845066\n",
      "Costo luego de iteracion 2200: 0.2545832346222785\n",
      "Costo luego de iteracion 2300: 0.25176198991047527\n",
      "Costo luego de iteracion 2400: 0.2494194763092402\n",
      "Costo luego de iteracion 2500: 0.24736508948314642\n",
      "Costo luego de iteracion 2600: 0.245471287467048\n",
      "Costo luego de iteracion 2700: 0.24347836673408363\n",
      "Costo luego de iteracion 2800: 0.23680638173801496\n",
      "Costo luego de iteracion 2900: 0.23517410411445355\n",
      "Costo luego de iteracion 3000: 0.23386825320866497\n",
      "Costo luego de iteracion 3100: 0.2327190752378718\n",
      "Costo luego de iteracion 3200: 0.23168383588611013\n",
      "Costo luego de iteracion 3300: 0.23073691840106178\n",
      "Costo luego de iteracion 3400: 0.2298610590025483\n",
      "Costo luego de iteracion 3500: 0.2290439646490648\n",
      "Costo luego de iteracion 3600: 0.2282765560072799\n",
      "Costo luego de iteracion 3700: 0.22755192544601693\n",
      "Costo luego de iteracion 3800: 0.22686468194543263\n",
      "Costo luego de iteracion 3900: 0.22621052512654566\n",
      "Costo luego de iteracion 4000: 0.22558596020711572\n",
      "Costo luego de iteracion 4100: 0.22498810177769987\n",
      "Costo luego de iteracion 4200: 0.22441453491301044\n",
      "Costo luego de iteracion 4300: 0.22386321426698463\n",
      "Costo luego de iteracion 4400: 0.2233323890245508\n",
      "Costo luego de iteracion 4500: 0.2228205459367593\n",
      "Costo luego de iteracion 4600: 0.22232636533148165\n",
      "Costo luego de iteracion 4700: 0.22184868665584684\n",
      "Costo luego de iteracion 4800: 0.22138648116837578\n",
      "Costo luego de iteracion 4900: 0.22093883009227297\n",
      "Costo luego de iteracion 5000: 0.22050490700524925\n",
      "Costo luego de iteracion 5100: 0.22008396355898044\n",
      "Costo luego de iteracion 5200: 0.21967531784395336\n",
      "Costo luego de iteracion 5300: 0.21927834487482872\n",
      "Costo luego de iteracion 5400: 0.21889246878780821\n",
      "Costo luego de iteracion 5500: 0.2185171564279405\n",
      "Costo luego de iteracion 5600: 0.21815191206952989\n",
      "Costo luego de iteracion 5700: 0.2177962730627323\n",
      "Costo luego de iteracion 5800: 0.21744980623807345\n",
      "Costo luego de iteracion 5900: 0.21711210493092523\n",
      "Costo luego de iteracion 6000: 0.21678278651202249\n",
      "Costo luego de iteracion 6100: 0.2164614903294151\n",
      "Costo luego de iteracion 6200: 0.2161478759830221\n",
      "Costo luego de iteracion 6300: 0.21584162186601866\n",
      "Costo luego de iteracion 6400: 0.2155424239183224\n",
      "Costo luego de iteracion 6500: 0.21524999454690597\n",
      "Costo luego de iteracion 6600: 0.21496406167587623\n",
      "Costo luego de iteracion 6700: 0.21468436789648615\n",
      "Costo luego de iteracion 6800: 0.214410669693561\n",
      "Costo luego de iteracion 6900: 0.21414273673035883\n",
      "Costo luego de iteracion 7000: 0.21388035117863818\n",
      "Costo luego de iteracion 7100: 0.21362330708471686\n",
      "Costo luego de iteracion 7200: 0.2133714097655806\n",
      "Costo luego de iteracion 7300: 0.2131244752316549\n",
      "Costo luego de iteracion 7400: 0.21288232963474762\n",
      "Costo luego de iteracion 7500: 0.212644808740953\n",
      "Costo luego de iteracion 7600: 0.21241175742904972\n",
      "Costo luego de iteracion 7700: 0.21218302921524546\n",
      "Costo luego de iteracion 7800: 0.21195848580507712\n",
      "Costo luego de iteracion 7900: 0.21173799667300156\n",
      "Costo luego de iteracion 8000: 0.2115214386697643\n",
      "Costo luego de iteracion 8100: 0.21130869565711913\n",
      "Costo luego de iteracion 8200: 0.21109965816893037\n",
      "Costo luego de iteracion 8300: 0.2108942230971817\n",
      "Costo luego de iteracion 8400: 0.21069229340097528\n",
      "Costo luego de iteracion 8500: 0.2104937778362448\n",
      "Costo luego de iteracion 8600: 0.21029859070363127\n",
      "Costo luego de iteracion 8700: 0.21010665161180778\n",
      "Costo luego de iteracion 8800: 0.2099178852534367\n",
      "Costo luego de iteracion 8900: 0.20973222119094345\n",
      "Costo luego de iteracion 9000: 0.2095495936493451\n",
      "Costo luego de iteracion 9100: 0.20936994131349157\n",
      "Costo luego de iteracion 9200: 0.20919320712726117\n",
      "Costo luego de iteracion 9300: 0.2090193380924607\n",
      "Costo luego de iteracion 9400: 0.20884828506546632\n",
      "Costo luego de iteracion 9500: 0.20868000254993\n",
      "Costo luego de iteracion 9600: 0.20851444848424758\n",
      "Costo luego de iteracion 9700: 0.2083515840228493\n",
      "Costo luego de iteracion 9800: 0.20819137331079907\n",
      "Costo luego de iteracion 9900: 0.2080337832516182\n"
     ]
    },
    {
     "data": {
      "image/png": "[encoded data removed]",
      "text/plain": [
       "<Figure size 360x288 with 1 Axes>"
      ]
     },
     "metadata": {
      "needs_background": "light"
     },
     "output_type": "display_data"
    },
    {
     "name": "stdout",
     "output_type": "stream",
     "text": [
      "Costo luego de iteracion 0: 0.6931437106245332\n",
      "Costo luego de iteracion 100: 0.46253064552932893\n",
      "Costo luego de iteracion 200: 0.34004972831313773\n",
      "Costo luego de iteracion 300: 0.31794031358407593\n",
      "Costo luego de iteracion 400: 0.3061888838831487\n",
      "Costo luego de iteracion 500: 0.29840684734644013\n",
      "Costo luego de iteracion 600: 0.29288400323856917\n",
      "Costo luego de iteracion 700: 0.2886555895973993\n",
      "Costo luego de iteracion 800: 0.28528288060204954\n",
      "Costo luego de iteracion 900: 0.2825300696773936\n",
      "Costo luego de iteracion 1000: 0.2802056168377707\n",
      "Costo luego de iteracion 1100: 0.27818660175245924\n",
      "Costo luego de iteracion 1200: 0.27639299032569054\n",
      "Costo luego de iteracion 1300: 0.27477001718683947\n",
      "Costo luego de iteracion 1400: 0.2732794353440425\n",
      "Costo luego de iteracion 1500: 0.2718939639028632\n",
      "Costo luego de iteracion 1600: 0.2705934732740152\n",
      "Costo luego de iteracion 1700: 0.26936202951762545\n",
      "Costo luego de iteracion 1800: 0.26818469123941424\n",
      "Costo luego de iteracion 1900: 0.2670414644811988\n",
      "Costo luego de iteracion 2000: 0.26589404264764094\n",
      "Costo luego de iteracion 2100: 0.26464885462882193\n",
      "Costo luego de iteracion 2200: 0.2611295668628897\n",
      "Costo luego de iteracion 2300: 0.24777306846399882\n",
      "Costo luego de iteracion 2400: 0.23455890727400563\n",
      "Costo luego de iteracion 2500: 0.22560117040759411\n",
      "Costo luego de iteracion 2600: 0.21269847201626266\n",
      "Costo luego de iteracion 2700: 0.20592738894003992\n",
      "Costo luego de iteracion 2800: 0.20150663292718363\n",
      "Costo luego de iteracion 2900: 0.1981703738203932\n",
      "Costo luego de iteracion 3000: 0.19543757618791432\n",
      "Costo luego de iteracion 3100: 0.1931067843687581\n",
      "Costo luego de iteracion 3200: 0.19107475523587364\n",
      "Costo luego de iteracion 3300: 0.18927791484743028\n",
      "Costo luego de iteracion 3400: 0.18767159512940362\n",
      "Costo luego de iteracion 3500: 0.18622188553622748\n",
      "Costo luego de iteracion 3600: 0.18490204490710554\n",
      "Costo luego de iteracion 3700: 0.18369069995774065\n",
      "Costo luego de iteracion 3800: 0.18257079857974023\n",
      "Costo luego de iteracion 3900: 0.18152884649657286\n",
      "Costo luego de iteracion 4000: 0.1805541765664927\n",
      "Costo luego de iteracion 4100: 0.17963822316373065\n",
      "Costo luego de iteracion 4200: 0.17877405926822823\n",
      "Costo luego de iteracion 4300: 0.1779566022588682\n",
      "Costo luego de iteracion 4400: 0.17718339965206276\n",
      "Costo luego de iteracion 4500: 0.17645446660850045\n",
      "Costo luego de iteracion 4600: 0.17576982162037208\n",
      "Costo luego de iteracion 4700: 0.1751272389537686\n",
      "Costo luego de iteracion 4800: 0.1745227176808778\n",
      "Costo luego de iteracion 4900: 0.17395195133813673\n",
      "Costo luego de iteracion 5000: 0.17341110898140016\n",
      "Costo luego de iteracion 5100: 0.17289699076571985\n",
      "Costo luego de iteracion 5200: 0.17240695761844335\n",
      "Costo luego de iteracion 5300: 0.1719388222417766\n",
      "Costo luego de iteracion 5400: 0.17149075313433496\n",
      "Costo luego de iteracion 5500: 0.17106119839105655\n",
      "Costo luego de iteracion 5600: 0.1706488257649705\n",
      "Costo luego de iteracion 5700: 0.17025247517477687\n",
      "Costo luego de iteracion 5800: 0.16987112140497426\n",
      "Costo luego de iteracion 5900: 0.169503845718186\n",
      "Costo luego de iteracion 6000: 0.16914981510396182\n",
      "Costo luego de iteracion 6100: 0.16880826746732716\n",
      "Costo luego de iteracion 6200: 0.16847850094348021\n",
      "Costo luego de iteracion 6300: 0.16815986598188143\n",
      "Costo luego de iteracion 6400: 0.16785175952326958\n",
      "Costo luego de iteracion 6500: 0.1675536209511548\n",
      "Costo luego de iteracion 6600: 0.16726492935355083\n",
      "Costo luego de iteracion 6700: 0.16698520134055336\n",
      "Costo luego de iteracion 6800: 0.16671398871339474\n",
      "Costo luego de iteracion 6900: 0.1664508757204114\n",
      "Costo luego de iteracion 7000: 0.1661954760868786\n",
      "Costo luego de iteracion 7100: 0.16594743015573565\n",
      "Costo luego de iteracion 7200: 0.1657064023542018\n",
      "Costo luego de iteracion 7300: 0.1654720790172569\n",
      "Costo luego de iteracion 7400: 0.16524416649610496\n",
      "Costo luego de iteracion 7500: 0.16502238946887077\n",
      "Costo luego de iteracion 7600: 0.16480648940070342\n",
      "Costo luego de iteracion 7700: 0.16459622312906708\n",
      "Costo luego de iteracion 7800: 0.16439136156433912\n",
      "Costo luego de iteracion 7900: 0.16419168849993476\n",
      "Costo luego de iteracion 8000: 0.1639969995264723\n",
      "Costo luego de iteracion 8100: 0.16380710104430576\n",
      "Costo luego de iteracion 8200: 0.16362180936866338\n",
      "Costo luego de iteracion 8300: 0.1634409499215182\n",
      "Costo luego de iteracion 8400: 0.163264356504048\n",
      "Costo luego de iteracion 8500: 0.1630918706432389\n",
      "Costo luego de iteracion 8600: 0.16292334100596995\n",
      "Costo luego de iteracion 8700: 0.16275862287388965\n",
      "Costo luego de iteracion 8800: 0.1625975776725542\n",
      "Costo luego de iteracion 8900: 0.16244007254864457\n",
      "Costo luego de iteracion 9000: 0.16228597998951372\n",
      "Costo luego de iteracion 9100: 0.16213517747982956\n",
      "Costo luego de iteracion 9200: 0.16198754719058658\n",
      "Costo luego de iteracion 9300: 0.16184297569624748\n",
      "Costo luego de iteracion 9400: 0.16170135371620162\n",
      "Costo luego de iteracion 9500: 0.16156257587711348\n",
      "Costo luego de iteracion 9600: 0.16142654049304184\n",
      "Costo luego de iteracion 9700: 0.161293149360465\n",
      "Costo luego de iteracion 9800: 0.16116230756555514\n",
      "Costo luego de iteracion 9900: 0.16103392330119795\n"
     ]
    },
    {
     "data": {
      "image/png": "[encoded data removed]",
      "text/plain": [
       "<Figure size 360x288 with 1 Axes>"
      ]
     },
     "metadata": {
      "needs_background": "light"
     },
     "output_type": "display_data"
    }
   ],
   "source": [
    "### Se definen las constantes que determinan la arquitectura de la red ####\n",
    "d_0 = X.shape[1]\n",
    "d_2 = 1\n",
    "dims_capas = [d_0, d_1, d_2]\n",
    "\n",
    "params = []\n",
    "d_1vals = [1,3,5,8]\n",
    "for d_hidlay in d_1vals:\n",
    "    parametros_red_2capas_datos_sinteticos = red_dos_capas_datos_sinteticos(X, Y, dims_capas = [d_0, d_hidlay, d_2], \n",
    "                                                                        num_iter = 10000, mostrar_costo=True)\n",
    "    params.append(parametros_red_2capas_datos_sinteticos)"
   ]
  },
  {
   "cell_type": "code",
   "execution_count": 89,
   "metadata": {},
   "outputs": [
    {
     "name": "stdout",
     "output_type": "stream",
     "text": [
      "El porcentaje de aciertos con 1 nodos en la capa oculta es 0.675000\n",
      "El porcentaje de aciertos con 3 nodos en la capa oculta es 0.907500\n",
      "El porcentaje de aciertos con 5 nodos en la capa oculta es 0.910000\n",
      "El porcentaje de aciertos con 8 nodos en la capa oculta es 0.917500\n"
     ]
    },
    {
     "data": {
      "image/png": "[encoded data removed]",
      "text/plain": [
       "<Figure size 360x360 with 1 Axes>"
      ]
     },
     "metadata": {
      "needs_background": "light"
     },
     "output_type": "display_data"
    },
    {
     "data": {
      "image/png": "[encoded data removed]",
      "text/plain": [
       "<Figure size 360x360 with 1 Axes>"
      ]
     },
     "metadata": {
      "needs_background": "light"
     },
     "output_type": "display_data"
    },
    {
     "data": {
      "image/png": "[encoded data removed]",
      "text/plain": [
       "<Figure size 360x360 with 1 Axes>"
      ]
     },
     "metadata": {
      "needs_background": "light"
     },
     "output_type": "display_data"
    },
    {
     "data": {
      "image/png": "[encoded data removed]",
      "text/plain": [
       "<Figure size 360x360 with 1 Axes>"
      ]
     },
     "metadata": {
      "needs_background": "light"
     },
     "output_type": "display_data"
    }
   ],
   "source": [
    "j = 0\n",
    "for param_i in params:\n",
    "    \n",
    "    d_1 = d_1vals[j]\n",
    "    j += 1\n",
    "    predicciones_train = predecir_clase_datos_sinteticos(X, param_i)\n",
    "    porcentaje_aciertos = np.mean(predicciones_train==Y)\n",
    "    print('El porcentaje de aciertos con ' + str(d_1) +' nodos en la capa oculta es %f' % porcentaje_aciertos)\n",
    "\n",
    "    mostrar_frontera_decision(lambda x: predecir_clase_datos_sinteticos(x, param_i), X, Y.flatten())\n",
    "    plt.title('Frontera de decisión para una capa oculta de ' + str(d_1) + ' nodos')"
   ]
  },
  {
   "cell_type": "markdown",
   "metadata": {},
   "source": [
    "**Respuesta:**  \n",
    "\n",
    "cuando pueda dejar la pc corriendo agranda el vector de nodos en la capa ocult aun par de lineas mas arriba"
   ]
  },
  {
   "cell_type": "markdown",
   "metadata": {},
   "source": [
    "# Clasificación de imágenes\n",
    "\n",
    "Se utilizarán las funciones implementadas anteriormente para distinguir imágenes de *gatos* de *no gatos*."
   ]
  },
  {
   "cell_type": "markdown",
   "metadata": {},
   "source": [
    "### Los datos"
   ]
  },
  {
   "cell_type": "markdown",
   "metadata": {},
   "source": [
    "La siguiente celda carga los datos. La base cuenta con conjunto de imágenes para entrenamiento y un conjunto para test. En este caso las características a utilizar son directamente los valores de los píxeles de las imágenes. "
   ]
  },
  {
   "cell_type": "code",
   "execution_count": 90,
   "metadata": {},
   "outputs": [
    {
     "name": "stdout",
     "output_type": "stream",
     "text": [
      "Se levantaron 209 imágenes de entrenamiento\n",
      "72 pertenecen a la clase non-cat y 137 a la clase cat\n",
      "Se levantaron 50 imágenes de test\n",
      "33 pertenecen a la clase non-cat y 17 a la clase cat\n",
      "Las imágenes son de tamaño [64, 64, 3] \n"
     ]
    }
   ],
   "source": [
    "from aux_datos import load_cats_dataset\n",
    "features_train, y_train, features_test, y_test, clases = load_cats_dataset()\n",
    "print('Se levantaron %d imágenes de entrenamiento' % len(features_train))\n",
    "print('%d pertenecen a la clase %s y %d a la clase %s' % (np.sum(y_train==1),clases[0].decode(\"utf-8\"),\n",
    "                                                          np.sum(y_train==0),clases[1].decode(\"utf-8\"))  )\n",
    "print('Se levantaron %d imágenes de test' % len(features_test))\n",
    "print('%d pertenecen a la clase %s y %d a la clase %s' % (np.sum(y_test==1),clases[0].decode(\"utf-8\"),\n",
    "                                                          np.sum(y_test==0),clases[1].decode(\"utf-8\"))  )\n",
    "\n",
    "print('Las imágenes son de tamaño [%d, %d, %d] ' % (features_train.shape[1:]))\n"
   ]
  },
  {
   "cell_type": "markdown",
   "metadata": {},
   "source": [
    "Cada vez que se ejecuta la siguiente celda se muestra un ejemplo de cada una de las clases. "
   ]
  },
  {
   "cell_type": "code",
   "execution_count": 95,
   "metadata": {},
   "outputs": [
    {
     "data": {
      "image/png": "[encoded data removed]",
      "text/plain": [
       "<Figure size 1080x360 with 2 Axes>"
      ]
     },
     "metadata": {
      "needs_background": "light"
     },
     "output_type": "display_data"
    }
   ],
   "source": [
    "# Ejemplo de una imagen gato\n",
    "indices_gatos = [i for i, label in enumerate(y_train) if label]\n",
    "pos = np.random.randint(len(indices_gatos))\n",
    "gato = features_train[indices_gatos[pos]]\n",
    "\n",
    "plt.figure(figsize=(15,5))\n",
    "plt.subplot(1,2,1)\n",
    "plt.imshow(gato)\n",
    "plt.title('Ejemplo de gato')\n",
    "\n",
    "# Ejemplo de una imagen no gato\n",
    "indices_no_gatos = [i for i, label in enumerate(y_train) if not label]\n",
    "pos = np.random.randint(len(indices_no_gatos))\n",
    "gato = features_train[indices_no_gatos[pos]]\n",
    "plt.subplot(1,2,2)\n",
    "plt.imshow(features_train[indices_no_gatos[pos]])\n",
    "plt.title('Ejemplo de no gato')\n",
    "plt.show()"
   ]
  },
  {
   "cell_type": "markdown",
   "metadata": {},
   "source": [
    "## Red neuronal de dos capas para clasificar imágenes de gatos\n",
    "\n",
    "**Ejercicio**: Completar la implementación de los métodos `red_dos_capas_clasifica_gatos()` utilizando los métodos *forward* y *backward* adecuados para dicha arquitectura. Como función de costo se utilizará la *entropía cruzada*. La red deberá tener la siguiente estructura: \n",
    "\n",
    "*AFIN -> RELU -> AFIN -> SIGMOIDE*\n",
    "\n"
   ]
  },
  {
   "cell_type": "code",
   "execution_count": 96,
   "metadata": {},
   "outputs": [],
   "source": [
    "def red_dos_capas_clasifica_gatos(X, Y, dims_capas, num_iter = 1000, learning_rate = 1,  \n",
    "                                   mostrar_costo=False, semilla=100):\n",
    "    \"\"\"\n",
    "    Implementa una red neuronal de dos capas: Afin->Relu->Afin->Sigmoide.\n",
    "    \n",
    "    Entrada:\n",
    "        X: datos de entrada, de tamaño (N, d_0)\n",
    "        Y: etiquetas (1 para la clase positiva y 0 para la negativa), de tamaño (N,1)\n",
    "        dims_capas: dimensiones de las caoas(d_0, d_1, d_2)\n",
    "        num_iter: número de iteraciones del loop de optimización\n",
    "        learning_rate: learning rate utilizado para la actualización mediante descenso por gradiente\n",
    "        mostrar_costo: Si vale True, se muestra el costo cada 100 iteraciones \n",
    "        semilla: semilla utilizada para la generación de números aleatorios \n",
    "    Salida:\n",
    "        parametros: un diccionario de python que contiene W1, W2, b1, and b2\n",
    "    \"\"\"\n",
    "    \n",
    "    np.random.seed(semilla)\n",
    "    gradientes = {} # se inicializa el diccionario que almacena los gradiantes\n",
    "    costos = []     # lista que almacena el costo\n",
    "    N = X.shape[0]  # número de muestras\n",
    "    d_0, d_1, d_2 = dims_capas  \n",
    "    \n",
    "    # Se inicializan los parámetros del diccionario llamando a una de las \n",
    "    # funciones previamente implementadas\n",
    "    parametros = inicializar_pesos(d_0, d_1, d_2, semilla=semilla)\n",
    "     \n",
    "    # Se obtienen W1, b1, W2 y b2 del diccionario de parámetros.\n",
    "    W1 = parametros[\"W1\"]\n",
    "    b1 = parametros[\"b1\"]\n",
    "    W2 = parametros[\"W2\"]\n",
    "    b2 = parametros[\"b2\"]\n",
    "    \n",
    "    # Loop (descenso por gradiente)\n",
    "\n",
    "    for i in range(0, num_iter):\n",
    "\n",
    "        ####################################################################################\n",
    "        ###########  EMPIEZA ESPACIO PARA COMPLETAR CODIGO  ################################\n",
    "        ####################################################################################\n",
    "        \n",
    "        # Propagación hacia adelante: Afin -> ReLu -> Afin -> Sigmoide. \n",
    "        # Entradas: \"X, W1, b1\". Salidas: \"X1, cache1, X2, cache2\".\n",
    "        X1, cache1 = afin_activacion_forward(X, W1, b1, 'relu')\n",
    "        X2, cache2 = afin_activacion_forward(X1, W2, b2, 'sigmoide')\n",
    "        \n",
    "        # Se calcula el costo y se inicia la propagación hacia atrás\n",
    "        costo, dX2 = entropia_cruzada(X2, Y)\n",
    "\n",
    "        \n",
    "        # Propagación hacia atrás. \n",
    "        # Entradas: \"dX2, cache2, cache1\". Salidas: \"dX1, dW2, db2, dW1, db1, dX0 (no utilizado)\".\n",
    "        # print('dX2 shape:', dX2.shape)\n",
    "        \n",
    "        dX1, dW2, db2 = afin_activacion_backward(dX2, cache2, 'sigmoide')\n",
    "        dX0, dW1, db1 = afin_activacion_backward(dX1, cache1, 'tanh')\n",
    "        \n",
    "        # Se almacenan los gradientes recientemente calculados en el diccionario \n",
    "        gradientes = {'dX0': dX0,\n",
    "                      'dW1': dW1,\n",
    "                      'db1': db1,\n",
    "                      'dX1': dX1,\n",
    "                      'dW2': dW2,\n",
    "                      'db2': db2}\n",
    "        \n",
    "        # Se actualizan los parámetros\n",
    "        parametros = actualizar_parametros(parametros, gradientes, learning_rate)\n",
    "        \n",
    "        # Se obtienen los nuevos W1, b1, W2 y b2 del diccionario de parámetros.\n",
    "        W1 = parametros[\"W1\"]\n",
    "        b1 = parametros[\"b1\"]\n",
    "        W2 = parametros[\"W2\"]\n",
    "        b2 = parametros[\"b2\"]\n",
    "        \n",
    "        \n",
    "        ####################################################################################\n",
    "        ###########  TERMINA ESPACIO PARA COMPLETAR CODIGO  ################################\n",
    "        ####################################################################################\n",
    "\n",
    "        # Se muestra la evolución del costo cada 100 iteraciones\n",
    "        if mostrar_costo and i % 100 == 0:\n",
    "            print(\"Costo luego de iteracion {}: {}\".format(i, np.squeeze(costo)))\n",
    "            #print(W1,b1)\n",
    "        if mostrar_costo and i % 100 == 0:\n",
    "            costos.append(costo)\n",
    "         \n",
    "    # se muestra el costo\n",
    "    plt.plot(np.squeeze(costos))\n",
    "    plt.ylabel('costo')\n",
    "    plt.xlabel('iteraciones (sobre 100)')\n",
    "    plt.title(\"Learning rate =\" + str(learning_rate))\n",
    "    plt.show()\n",
    "    \n",
    "    return parametros"
   ]
  },
  {
   "cell_type": "markdown",
   "metadata": {},
   "source": [
    "Se definen las constantes que determinan la arquitectura de la red. En este caso se usarán como características los valores de los píxeles de la imagen. La capa oculta tendrá 7 nodos y habrá un solo nodo en la capa de salida."
   ]
  },
  {
   "cell_type": "code",
   "execution_count": 97,
   "metadata": {},
   "outputs": [],
   "source": [
    "### CONSTANTES QUE DEFINEN EL MODELO ####\n",
    "d_0=features_train.shape[1]*features_train.shape[2]*features_train.shape[3]\n",
    "d_1 = 7\n",
    "d_2 = 1\n",
    "dims_capas = [d_0, d_1, d_2]"
   ]
  },
  {
   "cell_type": "markdown",
   "metadata": {},
   "source": [
    "Se hace un *reshape* de las imágenes de entrenamiento para que las entradas a la red sean vectores unidimensionales. Además se las normaliza para que los valores estén en el rango [0, 1] en vez del rango [0, 255] original."
   ]
  },
  {
   "cell_type": "code",
   "execution_count": 98,
   "metadata": {},
   "outputs": [],
   "source": [
    "# Se hace el reshape de las características\n",
    "feat_train_flat = features_train.reshape(features_train.shape[0], -1)  \n",
    "\n",
    "# Se normalizan los datos para que las características queden en el rango [-0.5, 0.5]\n",
    "train_x = feat_train_flat/255. -0.5"
   ]
  },
  {
   "cell_type": "markdown",
   "metadata": {},
   "source": [
    "Ejecutar la siguiente celda y encontrar los parámetros del modelo. El costo debería decrecer con el paso de las iteraciones. Verificar que el  \"Costo luego de iteracion 0\" es aproximadamente 0.69, si no es así se recomienda para la ejecución con el cuadrado (⬛) de la barra superior del notebook y tratar de encontrar el error."
   ]
  },
  {
   "cell_type": "code",
   "execution_count": 99,
   "metadata": {
    "scrolled": true
   },
   "outputs": [
    {
     "name": "stdout",
     "output_type": "stream",
     "text": [
      "Costo luego de iteracion 0: 0.6946253251677331\n",
      "Costo luego de iteracion 100: 0.4379367986382768\n",
      "Costo luego de iteracion 200: 0.2182979964076486\n",
      "Costo luego de iteracion 300: 0.11260691307380467\n",
      "Costo luego de iteracion 400: 0.06896139231023957\n",
      "Costo luego de iteracion 500: 0.04539345431764991\n",
      "Costo luego de iteracion 600: 0.029598431388969376\n",
      "Costo luego de iteracion 700: 0.020347196986726778\n",
      "Costo luego de iteracion 800: 0.014774386985418709\n",
      "Costo luego de iteracion 900: 0.011641826379873479\n",
      "Costo luego de iteracion 1000: 0.00947468138487066\n",
      "Costo luego de iteracion 1100: 0.007918757170115769\n",
      "Costo luego de iteracion 1200: 0.006756113112488706\n",
      "Costo luego de iteracion 1300: 0.005870737317158718\n",
      "Costo luego de iteracion 1400: 0.00517594233950981\n",
      "Costo luego de iteracion 1500: 0.004616919817203048\n",
      "Costo luego de iteracion 1600: 0.0041585546099427335\n",
      "Costo luego de iteracion 1700: 0.0037767650156651338\n",
      "Costo luego de iteracion 1800: 0.003454454568901401\n",
      "Costo luego de iteracion 1900: 0.0031791701296994207\n",
      "Costo luego de iteracion 2000: 0.002941669639163425\n",
      "Costo luego de iteracion 2100: 0.002734913981473555\n",
      "Costo luego de iteracion 2200: 0.002553454452995801\n",
      "Costo luego de iteracion 2300: 0.0023930516218733486\n",
      "Costo luego de iteracion 2400: 0.002250348331334736\n",
      "Costo luego de iteracion 2500: 0.00212265291118502\n",
      "Costo luego de iteracion 2600: 0.0020078150057466914\n",
      "Costo luego de iteracion 2700: 0.0019041844642332761\n",
      "Costo luego de iteracion 2800: 0.0018100567469895323\n",
      "Costo luego de iteracion 2900: 0.0017242151272171692\n",
      "Costo luego de iteracion 3000: 0.0016456936212320777\n",
      "Costo luego de iteracion 3100: 0.001573550745622037\n",
      "Costo luego de iteracion 3200: 0.0015070707104389543\n",
      "Costo luego de iteracion 3300: 0.001445634524488088\n",
      "Costo luego de iteracion 3400: 0.0013887075196049434\n",
      "Costo luego de iteracion 3500: 0.0013358260472690984\n",
      "Costo luego de iteracion 3600: 0.0012865864320376185\n",
      "Costo luego de iteracion 3700: 0.001240635816238695\n",
      "Costo luego de iteracion 3800: 0.0011976636978498776\n",
      "Costo luego de iteracion 3900: 0.0011573935861088668\n",
      "Costo luego de iteracion 4000: 0.001119597201894404\n",
      "Costo luego de iteracion 4100: 0.0010841399113593767\n",
      "Costo luego de iteracion 4200: 0.0010507236003985123\n",
      "Costo luego de iteracion 4300: 0.0010191788707443878\n",
      "Costo luego de iteracion 4400: 0.0009893573716741465\n",
      "Costo luego de iteracion 4500: 0.0009611266892903364\n",
      "Costo luego de iteracion 4600: 0.0009343673249687938\n",
      "Costo luego de iteracion 4700: 0.0009089710347541061\n",
      "Costo luego de iteracion 4800: 0.0008848395844497691\n",
      "Costo luego de iteracion 4900: 0.0008618836816073469\n"
     ]
    },
    {
     "data": {
      "image/png": "[encoded data removed]",
      "text/plain": [
       "<Figure size 360x288 with 1 Axes>"
      ]
     },
     "metadata": {
      "needs_background": "light"
     },
     "output_type": "display_data"
    }
   ],
   "source": [
    "parametros_red_gatos = red_dos_capas_clasifica_gatos(train_x, y_train, dims_capas = [d_0, d_1, d_2], \n",
    "                                                     learning_rate=0.1, num_iter = 5000, mostrar_costo=True)"
   ]
  },
  {
   "cell_type": "markdown",
   "metadata": {},
   "source": [
    "Si la función de costo decreció por debajo de 0.003 al acercarse la iteración 5000 entonces la implementación es correcta y has podido entrenar la red neuronal. A continuación veremos qué tan bien funcionan los parámetros encontrados con el conjunto de entrenamiento. "
   ]
  },
  {
   "cell_type": "markdown",
   "metadata": {},
   "source": [
    "**Ejercicio:** Completar la implementación del método `clasificar_gato()` para que dado un conjunto de imágenes de entrada y los parámetros de la red encontrados durante el entrenamiento devuelva si pertenece a la clase gato o no."
   ]
  },
  {
   "cell_type": "code",
   "execution_count": 100,
   "metadata": {},
   "outputs": [],
   "source": [
    "def clasificar_gato(X, parametros):\n",
    "    \"\"\"\n",
    "    Esta función predice si las imágenes almacenadas en el vector X son gatos o no\n",
    "    \n",
    "    Entrada:\n",
    "        X: matriz de tamaño N x d_0 que contiene N imágenes almacenadas una por fila\n",
    "        parametros: parámetros óptimos encontrados al entrenar la red\n",
    "    \n",
    "    Salida:\n",
    "        p: predicciones realizadas por la red para las imágenes en X (1 si es gato, 0 si no)\n",
    "    \"\"\"\n",
    "    \n",
    "    # Se obtienen W1, b1, W2 y b2 del diccionario de parámetros.\n",
    "    W1 = parametros[\"W1\"]\n",
    "    b1 = parametros[\"b1\"]\n",
    "    W2 = parametros[\"W2\"]\n",
    "    b2 = parametros[\"b2\"]\n",
    "    \n",
    "    N = X.shape[0]\n",
    "    p = np.zeros((N,1))\n",
    "    \n",
    "    ####################################################################################\n",
    "    ###########  EMPIEZA ESPACIO PARA COMPLETAR CODIGO  ################################\n",
    "    ####################################################################################\n",
    "    \n",
    "    X1, cache1 = afin_activacion_forward(X, W1, b1, 'relu')\n",
    "    X2, cache2 = afin_activacion_forward(X1, W2, b2, 'sigmoide')\n",
    "\n",
    "    # Se obtienen las predicciones. Si la salida es mayor que 0.5 se asigna la clase 1, de lo \n",
    "    # contrario se asigna 0\n",
    "    p = (X2 > 0.5).astype(int)\n",
    "    \n",
    "    ####################################################################################\n",
    "    ###########  TERMINA ESPACIO PARA COMPLETAR CODIGO  ################################\n",
    "    ####################################################################################\n",
    "    \n",
    "        \n",
    "    return p"
   ]
  },
  {
   "cell_type": "markdown",
   "metadata": {},
   "source": [
    "Verificar que la red entrenada hace un trabajo fantástico con el conjunto de entrenamiento."
   ]
  },
  {
   "cell_type": "code",
   "execution_count": 101,
   "metadata": {},
   "outputs": [
    {
     "name": "stdout",
     "output_type": "stream",
     "text": [
      "Porcentaje de acierto en entrenamiento: 1.0\n"
     ]
    }
   ],
   "source": [
    "predicciones_train = clasificar_gato(train_x, parametros_red_gatos)\n",
    "accuracy_train = str(np.mean((predicciones_train == y_train)))\n",
    "print(\"Porcentaje de acierto en entrenamiento: \"  + accuracy_train)"
   ]
  },
  {
   "cell_type": "markdown",
   "metadata": {},
   "source": [
    "<center>** 100 porciento de acierto??? **</center>"
   ]
  },
  {
   "cell_type": "markdown",
   "metadata": {},
   "source": [
    "¿Cerca del 100% de acierto? ¡Bien hecho! Excelente trabajo. Ahora sólo resta evaluar con el conjunto reservado para test."
   ]
  },
  {
   "cell_type": "code",
   "execution_count": 103,
   "metadata": {
    "scrolled": true
   },
   "outputs": [
    {
     "name": "stdout",
     "output_type": "stream",
     "text": [
      "Porcentaje de acierto en test: 0.68\n"
     ]
    }
   ],
   "source": [
    "####################################################################################\n",
    "###########  EMPIEZA ESPACIO PARA COMPLETAR CODIGO  ################################\n",
    "####################################################################################\n",
    "\n",
    "# Se hace el reshape de las características\n",
    "feat_test_flat = features_test.reshape(features_test.shape[0], -1)  \n",
    "\n",
    "# Se normalizan los datos para que las características queden en el rango [-0.5, 0.5]\n",
    "test_x = feat_test_flat/255. -0.5\n",
    "\n",
    "predicciones_test = clasificar_gato(test_x, parametros_red_gatos)\n",
    "accuracy_test = str(np.mean((predicciones_test == y_test)))\n",
    "\n",
    "####################################################################################\n",
    "###########  TERMINA ESPACIO PARA COMPLETAR CODIGO  ################################\n",
    "####################################################################################\n",
    "print(\"Porcentaje de acierto en test: \"  + accuracy_test)"
   ]
  },
  {
   "cell_type": "markdown",
   "metadata": {},
   "source": [
    "¿Mucho mejor que tirar una moneda? Seguro que si."
   ]
  },
  {
   "cell_type": "markdown",
   "metadata": {},
   "source": [
    "**Ejercicio:** Comente cuáles son a su criterio las razones que explican el resultado obtenido y comente al menos un par de estrategias que de haberse implementado seguramente habrían redituado en un mejor desempeño con el conjunto de test. "
   ]
  },
  {
   "cell_type": "markdown",
   "metadata": {},
   "source": [
    "**Respuesta:** \n",
    "\n",
    "<font color=\"red\">Ver esto</font> "
   ]
  },
  {
   "cell_type": "markdown",
   "metadata": {},
   "source": [
    "<a id=\"Ejercicio2\"></a>\n",
    "# Ejercicio 2: Jugando con Tensorflow playground"
   ]
  },
  {
   "cell_type": "markdown",
   "metadata": {},
   "source": [
    "**Parte 1)** Ejecutar el [modelo parte 1](https://playground.tensorflow.org/#activation=linear&regularization=L2&batchSize=10&dataset=xor&regDataset=reg-plane&learningRate=0.01&regularizationRate=0&noise=35&networkShape=1&seed=0.68341&showTestData=false&discretize=false&percTrainData=50&x=true&y=true&xTimesY=false&xSquared=false&ySquared=false&cosX=false&sinX=false&cosY=false&sinY=false&collectStats=false&problem=classification&initZero=false&hideText=false&showTestData_hide=false&discretize_hide=false) y corroborar que no es capaz de separar correctamente los datos. Explicar."
   ]
  },
  {
   "cell_type": "markdown",
   "metadata": {},
   "source": [
    "**Respuesta:** \\\n",
    "No le da la cantidad de perceptrones para implementar la complejidad de la funcion objetivo. \\\n",
    "Despues de 250 epocas  Test loss 0.527\n",
    "                       Training loss 0.493\n",
    "\n",
    "\n",
    "|  Epocas  |  Test Loss  |  Training Loss |\n",
    "| -------- |    ------   |     ----       |\n",
    "| 250      |   0.527     |   0.493        |"
   ]
  },
  {
   "cell_type": "markdown",
   "metadata": {},
   "source": [
    "**Parte 2)** Aumentar el número de neuronas en capa oculta a dos. ¿Se pueden separar los datos? "
   ]
  },
  {
   "cell_type": "markdown",
   "metadata": {},
   "source": [
    "**Respuesta:** \\\n",
    "Aun no. Tendrá algo que ver con que la función de activacion es lineal y los datos no (tiene ruido)?? **DUDA**\\\n",
    "\n",
    "|  Epocas  |  Test Loss  |  Training Loss |\n",
    "| -------- |    ------   |     ----       |\n",
    "| 250      |   0.508     |   0.498        |"
   ]
  },
  {
   "cell_type": "markdown",
   "metadata": {},
   "source": [
    "**Parte 3)** Aumentar el número de neuronas en capa oculta a tres utilizando como función de activación ReLU. ¿Es este modelo adecuado para separar los datos? Ejecutar varias veces cambiando la inicialización."
   ]
  },
  {
   "cell_type": "markdown",
   "metadata": {},
   "source": [
    "**Respuesta:** \n",
    "\n",
    "| Iteracion |  Epocas  |  Test Loss  |  Training Loss |\n",
    "|  ------   | -------- |    ------   |     ----       |\n",
    "|     1     | 400      |   0.336     |   0.337        |\n",
    "|     2     | 290      |   0.174     |   0.144        |\n",
    "|     3     | 350      |   0.209     |   0.162        |\n"
   ]
  },
  {
   "cell_type": "markdown",
   "metadata": {},
   "source": [
    "**Parte 4)** Probar ahora con la siguiente arquitectura:\n",
    "- Primera capa oculta con tres neuronas\n",
    "- Segunda capa oculta con tres neuronas\n",
    "- Tercera capa oculta con dos neuronas\n",
    "\n",
    "¿Este modelo se ajusta mejor a los datos? ¿Converge más rápido y con mayor asiduidad que el de la parte 3? A los efectos de este ejercicio consideraremos que el modelo converge si el error de test es menor a 0.177."
   ]
  },
  {
   "cell_type": "markdown",
   "metadata": {},
   "source": [
    "**Respuesta:** \n",
    "\n",
    "| Iteracion |  Epocas  |  Test Loss  |  Training Loss |\n",
    "|  ------   | -------- |    ------   |     ----       |\n",
    "|     1     | 300      |   0.220     |   0.154        |\n",
    "|     2     | 500      |   0.153     |   0.136        |\n",
    "|     3     | 430      |   0.194     |   0.147        |\n",
    "|     4     | 800      |   0.180     |   0.156        |\n",
    "|     5     | 500      |   0.135     |   0.102        |\n",
    "\n",
    "\n",
    "No noto mejora considerable al caso de la part 3"
   ]
  },
  {
   "cell_type": "markdown",
   "metadata": {},
   "source": [
    "**Parte 5)** Utilizando sólamente $X_1$ y $X_2$ como características construir un modelo que separe adecuadamente los datos con [distribución en espiral](https://playground.tensorflow.org/#activation=linear&regularization=L2&batchSize=10&dataset=spiral&regDataset=reg-plane&learningRate=0.01&regularizationRate=0&noise=0&networkShape=1&seed=0.63187&showTestData=false&discretize=false&percTrainData=50&x=true&y=true&xTimesY=false&xSquared=false&ySquared=false&cosX=false&sinX=false&cosY=false&sinY=false&collectStats=false&problem=classification&initZero=false&hideText=false&showTestData_hide=false&discretize_hide=false). Para ello puede variar libremente el número de capas ocultas y la cantidad de nodos por capa oculta. Indique además los valores elegidos para los siguientes parámetros y las razones que guiaron la elección:\n",
    "- learning rate\n",
    "- activación\n",
    "- tipo de regularización\n",
    "- factor de regularización"
   ]
  },
  {
   "cell_type": "markdown",
   "metadata": {},
   "source": [
    "**Respuesta:** \\\n",
    "\n",
    "```Primer modelo:``` _lr = 0.1 | activacion=ReLU | Regularization=L2 | Regularization rate=0_\n",
    "\n",
    "| # capas ocultas |  Neuronas/capa  | Epocas  | Test Loss  |  Training Loss |\n",
    "|  ------------   |  -------------- |  -----  |   ------   |     ----       |\n",
    "|     2           |      (8,8)      |    1500 |  0.065     |   0.048        |\n",
    "|     3           |      (4,4,4)    |    1000 |  0.033     |   0.008        |\n",
    "|     3           |      (8,8,8)    |    250  |  0.019     |   0.000        |\n",
    "|     3           |      (6,6,6)    |    250  |  0.013     |   0.001        |\n",
    "|     3           |      (5,5,5)    |    530  |  0.016     |   0.001        |\n",
    "\n",
    "```Segundo modelo:``` _lr = 0.1 | activacion=tanh | Regularization=L2 | Regularization rate=0_\n",
    "\n",
    "| # capas ocultas |  Neuronas/capa  | Epocas  | Test Loss  |  Training Loss |\n",
    "|  ------------   |  -------------- |  -----  |   ------   |     ----       |\n",
    "|     3           |      (8,8,8)    |    300  |  0.019     |   0.001        |\n",
    "|     3           |      (8,8,8)    |    600  |  0.055     |   0.000        |\n",
    "\n",
    "\n",
    "Del ```primer modelo```, el que dio Training Loss=0.000 le agrego Regularization rate\n",
    "\n",
    "| # capas ocultas |  Neuronas/capa  | Epocas  | Test Loss  |  Training Loss |  Regularization rate |\n",
    "|  ------------   |  -------------- |  -----  |   ------   |     ----       |     --------------   |\n",
    "|     3           |      (8,8,8)    |    250  |  0.010     |   0.002        |       0.001          |\n",
    "|     3           |      (8,8,8)    |    250  |  0.086     |   0.065        |       0.01           |\n",
    "|     3           |      (6,6,6)    |    700  |  0.014     |   0.006        |       0.001          |\n"
   ]
  },
  {
   "cell_type": "markdown",
   "metadata": {},
   "source": [
    "**Parte 6)** La extracción de características puede ser útil aún cuando se trabaja con clasificadores de gran capacidad expresiva como las redes neuronales. Utilizando las transformaciones de características a la entrada que considere convenientes, encontrar la arquitectura de red con menor cantidad de nodos que produzca un error con el conjunto de test menor a 0.1. *Sugerencia:*  guarde registro del momento. "
   ]
  },
  {
   "cell_type": "markdown",
   "metadata": {},
   "source": [
    "**Respuesta:**\\\n",
    "\n",
    "Las caracteristicas que hasta ahora me han dado mas resultado son $X^1$, $X^2$, $X^{12}$, $X^{22}$, $X^1X^2$ :\n",
    "\n",
    "|   Lr     |  Activacion  |  Regul. rate  | # Capas  |  #nodos/capa | Epocas  |   Test loss   | Training loss |\n",
    "|  -----   |  ----------- |   ----------  | ------   |     ----     | ------- | ------------- | ------------- |\n",
    "|    0.1   |     ReLU     |      0.001    |   2      |      (8,8)   |  160    |      0.011    |     0.005     |\n",
    "|     \"    |       \"      |        \"      |    \"     |      (6,6)   |  165    |      0.010    |    0.006      |\n",
    "|     \"    |       \"      |        \"      |    \"     |      (4,4)   |  630    |      0.035    |     0.021     |\n",
    "|     \"    |       \"      |        \"      |    \"     |      (5,4)   |  300    |      0.032    |     0.014     |\n",
    "\n",
    "   "
   ]
  },
  {
   "cell_type": "code",
   "execution_count": null,
   "metadata": {},
   "outputs": [],
   "source": []
  }
 ],
 "metadata": {
  "kernelspec": {
   "display_name": "Python 3",
   "language": "python",
   "name": "python3"
  },
  "language_info": {
   "codemirror_mode": {
    "name": "ipython",
    "version": 3
   },
   "file_extension": ".py",
   "mimetype": "text/x-python",
   "name": "python",
   "nbconvert_exporter": "python",
   "pygments_lexer": "ipython3",
   "version": "3.7.4"
  }
 },
 "nbformat": 4,
 "nbformat_minor": 2
}
