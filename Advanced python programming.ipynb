{
 "cells": [
  {
   "cell_type": "markdown",
   "metadata": {},
   "source": [
    "# <center> Tips n Tricks para programar Python </center>"
   ]
  },
  {
   "cell_type": "code",
   "execution_count": 53,
   "metadata": {},
   "outputs": [],
   "source": [
    "import numpy as np"
   ]
  },
  {
   "cell_type": "markdown",
   "metadata": {},
   "source": [
    "## >> The zen of Python (PEP 20)"
   ]
  },
  {
   "cell_type": "code",
   "execution_count": 5,
   "metadata": {},
   "outputs": [
    {
     "name": "stdout",
     "output_type": "stream",
     "text": [
      "The Zen of Python, by Tim Peters\n",
      "\n",
      "Beautiful is better than ugly.\n",
      "Explicit is better than implicit.\n",
      "Simple is better than complex.\n",
      "Complex is better than complicated.\n",
      "Flat is better than nested.\n",
      "Sparse is better than dense.\n",
      "Readability counts.\n",
      "Special cases aren't special enough to break the rules.\n",
      "Although practicality beats purity.\n",
      "Errors should never pass silently.\n",
      "Unless explicitly silenced.\n",
      "In the face of ambiguity, refuse the temptation to guess.\n",
      "There should be one-- and preferably only one --obvious way to do it.\n",
      "Although that way may not be obvious at first unless you're Dutch.\n",
      "Now is better than never.\n",
      "Although never is often better than *right* now.\n",
      "If the implementation is hard to explain, it's a bad idea.\n",
      "If the implementation is easy to explain, it may be a good idea.\n",
      "Namespaces are one honking great idea -- let's do more of those!\n"
     ]
    }
   ],
   "source": [
    "import this"
   ]
  },
  {
   "cell_type": "markdown",
   "metadata": {},
   "source": [
    "## >> Asignar valores con if statements"
   ]
  },
  {
   "cell_type": "markdown",
   "metadata": {},
   "source": [
    "Se puede utilizar if else en una sola linea: \\\n",
    "En vez de \n",
    "> **if** condition: \\\n",
    "> &nbsp;&nbsp;&nbsp;&nbsp; do_something \\\n",
    "> **else**: \\\n",
    "> &nbsp;&nbsp;&nbsp;&nbsp; do_something_else \n",
    "\n",
    "Usar \n",
    "> do_something **if** condition **else** do_something_else"
   ]
  },
  {
   "cell_type": "code",
   "execution_count": 2,
   "metadata": {},
   "outputs": [
    {
     "name": "stdout",
     "output_type": "stream",
     "text": [
      "Happy\n",
      "Happy\n"
     ]
    }
   ],
   "source": [
    "is_happy = True\n",
    "\n",
    "# Forma larga\n",
    "if is_happy == True:\n",
    "    result_string = \"Happy\"\n",
    "else:\n",
    "    result_string = \" Not happy\"\n",
    "    \n",
    "print(result_string)\n",
    "\n",
    "# En una linea\n",
    "is_happy = True\n",
    "\n",
    "result_string = \"Happy\" if is_happy else \"Not happy\"\n",
    "\n",
    "print(result_string)"
   ]
  },
  {
   "cell_type": "markdown",
   "metadata": {},
   "source": [
    "## >> List comprehensions"
   ]
  },
  {
   "cell_type": "markdown",
   "metadata": {},
   "source": [
    "Una forma concisa de crear listas:"
   ]
  },
  {
   "cell_type": "code",
   "execution_count": 4,
   "metadata": {},
   "outputs": [
    {
     "name": "stdout",
     "output_type": "stream",
     "text": [
      "[1, 4, 9, 16, 25, 36, 49, 64, 81, 100]\n",
      "[1, 4, 9, 16, 25, 36, 49, 64, 81, 100]\n"
     ]
    }
   ],
   "source": [
    "# Version con for usual\n",
    "numbers = [1, 2, 3, 4, 5, 6, 7, 8, 9, 10]\n",
    "squared = []\n",
    "for number in numbers:\n",
    "    squared.append(number * number)\n",
    "\n",
    "print(squared)\n",
    "    \n",
    "# Version concisa\n",
    "numbers = [1, 2, 3, 4, 5, 6, 7, 8, 9, 10]\n",
    "squared = [number * number for number in numbers] # se puede poner una condicion if al final tambien\n",
    "\n",
    "print(squared)  "
   ]
  },
  {
   "cell_type": "markdown",
   "metadata": {},
   "source": [
    "## >> Unir y separar strings"
   ]
  },
  {
   "cell_type": "code",
   "execution_count": 47,
   "metadata": {},
   "outputs": [
    {
     "name": "stdout",
     "output_type": "stream",
     "text": [
      "Lista con strings a separar con espacios\n",
      "Lista*con*strings*a*separar*con*asteriscos\n",
      "['Este', 'es', 'un', 'string', 'para', 'pasar', 'a', 'una', 'lista']\n",
      "Los-espacios-seran-remplazados-por-guiones\n"
     ]
    }
   ],
   "source": [
    "# Unir \n",
    "x = [\"Lista\",\"con\",\"strings\",\"a\",\"separar\",\"con\",\"espacios\"]\n",
    "y = \" \".join(x)\n",
    "print(y)\n",
    "xx = [\"Lista\",\"con\",\"strings\",\"a\",\"separar\",\"con\",\"asteriscos\"]\n",
    "yy = \"*\".join(xx)\n",
    "print(yy)\n",
    "\n",
    "# Separar\n",
    "string1 = 'Este es un string para pasar a una lista'\n",
    "lista = string1.split()\n",
    "print(lista)\n",
    "\n",
    "# Ambos juntos para cambiar espacios por guiones\n",
    "string2 = 'Los espacios seran remplazados por guiones'\n",
    "string3 = '-'.join(string2.split())\n",
    "print(string3)"
   ]
  },
  {
   "cell_type": "markdown",
   "metadata": {},
   "source": [
    "## >> Iteraciones con enumerate"
   ]
  },
  {
   "cell_type": "markdown",
   "metadata": {},
   "source": [
    "En vez de utilizar (mal, desprolijo) `range(len(...))`, se puede utilizar `enumerate` para iterar en un loop"
   ]
  },
  {
   "cell_type": "code",
   "execution_count": 10,
   "metadata": {},
   "outputs": [
    {
     "name": "stdout",
     "output_type": "stream",
     "text": [
      "0 Bob\n",
      "1 Alice\n",
      "2 Guido\n",
      "\n",
      "0 Bob\n",
      "1 Alice\n",
      "2 Guido\n"
     ]
    }
   ],
   "source": [
    "# Forma incorrecta de hacerlo\n",
    "names = ['Bob', 'Alice', 'Guido']\n",
    "for i in range(len(names)):\n",
    "    print(i, names[i])\n",
    "print()\n",
    "\n",
    "# Utilizando enumerate:\n",
    "names = ['Bob', 'Alice', 'Guido']\n",
    "for index, name in enumerate(names):\n",
    "    print(index, name)"
   ]
  },
  {
   "cell_type": "markdown",
   "metadata": {},
   "source": [
    "Enumerate es un objeto de Python:"
   ]
  },
  {
   "cell_type": "code",
   "execution_count": 15,
   "metadata": {},
   "outputs": [
    {
     "name": "stdout",
     "output_type": "stream",
     "text": [
      "[(0, 'Bob'), (1, 'Alice'), (2, 'Guido')]\n"
     ]
    }
   ],
   "source": [
    "names = ['Bob', 'Alice', 'Guido']\n",
    "print(list(enumerate(names)))"
   ]
  },
  {
   "cell_type": "code",
   "execution_count": 22,
   "metadata": {},
   "outputs": [
    {
     "name": "stdout",
     "output_type": "stream",
     "text": [
      "('a', 'x')\n"
     ]
    }
   ],
   "source": [
    "list1 = [\"a\", \"b\", \"c\"]\n",
    "list2 = [\"x\", \"y\", \"z\"]\n",
    "x = zip(list1,list2)\n",
    "print(x.__next__())"
   ]
  },
  {
   "cell_type": "markdown",
   "metadata": {},
   "source": [
    "## >> String Formatting Best Practices"
   ]
  },
  {
   "cell_type": "markdown",
   "metadata": {},
   "source": [
    "Por ejemplo, si se tiene que imprimir un mensaje hacia el programador Bob con el numero de error `errno=50159747054` `name = 'Bob'`, la forma al estilo \"clasico\" es con el `operador %`. La \"nueva\" forma de hacerlo es con string formating `str.format`:"
   ]
  },
  {
   "cell_type": "code",
   "execution_count": 26,
   "metadata": {},
   "outputs": [
    {
     "name": "stdout",
     "output_type": "stream",
     "text": [
      "Hey Bob, there is a badc0ffee error!\n",
      "\n",
      "Hello, Bob\n",
      "Hey Bob, there is a badc0ffee error!\n"
     ]
    }
   ],
   "source": [
    "# Forma clasica\n",
    "errno = 50159747054\n",
    "name = 'Bob'\n",
    "print('Hey %s, there is a %x error!' % (name, errno)) #name como string, errno como hexa\n",
    "print()\n",
    "\n",
    "# Forma nueva\n",
    "print('Hello, {}'.format(name)) # solo imprimir el nombre\n",
    "print('Hey {name}, there is a {errno:x} error!'.format(name=name, errno=errno)) \n",
    "    # Observar que en errno se pasa el data type en que se quiere imprimir "
   ]
  },
  {
   "cell_type": "markdown",
   "metadata": {},
   "source": [
    "Desde **Python 3.6+** se tiene un nuevo string formatting approach llamado *string literals* o *f-strings*. Esta nueva forma de formatear strings permite usar expresiones embebidas de Python dentro de strings"
   ]
  },
  {
   "cell_type": "code",
   "execution_count": 42,
   "metadata": {},
   "outputs": [
    {
     "name": "stdout",
     "output_type": "stream",
     "text": [
      "Hello, Bob!\n",
      "Cinco mas diez es 15, no 50.\n",
      "Puedo imprimir 10 en \n",
      " hexa: 0xa, \n",
      " binario: 0b1010 \n",
      " punto flotante: 10.0\n"
     ]
    }
   ],
   "source": [
    "name = 'Bob'\n",
    "print(f'Hello, {name}!')\n",
    "\n",
    "a = 5\n",
    "b = 10\n",
    "print(f'Cinco mas diez es {a + b}, no {a * b}.')\n",
    "\n",
    "# Tambien se puede formatear de forma usual\n",
    "print(f'Puedo imprimir {b} en \\n hexa: {hex(b)}, \\n binario: {bin(b)} \\n punto flotante: {float(b)}')"
   ]
  },
  {
   "cell_type": "markdown",
   "metadata": {},
   "source": [
    "## >> Error handling "
   ]
  },
  {
   "cell_type": "markdown",
   "metadata": {},
   "source": [
    "En Python un programa puede terminar en cuanto se encuentra con una excepcion o un error de syntaxis. \\\n",
    "Los `errores de excepciones` ocurren cuando, aunquer el codigo este sintacticamente bien, el programa resulta en un error. \\\n",
    "Python muestra los detalles del tipo de excepción (por ejemplo *ZeroDivisionError*) en vez de mostrar el mensaje *exception error*. "
   ]
  },
  {
   "cell_type": "markdown",
   "metadata": {},
   "source": [
    "####  Levantando una excepción (raise)"
   ]
  },
  {
   "cell_type": "markdown",
   "metadata": {},
   "source": [
    "Se puede utilizar *raise* para mostrar una excepción cuando una condición ocurre:"
   ]
  },
  {
   "cell_type": "code",
   "execution_count": 50,
   "metadata": {},
   "outputs": [
    {
     "ename": "Exception",
     "evalue": "x no debe ser mayor a 5. El valor de x fue 10",
     "output_type": "error",
     "traceback": [
      "\u001b[0;31m---------------------------------------------------------------------------\u001b[0m",
      "\u001b[0;31mException\u001b[0m                                 Traceback (most recent call last)",
      "\u001b[0;32m<ipython-input-50-88826f7e8fe5>\u001b[0m in \u001b[0;36m<module>\u001b[0;34m\u001b[0m\n\u001b[1;32m      1\u001b[0m \u001b[0mx\u001b[0m \u001b[0;34m=\u001b[0m \u001b[0;36m10\u001b[0m\u001b[0;34m\u001b[0m\u001b[0;34m\u001b[0m\u001b[0m\n\u001b[1;32m      2\u001b[0m \u001b[0;32mif\u001b[0m \u001b[0mx\u001b[0m \u001b[0;34m>\u001b[0m \u001b[0;36m5\u001b[0m\u001b[0;34m:\u001b[0m\u001b[0;34m\u001b[0m\u001b[0;34m\u001b[0m\u001b[0m\n\u001b[0;32m----> 3\u001b[0;31m     \u001b[0;32mraise\u001b[0m \u001b[0mException\u001b[0m\u001b[0;34m(\u001b[0m\u001b[0;34mf'x no debe ser mayor a 5. El valor de x fue {x}'\u001b[0m\u001b[0;34m)\u001b[0m\u001b[0;34m\u001b[0m\u001b[0;34m\u001b[0m\u001b[0m\n\u001b[0m",
      "\u001b[0;31mException\u001b[0m: x no debe ser mayor a 5. El valor de x fue 10"
     ]
    }
   ],
   "source": [
    "x = 10\n",
    "if x > 5:\n",
    "    raise Exception(f'x no debe ser mayor a 5. El valor de x fue {x}')"
   ]
  },
  {
   "cell_type": "markdown",
   "metadata": {},
   "source": [
    "#### La excepción AssertionError"
   ]
  },
  {
   "cell_type": "markdown",
   "metadata": {},
   "source": [
    "En vez de esperar a que el programa crashee en la mitad de la ejecución se puede utilizar una sentencia assert para chequear que no hayan errores. \\\n",
    "Las sentencias assert de Python son una ayuda para debugguear, no un mecanismo para manejar errores en tiempo de ejecución. El objetivo es ayudar al desarrollador a encontrar la causa probable del bug mas rapidamente. \\\n",
    "**Si la condición es False, se puestra el mensaje del assert y se termina el programa**"
   ]
  },
  {
   "cell_type": "code",
   "execution_count": 54,
   "metadata": {},
   "outputs": [
    {
     "ename": "AssertionError",
     "evalue": "Las listas tienen que tener la misma cantidad de elementos",
     "output_type": "error",
     "traceback": [
      "\u001b[0;31m---------------------------------------------------------------------------\u001b[0m",
      "\u001b[0;31mAssertionError\u001b[0m                            Traceback (most recent call last)",
      "\u001b[0;32m<ipython-input-54-1220b8c7e5a5>\u001b[0m in \u001b[0;36m<module>\u001b[0;34m\u001b[0m\n\u001b[1;32m      1\u001b[0m \u001b[0mlist1\u001b[0m \u001b[0;34m=\u001b[0m \u001b[0;34m[\u001b[0m\u001b[0;36m1\u001b[0m\u001b[0;34m,\u001b[0m \u001b[0;36m2\u001b[0m\u001b[0;34m,\u001b[0m \u001b[0;36m3\u001b[0m\u001b[0;34m,\u001b[0m \u001b[0;36m4\u001b[0m\u001b[0;34m,\u001b[0m \u001b[0;36m5\u001b[0m\u001b[0;34m]\u001b[0m\u001b[0;34m\u001b[0m\u001b[0;34m\u001b[0m\u001b[0m\n\u001b[1;32m      2\u001b[0m \u001b[0mlist2\u001b[0m \u001b[0;34m=\u001b[0m \u001b[0;34m[\u001b[0m\u001b[0;36m1\u001b[0m\u001b[0;34m,\u001b[0m \u001b[0;36m2\u001b[0m\u001b[0;34m,\u001b[0m \u001b[0;36m3\u001b[0m\u001b[0;34m,\u001b[0m \u001b[0;36m4\u001b[0m\u001b[0;34m]\u001b[0m\u001b[0;34m\u001b[0m\u001b[0;34m\u001b[0m\u001b[0m\n\u001b[0;32m----> 3\u001b[0;31m \u001b[0;32massert\u001b[0m \u001b[0;34m(\u001b[0m\u001b[0mlen\u001b[0m\u001b[0;34m(\u001b[0m\u001b[0mlist1\u001b[0m\u001b[0;34m)\u001b[0m \u001b[0;34m==\u001b[0m \u001b[0mlen\u001b[0m\u001b[0;34m(\u001b[0m\u001b[0mlist2\u001b[0m\u001b[0;34m)\u001b[0m\u001b[0;34m)\u001b[0m\u001b[0;34m,\u001b[0m \u001b[0;34m'Las listas tienen que tener la misma cantidad de elementos'\u001b[0m\u001b[0;34m\u001b[0m\u001b[0;34m\u001b[0m\u001b[0m\n\u001b[0m",
      "\u001b[0;31mAssertionError\u001b[0m: Las listas tienen que tener la misma cantidad de elementos"
     ]
    }
   ],
   "source": [
    "list1 = [1, 2, 3, 4, 5]\n",
    "list2 = [1, 2, 3, 4]\n",
    "assert (len(list1) == len(list2)), 'Las listas tienen que tener la misma cantidad de elementos'"
   ]
  },
  {
   "cell_type": "markdown",
   "metadata": {},
   "source": [
    "#### Manejando excepciones con el bloque try/except"
   ]
  },
  {
   "cell_type": "markdown",
   "metadata": {},
   "source": [
    "El bloque try/except en Python es usado para agarrar (catch) y manejar excepciones.\n",
    "> try: \\\n",
    "> &nbsp;&nbsp;&nbsp;&nbsp;run this code \\\n",
    "> except: \\\n",
    "> &nbsp;&nbsp;&nbsp;&nbsp;execute this code when there is an exception"
   ]
  },
  {
   "cell_type": "code",
   "execution_count": 59,
   "metadata": {},
   "outputs": [],
   "source": [
    "# Ejemplo\n",
    "import sys\n",
    "def windows_interaction():\n",
    "    '''\n",
    "        Devuelve AssertionError si se corre en linux.\n",
    "    '''\n",
    "    assert ('windows' in sys.platform), \"Function can only run on Linux systems.\"\n",
    "    print('Doing something.')\n",
    "    \n",
    "try:\n",
    "    windows_interaction()\n",
    "except:\n",
    "    pass\n",
    "\n",
    "# OBS: Se maneja la excepción. El programa no crashea, pero no se obtiene ningun mensaje de la excepción que ocurrió\n",
    "\n",
    "try:\n",
    "    linux_interaction()\n",
    "except:\n",
    "    print('Windows function was not executed')\n",
    "    \n",
    "# OBS: de esta manera si se muestra un mensaje en caso de que ocurra una excepción. El programa no crashea"
   ]
  },
  {
   "cell_type": "code",
   "execution_count": null,
   "metadata": {},
   "outputs": [],
   "source": []
  }
 ],
 "metadata": {
  "kernelspec": {
   "display_name": "Python 3",
   "language": "python",
   "name": "python3"
  },
  "language_info": {
   "codemirror_mode": {
    "name": "ipython",
    "version": 3
   },
   "file_extension": ".py",
   "mimetype": "text/x-python",
   "name": "python",
   "nbconvert_exporter": "python",
   "pygments_lexer": "ipython3",
   "version": "3.7.4"
  }
 },
 "nbformat": 4,
 "nbformat_minor": 2
}
