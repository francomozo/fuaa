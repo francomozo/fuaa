{
 "cells": [
  {
   "cell_type": "markdown",
   "metadata": {},
   "source": [
    "# Fundamentos de Aprendizaje Automático y Reconocimiento de Patrones\n",
    "***\n",
    "# Práctico 3"
   ]
  },
  {
   "cell_type": "code",
   "execution_count": 1,
   "metadata": {},
   "outputs": [],
   "source": [
    "import numpy as np\n",
    "from matplotlib import pyplot as plt\n",
    "from mpl_toolkits.mplot3d import Axes3D\n",
    "from matplotlib.animation import FuncAnimation\n",
    "\n",
    "#%matplotlib inline\n",
    "%matplotlib notebook"
   ]
  },
  {
   "cell_type": "markdown",
   "metadata": {},
   "source": [
    "## Objetivos\n",
    "\n",
    "Los objetivos de este práctico son los siguientes:\n",
    "    \n",
    "- Implementar el método de **descenso por gradiente** para optimizar una función de costo. Identificar dificultades que pueden presentarse al utilizar el método de optimización y proponer estrategias que permitan mitigar las mismas.\n",
    "- Implementar **regresión lineal** utilizando **descenso por gradiente** y **descenso por gradiente estocástico**. Comparar la evolución de las funciones de costo y los pesos en ambos casos. Analizar la conveniencia de aplicar uno u otro método. \n",
    "- Formular el método de clasificación **regresión logística** e implementarlo. \n",
    "- Aplicar el método de regresión logística para **clasificar entre especies de la flor de Iris**.\n",
    "\n",
    "\n",
    "*** \n",
    "\n",
    "## Lista de ejercicios\n",
    "\n",
    "[Ejercicio 1](#Ejercicio1): descenso por gradiente de una función simple       \n",
    "[Ejercicio 2](#Ejercicio2): regresión lineal mediante descenso por gradiente     \n",
    "[Ejercicio 3](#Ejercicio3): regresión logística      \n"
   ]
  },
  {
   "cell_type": "markdown",
   "metadata": {},
   "source": [
    "<a id=\"Ejercicio1\"></a>\n",
    "## Ejercicio 1: Descenso por gradiente en una función \"simple\""
   ]
  },
  {
   "cell_type": "markdown",
   "metadata": {},
   "source": [
    "Se considera la función $f(x,y)=x^2+2y^2+2\\sin(2\\pi x)2\\sin(2\\pi y)$"
   ]
  },
  {
   "cell_type": "markdown",
   "metadata": {},
   "source": [
    "**Ej1 a)** Implementar descenso por gradiente para minimizar esta función. Considerar como condición inicial los valores $(x_0,y_0) = (0.1, 0.1)$. Utilizar como *learning rate* $\\eta=0.1$ y como número máximo de iteraciones 50. Comentar cómo evoluciona el costo en función del número de iteraciones. ¿Qué sucede si se modifica el *learning rate*?"
   ]
  },
  {
   "cell_type": "code",
   "execution_count": null,
   "metadata": {},
   "outputs": [],
   "source": [
    "x0, y0 = 0.1, 0.1 # por defecto 0.1, 0.1\n",
    "lr = 0.01 # por defecto 0.1\n",
    "nIter = 50\n",
    "F = np.zeros(nIter) # función de costo\n",
    "x, y = x0, y0\n",
    "n=0\n",
    "\n",
    "###################################################################\n",
    "############# EMPIEZA ESPACIO PARA COMPLETAR CÓDIGO  ##############\n",
    "###################################################################\n",
    "\n",
    "\n",
    "\n",
    "###################################################################\n",
    "############# TERMINA ESPACIO PARA COMPLETAR CÓDIGO  ##############\n",
    "###################################################################\n",
    "\n",
    "plt.figure(figsize=(5,5))\n",
    "plt.plot(F)\n",
    "plt.title('Evolución del error')\n",
    "plt.xlabel('Numero de iteraciones')\n",
    "plt.ylabel('f')\n",
    "plt.tight_layout()"
   ]
  },
  {
   "cell_type": "markdown",
   "metadata": {},
   "source": [
    "**Respuesta:**  \n",
    "..."
   ]
  },
  {
   "cell_type": "markdown",
   "metadata": {},
   "source": [
    "**Ej1 b)** Obtener las coordenadas del mínimo y su valor para las siguientes condiciones iniciales:\n",
    "\n",
    "| Condición inicial | ( x, y )* | F* |\n",
    "| ----------------- | ------ | ----- |\n",
    "| (0.1, 0.1)        |        |       |\n",
    "| (1, 1)            |        |       | \n",
    "| (-0.5, -0.5)      |        |       |\n",
    "| (-1, -1) |  |  |"
   ]
  },
  {
   "cell_type": "markdown",
   "metadata": {},
   "source": [
    "**Ej1 c)** ¿Qué puede decir respecto a la función a optimizar y la técnica empleada?"
   ]
  },
  {
   "cell_type": "code",
   "execution_count": null,
   "metadata": {},
   "outputs": [],
   "source": [
    "# Se grafica la función de costo para este caso\n",
    "# Pasar como parámetro el step de la grilla\n",
    "\n",
    "grid_step = 1\n",
    "xs = np.arange(-2, 2, grid_step)\n",
    "yes = np.arange(-2, 2, grid_step)\n",
    "xx, yy = np.meshgrid(xs, yes)\n",
    "z = xx**2 + 2*yy**2 + 2*np.sin(2*np.pi*xx) * 2*np.sin(2*np.pi*yy)\n",
    "\n",
    "fig = plt.figure(figsize=(5,5))\n",
    "ax = fig.add_subplot(111, projection='3d')\n",
    "ax.plot_surface(xx,yy,z)\n",
    "plt.xlabel('x')\n",
    "plt.ylabel('y')\n",
    "plt.tight_layout()"
   ]
  },
  {
   "cell_type": "markdown",
   "metadata": {},
   "source": [
    "**Respuesta:**   \n",
    "... "
   ]
  },
  {
   "cell_type": "markdown",
   "metadata": {},
   "source": [
    "<a id=\"Ejercicio2\"></a>\n",
    "## Ejercicio 2: Regresión lineal mediante descenso por gradiente"
   ]
  },
  {
   "cell_type": "markdown",
   "metadata": {},
   "source": [
    "En este ejercicio se encontrarán los parámetros de una relación lineal entre dos variables unidimensionales utilizando descenso por gradiente y se lo comparará con el resultado obtenido mediante la solución cerrada vista en el práctico anterior. Para generar una relacion lineal rudiosa entre dos variables $x$ e $y$ se prové la función `generar_relacion_lineal_ruidosa(m, n, N, sigma)`. "
   ]
  },
  {
   "cell_type": "code",
   "execution_count": null,
   "metadata": {},
   "outputs": [],
   "source": [
    "def generar_relacion_lineal_ruidosa(m, n, N, sigma):\n",
    "    '''\n",
    "    Entrada:\n",
    "        m: pendiente de la recta\n",
    "        n: término independiente\n",
    "        N: número de puntos a generar\n",
    "        sigma: desviación estándar del ruido\n",
    "    Salida:\n",
    "        x: N valores aleatorios en el rango [-1,1]\n",
    "        y: resultado de evaluar los N valores de x con el modelo ruidoso\n",
    "    '''\n",
    "    x = 2*np.random.rand(N)-1\n",
    "    senal = m * x + n \n",
    "    ruido = sigma * np.random.randn(N)\n",
    "    y = senal + ruido\n",
    "    return x, y"
   ]
  },
  {
   "cell_type": "markdown",
   "metadata": {},
   "source": [
    "La siguiente celda genera dos vectores $\\mathbf{x}$, $\\mathbf{y}$ y muestra la relación generada"
   ]
  },
  {
   "cell_type": "code",
   "execution_count": null,
   "metadata": {},
   "outputs": [],
   "source": [
    "m=-2 ; n=0.5; N=100; sigma=0.1;\n",
    "x, y = generar_relacion_lineal_ruidosa(m,n,N,sigma)\n",
    "\n",
    "plt.figure(figsize=(5,5))\n",
    "plt.scatter(x,y,c='b', s=2)\n",
    "plt.xlabel('x')\n",
    "plt.ylabel('y')\n",
    "plt.title('Relación lineal generada')\n",
    "plt.tight_layout()"
   ]
  },
  {
   "cell_type": "markdown",
   "metadata": {},
   "source": [
    "La función de costo que se minimiza mediante el método de mínimos cuadrados es:\n",
    "\n",
    "$$\n",
    "E_{in}(\\mathbf{w}) = \\frac{1}{2N}\\sum_{n=1}^N \\left( y_n - \\mathbf{w}^T \\mathbf{x}_n \\right)^2\n",
    "$$"
   ]
  },
  {
   "cell_type": "markdown",
   "metadata": {},
   "source": [
    "**Ej2 a)** Encontrar los coeficientes del modelo utilizando la solución cerrada vista en el curso y verificar que los coeficientes obtenidos son similares a los utilizados para generar la señal. Recordar que en el modelo lineal el vector de características $\\mathbf{x}_n$ se encuentra expresado en coordenadas homogéneas. "
   ]
  },
  {
   "cell_type": "code",
   "execution_count": null,
   "metadata": {},
   "outputs": [],
   "source": [
    "###################################################################\n",
    "############# EMPIEZA ESPACIO PARA COMPLETAR CÓDIGO  ##############\n",
    "###################################################################\n",
    "\n",
    "# w_ls =\n",
    "\n",
    "###################################################################\n",
    "############# TERMINA ESPACIO PARA COMPLETAR CÓDIGO  ##############\n",
    "###################################################################"
   ]
  },
  {
   "cell_type": "markdown",
   "metadata": {},
   "source": [
    "**Ej2 b)**  Calcular el gradiente de la función de costo respecto a los parámetros. "
   ]
  },
  {
   "cell_type": "markdown",
   "metadata": {},
   "source": [
    "**Respuesta:**\n",
    "\n",
    "..."
   ]
  },
  {
   "cell_type": "markdown",
   "metadata": {},
   "source": [
    "**Ej2 c)** Implementar el método `minimos_cuadrados_mediante_descenso_por_gradiente()` y utilizarla para encontrar los coeficientes del modelo lineal. Notar que el resultado obtenido en la parte anterior utiliza todo el conjunto de entrenamiento para estimar el gradiente. Es por esta razón que a esta forma de calcular el gradiente se la suele llamar *Batch Gradient Descent*"
   ]
  },
  {
   "cell_type": "code",
   "execution_count": null,
   "metadata": {},
   "outputs": [],
   "source": [
    "def minimos_cuadrados_mediante_descenso_por_gradiente(X, y, lr = 0.1, max_iter=1000, \n",
    "                                                      delta_w_minimo=1e-8):\n",
    "    '''\n",
    "    Entrada:\n",
    "        \n",
    "        X: matríz de tamaño Nx(d+1) donde cada fila representa una muestra\n",
    "        y: vector de tamaño N que contiene las etiquetas\n",
    "        lr: learning rate\n",
    "        max_iter: si el número de iteraciones alcanza a max_iter se detiene la optimización.\n",
    "        delta_w_minimo: si la norma L2 del vector diferencia entre vectores de pesos de dos \n",
    "                       iteraciones consecutivos es menor que delta_w_minimo se detiene la optimización\n",
    "                                  \n",
    "    Salida:\n",
    "        ws: lista de tamaño igual al número de iteraciones realizadas que contiene \n",
    "            los vectores de pesos encontrados durante el proceso de optimización \n",
    "    '''\n",
    "    N = X.shape[0]\n",
    "    \n",
    "    # se inicializan los pesos a valores aleatorios muy pequeños\n",
    "    w = 1e-6 * np.random.randn(X.shape[1])\n",
    "    ws = [w.copy()] # se inicializa la lista de pesos\n",
    "    delta_w = delta_w_minimo + 1 # de esta forma entra seguro al menos una vez\n",
    "    t=0 # contador de iteraciones\n",
    "    \n",
    "    while (t < max_iter and delta_w > delta_w_minimo):\n",
    "        \n",
    "        #################################################################################\n",
    "        #################  EMPIEZA ESPACIO PARA COMPLETAR CÓDIGO ########################\n",
    "        #################################################################################\n",
    "\n",
    "\n",
    "        \n",
    "        #################################################################################\n",
    "        #################  TERMINA ESPACIO PARA COMPLETAR CÓDIGO ########################\n",
    "        #################################################################################\n",
    "   \n",
    "    print(\"minimos_cuadrados_mediante_descenso_por_gradiente() terminó en la iteración %d\" % t )\n",
    "    ws = np.array(ws)\n",
    "    \n",
    "    return ws"
   ]
  },
  {
   "cell_type": "code",
   "execution_count": null,
   "metadata": {},
   "outputs": [],
   "source": [
    "# Se encuentran los coeficientes del modelo utilizando batch gradient descent\n",
    "max_iter_BGD = 500 \n",
    "ws_bgd  = minimos_cuadrados_mediante_descenso_por_gradiente(Xh, y, max_iter = max_iter_BGD )\n",
    "w_bgd = ws_bgd[-1]\n",
    "print('El w encontrado utilizando batch gradient descent es: ', w_bgd)"
   ]
  },
  {
   "cell_type": "markdown",
   "metadata": {},
   "source": [
    "### Descenso por gradiente estocástico"
   ]
  },
  {
   "cell_type": "markdown",
   "metadata": {},
   "source": [
    "Cuando el conjunto de datos de entrenamiento es muy grande, el descenso por gradiente recientemente implementado presenta la desventaja de ser muy lento. Es por eso que en la práctica es muy habitual utilizar una variante llamada *descenso por gradiente estocástico*. En la misma se calcula el gradiente utilizando una sola muestra. "
   ]
  },
  {
   "cell_type": "markdown",
   "metadata": {},
   "source": [
    "**Ej2 d)** Implementar `minimos_cuadrados_mediante_descenso_por_gradiente_estocastico()` y utilizarla para encontrar los coeficientes del modelo lineal."
   ]
  },
  {
   "cell_type": "code",
   "execution_count": null,
   "metadata": {},
   "outputs": [],
   "source": [
    "def minimos_cuadrados_mediante_descenso_por_gradiente_estocastico(X, y, lr = 0.1, \n",
    "                                                                max_epocas =1000, \n",
    "                                                                delta_w_minimo=1e-8):\n",
    "    '''\n",
    "    Entrada:\n",
    "        \n",
    "        X: matríz de tamaño Nx(d+1) donde cada fila representa una muestra\n",
    "        y: vector de tamaño N que contiene las etiquetas\n",
    "        lr: learning rate\n",
    "        max_epocas: si el número de épocas alcanza a max_epocas se detiene la optimización.\n",
    "                    Se llama una época a una pasada completa por el conjunto de \n",
    "                    entrenamiento.\n",
    "        delta_w_minimo: si la norma L2 del vector diferencia entre vectores de pesos de dos \n",
    "                        épocas consecutivos es menor que delta_w_minimo se detiene la optimización\n",
    "                                  \n",
    "    Salida:\n",
    "        ws: lista de tamaño igual al número de iteraciones realizadas que contiene los pesos de cada\n",
    "            iteración\n",
    "    '''\n",
    "    \n",
    "    N = X.shape[0]\n",
    "    \n",
    "    # se inicializan los pesos a valores aleatorios muy pequeños\n",
    "    w = 1e-6 * np.random.randn(X.shape[1])\n",
    "    ws = [w.copy()]  # se inicializa la lista de pesos\n",
    "    delta_w = delta_w_minimo + 1 # de esta forma entra seguro al menos una vez\n",
    "    epoca_actual =0 # contador de épocas\n",
    "    \n",
    "    while (epoca_actual < max_epocas and delta_w > delta_w_minimo):\n",
    "        \n",
    "        #################################################################################\n",
    "        #################  EMPIEZA ESPACIO PARA COMPLETAR CÓDIGO ########################\n",
    "        #################################################################################\n",
    "\n",
    "        # se guarda el w de la época anterior\n",
    "        # w_= \n",
    "            \n",
    "        # se sortea el orden en que se visitan las muestras\n",
    "        # sugerencia: utilizar permutation() del paquete random\n",
    "        # indices = \n",
    "        for i in indices:\n",
    "            \n",
    "            # se calcula el gradiente \n",
    "            \n",
    "            \n",
    "            # se actualiza w\n",
    "\n",
    "            \n",
    "            # se almacena el nuevo w\n",
    "        \n",
    "        \n",
    "        # al terminar la época se calcula el delta_w\n",
    "        # delta_w = \n",
    "        \n",
    "        # se incrementa el valor de la época\n",
    "        \n",
    "        #################################################################################\n",
    "        #################  TERMINA ESPACIO PARA COMPLETAR CÓDIGO ########################\n",
    "        #################################################################################\n",
    "    \n",
    "    print(\"minimos_cuadrados_mediante_descenso_por_gradiente_estocastico() terminó en la época %d\" % epoca_actual )\n",
    "    ws = np.array(ws)\n",
    "    \n",
    "    return ws"
   ]
  },
  {
   "cell_type": "code",
   "execution_count": null,
   "metadata": {},
   "outputs": [],
   "source": [
    "# Se define el número máximo de épocas en descenso por gradiente\n",
    "# estocástico de forma tal que el número de actualizaciones de los\n",
    "# pesos sea similar a la de batch gradient descent. Recordar que\n",
    "# en una época se realizan N actualizaciones de los pesos.\n",
    "max_epocas_SGD = np.max([max_iter_BGD//N, 1])\n",
    "\n",
    "ws_sgd  = minimos_cuadrados_mediante_descenso_por_gradiente_estocastico(Xh, y, \n",
    "                                                                        max_epocas=max_epocas_SGD)\n",
    "w_sgd=ws_sgd[-1]\n",
    "print('El w encontrado utilizando batch gradient descent es: ', w_sgd)"
   ]
  },
  {
   "cell_type": "markdown",
   "metadata": {},
   "source": [
    "### Evolución del costo en descenso por gradiente"
   ]
  },
  {
   "cell_type": "markdown",
   "metadata": {},
   "source": [
    "**Ej2 e)** Implementar la función `evolucion_costo_descenso_por_gradiente()` y utilizarla para mostrar las curvas de error en ambos casos. ¿Qué similitudes y diferencias nota entre las curvas obtenidas por ambos métodos?"
   ]
  },
  {
   "cell_type": "code",
   "execution_count": null,
   "metadata": {},
   "outputs": [],
   "source": [
    "def evolucion_costo_descenso_por_gradiente(X, y, ws):\n",
    "    '''\n",
    "    Entrada:\n",
    "        X: Matriz de Nx(d+1) que contiene los puntos a evaluar\n",
    "        y: vector con los valores de la variable independiente\n",
    "        ws: lista con los coeficientes del modelo obtenidos en cada actualización\n",
    "    Salida:\n",
    "        errores: lista con los errores (mean square errors) estimados en cada paso\n",
    "    '''\n",
    "    errores = []\n",
    "    \n",
    "    #################################################################################\n",
    "    #################  EMPIEZA ESPACIO PARA COMPLETAR CÓDIGO ########################\n",
    "    #################################################################################\n",
    "    \n",
    "        \n",
    "    #################################################################################\n",
    "    #################  TERMINA ESPACIO PARA COMPLETAR CÓDIGO ########################\n",
    "    #################################################################################\n",
    "    \n",
    "    return errores"
   ]
  },
  {
   "cell_type": "code",
   "execution_count": null,
   "metadata": {},
   "outputs": [],
   "source": [
    "#################################################################################\n",
    "#################  EMPIEZA ESPACIO PARA COMPLETAR CÓDIGO ########################\n",
    "#################################################################################\n",
    "\n",
    "# errores_bgd = \n",
    "\n",
    "# errores_sgd = \n",
    "\n",
    "#################################################################################\n",
    "#################  TERMINA ESPACIO PARA COMPLETAR CÓDIGO ########################\n",
    "#################################################################################\n",
    "\n",
    "plt.figure(figsize=(8,4))\n",
    "plt.subplot(121)\n",
    "plt.plot(errores_bgd)\n",
    "plt.title('Costo de descenso por gradiente (batch)')\n",
    "plt.xlabel('Número de actualizaciones')\n",
    "plt.subplot(122)\n",
    "plt.plot(errores_sgd)\n",
    "plt.title('Costo de descenso por gradiente estocástico')\n",
    "plt.xlabel('Número de actualizaciones')\n",
    "plt.tight_layout()"
   ]
  },
  {
   "cell_type": "markdown",
   "metadata": {},
   "source": [
    "### Evolución de los pesos en descenso por gradiente"
   ]
  },
  {
   "cell_type": "markdown",
   "metadata": {},
   "source": [
    "La siguiente celda muestra como evolucionan los pesos durante la optimización. Correrla, mirar la animación y utilizarla para explicar el desempeño de ambos métodos."
   ]
  },
  {
   "cell_type": "code",
   "execution_count": null,
   "metadata": {},
   "outputs": [],
   "source": [
    "fig = plt.figure(figsize=(5, 5))\n",
    "cost_ax = fig.gca()\n",
    "cost_ax.plot(w_ls[1], w_ls[0], 'y*')\n",
    "\n",
    "ms = np.arange(-5., 5, 0.1)\n",
    "ns = np.arange(-5., 5, 0.1)\n",
    "mm, nn = np.meshgrid(ms, ns)\n",
    "costo = np.zeros_like(mm) \n",
    "for n in range(N):\n",
    "    costo += 1/N * (y[n] - (mm * x[n] + nn))**2\n",
    "\n",
    "cost_img = cost_ax.pcolor(mm, nn, costo)\n",
    "fig.colorbar(cost_img)\n",
    "\n",
    "def animar(i):\n",
    "    \n",
    "    cost_ax.cla()\n",
    "    cost_ax.plot(w_ls[1], w_ls[0], 'y*')\n",
    "    cost_ax.pcolor(mm, nn, costo)\n",
    "    cost_ax.plot(ws_bgd[:i,1], ws_bgd[:i,0], 'r--')\n",
    "    cost_ax.plot(ws_sgd[:i,1], ws_sgd[:i,0], 'g--')\n",
    "\n",
    "    cost_ax.set_xlim([-5, 5])\n",
    "    cost_ax.set_ylim([-5, 5])\n",
    "\n",
    "    cost_ax.set_xlabel(r'$m$')\n",
    "    cost_ax.set_ylabel(r'$n$')\n",
    "    cost_ax.set_title('Actualización %d' % i)\n",
    "\n",
    "    cost_ax.legend(('Solucion cerrada', 'BGD', 'SGD'), loc=\"upper left\")\n",
    "    plt.tight_layout()\n",
    "\n",
    "nIters = int(np.min([ws_bgd.shape[0],ws_sgd.shape[0]]))\n",
    "animacion = FuncAnimation(fig, animar, frames=nIters)\n",
    "plt.show()"
   ]
  },
  {
   "cell_type": "markdown",
   "metadata": {},
   "source": [
    "**Ej2 e)**  ¿Coinciden las soluciones de los distintos métodos? A modo de resumen comentar en qué  casos le parece conveniente utilizar cada uno de los métodos.  "
   ]
  },
  {
   "cell_type": "markdown",
   "metadata": {},
   "source": [
    "**Respuesta:**   \n",
    "\n",
    "..."
   ]
  },
  {
   "cell_type": "markdown",
   "metadata": {},
   "source": [
    "<a id=\"Ejercicio3\"></a>\n",
    "## Ejercicio 3:  Regresión Logística"
   ]
  },
  {
   "cell_type": "markdown",
   "metadata": {},
   "source": [
    "En un problema de dos clases, el modelo de regresión logística asume que la probabilidad a posteriori de pertenencia a la clase positiva puede ser escrita de la siguiente forma:\n",
    "\n",
    "$$\n",
    "P(y=1|\\mathbf{x}_n;\\mathbf{w})= \\theta \\left( \\mathbf{w}^T\\mathbf{x}_n \\right)= \\frac{1}{1+\\exp\\left(-\\left(\\mathbf{w}^T\\mathbf{x}_n\\right)\\right)}\n",
    "$$\n",
    "\n",
    "donde $\\mathbf{x_n}=\\left( 1, x_{n1},x_{n2},...,x_{nd}\\right)$ es el n-ésimo vector de característcas expresado en coordenadas homogéneas y $d$ es el número de característcas.  "
   ]
  },
  {
   "cell_type": "markdown",
   "metadata": {},
   "source": [
    "**Ej3 a)** Mostrar que $P(y=y_n|\\mathbf{x}_n;\\mathbf{w}) = \\frac{1}{1+\\exp\\left(-\\left(y_n \\mathbf{w}^T\\mathbf{x}_n\\right)\\right)} $"
   ]
  },
  {
   "cell_type": "markdown",
   "metadata": {},
   "source": [
    "**Solución:**\n",
    "\n",
    "..."
   ]
  },
  {
   "cell_type": "markdown",
   "metadata": {},
   "source": [
    "**Ej3 b)** Escribir la log verosimilitud $l(\\mathbf{y}| \\mathbf{X};\\mathbf{w})$ para este modelo en función de la función $\\theta(\\cdot)$ definida anteriormente. $\\mathbf{X}$ es una matriz de $N \\times (d+1)$ e $\\mathbf{y}$ es un vector que contiene las $N$ etiquetas."
   ]
  },
  {
   "cell_type": "markdown",
   "metadata": {},
   "source": [
    "**Solución:**\n",
    "\n",
    "..."
   ]
  },
  {
   "cell_type": "markdown",
   "metadata": {},
   "source": [
    "**Ej3 c)** Mostrar que encontrar el $\\mathbf{w}$ que maximiza la verosimilitud es equivalente a encontrar el $\\mathbf{w}$ que minimiza la función de costo: \n",
    "\n",
    "$$\n",
    "E_{in}(\\mathbf{w}) = \\frac{1}{N}\\sum_{n=1}^N \\log \\left( 1 + \\exp \\left( -y_n \\mathbf{w}^T\\mathbf{x}_n \\right) \\right)\n",
    "$$"
   ]
  },
  {
   "cell_type": "markdown",
   "metadata": {},
   "source": [
    "**Solución:**\n",
    "\n",
    "..."
   ]
  },
  {
   "cell_type": "markdown",
   "metadata": {},
   "source": [
    "**Ej3 d)** Mostrar que $$\\nabla E_{in}(\\mathbf{w}) = \\frac{1}{N} \\sum_{n=1}^{N} -y_n \\mathbf{x}_n \\theta  \\left( - y_n \\mathbf{w}^T\\mathbf{x_n} \\right) $$"
   ]
  },
  {
   "cell_type": "markdown",
   "metadata": {},
   "source": [
    "**Respuesta:**    \n",
    "...\n"
   ]
  },
  {
   "cell_type": "markdown",
   "metadata": {},
   "source": [
    "**Ej3 e)** Implementar el método `regresion_logistica()` utilizando alguna de las variantes del método de descenso por gradiente para realizar la optimización"
   ]
  },
  {
   "cell_type": "code",
   "execution_count": null,
   "metadata": {},
   "outputs": [],
   "source": [
    "def regresion_logistica(X, y, lr = 0.1, max_iter=1000, delta_w_minimo=1e-7):\n",
    "    '''\n",
    "    Entrada:\n",
    "        X: matríz de tamaño Nx(d+1) donde cada fila representa una muestra\n",
    "        y: vector de tamaño N que contiene las etiquetas\n",
    "        lr: learning rate\n",
    "        max_iter: si el número de iteraciones alcanza a max_iter se detiene la \n",
    "                  optimización.\n",
    "        delta_w_minimo: si la norma L2 del vector diferencia entre vectores de pesos de \n",
    "                        dos iteraciones consecutivos es menor que delta_w_minimo se \n",
    "                        detiene la optimización\n",
    "    Salida:\n",
    "        w: vector de pesos encontrado\n",
    "        error: vector de error de tamaño igual al número de iteraciones \n",
    "    '''     \n",
    "    \n",
    "    # se inicializan los pesos a valores aleatorios muy pequeños\n",
    "    w = 1e-6 * np.random.randn(X.shape[1])\n",
    "    error = []\n",
    "    \n",
    "    #################################################################################\n",
    "    #################  EMPIEZA ESPACIO PARA COMPLETAR CÓDIGO ########################\n",
    "    #################################################################################\n",
    "    \n",
    "        \n",
    "    #################################################################################\n",
    "    #################  TERMINA ESPACIO PARA COMPLETAR CÓDIGO ########################\n",
    "    #################################################################################\n",
    "    \n",
    "    \n",
    "    return w, error"
   ]
  },
  {
   "cell_type": "markdown",
   "metadata": {},
   "source": [
    "## Clasificación de Iris"
   ]
  },
  {
   "cell_type": "markdown",
   "metadata": {},
   "source": [
    "En esta sección se aplicará el modelo de Regresión Logística para clasificar a la flor de Iris. La [base de datos Iris](https://en.wikipedia.org/wiki/Iris_flower_data_set) es una de las más conocidas en el área de aprendizaje automático por ser una de las primeras en ser introducidas a la comunidad. El problema original consiste en utilizar cuatro características de las flores (ancho y alto del pétalo y del sépalo) para separar en tres especies diferentes: Virgínica, Versicolor, Setosa."
   ]
  },
  {
   "cell_type": "markdown",
   "metadata": {},
   "source": [
    "Se utilizarán los datos disponibles en el [repositorio UCI](https://archive.ics.uci.edu/ml/datasets/iris). La siguiente celda levanta los datos y grafica las características dos a dos."
   ]
  },
  {
   "cell_type": "code",
   "execution_count": null,
   "metadata": {},
   "outputs": [],
   "source": [
    "data   = np.loadtxt('iris.data', delimiter=',', usecols=[0,1,2,3])\n",
    "labels = np.loadtxt('iris.data', delimiter=',', usecols=[4], dtype=str)\n",
    "features_names = ['sepal length','sepal width','petal length','petal width']\n",
    "labels_names = ['Virginica','Versicolor','Setosa']\n",
    "N,d = data.shape"
   ]
  },
  {
   "cell_type": "code",
   "execution_count": null,
   "metadata": {},
   "outputs": [],
   "source": [
    "mapa_colores = {'Iris-versicolor': 'r', 'Iris-virginica':'b', 'Iris-setosa':'g' }\n",
    "colores = [mapa_colores[l] for l in labels]\n",
    "N,F = data.shape\n",
    "plt.figure(figsize=(8,8))\n",
    "for i in range(F):\n",
    "    for j in range(F):\n",
    "        plt.subplot(4,4,1+i*F+j)\n",
    "        if i!=j:\n",
    "            plt.scatter(data[:,j],data[:,i],s=2, c=colores)\n",
    "            plt.xlabel(features_names[j])\n",
    "            plt.ylabel(features_names[i])\n",
    "        else:\n",
    "            plt.hist(data[:,i], bins=16, label='hist %s' % features_names[i])\n",
    "            plt.legend()\n",
    "plt.tight_layout()"
   ]
  },
  {
   "cell_type": "markdown",
   "metadata": {},
   "source": [
    "En este ejercicio se separarán las fores de Iris en dos categorías distintas. Implementar la función `preprocesar_iris()` que separa a las especies en dos, asignándoles la etiqueta +1 o -1 y dejándolas prontas para ser utilizadas por la función `regresion_logistica()`."
   ]
  },
  {
   "cell_type": "code",
   "execution_count": null,
   "metadata": {},
   "outputs": [],
   "source": [
    "def preprocesar_iris(data, labels, clasesPositivas, clasesNegativas, features=[0,1,2,3]):\n",
    "    \n",
    "    '''\n",
    "    Entrada:\n",
    "        data: matríz de tamaño Nxd con las características de las N muestras\n",
    "        labels: vector que tiene las N etiquetas asignadas a las muestras\n",
    "        clasesPositivas: lista de etiquetas que van a asignarse a la clase positiva\n",
    "        clasesNegativas: lista de etiquetas que van a asignarse a la clase negativa\n",
    "        features: lista de características a utilizar. Por defecto se usan todas\n",
    "    Salida:\n",
    "        X: matríz de tamaño Nx(d+1) con las características a utilizar\n",
    "        y: vector de N etiquetas, valen +1 o -1\n",
    "    '''  \n",
    "    \n",
    "    # se transforma a coordenadas homogéneas\n",
    "    X = np.concatenate((np.ones((N,1)),data[:, features]),axis=1)\n",
    "    y = np.zeros(len(labels))\n",
    "    for clase in clasesPositivas:\n",
    "        labels_c = labels == clase\n",
    "        y[labels_c]=1\n",
    "    for clase in clasesNegativas:\n",
    "        labels_c = labels == clase\n",
    "        y[labels_c]=-1\n",
    "         \n",
    "    \n",
    "    return X, y\n",
    "\n"
   ]
  },
  {
   "cell_type": "markdown",
   "metadata": {},
   "source": [
    "## Separación de Iris-virgínica utilizando una característica"
   ]
  },
  {
   "cell_type": "markdown",
   "metadata": {},
   "source": [
    "Elegir la característica que considere más discriminatoria y utilícela para separar la clase Iris-virgínica de las demás."
   ]
  },
  {
   "cell_type": "code",
   "execution_count": null,
   "metadata": {
    "scrolled": true
   },
   "outputs": [],
   "source": [
    "clasesPositivas=['Iris-virginica']\n",
    "clasesNegativas=['Iris-setosa', 'Iris-versicolor']\n",
    "\n",
    "#################################################################################\n",
    "#################  EMPIEZA ESPACIO PARA COMPLETAR CÓDIGO ########################\n",
    "################################################################################# \n",
    "\n",
    "# Se elige la característica más discriminatoria y se obtienen los datos para\n",
    "# esa característica\n",
    "\n",
    "# features=[0] \n",
    "# Xiris1, y = \n",
    "\n",
    "# Se determinan los parámetros del modelo de regresión logística\n",
    "# w_iris1 = \n",
    "\n",
    "# Se calcula el umbral de decisión como el valor en que la probabilidad de pertenecer\n",
    "# a ambas clases es la misma. \n",
    "# umbral = ...\n",
    "\n",
    "#################################################################################\n",
    "#################  TERMINA ESPACIO PARA COMPLETAR CÓDIGO ########################\n",
    "################################################################################# \n",
    "\n",
    "plt.figure(figsize=(5,5))\n",
    "plt.plot(error)\n",
    "plt.title('Evolución del costo en la regresión logística')\n",
    "plt.tight_layout()"
   ]
  },
  {
   "cell_type": "code",
   "execution_count": null,
   "metadata": {},
   "outputs": [],
   "source": [
    "def mostrar_umbral_clasificacion_iris1D(Xiris, y, umbral):\n",
    "    '''\n",
    "    Entrada: \n",
    "        Xiris: Matríz de Nx2 que contiene los features en coordenadas homogéneas\n",
    "        y: vector de etiquetas con valores 1 o -1\n",
    "        umbral: umbral de decisión enocontrado mediante regresión logística\n",
    "    '''\n",
    "    plt.figure(figsize=(5,5))\n",
    "    plt.scatter(Xiris[y==-1, 1], y[y==-1], s=4,c='y',marker='x', label='negativas')\n",
    "    plt.scatter(Xiris[y==1,  1], y[y==1],  s=4,c='b',marker='x', label='positivas')\n",
    "    plt.axvline(umbral)\n",
    "    plt.title('El umbral de clasificación es %.02f' % umbral)\n",
    "    plt.tight_layout()\n",
    "    \n",
    "mostrar_umbral_clasificacion_iris1D(Xiris1,y,umbral)\n",
    "    "
   ]
  },
  {
   "cell_type": "markdown",
   "metadata": {},
   "source": [
    "A diferencia de otros métodos de clasificación, la clasificación mediante regresión logística brinda, para cada muestra, una probabilidad de pertencia a una determinada clase. Implementar el método `predecir_probabilidad_modelo_logistico()` y muestre las curvas de probabilidad de pertenencia a cada clase."
   ]
  },
  {
   "cell_type": "code",
   "execution_count": null,
   "metadata": {},
   "outputs": [],
   "source": [
    "def predecir_probabilidad_modelo_logistico(X, w):\n",
    "    \n",
    "    '''\n",
    "    Entrada:\n",
    "        X: matríz de tamaño Nx(d+1) que contiene las características de N muestras\n",
    "           en coordenadas homogéneas\n",
    "        w: vector de pesos estimado por modelo logístico\n",
    "    Salida:\n",
    "        probabilidades: matríz de tamaño Nx2 que en la primera columna almacena la probabilidad \n",
    "                        de pertenencia a la clase positiva y en la segunda la de pertenencia a \n",
    "                        la clase negativa\n",
    "    '''\n",
    "    \n",
    "    #################################################################################\n",
    "    #################  EMPIEZA ESPACIO PARA COMPLETAR CÓDIGO ########################\n",
    "    ################################################################################# \n",
    "    \n",
    " \n",
    "    \n",
    "    #################################################################################\n",
    "    #################  TERMINA ESPACIO PARA COMPLETAR CÓDIGO ########################\n",
    "    ################################################################################# \n",
    "    \n",
    "    return probabilidades"
   ]
  },
  {
   "cell_type": "markdown",
   "metadata": {},
   "source": [
    "Ejecutar la siguiente celda y verificar que el modelo encontrado es razonable"
   ]
  },
  {
   "cell_type": "code",
   "execution_count": null,
   "metadata": {},
   "outputs": [],
   "source": [
    "# Se muestra el modelo en función de la característica elegida\n",
    "x = np.linspace(0,Xiris1[:,1].max()+1)\n",
    "xh = np.hstack((np.ones( (len(x),1) ), x[:,np.newaxis] ))\n",
    "probs = predecir_probabilidad_modelo_logistico(xh, w_iris1)\n",
    "\n",
    "plt.figure(figsize=(7,5))\n",
    "plt.plot(x, probs[:,0], c='b', label='probabilidad positiva')\n",
    "plt.plot(x, probs[:,1], c='y', label='probabilidad negativa')\n",
    "plt.scatter(Xiris1[y==-1 ,1], 0*y[y==-1], s=4,c='y',marker='x', label='negativas')\n",
    "plt.scatter(Xiris1[y==1,  1], y[y==1], s=4, c='b',marker='x', label='positivas')\n",
    "\n",
    "plt.axvline(umbral, label='umbral = %.02f' % umbral)\n",
    "plt.legend()\n",
    "plt.grid()\n",
    "plt.xlabel(features_names[features[0]])\n",
    "plt.ylabel('Probabilidad')\n",
    "plt.title('Probabilidad de pertenecer a la clase Iris-virgínica')\n",
    "plt.tight_layout()"
   ]
  },
  {
   "cell_type": "markdown",
   "metadata": {},
   "source": [
    "## Separación de Iris-virgínica utilizando dos característica"
   ]
  },
  {
   "cell_type": "markdown",
   "metadata": {},
   "source": [
    "Elegir ahora las dos características que considere más discriminatorias y utilícelas para separar la clase Iris-virgínica de las demás. Comente como varía la solucón obtenida en función de los parámetros de optimización del modelo. Para visualizar el modelo obtenido puede ser útil la función `mostrar_lineas_de_nivel_modelo_logisitco()`."
   ]
  },
  {
   "cell_type": "code",
   "execution_count": null,
   "metadata": {},
   "outputs": [],
   "source": [
    "def mostrar_lineas_de_nivel_modelo_logisitco(X, w_rl):\n",
    "    '''\n",
    "    Este método muestra las líneas de isoprobabilidad en el caso de características 2D\n",
    "    Entrada:\n",
    "        X: matríz de tamaño Nx3 que en cada fila contiene una muestra (en coordenadas homogéneas)\n",
    "        w_rl: vector obtenido mediante regresión logística\n",
    "    '''\n",
    "    plt.figure()\n",
    "    x1_min = X[:,1].min(); x1_max = X[:,1].max()\n",
    "    x2_min = X[:,2].min(); x2_max = X[:,2].max()\n",
    "    xx = np.linspace(x1_min,x1_max)\n",
    "    yy = np.linspace(x2_min,x2_max)\n",
    "    XX, YY = np.meshgrid(xx, yy)\n",
    "    Zin=np.vstack( (np.ones(XX.size), XX.flatten(),YY.flatten()) ).T\n",
    "    Z = predecir_probabilidad_modelo_logistico(Zin,w_rl)\n",
    "    ZZ=np.reshape(Z[:,0],XX.shape)\n",
    "    plt.scatter(Xiris2[y==1,  1], Xiris2[y==1 ,2],  s=2, c='b',label='positivas')\n",
    "    plt.scatter(Xiris2[y==-1 ,1], Xiris2[y==-1 ,2], s=2, c='y',label='negativas')\n",
    "    cs = plt.contour(XX,YY,ZZ,[0.1, 0.25, 0.5, 0.75, 0.9])\n",
    "    plt.clabel(cs, inline=1, fontsize=10)\n",
    "    plt.xlabel(features_names[features[0]])\n",
    "    plt.ylabel(features_names[features[1]])\n",
    "    plt.axis('equal')\n",
    "    plt.legend()"
   ]
  },
  {
   "cell_type": "code",
   "execution_count": null,
   "metadata": {},
   "outputs": [],
   "source": [
    "#################################################################################\n",
    "#################  EMPIEZA ESPACIO PARA COMPLETAR CÓDIGO ########################\n",
    "################################################################################# \n",
    "\n",
    "# Se eligen las características que se consideran más discriminativas \n",
    "#features=[0, 1] \n",
    "\n",
    "\n",
    "# Se entrena el modelo y se muestran los resultados\n",
    "\n",
    "#################################################################################\n",
    "#################  TERMINA ESPACIO PARA COMPLETAR CÓDIGO ########################\n",
    "################################################################################# "
   ]
  },
  {
   "cell_type": "code",
   "execution_count": null,
   "metadata": {},
   "outputs": [],
   "source": []
  }
 ],
 "metadata": {
  "kernelspec": {
   "display_name": "Python 3",
   "language": "python",
   "name": "python3"
  },
  "language_info": {
   "codemirror_mode": {
    "name": "ipython",
    "version": 3
   },
   "file_extension": ".py",
   "mimetype": "text/x-python",
   "name": "python",
   "nbconvert_exporter": "python",
   "pygments_lexer": "ipython3",
   "version": "3.7.3"
  }
 },
 "nbformat": 4,
 "nbformat_minor": 2
}
