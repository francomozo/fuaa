{
 "cells": [
  {
   "cell_type": "markdown",
   "metadata": {},
   "source": [
    "# <center> FUNDAMENTOS DE APRENDIZAJE AUTOMÁTICO <br> Y RECONOCIMIENTO DE PATRONES</center>\n",
    "## <center> Práctico 6, 2019 </center>      "
   ]
  },
  {
   "cell_type": "code",
   "execution_count": 1,
   "metadata": {},
   "outputs": [],
   "source": [
    "# Se importan las bibliotecas que se utilizarán\n",
    "import numpy as np\n",
    "import glob\n",
    "import matplotlib\n",
    "import matplotlib.pyplot as plt\n",
    "\n",
    "from sklearn.utils.multiclass import unique_labels\n",
    "from sklearn.metrics import confusion_matrix\n",
    "from sklearn import svm\n",
    "from sklearn.model_selection import PredefinedSplit\n",
    "from sklearn.model_selection import cross_val_score\n",
    "from sklearn.model_selection import ShuffleSplit\n",
    "from sklearn.model_selection import cross_validate\n",
    "from sklearn.model_selection import GridSearchCV\n",
    "from sklearn.linear_model import LogisticRegression\n",
    "from sklearn.preprocessing import StandardScaler\n",
    "from sklearn.metrics import accuracy_score\n",
    "\n",
    "from scipy import signal\n",
    "from scipy.io import wavfile\n",
    "\n",
    "import IPython.display as ipd\n",
    "from IPython.display import Image\n",
    "\n",
    "import time\n",
    "import os\n",
    "\n",
    "%matplotlib inline"
   ]
  },
  {
   "cell_type": "markdown",
   "metadata": {},
   "source": [
    "## Objetivos\n",
    "\n",
    "- Plantear la **maximización del margen** en el algoritmo SVM y su resolución en el **espacio dual**.\n",
    "- Formular las ventajas prácticas que puede presentar resolver el **problema dual**.\n",
    "- Adquirir cierta intuición en cuanto a la solución brindada por el algoritmo SVM mediante su aplicación para **separar** entre distintos tipos de **sonidos** utilizando sólo dos características.\n",
    "- Aplicar SVM en un problema de mediana escala para **clasificar** entre 10 categorías de **sonidos urbanos**.\n",
    "- **Optimizar** los parámetros de un **clasificador SVM** utilizando la biblioteca *scikit-learn*.\n",
    "- Aplicar correctamente el mecanismo de **validación cruzada** como forma de estimar la bondad del clasificador.\n",
    "- Interpretar la información birndada por una matriz de confusión."
   ]
  },
  {
   "cell_type": "markdown",
   "metadata": {},
   "source": [
    "## Lista de ejercicios\n",
    "\n",
    "[Ejercicio 1](#Ejercicio1): Formulación del algoritmo SVM       \n",
    "[Ejercicio 2](#Ejercicio2): Separando sonidos con características intuitivas   \n",
    "[Ejercicio 3](#Ejercicio3): SVM en un problema de mediana escala multiclase   \n",
    "[Desafío](#Desafío): Urband Sound Challenge"
   ]
  },
  {
   "cell_type": "markdown",
   "metadata": {},
   "source": [
    "<a id=\"Ejercicio1\"></a>\n",
    "## Ejercicio 1: Formulación del algoritmo SVM"
   ]
  },
  {
   "cell_type": "markdown",
   "metadata": {},
   "source": [
    "El algoritmo $\\textit{C-SVM}$ da lugar al siguiente problema de optimización:\n",
    "\n",
    "\\begin{align}\\label{csvm} \n",
    "    \\left\\{ \\begin{aligned}  \n",
    "& \\underset{\\mathbf{w}, b, \\mathbf{\\xi}}{\\min}\n",
    "&  & f(\\mathbf{w}, \\mathbf{\\xi}) = \\frac{1}{2}||\\mathbf{w}||^{2} + C \\sum_{n=1}^{N} \\xi_n \\\\\n",
    "& \\text{sujeto a} \\\\   \n",
    "& & & y_n ( \\mathbf{w}^T\\Phi(x_n)  + b) \\geq 1 - \\xi_n \\quad \\forall n=1,\\ldots,N\\\\  \n",
    "& & & \\xi_n \\geq 0 \\\\   \n",
    "   \\end{aligned}   \\right.  \n",
    "\\end{align} "
   ]
  },
  {
   "cell_type": "markdown",
   "metadata": {},
   "source": [
    "**Parte a)** Escribir el Lagrangiano $\\mathcal{L}$ del problema. "
   ]
  },
  {
   "cell_type": "markdown",
   "metadata": {},
   "source": [
    "**Solución:**\n",
    "\n",
    "..."
   ]
  },
  {
   "cell_type": "markdown",
   "metadata": {},
   "source": [
    "**Parte b)** Argumentar que el valor del Lagrangiano $\\mathcal{L}$ está acotado superiormente por la función de costo original $f$. "
   ]
  },
  {
   "cell_type": "markdown",
   "metadata": {},
   "source": [
    "**Solución:**"
   ]
  },
  {
   "cell_type": "markdown",
   "metadata": {},
   "source": [
    "..."
   ]
  },
  {
   "cell_type": "markdown",
   "metadata": {},
   "source": [
    "## El problema primal"
   ]
  },
  {
   "cell_type": "markdown",
   "metadata": {},
   "source": [
    "**Parte c)** Se define la función $\\theta_{\\mathcal{P}}(\\mathbf{w},b,\\boldsymbol{\\xi} )=\\underset{\\boldsymbol{\\alpha}, \\boldsymbol{\\beta}; \\alpha_n \\geq 0, \\beta_n \\geq 0}{\\max}\\mathcal{L}(\\mathbf{w},b,\\boldsymbol{\\xi}, \\boldsymbol{\\alpha}, \\boldsymbol{\\beta} ) $. Argumentar que resolver\n",
    "\n",
    "$$\n",
    "\\underset{\\mathbf{w}, b, \\mathbf{\\xi}}{\\min} \\theta_{\\mathcal{P}}(\\mathbf{w},b,\\boldsymbol{\\xi} )\n",
    "$$\n",
    "\n",
    "es equivalente a encontrar el mínimo de  $f(\\mathbf{w}, \\mathbf{\\xi})$ con las restricciones del problema."
   ]
  },
  {
   "cell_type": "markdown",
   "metadata": {},
   "source": [
    "**Solución:** \n",
    "\n",
    "..."
   ]
  },
  {
   "cell_type": "markdown",
   "metadata": {},
   "source": [
    "## El Problema Dual"
   ]
  },
  {
   "cell_type": "markdown",
   "metadata": {},
   "source": [
    " Se define ahora la función $\\textit{dual}$ $\\theta_{\\mathcal{D}}(\\boldsymbol{\\alpha}, \\boldsymbol{\\beta} )=\\underset{\\mathbf{w},b,\\boldsymbol{\\xi}}{\\min}\\mathcal{L}(\\mathbf{w},b,\\boldsymbol{\\xi}, \\boldsymbol{\\alpha}, \\boldsymbol{\\beta} ) $.      \n",
    "En general se cumple para el óptimo del problema dual $d^*$ que\n",
    "\n",
    "$$\n",
    "d^* = \\underset{\\boldsymbol{\\alpha}, \\boldsymbol{\\beta}}{\\max} \\theta_{\\mathcal{D}}(\\boldsymbol{\\alpha}, \\boldsymbol{\\beta}) \\leq  \\underset{\\mathbf{w}, b, \\mathbf{\\xi}}{\\min} \\theta_{\\mathcal{P}}(\\mathbf{w},b,\\boldsymbol{\\xi} ) = p^*\n",
    "$$\n",
    " \n",
    "Sin embargo, en el caso en que tanto la función a optimizar $f$ como sus restricciones son convexas se cumple que $d^*$ coincide con $p^*$. Este es el caso de SVM.\n",
    "\n",
    "Desde el punto de vista práctico resolver el problema $\\textit{primal}$ implica maximizar respecto a los multiplicadores de Lagrange primero y luego minimizar respecto a los pesos y las variables $\\textit{slack}$. Resolver el problema $\\textit{dual}$ en cambio implica minimizar respecto a los pesos y las variables $\\textit{slack}$ primero y luego maximizar respecto a los multiplicadores.\n"
   ]
  },
  {
   "cell_type": "markdown",
   "metadata": {},
   "source": [
    "**Parte d)** Mostrar que el problema dual puede escribirse como:\n",
    "\\begin{align*}\n",
    "    \\left\\{ \\begin{aligned}  \n",
    "& \\underset{\\boldsymbol{\\alpha}}{\\min}\n",
    "& & \\frac{1}{2}\\boldsymbol{\\alpha}^{T}\\boldsymbol{Q}\\boldsymbol{\\alpha} - \\mathbb{1}^{T}\\boldsymbol{\\alpha} \\\\\n",
    "& \\text{sujeto a} \\\\\n",
    "& & & 0 \\leq \\alpha_n \\leq C \\\\ \n",
    "& & & \\sum_n \\alpha_n y_n = 0 \\\\ \n",
    "   \\end{aligned}   \\right. \n",
    "\\end{align*}\n",
    "con $Q_{ij} = y_i y_j K(x_i,x_j)$"
   ]
  },
  {
   "cell_type": "markdown",
   "metadata": {},
   "source": [
    "**Solución**    \n",
    "..."
   ]
  },
  {
   "cell_type": "markdown",
   "metadata": {},
   "source": [
    "**Parte e)** Mencione por qué puede resultar más conveniente resolver el problema dual."
   ]
  },
  {
   "cell_type": "markdown",
   "metadata": {},
   "source": [
    "**Respuesta:**   \n",
    "... "
   ]
  },
  {
   "cell_type": "markdown",
   "metadata": {},
   "source": [
    "<a id=\"Ejercicio2\"></a>\n",
    "## Ejercicio 2: Separando sonidos con características intuitivas"
   ]
  },
  {
   "cell_type": "markdown",
   "metadata": {},
   "source": [
    "En los ejercicios 2 y 3 de este práctico se trabajará con la base de datos **Urban Sound**."
   ]
  },
  {
   "cell_type": "markdown",
   "metadata": {},
   "source": [
    "## Base de datos Urband Sound\n",
    "\n",
    "La base de datos está conformada por una serie de fragmentos de audios en las que se escuchan sonidos característicos de un entorno urbano. En concreto, la base cuenta con sonidos pertenecientes a las siguientes 10 categorías:  \n",
    "    \n",
    "    0-  aire acondicionado  \n",
    "    1-  bocina de auto  \n",
    "    2-  niños jugando  \n",
    "    3-  ladrido de perros  \n",
    "    4-  taladrado  \n",
    "    5-  motor moderando  \n",
    "    6-  disparo de arma de fuego  \n",
    "    7-  martillo neumático  \n",
    "    8-  sirena  \n",
    "    9-  música callejera  \n",
    "\n",
    "Los fragmentos tienen una duración de 4 segundos. Los fragmentos fueron extraídos de grabaciones más grandes utilizando ventanas de 4 segundos solapadas entre sí por 2 segundos.  \n",
    "\n",
    "Los datos se provén separados en 10 *folds*, tomando en cuenta que en *folds* distintos NO existen extractos de un mismo audio.  "
   ]
  },
  {
   "cell_type": "markdown",
   "metadata": {},
   "source": [
    "### Distribución de la base de datos"
   ]
  },
  {
   "cell_type": "markdown",
   "metadata": {},
   "source": [
    "La siguiente celda lee la *metadata* de la base de datos y genera un gráfico que muestra la distribución de las clases según los *folds* y la cantidad de audios por clase."
   ]
  },
  {
   "cell_type": "code",
   "execution_count": null,
   "metadata": {
    "scrolled": false
   },
   "outputs": [],
   "source": [
    "# función auxiliar\n",
    "def split_data(all_data):\n",
    "    '''\n",
    "    Separa los datos en 10 Folds predefinidos\n",
    "    '''\n",
    "    folders = [[], [], [], [], [], [], [], [], [], []]\n",
    "    for ln in range(len(all_data)):\n",
    "        folders[int(all_data[ln][5]) - 1].append(all_data[ln])\n",
    "    for ln in range(len(folders)):\n",
    "        folders[ln] = np.array(folders[ln])\n",
    "    return np.array(folders)\n",
    "\n",
    "\n",
    "file_metadata_path = 'dataset/metadata'\n",
    "metadata = []\n",
    "\n",
    "with open(os.path.join(file_metadata_path, 'UrbanSound8K.csv'), 'r') as file_metadata:\n",
    "    line1 = file_metadata.readline()\n",
    "    metadata.append(line1.split('\\n')[0].split(','))\n",
    "    for line in file_metadata:\n",
    "        metadata.append(line.split('\\n')[0].split(','))\n",
    "        metadata[-1][5] = metadata[-1][5].zfill(2)\n",
    "\n",
    "headers = metadata[0]\n",
    "all_data = np.array(metadata[1:])\n",
    "\n",
    "folders = split_data(all_data)\n",
    "\n",
    "uniqueValues, occurCount = np.unique(all_data[:, 6], return_counts=True)\n",
    "objects = ('air_conditioner', 'car_horn', 'children_playing', 'dog_bark', \n",
    "           'drilling', 'engine_idling', 'gun_shot', 'jackhammer', 'siren', \n",
    "           'street_music')\n",
    "y_pos = np.arange(len(objects))\n",
    "plt.figure(figsize=(10,5))\n",
    "plt.subplot(2,1,1)\n",
    "plt.barh(y_pos, occurCount, align='center', alpha=0.5)\n",
    "plt.yticks(y_pos, objects)\n",
    "plt.xlabel('Cantidad de audios')\n",
    "plt.title('Distribución de los audios según la clase')\n",
    "plt.grid()\n",
    "\n",
    "plt.subplot(2,1,2)\n",
    "_, occurCount2 = np.unique(all_data[:, 5], return_counts=True)\n",
    "objects2 = ('fold1', 'fold2', 'fold3', 'fold4', 'fold5', \n",
    "            'fold6', 'fold7', 'fold8', 'fold9', 'fold10')\n",
    "y_pos2 = np.arange(len(objects2))\n",
    "plt.barh(y_pos, occurCount2, align='center', alpha=0.5)\n",
    "plt.yticks(y_pos2, objects2)\n",
    "plt.xlabel('Cantidad de audios')\n",
    "plt.title('Distribución de los audios según los folds')\n",
    "plt.grid()\n",
    "plt.tight_layout()"
   ]
  },
  {
   "cell_type": "markdown",
   "metadata": {},
   "source": [
    "## Descripción del ejercicio"
   ]
  },
  {
   "cell_type": "markdown",
   "metadata": {},
   "source": [
    "Dadas tres clases de sonidos urbanos pertenecientes a un fold:\n",
    "\n",
    "    - Tomar dos clases linealmente separables mediante la extracción de dos características.\n",
    "    - Encontrar la recta de decisión mediante regresión logística\n",
    "    - Encontrar la recta de decisión mediante el clasificador svm con parámetros por defecto\n",
    "    - Calcular la cantidad de vectores soporte y el tamaño del margen.\n",
    "    - Plotear los resultados\n",
    "    - Cambiar el parámetro C de svm y observar cambios.\n",
    "    - Para las tres clases clasificar utilizando un kernel no lineal, hallar vectores soporte y plotear resultados."
   ]
  },
  {
   "cell_type": "markdown",
   "metadata": {},
   "source": [
    "## Características"
   ]
  },
  {
   "cell_type": "markdown",
   "metadata": {},
   "source": [
    "En el presente ejercicio se trabajará con dos características de la señal en el tiempo con el fin de mostrar que existen señales que no requieren de características complejas para poder clasificarlas.\n",
    "\n",
    "Las características son las siguientes:\n",
    "\n",
    "    - ZCR (Zero-Crossing-Rate): la cantidad de cruces por cero de las muestras de la señal.\n",
    "    \n",
    "    - RMS (root-mean-square): la raíz del valor cuadrático medio de las muestras de la señal, también conocida como medida de la energía de la señal.\n",
    "    \n",
    "$$ x_{RMS} = \\sqrt{\\frac{1}{N}\\sum_{i=1}^{N}x_{i}^2} $$"
   ]
  },
  {
   "cell_type": "markdown",
   "metadata": {},
   "source": [
    "Se utilizarán las siguientes 3 clases de sonidos pertenecientes al fold 3:\n",
    "\n",
    "    5-  motor moderando  \n",
    "    6-  disparo de arma de fuego  \n",
    "    7-  martillo neumático\n",
    "    \n"
   ]
  },
  {
   "cell_type": "markdown",
   "metadata": {},
   "source": [
    "La distribución de los fragmentos por clase en el *fold* es la siguiente:\n",
    "\n",
    "    - motor moderando = 107 fragmentos\n",
    "    - disparo de arma de fuego = 36 fragmentos\n",
    "    - martillo neumático = 120 fragmentos\n",
    "    \n",
    "Como se mencionó anteriormente, en un mismo *fold* hay varios audios que son fragmentos de una misma grabación original. La distribución por grabación es la siguiente:\n",
    "\n",
    "    - motor moderando = 10 grabaciones\n",
    "    - disparo de arma de fuego = 12 grabaciones\n",
    "    - martillo neumático = 5 grabaciones"
   ]
  },
  {
   "cell_type": "markdown",
   "metadata": {},
   "source": [
    "Funciones auxiliares para plotear las señales de los audios "
   ]
  },
  {
   "cell_type": "code",
   "execution_count": null,
   "metadata": {},
   "outputs": [],
   "source": [
    "# ejecutar y seguir\n",
    "def plot_una_clase(path_audios, clase):\n",
    "    cont = 0\n",
    "    tam = len(glob.glob(os.path.join(path_audios, clase, '*.npy')))\n",
    "    fig, axes = plt.subplots(tam, 1, figsize=(10, 10))\n",
    "    for path_au in glob.glob(os.path.join(path_audios, clase, '*.npy')):\n",
    "        y = np.load(path_au)\n",
    "        axes[cont].plot(np.arange(len(y)), y)\n",
    "        axes[cont].grid()\n",
    "        axes[cont].axis([0, len(y), -1.2, 1.2])\n",
    "        cont += 1   \n",
    "    axes[0].set_title('clase ' + clase)\n",
    "    fig.tight_layout()\n",
    "        \n",
    "def plot_comparar_dos_clases(path_audios, clases):\n",
    "    tam_clas_mayor = np.max([len(glob.glob(os.path.join(path_audios, clases[0], '*.npy'))), \n",
    "                            len(glob.glob(os.path.join(path_audios, clases[1], '*.npy')))])\n",
    "    fig, axes = plt.subplots(nrows=tam_clas_mayor, ncols=2, figsize=(15, 10))\n",
    "    for clase in clases:\n",
    "        cont = 0\n",
    "        for path_au in glob.glob(os.path.join(path_audios, clase, '*.npy')):\n",
    "            y = np.load(path_au)\n",
    "            if clase == clases[0]:\n",
    "                axes[cont, 0].plot(np.arange(len(y)), y)\n",
    "                axes[cont, 0].grid()\n",
    "                axes[cont, 0].axis([0, len(y), -1.2, 1.2])\n",
    "            else:\n",
    "                axes[cont, 1].plot(np.arange(len(y)), y)\n",
    "                axes[cont, 1].grid()\n",
    "                axes[cont, 1].axis([0, len(y), -1.2, 1.2])\n",
    "            cont += 1\n",
    "        if clase == clases[0]:\n",
    "            axes[0, 0].set_title('clase ' + clase)\n",
    "        else:\n",
    "            axes[0, 1].set_title('clase ' + clase)\n",
    "    fig.tight_layout()"
   ]
  },
  {
   "cell_type": "markdown",
   "metadata": {},
   "source": [
    "En el siguiente código se pueden plotear las señales de los audios representativos de las clases y las características:"
   ]
  },
  {
   "cell_type": "code",
   "execution_count": null,
   "metadata": {},
   "outputs": [],
   "source": [
    "path_audios = 'dataset/audios/fold3'\n",
    "clases = ['5', '6', '7']\n",
    "plot_una_clase(path_audios, clases[0])"
   ]
  },
  {
   "cell_type": "code",
   "execution_count": null,
   "metadata": {},
   "outputs": [],
   "source": [
    "plot_comparar_dos_clases(path_audios, clases[1:])"
   ]
  },
  {
   "cell_type": "markdown",
   "metadata": {},
   "source": [
    "Funciones necesarias para extraer y plotear las características:"
   ]
  },
  {
   "cell_type": "code",
   "execution_count": null,
   "metadata": {},
   "outputs": [],
   "source": [
    "def features_from_arrays(features_from_fold, tipo_c1='', tipo_c2=''):\n",
    "    '''\n",
    "    Entrada:\n",
    "        features_from_fold: características calculadas en el fold\n",
    "        tipo_c1: string que puede ser mean, min, max, std o vacio para calcular el ZCR\n",
    "        tipo_c2: string que puede ser mean, min, max, std o vacio para calcular el RMS\n",
    "\n",
    "    Salida:\n",
    "        numpy array con dos caractersísticas:\n",
    "            ZCR: ratio de cruces por cero, en el caso de tener entrada vacia se devuelve el array entero\n",
    "            RMS: raíz del error cuadrático medio, en el caso de tener entrada vacia se devuelve el array entero\n",
    "    '''\n",
    "    for i in range(len(features_from_fold)):\n",
    "        if tipo_c1 == 'mean':\n",
    "            features_from_fold[i][0] = np.mean(features_from_fold[i][0])\n",
    "        elif tipo_c1 == 'min':\n",
    "            features_from_fold[i][0] = np.min(features_from_fold[i][0])\n",
    "        elif tipo_c1 == 'max':\n",
    "            features_from_fold[i][0] = np.max(features_from_fold[i][0])\n",
    "        elif tipo_c1 == 'std':\n",
    "            features_from_fold[i][0] = np.std(features_from_fold[i][0])\n",
    "\n",
    "        if tipo_c2 == 'mean':\n",
    "            features_from_fold[i][1] = np.mean(features_from_fold[i][1])\n",
    "        elif tipo_c2 == 'min':\n",
    "            features_from_fold[i][1] = np.min(features_from_fold[i][1])\n",
    "        elif tipo_c2 == 'max':\n",
    "            features_from_fold[i][1] = np.max(features_from_fold[i][1])\n",
    "        elif tipo_c2 == 'std':\n",
    "            features_from_fold[i][1] = np.std(features_from_fold[i][1])\n",
    "\n",
    "    return features_from_fold\n",
    "\n",
    "def plot_features_2clases(class_features, c1, c2, op_type1_1, op_type2_1):\n",
    "    xtrain = np.vstack([class_features[c1], class_features[c2]])\n",
    "    scaler = StandardScaler()\n",
    "    scaler.fit(xtrain)\n",
    "    xtrain = scaler.transform(xtrain)\n",
    "    lab = np.hstack([np.zeros(len(class_features[c1])), np.ones(len(class_features[c2]))])\n",
    "    \n",
    "    plt.figure()\n",
    "    plt.scatter(xtrain[:len(class_features[c1]), 0], xtrain[:len(class_features[c1]), 1], label=objects[c1])\n",
    "    plt.scatter(xtrain[len(class_features[c1]):, 0], xtrain[len(class_features[c1]):, 1], label=objects[c2])\n",
    "    plt.grid()\n",
    "    plt.legend()\n",
    "    plt.xlabel('ZCR ' + op_type1_1)\n",
    "    plt.ylabel('RMS ' + op_type2_1)"
   ]
  },
  {
   "cell_type": "markdown",
   "metadata": {},
   "source": [
    "La extracción de características se realiza con el siguiente código:"
   ]
  },
  {
   "cell_type": "code",
   "execution_count": null,
   "metadata": {},
   "outputs": [],
   "source": [
    "# se levantan las características (ZCR, RMS) calculadas los audios de cada fold\n",
    "folders_features = np.load('dataset/linealfeat_all_folds.npy', allow_pickle=True) # objeto python de largo 10\n",
    "\n",
    "fold = 3\n",
    "c1 = 6\n",
    "c2 = 7\n",
    "\n",
    "op_type1_1 = 'mean'\n",
    "op_type2_1 = 'std'\n",
    "\n",
    "\n",
    "class_features = []\n",
    "for i in range(10):\n",
    "    fi = folders_features[fold-1][folders[fold-1][:, -2] == np.str(i)]\n",
    "    fi = features_from_arrays(fi, tipo_c1=op_type1_1, tipo_c2=op_type2_1)\n",
    "    class_features.append(fi)\n",
    "# class_features es una lista de largo 10 (número de clases) que almacena las características \n",
    "# calculadas para cada clase en el fold indicado    \n",
    "class_features = np.array(class_features)"
   ]
  },
  {
   "cell_type": "markdown",
   "metadata": {},
   "source": [
    "Se muestra la distribución de características de las dos clases seleccionadas (*c1* y *c2*)"
   ]
  },
  {
   "cell_type": "code",
   "execution_count": null,
   "metadata": {},
   "outputs": [],
   "source": [
    "plot_features_2clases(class_features, c1, c2, op_type1_1, op_type2_1)"
   ]
  },
  {
   "cell_type": "markdown",
   "metadata": {},
   "source": [
    "**Pregunta:** ¿Le parece razonable la distribución de los puntos para el caso del disparo y el martillo neumático? ¿Qué comportamiento de la señal logran capturar las características elegidas?"
   ]
  },
  {
   "cell_type": "markdown",
   "metadata": {},
   "source": [
    "**Respuesta:**"
   ]
  },
  {
   "cell_type": "markdown",
   "metadata": {},
   "source": [
    "## Clasificación "
   ]
  },
  {
   "cell_type": "markdown",
   "metadata": {},
   "source": [
    "En esta parte se compararán las soluciones de *Regresión Logística* y *SVM*. En el caso de SVM se trabajará con un *kernel linear*."
   ]
  },
  {
   "cell_type": "code",
   "execution_count": null,
   "metadata": {},
   "outputs": [],
   "source": [
    "# función auxiliar para mostrar el resultado de la clasificación\n",
    "def plot_clasificadores(class_features, clf_svm, clf_logreg, c1, c2, op_type1_1, op_type2_1):\n",
    "    \n",
    "    plt.figure(figsize=(10,10))\n",
    "    plt.scatter(xtrain[:len(class_features[c1]), 0], xtrain[:len(class_features[c1]), 1], label=objects[c1])\n",
    "    plt.scatter(xtrain[len(class_features[c1]):, 0], xtrain[len(class_features[c1]):, 1], label=objects[c2])\n",
    "\n",
    "    # plot the decision svm\n",
    "    ax = plt.gca()\n",
    "    xlim = ax.get_xlim()\n",
    "    ylim = ax.get_ylim()\n",
    "    # create grid to evaluate model\n",
    "    xx = np.linspace(xlim[0], xlim[1], 30)\n",
    "    yy = np.linspace(ylim[0], ylim[1], 30)\n",
    "    YY, XX = np.meshgrid(yy, xx)\n",
    "    xy = np.vstack([XX.ravel(), YY.ravel()]).T\n",
    "    Z = clf_svm.decision_function(xy).reshape(XX.shape)\n",
    "    # plot decision boundary and margins\n",
    "    ax.contour(XX, YY, Z, colors='k', levels=[-1, 0, 1], alpha=0.5,\n",
    "               linestyles=['--', '-', '--'])\n",
    "    # plot support vectors\n",
    "    ax.scatter(clf_svm.support_vectors_[:, 0], clf_svm.support_vectors_[:, 1], s=100,\n",
    "               linewidth=1, facecolors='none', edgecolors='k', label='vectores de soporte')\n",
    "\n",
    "    # plot regresión logística\n",
    "    w_log = clf_logreg.coef_[0]\n",
    "    b_log = clf_logreg.intercept_[0]\n",
    "    ap = -w_log[0] / w_log[1]\n",
    "    ymin = xtrain[:, 1].min()\n",
    "    ymax = xtrain[:, 1].max()\n",
    "    if ap >= 0:\n",
    "        xmin = np.max([(ymin + b_log / w_log[1]) / ap, xtrain[:, 0].min()])\n",
    "        xmax = np.min([(ymax + b_log / w_log[1]) / ap, xtrain[:, 0].max()])\n",
    "    else:\n",
    "        xmin = np.max([(ymax + b_log / w_log[1]) / ap, xtrain[:, 0].min()])\n",
    "        xmax = np.min([(ymin + b_log / w_log[1]) / ap, xtrain[:, 0].max()])\n",
    "    xx = np.linspace(xmin, xmax)\n",
    "    yy = ap * xx - b_log / w_log[1]\n",
    "    plt.plot(xx, yy, 'r-', label='límite de decisión de regresión logística')\n",
    "    \n",
    "    plt.legend()\n",
    "    plt.xlabel('ZCR ' + op_type1_1)\n",
    "    plt.ylabel('RMS ' + op_type2_1)\n",
    "    plt.grid()\n",
    "    plt.show()\n"
   ]
  },
  {
   "cell_type": "markdown",
   "metadata": {},
   "source": [
    "La siguiente celda genera un conjunto de entrenamiento conformado únicamente por las clases elegidas. "
   ]
  },
  {
   "cell_type": "code",
   "execution_count": null,
   "metadata": {},
   "outputs": [],
   "source": [
    "# Se genera un conjunto de entrenamiento conformado únicamente por las clases elegidas\n",
    "xtrain = np.vstack([class_features[c1], class_features[c2]])\n",
    "lab = np.hstack([np.zeros(len(class_features[c1])), np.ones(len(class_features[c2]))])"
   ]
  },
  {
   "cell_type": "markdown",
   "metadata": {},
   "source": [
    "**Ejercicio:** Comparar las soluciones brindadas por *Regresión Logística* y *SVM*.    "
   ]
  },
  {
   "cell_type": "code",
   "execution_count": null,
   "metadata": {},
   "outputs": [],
   "source": [
    "#################################################################################################################\n",
    "########################  EMPIEZA ESPACIO PARA COMPLETAR CODIGO  ################################################\n",
    "#################################################################################################################\n",
    "\n",
    "# Se estandarizan o no las características\n",
    "\n",
    "\n",
    "# Se entrena el clasificador de regresión logística \n",
    "\n",
    "# clf_logreg = \n",
    "\n",
    "\n",
    "# Se entrena el clasificador svm con kernel linear\n",
    "# clf_svm = \n",
    "\n",
    "\n",
    "# se obtiene el número de vectores de soporte del clasificador \n",
    "# num_vec_sop = \n",
    "\n",
    "# se obtiene el tamaño del margen\n",
    "# tam_margen =\n",
    "\n",
    "#################################################################################################################\n",
    "########################  TERMINA ESPACIO PARA COMPLETAR CODIGO  ################################################\n",
    "#################################################################################################################\n",
    "\n",
    "print('El clasificador SVM tiene {} vectores soporte.'.format(num_vec_sop))\n",
    "print('El tamaño del márgen es {}'.format(tam_margen))\n",
    "# Se muestra el resultado de los clasificadores entrenados anteriormente\n",
    "plot_clasificadores(class_features, clf_svm, clf_logreg, c1, c2, op_type1_1, op_type2_1)"
   ]
  },
  {
   "cell_type": "markdown",
   "metadata": {},
   "source": [
    "**Ejercicio:** ¿Cómo varía el número de soportes en función de $C$? ¿Y el margen? Puede ser útil crear una nueva celda y generar una gráfica que muestre la variación de estas cantidades con $C$."
   ]
  },
  {
   "cell_type": "markdown",
   "metadata": {},
   "source": [
    "**Respuesta:**  \n",
    "... "
   ]
  },
  {
   "cell_type": "markdown",
   "metadata": {},
   "source": [
    "**Pregunta:** Nombre algún par de clases que considere que son fáciles de separar  y al menos un par que considere difíciles con estas características."
   ]
  },
  {
   "cell_type": "markdown",
   "metadata": {},
   "source": [
    "**Respuesta:** \n",
    "..."
   ]
  },
  {
   "cell_type": "markdown",
   "metadata": {},
   "source": [
    "## Clasificación SVM multiclase"
   ]
  },
  {
   "cell_type": "markdown",
   "metadata": {},
   "source": [
    "En esta parte se utilizará SVM para clasificar entre tres clases pertenecientes a un mismo *fold*."
   ]
  },
  {
   "cell_type": "markdown",
   "metadata": {},
   "source": [
    "Función para mostrar el resultado de la clasificación"
   ]
  },
  {
   "cell_type": "code",
   "execution_count": null,
   "metadata": {},
   "outputs": [],
   "source": [
    "def plot_svm_multiclase(X, Y, clf, op_type1_1, op_type2_1):\n",
    "    \n",
    "    plt.figure(figsize=(10,10))\n",
    "    # plot the decision\n",
    "    x_min, x_max = X[:, 0].min() - 1, X[:, 0].max() + 1\n",
    "    y_min, y_max = X[:, 1].min() - 1, X[:, 1].max() + 1\n",
    "    h = .01\n",
    "    xx, yy = np.meshgrid(np.arange(x_min, x_max, h), np.arange(y_min, y_max, h))\n",
    "    Z = clf.predict(np.c_[xx.ravel(), yy.ravel()])\n",
    "\n",
    "    # Put the result into a color plot\n",
    "    Z = Z.reshape(xx.shape)\n",
    "    plt.pcolormesh(xx, yy, Z, cmap=plt.cm.Paired, alpha=.1)\n",
    "#     # plot support vectors\n",
    "    plt.scatter(clf.support_vectors_[:, 0], clf.support_vectors_[:, 1], s=100,\n",
    "               linewidth=1, facecolors='none', edgecolors='k', label='support vectors')\n",
    "\n",
    "#     plt.legend()\n",
    "    plt.scatter(X[:, 0], X[:, 1], c=Y, cmap=plt.cm.Paired, edgecolors='k')\n",
    "    plt.xlabel('ZCR ' + op_type1_1)\n",
    "    plt.ylabel('RMS ' + op_type2_1)\n",
    "    plt.grid()\n",
    "    plt.show()"
   ]
  },
  {
   "cell_type": "code",
   "execution_count": null,
   "metadata": {},
   "outputs": [],
   "source": [
    "# Se define el fold y las clases a separar\n",
    "fold = 3\n",
    "c1 = 5\n",
    "c2 = 6\n",
    "c3 = 7\n",
    "\n",
    "# Se calculan las características\n",
    "op_type1_1 = 'mean'\n",
    "op_type2_1 = 'std'\n",
    "\n",
    "class_features = []\n",
    "for i in range(10):\n",
    "    fi = folders_features[fold-1][folders[fold-1][:, -2] == np.str(i)]\n",
    "    fi = features_from_arrays(fi, tipo_c1=op_type1_1, tipo_c2=op_type2_1)\n",
    "    class_features.append(fi)\n",
    "class_features = np.array(class_features)"
   ]
  },
  {
   "cell_type": "markdown",
   "metadata": {},
   "source": [
    "Se arma el conjunto de entrenamiento con las clases elegidas"
   ]
  },
  {
   "cell_type": "code",
   "execution_count": null,
   "metadata": {},
   "outputs": [],
   "source": [
    "xtrain = np.vstack([class_features[c1], class_features[c2], class_features[c3]])\n",
    "scaler = StandardScaler()\n",
    "scaler.fit(xtrain)\n",
    "xtrain = scaler.transform(xtrain)\n",
    "lab = np.hstack([np.zeros(len(class_features[c1])), np.ones(len(class_features[c2])), np.ones(len(class_features[c3]))*2])"
   ]
  },
  {
   "cell_type": "markdown",
   "metadata": {},
   "source": [
    "**Ejercicio:** Entrenar un clasificador SVM que logre separar correctamente todo el conjunto de entrenamiento. "
   ]
  },
  {
   "cell_type": "code",
   "execution_count": null,
   "metadata": {},
   "outputs": [],
   "source": [
    "####################################################################################################################\n",
    "###########################  EMPIEZA ESPACIO PARA COMPLETAR CODIGO  ################################################\n",
    "####################################################################################################################\n",
    "\n",
    "\n",
    "# clf_svm =\n",
    "\n",
    "# num_vec_sop = \n",
    "\n",
    "# E_in = \n",
    "\n",
    "####################################################################################################################\n",
    "###########################  TERMINA ESPACIO PARA COMPLETAR CODIGO  ################################################\n",
    "####################################################################################################################\n",
    "plot_svm_multiclase(xtrain, lab, clf_svm, op_type1_1, op_type2_1)\n",
    "print('El clasificador SVM tiene {}/{} vectores soporte.'.format(num_vec_sop, len(xtrain)))"
   ]
  },
  {
   "cell_type": "markdown",
   "metadata": {},
   "source": [
    "**Pregunta:** ¿Cuál es el criterio que usa la implementación SVC para clasificar múltiples clases?"
   ]
  },
  {
   "cell_type": "markdown",
   "metadata": {},
   "source": [
    "**Respuesta:**  \n",
    "..."
   ]
  },
  {
   "cell_type": "markdown",
   "metadata": {},
   "source": [
    "**Pregunta:** ¿Y en el caso de Regresión Logística? ¿Cómo se lleva a cabo la clasificación multiclase?"
   ]
  },
  {
   "cell_type": "markdown",
   "metadata": {},
   "source": [
    "**Respuesta:**  \n",
    "..."
   ]
  },
  {
   "cell_type": "markdown",
   "metadata": {},
   "source": [
    "<a id=\"Ejercicio3\"></a>\n",
    "# Ejercicio 3: SVM en un problema de mediana escala multiclase"
   ]
  },
  {
   "cell_type": "markdown",
   "metadata": {},
   "source": [
    "### Descripción del ejercicio"
   ]
  },
  {
   "cell_type": "markdown",
   "metadata": {},
   "source": [
    "En este ejercicio se utilizará un clasificador SVM para separar los sonidos  urbanos de la base de datos *Urband Sound*. Se dividirán los *folds* en conjuntos de entrenamiento, validación y test. Los primeros 6 folds conformarán el conjunto de entrenamiento, los folds 7-8 el de validación y los folds 9-10 el de test."
   ]
  },
  {
   "cell_type": "markdown",
   "metadata": {},
   "source": [
    "### Características"
   ]
  },
  {
   "cell_type": "markdown",
   "metadata": {},
   "source": [
    "Se utilizarán las mismas características que en el *paper* [A Dataset and Taxonomy for Urban Sound Research](http://www.justinsalamon.com/uploads/4/3/9/4/4394963/salamon_urbansound_acmmm14.pdf) que es el trabajo que presentó la base de datos. \n",
    "\n",
    "#### Coeficientes Cepstrales de Frecuencia Mel (MFCC)\n",
    "\n",
    "Los Coeficientes Cepstrales de Frecuencia Mel (MFCC) son características que representan propiedades del espectro de tiempo corto de una señal de audio. En particular, permiten capturar la evolución de la envolvente espectral, lo que es de especial relevancia para discriminar el tipo de sonido. Por esta razón, son muy utilizados para el procesamiento y análisis de señales de voz, sonidos ambientales y música.\n",
    "\n",
    "\n",
    "El cálculo de los MFCC se representa en el esquema de la siguiente figura. La señal de entrada $x[n]$ es dividida en tramas temporales solapadas, mediante una ventana suavizante $w[n]$ y se calcula la magnitud del espectro de cada trama $|X[k]|$ usando la DFT. La magnitud del espectro pasa por un banco de filtros que sigue aproximadamente la respuesta en frecuencia de la percepción auditiva humana. Los componentes de frecuencia que pasan por cada filtro del banco $V_l[k]$ son ponderados por la respuesta del filtro y se suma su magnitud al cuadrado, lo que corresponde a un cálculo de energía. Luego se calcula el logaritmo de la señal de salida y se convierte al dominio del tiempo usando la Transformada de Coseno Discreto (DCT). Además de volver al dominio del tiempo, la DCT descompone los coeficientes de forma de que cada coeficiente tiene información diferente a la de los demás coeficientes. Es habitual conservar solo los primeros coeficientes de la DCT, los cuales se relacionan con la envolvente espectral de la señal. Para capturar la evolución temporal de los MFCC se suele calcular además la derivada de primer y segundo orden de cada coeficiente.  "
   ]
  },
  {
   "cell_type": "code",
   "execution_count": 3,
   "metadata": {},
   "outputs": [
    {
     "data": {
      "image/png": "[encoded data removed]",
      "text/plain": [
       "<IPython.core.display.Image object>"
      ]
     },
     "execution_count": 3,
     "metadata": {},
     "output_type": "execute_result"
    }
   ],
   "source": [
    "Image(filename=\"figuras/mfcc_bloques.png\")"
   ]
  },
  {
   "cell_type": "markdown",
   "metadata": {},
   "source": [
    "Para el cálculo de los MFCC que se usarán a continuación, se segmenta la señal de audio en tramas de tamaño 23,2 ms con un 50% de solapamiento entre tramas y se aplica un banco de filtros con 40 bandas Mel distribuidas entre 0 y 22050 Hz. A la salida de la DCT se conservan los primeros 25 coeficientes MFCC. Luego, el comportamiento de cada coeficiente MFCC a lo largo de todas las tramas de un archivo de audio se describe calculando las siguientes características: mínimo, máximo, mediana, media, varianza,  asimetría, kurtosis y la media y varianza de la primera y segunda derivadas de la señal, resultando en un vector de características de dimensión 275.\n",
    "\n",
    "A continuación se muestran los primeros 12 MFCC calculados para los dos archivos de ejemplo."
   ]
  },
  {
   "cell_type": "code",
   "execution_count": 4,
   "metadata": {},
   "outputs": [
    {
     "data": {
      "image/png": "[encoded data removed]",
      "text/plain": [
       "<IPython.core.display.Image object>"
      ]
     },
     "execution_count": 4,
     "metadata": {},
     "output_type": "execute_result"
    }
   ],
   "source": [
    "Image(filename=\"figuras/gunshot.png\")"
   ]
  },
  {
   "cell_type": "code",
   "execution_count": 5,
   "metadata": {},
   "outputs": [
    {
     "data": {
      "image/png": "[encoded data removed]",
      "text/plain": [
       "<IPython.core.display.Image object>"
      ]
     },
     "execution_count": 5,
     "metadata": {},
     "output_type": "execute_result"
    }
   ],
   "source": [
    "Image(filename=\"figuras/jackhammer.png\")"
   ]
  },
  {
   "cell_type": "markdown",
   "metadata": {},
   "source": [
    "Dado que la extracción de características lleva un tiempo no despreciable, las mismas fueron precalculadas. A continuación se levantan las mismas desde el directorio *dataset*.  "
   ]
  },
  {
   "cell_type": "code",
   "execution_count": 6,
   "metadata": {},
   "outputs": [],
   "source": [
    "def extraer_caracteristicas(folds_list):\n",
    "    '''\n",
    "    Función que parsea los folds para generar conjuntos de entrenamiento/validación/test\n",
    "    Entrada:\n",
    "        folds_list: lista que contiene los folds que se quieren utilizar \n",
    "                    para construir el conjunto\n",
    "    Salida:\n",
    "        features: arreglo de tamaño (N, 275) que contiene las características extraídas \n",
    "                  de los folds\n",
    "        labels: vector de tamaño (N,) que contiene las clases a la que pertenecen\n",
    "                las muestras\n",
    "        fold_indices: vector de tamaño (N,) que contiene a que fold pertenece la muestra\n",
    "    '''\n",
    "    data_list = []  # lista auxiliar que contiene los folds\n",
    "    indices_list = []  # lista auxiliar que contiene los indices de los folds\n",
    "    for foldNumber in folds_list:\n",
    "        filename = 'dataset/' + \"features_fold_\" + str(foldNumber) + \".csv\"\n",
    "        data = np.loadtxt(filename, delimiter=',', skiprows=1)  # se lee un fold\n",
    "        indices = foldNumber * np.ones(data.shape[0])  # se asocia un número de fold a cada dato\n",
    "        data_list.append(data)  # se agrega la data del fold a la lista\n",
    "        indices_list.append(indices)  # se agregan los indices a la lista de indices\n",
    "    data = np.concatenate(data_list)\n",
    "    fold_indices = np.concatenate(indices_list)\n",
    "    features = data[:, :275]\n",
    "    labels = data[:, 276]\n",
    "    return features, labels, fold_indices"
   ]
  },
  {
   "cell_type": "markdown",
   "metadata": {},
   "source": [
    "Se divide el conjunto de datos en *entrenamiento* y *validación*"
   ]
  },
  {
   "cell_type": "code",
   "execution_count": null,
   "metadata": {},
   "outputs": [],
   "source": [
    "# Se construye el conjunto de entrenamiento con los primeros seis folds\n",
    "features_train, labels_train, fold_indices_train = extraer_caracteristicas([1,2,3,4,5,6])\n",
    "print('El conjunto de entrenamiento cuenta con %d audios' % len(features_train))\n",
    "# Se construye el conjunto de validación con los folds 7 y 8\n",
    "features_val, labels_val, fold_indices_val = extraer_caracteristicas([7, 8])\n",
    "print('El conjunto de validación cuenta con %d audios' % len(features_val))\n",
    "# Los folds 9 y 10 se utilizarán para test. No se provén las etiquetas del conjunto de test\n",
    "features_test, labels_test, _ = extraer_caracteristicas([9, 10])\n",
    "print('El conjunto de test cuenta con %d audios' % len(features_test))"
   ]
  },
  {
   "cell_type": "markdown",
   "metadata": {},
   "source": [
    "## Parte 1: clasificador por defecto"
   ]
  },
  {
   "cell_type": "markdown",
   "metadata": {},
   "source": [
    "Entrenar el clasificador SVM con parámetros por defecto utilizando el conjunto de entrenamiento. "
   ]
  },
  {
   "cell_type": "code",
   "execution_count": null,
   "metadata": {},
   "outputs": [],
   "source": [
    "################################################################################\n",
    "##########  EMPIEZA ESPACIO PARA COMPLETAR CODIGO  #############################\n",
    "################################################################################\n",
    "\n",
    "# clf_svm =\n",
    "\n",
    "# E_in = \n",
    "\n",
    "# E_val = \n",
    "\n",
    "################################################################################\n",
    "##########  TERMINA ESPACIO PARA COMPLETAR CODIGO  #############################\n",
    "################################################################################"
   ]
  },
  {
   "cell_type": "markdown",
   "metadata": {},
   "source": [
    "**Pregunta:** Describa el punto de funcionamiento del clasificador"
   ]
  },
  {
   "cell_type": "markdown",
   "metadata": {},
   "source": [
    "**Respuesta:** "
   ]
  },
  {
   "cell_type": "markdown",
   "metadata": {},
   "source": [
    "**Pregunta:** ¿Cuál es el número de vectores de soporte? ¿Es útil dicha información?"
   ]
  },
  {
   "cell_type": "code",
   "execution_count": null,
   "metadata": {},
   "outputs": [],
   "source": []
  },
  {
   "cell_type": "markdown",
   "metadata": {},
   "source": [
    "**Respuesta:** "
   ]
  },
  {
   "cell_type": "markdown",
   "metadata": {},
   "source": [
    "## Parte 2:  anticipando el comportamiento en validación"
   ]
  },
  {
   "cell_type": "markdown",
   "metadata": {},
   "source": [
    "En ciertas oportunidades es deseable estimar el desempeño del *conjunto de validación* con el *conjunto de entrenamiento* para no contaminar los mismos innecesariamente. Una forma habitual es hacer *validación cruzada* con el conjunto de entrenamiento.  "
   ]
  },
  {
   "cell_type": "markdown",
   "metadata": {},
   "source": [
    "A continuación se hará validación cruzada con el conjunto de entrenamiento. Para ello se utilizará la función `cross_validate()` del paquete *model selection*. Lo haremos de tres formas diferentes."
   ]
  },
  {
   "cell_type": "code",
   "execution_count": null,
   "metadata": {},
   "outputs": [],
   "source": [
    "# validación cruzada 6-fold con cv=6\n",
    "scores = cross_validate(clf_svm, features_train, labels_train, return_train_score=True, cv=6)\n",
    "print('Accuracy con conjunto de entrenamiento = %f' % scores['train_score'].mean())\n",
    "print('Accuracy con conjunto de validación = %f' % scores['test_score'].mean())"
   ]
  },
  {
   "cell_type": "code",
   "execution_count": null,
   "metadata": {},
   "outputs": [],
   "source": [
    "# validación cruzada 6-fold utilizando cv = ShuffleSplit\n",
    "cv = ShuffleSplit(n_splits=6, test_size=1/6, random_state=0)\n",
    "scores = cross_validate(clf_svm, features_train, labels_train, return_train_score=True, cv=cv)\n",
    "print('Accuracy con conjunto de entrenamiento = %f' % scores['train_score'].mean())\n",
    "print('Accuracy con conjunto de validación = %f' % scores['test_score'].mean())"
   ]
  },
  {
   "cell_type": "code",
   "execution_count": null,
   "metadata": {},
   "outputs": [],
   "source": [
    "# validación cruzada 6-fold utilizando cv = PredefinedSplit\n",
    "cv = PredefinedSplit(test_fold=fold_indices_train)\n",
    "scores = cross_validate(clf_svm, features_train, labels_train, return_train_score=True, cv=cv)\n",
    "print('Ein-cv2 = {}'.format(scores['train_score'].mean()))\n",
    "print('Ecv2 = {}'.format(scores['test_score'].mean()))"
   ]
  },
  {
   "cell_type": "markdown",
   "metadata": {},
   "source": [
    "**Pregunta:** Explique brevemente en qué consiste la validación cruzada y en qué difieren las tres formas de realizarlo que se implementaron. "
   ]
  },
  {
   "cell_type": "markdown",
   "metadata": {},
   "source": [
    "**Respuesta:** \n",
    "..."
   ]
  },
  {
   "cell_type": "markdown",
   "metadata": {},
   "source": [
    "**Pregunta:** ¿Cuál de las tres estrategias de validación cruzada implementadas le parece más apropiada para este problema? ¿Es la que predice mejor los resultados con el conjunto de validación? "
   ]
  },
  {
   "cell_type": "markdown",
   "metadata": {},
   "source": [
    "**Respuesta:** ..."
   ]
  },
  {
   "cell_type": "markdown",
   "metadata": {},
   "source": [
    "## Parte 3: Eligiendo los parámetros del clasificador SVM"
   ]
  },
  {
   "cell_type": "markdown",
   "metadata": {},
   "source": [
    "A continuación se mostrará una forma de elegir los parámetros óptimos del clasificador para el caso de utilizar un *kernel linear* y un *kernel rbf*"
   ]
  },
  {
   "cell_type": "markdown",
   "metadata": {},
   "source": [
    "### Eligiendo C  para el kernel lineal con GridSearch"
   ]
  },
  {
   "cell_type": "code",
   "execution_count": null,
   "metadata": {},
   "outputs": [],
   "source": [
    "# Se define un vector con los valores de C a probar\n",
    "# En una primera pasada se suele utilizar una grilla logarítmica\n",
    "Cs = np.logspace(-5, 0, 6)\n",
    "\n",
    "# Se define el diccionario con los parámetros a probar, en este caso solo C\n",
    "param_grid= {'C' : Cs}\n",
    "\n",
    "# Se realiza la división del conjunto de entrenamiento en los 6 folds\n",
    "cv = PredefinedSplit(test_fold=fold_indices_train)\n",
    "\n",
    "# Se define la validación cruzada a realizar para el kernel lineal\n",
    "grid = GridSearchCV(svm.SVC(kernel='linear'), param_grid=param_grid, \n",
    "                    cv=cv, verbose=3, n_jobs=-1)\n",
    "\n",
    "# Se realiza la búsqueda de parámetros\n",
    "grid.fit(features_train, labels_train)\n",
    "\n",
    "print(\"Los mejores parámetros fueron %s con un accuracy de %0.3f\"\n",
    "      % (grid.best_params_, grid.best_score_))"
   ]
  },
  {
   "cell_type": "code",
   "execution_count": null,
   "metadata": {},
   "outputs": [],
   "source": [
    "# Se guarda el mejor clasificador encontrado \n",
    "best_clf_linear = grid.best_estimator_"
   ]
  },
  {
   "cell_type": "code",
   "execution_count": null,
   "metadata": {},
   "outputs": [],
   "source": [
    "plt.figure(figsize=(7,7))\n",
    "plt.plot(np.log10(Cs), grid.cv_results_['mean_test_score'],'*-')\n",
    "plt.title('Resultados de la validación cruzada para kernel lineal')\n",
    "plt.xlabel('Valores de C (10^)')\n",
    "plt.ylabel('Accuracy')"
   ]
  },
  {
   "cell_type": "markdown",
   "metadata": {},
   "source": [
    "## Eligiendo C y Gamma para el kernel RBF con GridSearch"
   ]
  },
  {
   "cell_type": "code",
   "execution_count": null,
   "metadata": {},
   "outputs": [],
   "source": [
    "# función auxiliar que muestra los parámetros del gridsearch\n",
    "def mostrar_grid_search_results(rangoC, rangoGamma, resultados):\n",
    "    '''\n",
    "    Entrada:\n",
    "        rangoC: lista con los valores de C evaluados\n",
    "        rangoGamma: lista con los valores de gamma evaluados\n",
    "        resultados: arrglo de tamaño (len(rangoC),len(rangoGamma)) con los resultados\n",
    "                    del grid-search\n",
    "    '''\n",
    "    fig, ax = plt.subplots()\n",
    "    im = ax.imshow(resultados, interpolation='nearest', cmap=plt.cm.Blues)\n",
    "    ax.figure.colorbar(im, ax=ax)\n",
    "    ax.set_ylabel('C')\n",
    "    ax.set_ylim(-0.5,len(rangoC)-0.5)\n",
    "    ax.set_xlim(-0.5,len(rangoGamma)-0.5)\n",
    "    ax.set_yticks(range(len(rangoC)))\n",
    "    ax.set_xticks(range(len(rangoGamma)))\n",
    "    rangoC_labels = [str(c) for c in rangoC]\n",
    "    ax.set_yticklabels(rangoC_labels)\n",
    "    ax.set_xlabel('Gamma')\n",
    "    rangoGamma_labels = [str(gamma) for gamma in rangoGamma]\n",
    "    ax.set_xticklabels(rangoGamma_labels)\n",
    "    plt.setp(ax.get_xticklabels(), rotation=45, ha=\"right\",\n",
    "                    rotation_mode=\"anchor\")\n",
    "    plt.title('Resultados del Grid Search')"
   ]
  },
  {
   "cell_type": "markdown",
   "metadata": {},
   "source": [
    "**Ejercicio:** Realizar la búsqueda de parámetros óptimos para la grilla de valores de $C$ y $\\gamma$ que se indica a continuación."
   ]
  },
  {
   "cell_type": "code",
   "execution_count": null,
   "metadata": {},
   "outputs": [],
   "source": [
    "# Se construye la grilla para hacer el grid-search\n",
    "# Es habitual usar una grilla logarítmica en base 10 en una primera\n",
    "# pasada y luego refinarla con una búsqueda lineal o en base 2 (mas costoso)\n",
    "\n",
    "Cs = np.logspace(-2, 7, 4)  \n",
    "gammas = np.logspace(-9, -3, 5)\n",
    "\n",
    "####################################################################################################################\n",
    "#################   EMPIEZA ESPACIO PARA COMPLETAR CODIGO  #########################################################\n",
    "####################################################################################################################\n",
    "\n",
    "\n",
    "\n",
    "\n",
    "\n",
    "\n",
    "####################################################################################################################\n",
    "#################   TERMINA ESPACIO PARA COMPLETAR CODIGO  #########################################################\n",
    "####################################################################################################################\n",
    "\n"
   ]
  },
  {
   "cell_type": "markdown",
   "metadata": {},
   "source": [
    "**Pregunta:** ¿Cuáles fueron los parámetros óptimos de $C$ y $\\gamma$ para la grilla sugerida?"
   ]
  },
  {
   "cell_type": "markdown",
   "metadata": {},
   "source": [
    "**Respuesta:**"
   ]
  },
  {
   "cell_type": "markdown",
   "metadata": {},
   "source": [
    "Una vez realizada la búsqueda se muestran los valores óptimos. Además se puede acceder a información detallada de la búsqueda a través de los atributos del objeto *GridSearchCV*.  "
   ]
  },
  {
   "cell_type": "code",
   "execution_count": null,
   "metadata": {},
   "outputs": [],
   "source": [
    "# El mejor clasificador encontrado \n",
    "best_clf_rbf = grid.best_estimator_\n",
    "# Detalle de la validación cruzada a través del diccionario cv_results_\n",
    "print('Claves del diccionario que almacena los resultados:')\n",
    "print(grid.cv_results_.keys())"
   ]
  },
  {
   "cell_type": "code",
   "execution_count": null,
   "metadata": {},
   "outputs": [],
   "source": [
    "# Se muestran los resultados del grid-search\n",
    "resultados = grid.cv_results_['mean_test_score']\n",
    "resultados = resultados.reshape(len(Cs),len(gammas))\n",
    "print(resultados)\n",
    "mostrar_grid_search_results(Cs, gammas, resultados)"
   ]
  },
  {
   "cell_type": "markdown",
   "metadata": {},
   "source": [
    "## Evaluación de los mejores clasificadores con el conjunto de validación"
   ]
  },
  {
   "cell_type": "code",
   "execution_count": null,
   "metadata": {},
   "outputs": [],
   "source": [
    "acc_val_linear = best_clf_linear.score(features_val, labels_val)\n",
    "print('El accuracy con el conjunto de validación utilizando kernel linear es: % .03f' % acc_val_linear)\n",
    "acc_val_rbf = best_clf_rbf.score(features_val, labels_val)\n",
    "print('El accuracy con el conjunto de validación utilizando kernel rbf es: % .03f' % acc_val_rbf)"
   ]
  },
  {
   "cell_type": "markdown",
   "metadata": {},
   "source": [
    "**Pregunta:** Si tuviera que entregar el clasificador en este momento ¿Cuál entregaría?"
   ]
  },
  {
   "cell_type": "markdown",
   "metadata": {},
   "source": [
    "A continuación se muestra la matriz de confusión con el conjunto de validación. "
   ]
  },
  {
   "cell_type": "code",
   "execution_count": null,
   "metadata": {},
   "outputs": [],
   "source": [
    "# funcion auxiliar (Ejecutar y seguir)\n",
    "def mostrar_matriz_confusion(cm, target_names,\n",
    "                            normalize=False,\n",
    "                            cmap=plt.cm.Blues):\n",
    "    '''\n",
    "    Muestra la matriz de confusión\n",
    "    '''\n",
    "\n",
    "    fig, ax = plt.subplots(figsize=(10,10))\n",
    "    im = ax.imshow(cm, interpolation='nearest', cmap=cmap)\n",
    "    ax.figure.colorbar(im, ax=ax)\n",
    "    ax.set(xticks=np.arange(cm.shape[1]),\n",
    "            yticks=np.arange(cm.shape[0]),\n",
    "            xticklabels=target_names, yticklabels=target_names,\n",
    "            title= 'Matriz de confusion normalizada' if normalize else 'Matriz de confusion sin normalizar',\n",
    "            ylabel='Etiqueta',\n",
    "            xlabel='Predicción',\n",
    "            xlim=(-0.5,9.5),\n",
    "            ylim=(9.5,-0.5))\n",
    "\n",
    "    plt.setp(ax.get_xticklabels(), rotation=45, ha=\"right\",\n",
    "                rotation_mode=\"anchor\")\n",
    "\n",
    "    fmt = '.2f' if normalize else 'd'\n",
    "    thresh = cm.max() / 2.\n",
    "    for i in range(cm.shape[0]):\n",
    "        for j in range(cm.shape[1]):\n",
    "            ax.text(j, i, format(cm[i, j], fmt),\n",
    "                    ha=\"center\", va=\"center\",\n",
    "                    color=\"white\" if cm[i, j] > thresh else \"black\")\n",
    "    fig.tight_layout()"
   ]
  },
  {
   "cell_type": "code",
   "execution_count": null,
   "metadata": {},
   "outputs": [],
   "source": [
    "cm"
   ]
  },
  {
   "cell_type": "code",
   "execution_count": null,
   "metadata": {},
   "outputs": [],
   "source": [
    "# Matriz de confusión utilizando kernel linear\n",
    "y_pred = best_clf_linear.predict(features_val)\n",
    "clases = ('air_conditioner', 'car_horn', 'children_playing', 'dog_bark', \n",
    "           'drilling', 'engine_idling', 'gun_shot', 'jackhammer', 'siren', \n",
    "           'street_music')\n",
    "cm = confusion_matrix(labels_val, y_pred)\n",
    "cm_normalized = cm.astype('float') / cm.sum(axis=1)[:, np.newaxis]\n",
    "mostrar_matriz_confusion(cm_normalized, clases, normalize=True)"
   ]
  },
  {
   "cell_type": "code",
   "execution_count": null,
   "metadata": {},
   "outputs": [],
   "source": [
    "# Matriz de confusión utilizando kernel rbf\n",
    "y_pred = best_clf_rbf.predict(features_val)\n",
    "clases = ('air_conditioner', 'car_horn', 'children_playing', 'dog_bark', \n",
    "           'drilling', 'engine_idling', 'gun_shot', 'jackhammer', 'siren', \n",
    "           'street_music')\n",
    "cm = confusion_matrix(labels_val, y_pred)\n",
    "cm_normalized = cm.astype('float') / cm.sum(axis=1)[:, np.newaxis]\n",
    "mostrar_matriz_confusion(cm_normalized, clases, normalize=True)"
   ]
  },
  {
   "cell_type": "markdown",
   "metadata": {},
   "source": [
    "## Mejorando el clasificador SVM"
   ]
  },
  {
   "cell_type": "markdown",
   "metadata": {},
   "source": [
    "Un primer objetivo es el de mejorar los clasificadores SVM base ya entrenados. Algunas posibilidades que se pueden explorar a dichos efectos son:\n",
    "- Refinar la grilla de búsqueda de parámetros óptimos \n",
    "- Explorar la utilización de otro kernel\n",
    "- Evaluar el impacto de aplicar algún preprocesamiento de características"
   ]
  },
  {
   "cell_type": "code",
   "execution_count": null,
   "metadata": {},
   "outputs": [],
   "source": [
    "# Construyendo un buen clasificador svm ..."
   ]
  },
  {
   "cell_type": "markdown",
   "metadata": {},
   "source": [
    "<a id=\"Desafio\"></a>\n",
    "## Desafío: Urband Sound Challenge"
   ]
  },
  {
   "cell_type": "markdown",
   "metadata": {},
   "source": [
    "Su misión, si desea aceptarla, es generar el mejor clasificador posible para los sonidos urbanos de los *folds* 9 y 10. Para ello deberá en primer lugar formar un equipo de dos personas ya que no se considerarán como parte del desafío entregas individuales.\n",
    "\n",
    "Como clasificador se podrá utilizar cualquiera de los algoritmos vistos en el curso (perceptrón, regresión lineal, regresión logística, redes neuronales o svm). Además, se podrá utilizar una combinación de varios clasificadores. En caso de que los clasificadores tengan rendimientos diferentes para las distintas clases se podrá, por ejemplo, elegir tres clasificadores y combinarlos mediante el voto de la mayoría.  "
   ]
  },
  {
   "cell_type": "code",
   "execution_count": null,
   "metadata": {},
   "outputs": [],
   "source": [
    "# Construyendo un buen clasificador ..."
   ]
  },
  {
   "cell_type": "markdown",
   "metadata": {},
   "source": [
    "En unos días se habilitará una tarea en el eva para subir las predicciones realizadas sobre el conjunto de test. "
   ]
  }
 ],
 "metadata": {
  "kernelspec": {
   "display_name": "Python 3",
   "language": "python",
   "name": "python3"
  },
  "language_info": {
   "codemirror_mode": {
    "name": "ipython",
    "version": 3
   },
   "file_extension": ".py",
   "mimetype": "text/x-python",
   "name": "python",
   "nbconvert_exporter": "python",
   "pygments_lexer": "ipython3",
   "version": "3.7.3"
  }
 },
 "nbformat": 4,
 "nbformat_minor": 2
}
