{
 "cells": [
  {
   "cell_type": "markdown",
   "metadata": {},
   "source": [
    "# Fundamentos de Aprendizaje Automático y Reconocimiento de Patrones\n",
    "***\n",
    "# Práctico 2"
   ]
  },
  {
   "cell_type": "code",
   "execution_count": 1,
   "metadata": {},
   "outputs": [],
   "source": [
    "# Se importan las biblotecas que se van a utilizar\n",
    "import numpy as np\n",
    "from matplotlib import pyplot as plt\n",
    "import time\n",
    "import h5py # es el formato en el que están almacenados los dígitos\n",
    "\n",
    "from visualizacion import visualizar_conjunto_entrenamiento, visualizar_modelo_lineal\n",
    "from algoritmos import entrenar_perceptron\n",
    "\n",
    "plt.rcParams['figure.figsize'] = (10.0, 10.0) # tamaño de las figuras por defecto\n",
    "# el inline sirve para que las figuras se muestren dentro del notebook\n",
    "%matplotlib inline  \n",
    "\n",
    "# Se agrega para que el notebook vea los cambios realizados en los modulos que utiliza;\n",
    "# see http://stackoverflow.com/questions/1907993/autoreload-of-modules-in-ipython\n",
    "%reload_ext autoreload\n",
    "%autoreload 2"
   ]
  },
  {
   "cell_type": "markdown",
   "metadata": {},
   "source": [
    "## Objetivos\n",
    "\n",
    "Los objetivos de este práctico son los siguientes:\n",
    "    \n",
    "- Fortalecer el conocimiento del **modelo lineal** mediante la formulación de las ecuaciones que permiten encontrar sus parámetros.\n",
    "- Implementar la **regresión lineal** y utilizarla para resolver un problema de **regresión** y uno de **clasificación**.\n",
    "- Implementar el **algoritmo pocket**. Comparar su desempeño con el de regresión lineal para clasificación.\n",
    "- Separar un conjunto de datos **no linealmente separables** utilizando **clasificadores lineales** mediante la transformación de características. \n",
    "- Desarrollar un **clasificador de dígitos**.\n",
    "\n",
    "*** \n",
    "\n",
    "## Lista de ejercicios\n",
    "\n",
    "[Ejercicio 1](#Ejercicio1): modelo de regresión lineal y su implementación.        \n",
    "[Ejercicio 2](#Ejercicio2): clasificación de datos sintéticos mediante regresión lineal y el algoritmo pocket. Transformación de características.      \n",
    "[Ejercicio 3](#Ejercicio3): clasificación de dígitos.       \n"
   ]
  },
  {
   "cell_type": "markdown",
   "metadata": {},
   "source": [
    "<a id=\"Ejercicio1\"></a>\n",
    "# Ejercicio 1: Regresión Lineal"
   ]
  },
  {
   "cell_type": "markdown",
   "metadata": {},
   "source": [
    "En esta parte se trabajará con el conjunto de datos *Advertising* que almacena las ventas de un producto en 200 mercados diferentes junto con lo invertido en publicidad en diferentes medios de prensa: televisión, radio y prensa escrita. El objetivo es determinar la relación que existe entre las ventas y lo invertido en publicidad asumiendo un modelo lineal."
   ]
  },
  {
   "cell_type": "code",
   "execution_count": null,
   "metadata": {},
   "outputs": [],
   "source": [
    "X_names = ['TV','radio','prensa escrita']\n",
    "y_name = ['ventas']\n",
    "\n",
    "#############################################################################\n",
    "################  EMPIEZA ESPACIO PARA COMPLETAR  ###########################\n",
    "#############################################################################\n",
    "\n",
    "# utilizar la función de numpy loadtxt() para cargar los datos. La primera\n",
    "# fila no tiene que ser leída\n",
    "\n",
    "# data =\n",
    "\n",
    "#############################################################################\n",
    "################  TERMINA ESPACIO PARA COMPLETAR  ###########################\n",
    "#############################################################################\n",
    "\n",
    "X=data[:,0:4]\n",
    "X[:,0]=1\n",
    "y=data[:,4:]\n",
    "\n",
    "plt.figure(figsize=(15,5))\n",
    "for p in range(3):\n",
    "    plt.subplot(1,3, p+1)\n",
    "    plt.scatter(X[:, 1+p], y, marker='x', label=X_names[p])\n",
    "    plt.xlabel('inversión en publicidad de ' + X_names[p])\n",
    "    plt.ylabel(y_name[0])"
   ]
  },
  {
   "cell_type": "markdown",
   "metadata": {},
   "source": [
    "**Pregunta:** ¿Por qué se dice que este es un problema de regresión?"
   ]
  },
  {
   "cell_type": "markdown",
   "metadata": {},
   "source": [
    "**Respuesta:**  \n",
    "..."
   ]
  },
  {
   "cell_type": "markdown",
   "metadata": {},
   "source": [
    "**Pregunta:** Asuma que existe una relación lineal entre entradas y salida, exprese matemáticamente dicho modelo e indique claramente cuáles son las entradas y salidas del modelo. ¿Cuántos parámetros deben determinarse?"
   ]
  },
  {
   "cell_type": "markdown",
   "metadata": {},
   "source": [
    "**Respuesta:**  \n",
    "..."
   ]
  },
  {
   "cell_type": "markdown",
   "metadata": {},
   "source": [
    "**Pregunta:** Expresar el sistema de ecuaciones a resolver y la solución al mismo bajo el criterio de mínimos cuadrados en el caso de contar con $N$ puntos. "
   ]
  },
  {
   "cell_type": "markdown",
   "metadata": {},
   "source": [
    "**Respuesta:**    \n",
    "..."
   ]
  },
  {
   "cell_type": "markdown",
   "metadata": {},
   "source": [
    "Implementar la solución anteriormente descrita en el método `regresion_lineal()`."
   ]
  },
  {
   "cell_type": "code",
   "execution_count": null,
   "metadata": {},
   "outputs": [],
   "source": [
    "def regresion_lineal(X, y):\n",
    "    '''\n",
    "    Entrada:\n",
    "        X: matriz de Nx(d+1)\n",
    "        y: vector de tamaño N\n",
    "    Salida:\n",
    "        w_ls: vector encontrado por la regresión lineal\n",
    "    '''\n",
    "    \n",
    "    ###################################################\n",
    "    ######## EMPIEZA ESPACIO PARA COMPLETAR CODIGO ####\n",
    "    ###################################################\n",
    "    \n",
    "    # Sugerencia: utilizar el paquete linalg de numpy \n",
    "    # para calcular la inversa\n",
    "    \n",
    "    # w_ls = \n",
    "    \n",
    "    ###################################################\n",
    "    ######## TERMINA ESPACIO PARA COMPLETAR CODIGO ####\n",
    "    ###################################################\n",
    "    \n",
    "    return w_ls"
   ]
  },
  {
   "cell_type": "code",
   "execution_count": null,
   "metadata": {},
   "outputs": [],
   "source": [
    "w_ls = regresion_lineal(X,y)"
   ]
  },
  {
   "cell_type": "markdown",
   "metadata": {},
   "source": [
    "**Pregunta:** Si dispusiera de $1000 para invertir en publicidad ¿En que medio lo invertiría y cómo estima que repercutiría en las ventas?"
   ]
  },
  {
   "cell_type": "markdown",
   "metadata": {},
   "source": [
    "**Respuesta:**   \n",
    "..."
   ]
  },
  {
   "cell_type": "markdown",
   "metadata": {},
   "source": [
    "<a id=\"Ejercicio2\"></a>\n",
    "# Ejercicio 2: Clasificación con datos sintéticos"
   ]
  },
  {
   "cell_type": "markdown",
   "metadata": {},
   "source": [
    "## Generación de datos sintéticos"
   ]
  },
  {
   "cell_type": "markdown",
   "metadata": {},
   "source": [
    "Se consideran dos semianillos de ancho $w$ y radio interno $r$, separados por $sep$. El centro del semianillo superior está alineado con el centro del borde donde comienza el semianillo inferior. Los datos son linealmente separables cuando $sep > 0$ y no lo son cuando $sep \\leq 0$. Generar 2000 muestras uniformemente distribuídas, aproximadamente 1000 de cada clase, utilizando un radio $r=10$, un ancho $w=5$ y una separación $sep=5$."
   ]
  },
  {
   "cell_type": "code",
   "execution_count": 4,
   "metadata": {},
   "outputs": [],
   "source": [
    "def generar_semianillos(N, radio, ancho, separacion):\n",
    "    '''\n",
    "    Entrada:\n",
    "        N: número de muestras a generar\n",
    "        radio: radio interior del semicírculo\n",
    "        ancho: diferencia entre el radio exterior e interior\n",
    "        separación: separación entre los semicírculos\n",
    "    Salida:\n",
    "        X: matríz de Nx3 que contiene los datos generados en coordenadas homogéneas\n",
    "        y: estiquetas asociadas a los datos\n",
    "    '''\n",
    "        \n",
    "    X = np.ones((N, 3))\n",
    "    # se sortea a que clase pertenecen las muestras\n",
    "    y = 2 * (np.random.rand(N) < 0.5) - 1\n",
    "    \n",
    "    # radios y ángulos del semicírculo superior\n",
    "    radios = radio + ancho * np.random.rand(N)\n",
    "    thetas = np.pi * np.random.rand(N)\n",
    "    # coordenadas en x de ambos semicírculos\n",
    "    X[:,1] = radios * np.cos(thetas) * y + (radio + ancho/2)*(y==-1)\n",
    "    # coordenadas en y de ambos semicírculos\n",
    "    X[:,2] = radios * np.sin(thetas) * y - separacion * (y==-1)\n",
    "    \n",
    "    \n",
    "    \n",
    "    return X, y"
   ]
  },
  {
   "cell_type": "code",
   "execution_count": null,
   "metadata": {},
   "outputs": [],
   "source": [
    "###################################################\n",
    "######## EMPIEZA ESPACIO PARA COMPLETAR CODIGO ####\n",
    "###################################################\n",
    "\n",
    "# X, y = \n",
    "\n",
    "###################################################\n",
    "######## TERMINA ESPACIO PARA COMPLETAR CODIGO ####\n",
    "###################################################\n",
    "\n",
    "visualizar_conjunto_entrenamiento(X, y)"
   ]
  },
  {
   "cell_type": "markdown",
   "metadata": {},
   "source": [
    "## El perceptrón para separar clases linealmente separables"
   ]
  },
  {
   "cell_type": "markdown",
   "metadata": {},
   "source": [
    "Se prové una implementación del algoritmo del perceptrón `entrenar_perceptron()` implementado en la práctica anterior. Ejecutarlo partiendo del vector de pesos inicial $\\mathbf{w}=0$ hasta que converja. Mostrar los datos y la hipótesis final."
   ]
  },
  {
   "cell_type": "code",
   "execution_count": null,
   "metadata": {},
   "outputs": [],
   "source": [
    "###################################################\n",
    "######## EMPIEZA ESPACIO PARA COMPLETAR CODIGO ####\n",
    "###################################################\n",
    "\n",
    "# w_perceptron, error_entrenamiento = \n",
    "\n",
    "\n",
    "# chequear que el error de entrenamiento con el w encontrado es cero\n",
    "\n",
    "\n",
    "###################################################\n",
    "######## EMPIEZA ESPACIO PARA COMPLETAR CODIGO ####\n",
    "###################################################\n",
    "\n",
    "# Se grafica el resultado del entrenamiento\n",
    "visualizar_modelo_lineal(X,y,w_perceptron)"
   ]
  },
  {
   "cell_type": "markdown",
   "metadata": {},
   "source": [
    "## Regresión lineal como método de clasificación"
   ]
  },
  {
   "cell_type": "markdown",
   "metadata": {},
   "source": [
    "Utilizar el método `regresion_lineal()` implementado anteriormente para clasificación."
   ]
  },
  {
   "cell_type": "code",
   "execution_count": null,
   "metadata": {},
   "outputs": [],
   "source": [
    "###################################################\n",
    "######## EMPIEZA ESPACIO PARA COMPLETAR CODIGO ####\n",
    "###################################################\n",
    "\n",
    "# w_ls =\n",
    "\n",
    "###################################################\n",
    "######## TERMINA ESPACIO PARA COMPLETAR CODIGO ####\n",
    "###################################################\n",
    "\n",
    "# Se grafica el resultado del entrenamiento utilizando regresión lineal\n",
    "visualizar_modelo_lineal(X,y,w_ls)"
   ]
  },
  {
   "cell_type": "markdown",
   "metadata": {},
   "source": [
    "**Pregunta:** Comente sobre las fronteras de decisión encontradas. ¿Prefiere alguna de ellas?"
   ]
  },
  {
   "cell_type": "markdown",
   "metadata": {},
   "source": [
    "**Respuesta:**\n",
    "\n",
    "..."
   ]
  },
  {
   "cell_type": "markdown",
   "metadata": {},
   "source": [
    "## Datos no linealmente separables"
   ]
  },
  {
   "cell_type": "markdown",
   "metadata": {},
   "source": [
    "El siguiente bloque genera un conjunto de datos con $sep=-5$ y lo grafica. "
   ]
  },
  {
   "cell_type": "code",
   "execution_count": null,
   "metadata": {},
   "outputs": [],
   "source": [
    "N=2000\n",
    "r = 10; w=5; sep=-5\n",
    "X, y = generar_semianillos(N, r, w, sep)\n",
    "\n",
    "visualizar_conjunto_entrenamiento(X, y)"
   ]
  },
  {
   "cell_type": "markdown",
   "metadata": {},
   "source": [
    "**Pregunta:** Explicar qué sucede al ejecutar el algoritmo del perceptrón en dicho conjunto."
   ]
  },
  {
   "cell_type": "markdown",
   "metadata": {},
   "source": [
    "**Respuesta:**    \n",
    "..."
   ]
  },
  {
   "cell_type": "markdown",
   "metadata": {},
   "source": [
    "<a id=\"algoritmoPocket\"></a>\n",
    "## El algoritmo pocket"
   ]
  },
  {
   "cell_type": "markdown",
   "metadata": {},
   "source": [
    "La superficie de decisión obtenida mediante el *perceptrón* garantiza una adecuadamente separación de las dos clases solamente en el caso en que éstas son linealmente separables. Una pregunta que surge naturalmente es qué sucede cuando estas condiciones no se cumplen.  El algoritmo *pocket* es una variante del perceptrón que con cada actualización de pesos calcula el error cometido si se utiliza el nuevo vector de pesos. Al finalizar, devuelve el vector de pesos con el mínimo error.     "
   ]
  },
  {
   "cell_type": "markdown",
   "metadata": {},
   "source": [
    "Completar el código del método `entrenar_pocket()`. "
   ]
  },
  {
   "cell_type": "code",
   "execution_count": null,
   "metadata": {},
   "outputs": [],
   "source": [
    "def entrenar_pocket(X, y, w0=None, maxIteraciones = 500):\n",
    "    \"\"\"\n",
    "    Entrada:\n",
    "        X: matriz de (Nxd+1) que contiene las muestras de entrenamiento\n",
    "        y: etiquetas asociadas a las muestras de entrenamiento\n",
    "        w0: inicialización de los pesos del perceptrón\n",
    "        maxIteraciones: máxima cantidad de iteraciones que el algoritmo puede estar \n",
    "                        iterando\n",
    "        \n",
    "    Salida:\n",
    "        w_pocket: parámetros del modelo perceptrón   \n",
    "        error: vector que contiene el error cometido en cada iteración\n",
    "    \"\"\"\n",
    "    \n",
    "    if w0 is None:\n",
    "        # Se inicializan los pesos del perceptrón\n",
    "        w = np.random.rand(X.shape[1]) # w = np.zeros(d+1)\n",
    "        print('w inicializado aleatoriamente a ' , w)\n",
    "    else:\n",
    "        w = w0\n",
    "        print('El w incicial es ' , w)\n",
    "    \n",
    "    N = X.shape[0] \n",
    "    w_pocket = w.copy()  # se inicializa el vector de pesos a devolver\n",
    "    error = []  # se inicializa la lista de errores\n",
    "    hayMuestrasMalClasificadas = True  \n",
    "    errorActual = 1  # inicialización del error al máximo posible\n",
    "    nIter = 0   # inicialización del contador de iteraciones\n",
    "    \n",
    "    while ((nIter < maxIteraciones) and hayMuestrasMalClasificadas):\n",
    "        \n",
    "        #######################################################\n",
    "        ######## EMPIEZA ESPACIO PARA COMPLETAR CODIGO ########\n",
    "        #######################################################\n",
    "    \n",
    " \n",
    "\n",
    "\n",
    "\n",
    "\n",
    "\n",
    "        #######################################################\n",
    "        ######## TERMINA ESPACIO PARA COMPLETAR CODIGO ########\n",
    "        #######################################################\n",
    "    \n",
    "    if(np.array_equal(w, w_pocket)):\n",
    "        print('Cuidado: es poco probable que el vector de pesos devuelto sea el de la última actualización')\n",
    "\n",
    "    \n",
    "    return w_pocket, error"
   ]
  },
  {
   "cell_type": "markdown",
   "metadata": {},
   "source": [
    "Ejecutar el algoritmo pocket por 100000 iteraciones y graficar el error de entrenamiento en función del número de iteraciones."
   ]
  },
  {
   "cell_type": "code",
   "execution_count": null,
   "metadata": {},
   "outputs": [],
   "source": [
    "w_inicial = np.zeros(X.shape[1])\n",
    "num_iteraciones = 100000\n",
    "\n",
    "inicio = time.time()\n",
    "#######################################################\n",
    "######## EMPIEZA ESPACIO PARA COMPLETAR CODIGO ########\n",
    "#######################################################\n",
    "\n",
    "# w_pocket, error_entrenamiento =\n",
    "\n",
    "#######################################################\n",
    "######## TERMINA ESPACIO PARA COMPLETAR CODIGO ########\n",
    "#######################################################\n",
    "fin = time.time()\n",
    "\n",
    "print('El algoritmo pocket demoró %f segundos' % (fin - inicio))\n",
    "print('El pocket finalizó en la iteración %d' % len(error_entrenamiento))\n",
    "print('El error de entrenamiento es %f' % error_entrenamiento[-1])\n",
    "\n",
    "# Se grafica el resultado del entrenamiento\n",
    "visualizar_modelo_lineal(X,y,w_pocket)\n",
    "\n",
    "plt.figure(figsize=(10,10))\n",
    "plt.plot(error_entrenamiento[100:],'*-')\n",
    "plt.xlabel('iteración')\n",
    "plt.ylabel('error entrenamiento')"
   ]
  },
  {
   "cell_type": "markdown",
   "metadata": {},
   "source": [
    "**PREGUNTA:** Mencione ventajas y desventajas que presenta el *algoritmo pocket* respecto al *perceptrón tradicional*"
   ]
  },
  {
   "cell_type": "markdown",
   "metadata": {},
   "source": [
    "**RESPUESTA:**  \n",
    "... "
   ]
  },
  {
   "cell_type": "markdown",
   "metadata": {},
   "source": [
    "## Regresión lineal para clasificación"
   ]
  },
  {
   "cell_type": "markdown",
   "metadata": {},
   "source": [
    "Utilizar el método `regresion_lineal()` para obtener el vector de pesos $w_{ls}$. Comparar tiempo de ejecución y calidad de la solución obtenida con los del algoritmo pocket."
   ]
  },
  {
   "cell_type": "code",
   "execution_count": null,
   "metadata": {},
   "outputs": [],
   "source": [
    "#######################################################\n",
    "######## EMPIEZA ESPACIO PARA COMPLETAR CODIGO ########\n",
    "#######################################################\n",
    "\n",
    "# inicio = \n",
    "\n",
    "# w_ls = \n",
    "\n",
    "# fin =\n",
    "\n",
    "# error_clasificacion =\n",
    "\n",
    "#######################################################\n",
    "######## TERMINA ESPACIO PARA COMPLETAR CODIGO ########\n",
    "#######################################################\n",
    "\n",
    "\n",
    "print('La regresión lineal demoró %f segundos' % (fin - inicio))\n",
    "print('El error de clasificación utilizando la regresión lineal es %f' \n",
    "      % error_clasificacion)\n",
    "\n",
    "# Se grafica el resultado del entrenamiento\n",
    "visualizar_modelo_lineal(X,y,w_ls)\n",
    "\n"
   ]
  },
  {
   "cell_type": "markdown",
   "metadata": {},
   "source": [
    "**PREGUNTA:** Mencione las principales diferencias que observa entre los resultados obtenidos mediante regresión lineal y los obtenidos por el agoritmo pocket.  "
   ]
  },
  {
   "cell_type": "markdown",
   "metadata": {},
   "source": [
    "**RESPUESTA:**    \n",
    "... "
   ]
  },
  {
   "cell_type": "markdown",
   "metadata": {},
   "source": [
    "## Transformación no lineal de los datos"
   ]
  },
  {
   "cell_type": "markdown",
   "metadata": {},
   "source": [
    "En esta sección se aplicará una transformación no lineal de los datos y luego se evaluará la performance de los clasificadores (pocket, regresión lineal) en el espacio transformado. La transformación se realizará utilizando el método `transformar_usando_polinomio_de_tercer_grado()`. Completar dicho método."
   ]
  },
  {
   "cell_type": "code",
   "execution_count": null,
   "metadata": {},
   "outputs": [],
   "source": [
    "def transformar_usando_polinomio_de_tercer_grado( X ):\n",
    "    '''\n",
    "    Entrada: \n",
    "        X: matriz de tamaño N x 3 que contiene las características originales en\n",
    "           coordenadas homogéneas\n",
    "    \n",
    "    Salida:\n",
    "        Xt: matriz de tamaño N x 10 que contiene las características en el espacio \n",
    "            transformado\n",
    "            \n",
    "            T(1,x1,x2)= (1, x1, x2, x1^2, x1x2, x2^2, x1^3, x1^2x2, x2^2x1, x2^3)\n",
    "    '''\n",
    "    \n",
    "    #######################################################\n",
    "    ######## EMPIEZA ESPACIO PARA COMPLETAR CODIGO ########\n",
    "    #######################################################\n",
    "    \n",
    "\n",
    "    \n",
    "    #######################################################\n",
    "    ######## TERMINA ESPACIO PARA COMPLETAR CODIGO ########\n",
    "    #######################################################\n",
    "    \n",
    "    return Xt"
   ]
  },
  {
   "cell_type": "markdown",
   "metadata": {},
   "source": [
    "Si la transformación encontrada es correcta la siguiente celda debería ejecutarse sin generar error."
   ]
  },
  {
   "cell_type": "code",
   "execution_count": null,
   "metadata": {},
   "outputs": [],
   "source": [
    "pts = np.array([[1, 1, 1], [1, 2, 3], [1, 0, 2], [1, 2, 0] ])\n",
    "pts_t = np.array([[ 1.,  1.,  1.,  1.,  1.,  1.,  1.,  1.,  1.,  1.],\n",
    " [ 1.,  2.,  3.,  4.,  6.,  9.,  8., 12., 18., 27.],\n",
    " [ 1.,  0.,  2.,  0.,  0.,  4.,  0.,  0.,  0.,  8.],\n",
    " [ 1.,  2.,  0.,  4.,  0.,  0.,  8.,  0.,  0.,  0.]])\n",
    "\n",
    "pts_t2 = transformar_usando_polinomio_de_tercer_grado(pts)\n",
    "\n",
    "assert pts_t.shape == pts_t2.shape , 'La dimensión de la matriz de puntos transformados no es correcta'\n",
    "assert np.abs(np.sum(pts_t-pts_t2)) < 1e-5, 'La transformación implementada no es correcta'"
   ]
  },
  {
   "cell_type": "markdown",
   "metadata": {},
   "source": [
    "Utilizar el algoritmo pocket para separar los datos en el espacio transformado."
   ]
  },
  {
   "cell_type": "code",
   "execution_count": null,
   "metadata": {},
   "outputs": [],
   "source": [
    "# Se transforman las características utilizando el método implementado\n",
    "Xt = transformar_usando_polinomio_de_tercer_grado( X )\n",
    "w_inicial = np.zeros(Xt.shape[1])\n",
    "\n",
    "inicio = time.time()\n",
    "#######################################################\n",
    "######## EMPIEZA ESPACIO PARA COMPLETAR CODIGO ########\n",
    "#######################################################\n",
    "\n",
    "# w_pocket, error_entrenamiento = \n",
    "\n",
    "#######################################################\n",
    "######## TERMINA ESPACIO PARA COMPLETAR CODIGO ########\n",
    "#######################################################\n",
    "fin = time.time()\n",
    "\n",
    "\n",
    "print('El algoritmo pocket demoró %f segundos' % (fin - inicio))\n",
    "print('El pocket finalizó en la iteración %d' % len(error_entrenamiento))\n",
    "print('El error de entrenamiento es %f' % error_entrenamiento[-1])\n",
    "\n",
    "plt.figure(figsize=(10,10))\n",
    "plt.plot(error_entrenamiento[1:],'*-')\n",
    "plt.xlabel('iteración')\n",
    "plt.ylabel('error entrenamiento')"
   ]
  },
  {
   "cell_type": "markdown",
   "metadata": {},
   "source": [
    "Es de esperar que la transformación no lineal de los datos haya contribuído a disminuir el error de clasificación durante el entrenamiento. Para ver cuáles son las muestras que   no pudieron clasificarse correctamente, ejecute la siguiente celda."
   ]
  },
  {
   "cell_type": "code",
   "execution_count": null,
   "metadata": {},
   "outputs": [],
   "source": [
    "def visualizar_frontera_decision(X, y, w):\n",
    "    '''\n",
    "    Entrada:\n",
    "        X: matriz de Nx3 que contiene los puntos en el espacio original\n",
    "        y: etiquetas de los puntos\n",
    "        w: vector de tamaño 10 que contiene los parámetros encontrados\n",
    "    '''\n",
    "\n",
    "    # Se construye una grilla de 50x50 en el dominio de los datos\n",
    "    xs = np.linspace( X[:,1].min(), X[:,1].max())\n",
    "    ys = np.linspace( X[:,2].min(), X[:,2].max())\n",
    "\n",
    "    XX, YY = np.meshgrid( xs, ys ) \n",
    "    Z = np.zeros_like(XX)\n",
    "    \n",
    "    # se transforman los puntos de la grilla\n",
    "    pts_grilla = np.vstack( (np.ones(XX.size), XX.ravel(),YY.ravel()) ).T\n",
    "    pts_grilla_transformados = transformar_usando_polinomio_de_tercer_grado( pts_grilla )\n",
    "    \n",
    "    # los puntos transformados son proyectados utilizando el w\n",
    "    Z = pts_grilla_transformados @ w\n",
    "    Z = Z.reshape(XX.shape)#\n",
    "    \n",
    "    # se grafica la frontera de decisión, es decir, la línea de nivel 0  \n",
    "    plt.figure(figsize=(8,8))\n",
    "    plt.contour(XX, YY, Z, [0])\n",
    "    plt.scatter(X[:,1][y==1],X[:,2][y==1], s=40, color='b', marker='o', \n",
    "                label='etiqueta -1')\n",
    "    plt.scatter(X[:,1][y==-1],X[:,2][y==-1], s=40, color='r', marker='x', \n",
    "                label='etiqueta 1')\n",
    "    plt.title('Frontera de decision obtenida mediante transformación no lineal de datos')\n",
    "    \n",
    "visualizar_frontera_decision(X, y, w_pocket)"
   ]
  },
  {
   "cell_type": "markdown",
   "metadata": {},
   "source": [
    "**Pregunta:** Explique brevemente cómo se implementa el método `visualizar_frontera_decision`"
   ]
  },
  {
   "cell_type": "markdown",
   "metadata": {},
   "source": [
    "** Respuesta: ** \n",
    "..."
   ]
  },
  {
   "cell_type": "markdown",
   "metadata": {},
   "source": [
    "Encontrar los parámetros del modelo de regresión lineal y calcular el error de clasificación cometido."
   ]
  },
  {
   "cell_type": "code",
   "execution_count": null,
   "metadata": {},
   "outputs": [],
   "source": [
    "inicio = time.time()\n",
    "#######################################################\n",
    "######## EMPIEZA ESPACIO PARA COMPLETAR CODIGO ########\n",
    "#######################################################\n",
    "\n",
    "# w_ls = \n",
    "\n",
    "# error_ls = \n",
    "\n",
    "#######################################################\n",
    "######## TERMINA ESPACIO PARA COMPLETAR CODIGO ########\n",
    "#######################################################\n",
    "fin = time.time()\n",
    "\n",
    "print('La regresión lineal demoró %f segundos' % (fin - inicio))\n",
    "\n",
    "print('El error de clasificación utilizando la regresión lineal es %f' % error_ls)\n",
    "visualizar_frontera_decision(X, y, w_ls);"
   ]
  },
  {
   "cell_type": "markdown",
   "metadata": {},
   "source": [
    "**Pregunta:** Compare ambos algoritmos en términos de performance y costo computacional"
   ]
  },
  {
   "cell_type": "markdown",
   "metadata": {},
   "source": [
    "**Respuesta:**   \n",
    "..."
   ]
  },
  {
   "cell_type": "markdown",
   "metadata": {},
   "source": [
    "**Pregunta:** ¿Son los datos linealmente separables en el espacio transformado?"
   ]
  },
  {
   "cell_type": "markdown",
   "metadata": {},
   "source": [
    "**Respuesta:**   \n",
    "... "
   ]
  },
  {
   "cell_type": "code",
   "execution_count": null,
   "metadata": {},
   "outputs": [],
   "source": []
  },
  {
   "cell_type": "markdown",
   "metadata": {},
   "source": [
    "<a id=\"Ejercicio3\"></a>\n",
    "# Ejercicio 3: Clasificación de dígitos"
   ]
  },
  {
   "cell_type": "markdown",
   "metadata": {},
   "source": [
    "En esta parte se trabajará con la base USPS de dígitos disponible en [kaggle](https://www.kaggle.com/bistaumanga/usps-dataset). A continuación se cargan los datos y se muestra una imagen de cada dígito."
   ]
  },
  {
   "cell_type": "code",
   "execution_count": 5,
   "metadata": {},
   "outputs": [
    {
     "data": {
      "image/png": "[encoded data removed]",
      "text/plain": [
       "<Figure size 432x288 with 10 Axes>"
      ]
     },
     "metadata": {},
     "output_type": "display_data"
    }
   ],
   "source": [
    "path='usps/usps.h5'\n",
    "\n",
    "with h5py.File(path, 'r') as hf:\n",
    "        train = hf.get('train')\n",
    "        X_train = train.get('data')[:]\n",
    "        y_train = train.get('target')[:]\n",
    "        test = hf.get('test')\n",
    "        X_test = test.get('data')[:]\n",
    "        y_test = test.get('target')[:]\n",
    "\n",
    "\n",
    "# Se deberían ver 2 × 5 subfiguras con una imagen  \n",
    "# representativa de cada dígito\n",
    "\n",
    "fig, ax = plt.subplots(nrows=2, ncols=5, sharex=True, sharey=True)\n",
    "ax = ax.flatten()\n",
    "for i in range(10):\n",
    "    img = X_train[y_train == i][0].reshape(16, 16)\n",
    "    ax[i].imshow(img, cmap='gray')\n",
    "    ax[0].set_xticks([])\n",
    "ax[0].set_yticks([])\n",
    "plt.tight_layout()\n",
    "plt.show()\n"
   ]
  },
  {
   "cell_type": "markdown",
   "metadata": {},
   "source": [
    "En esta práctica se trabajará con los dígitos uno y cinco. La función `generar_problema_dos_clases()` es la encargada de generar, a apartir de las características y etiquetas originales, un conjunto de datos listos para ser utilizados en un problema de clasificación de dos clases. "
   ]
  },
  {
   "cell_type": "code",
   "execution_count": 6,
   "metadata": {},
   "outputs": [],
   "source": [
    "def generar_problema_dos_clases(X, y, clase1, clase2):\n",
    "    '''\n",
    "    Entrada: \n",
    "        X: matriz de dígitos\n",
    "        y: etiquetas asociadas a los dígitos\n",
    "        clase1: lista con los dígitos a los que se le asignará la clase 1\n",
    "        clase2: lista con los dígitos a los que se le asignará la clase -1\n",
    "    Salida:\n",
    "        Xb: matriz que contiene únicamente las características de los dígitos \n",
    "            clase1 y clase 2\n",
    "        yb: etiquetas asignadas a los dígitos clase1 y clase2 (1 o -1)\n",
    "    '''\n",
    "    \n",
    "    indicesClase1 = [ etiqueta in clase1 for etiqueta in y ] \n",
    "    indicesClase2 = [ etiqueta in clase2 for etiqueta in y ]\n",
    "\n",
    "    clase1 = X[indicesClase1]\n",
    "    clase2 = X[indicesClase2]\n",
    "\n",
    "    Xb = np.vstack((clase1,clase2))\n",
    "    yb = np.ones(len(Xb),dtype=int)\n",
    "    yb[len(clase1):] *= -1\n",
    "\n",
    "    return Xb, yb\n"
   ]
  },
  {
   "cell_type": "markdown",
   "metadata": {},
   "source": [
    "El siguiente bloque genera datos de entrenamiento y test para el problema de clasificación entre unos y cincos."
   ]
  },
  {
   "cell_type": "code",
   "execution_count": 7,
   "metadata": {},
   "outputs": [],
   "source": [
    "clase1 = [1]\n",
    "clase2 = [5]\n",
    "Xb_train, yb_train = generar_problema_dos_clases(X_train, y_train, clase1, clase2)\n",
    "Xb_test, yb_test = generar_problema_dos_clases(X_test, y_test, clase1, clase2)\n",
    "\n",
    "# Se verifica que las dimensiones sean correctas\n",
    "assert ( np.sum( [y in clase1 for y in y_train] ) + np.sum( [y in clase2 for y in y_train] )  == len(yb_train) ), \\\n",
    "        'La dimensión del vector de etiquetas de entrenamiento generado no es correcta'\n",
    "assert ( len(Xb_train)==len(yb_train)), \\\n",
    "        'El número de etiquetas de entrenamiento debe coincidir con el número de dígitos'\n",
    "assert ( np.sum( [y in clase1 for y in y_test]) + np.sum( [y in clase2 for y in y_test])  == len(yb_test) ), \\\n",
    "        'La dimensión del vector de etiquetas de test generado no es correcta'\n",
    "assert ( len(Xb_test)==len(yb_test)), \\\n",
    "        'El número de etiquetas de test debe coincidir con el número de dígitos'"
   ]
  },
  {
   "cell_type": "markdown",
   "metadata": {},
   "source": [
    "## Generación de características para clasificar digitos"
   ]
  },
  {
   "cell_type": "markdown",
   "metadata": {},
   "source": [
    "En vez de trabajar con los valores de los píxeles como características se generará una representación de los dígitos mucho más compacta. Completar el código de la función `caracterizar_digitos(digitos)`, la misma genera una representación de los dígitos utilizando solamente dos características.  En principio de utilizará la simetría y la intensidad promedio como se discutió en clase aunque se alienta a evaluar otras opciones. \n",
    "\n",
    "$$\n",
    "\\begin{align}\n",
    "intensidad &= \\frac{1}{256}\\sum_{m=0}^{15}\\sum_{n=0}^{15}I(m,n)  \\\\\n",
    "simetria &= 1 - \\frac{1}{256}\\sum_{m=0}^{15}\\sum_{n=0}^{15} \\frac{ \\vert I(m,n)- I(m,15 - n) \\vert + \\vert I(m,n)- I(15-m, n)\\vert}{2} \\\\\n",
    "         &= \\frac{\\text{simetria horizontal}+\\text{simetria vertical}}{2}\n",
    "\\end{align}\n",
    "$$\n",
    "\n",
    "Verificar que los valores obtenidos se encuentran dentro del rango [0,1]."
   ]
  },
  {
   "cell_type": "code",
   "execution_count": 10,
   "metadata": {},
   "outputs": [],
   "source": [
    "def caracterizar_digitos(digitos):\n",
    "    '''\n",
    "    Genera las características que se utilizarán para clasificar los dígitos\n",
    "    Entrada:\n",
    "        digitos: matriz de Nxd que contiene N dígitos\n",
    "    Salida:\n",
    "        features: matriz de Nx2 con las característcas calculadas. En principio se \n",
    "                  sugiere calcular la intensidad promedio y una medida de simetría, \n",
    "                  pero podría calcularse alguna otra medida.\n",
    "    '''\n",
    "    N = digitos.shape[0]\n",
    "    features = np.zeros((N,2))  # vector que almacena las características generadas\n",
    "    \n",
    "    #######################################################\n",
    "    ######## EMPIEZA ESPACIO PARA COMPLETAR CODIGO ########\n",
    "    #######################################################\n",
    "    \n",
    "    # se calcula la primera característica, por ejemplo la intensidad promedio\n",
    "    # intensidad =\n",
    "    \n",
    "    # se calcula la segunda característica, por ejemplo la simetría\n",
    "    # simetría = (simetria_horizontal + simetria_vertical)/2\n",
    "    \n",
    "    \n",
    "    #features[:,0] = ...\n",
    "    #features[:,1] = ...\n",
    "    \n",
    "    \n",
    "    #######################################################\n",
    "    ######## TERMINA ESPACIO PARA COMPLETAR CODIGO ########\n",
    "    #######################################################\n",
    "    \n",
    "    return features"
   ]
  },
  {
   "cell_type": "markdown",
   "metadata": {},
   "source": [
    "El siguiente bloque calcula las características y las grafica utilizando un scatter 2D."
   ]
  },
  {
   "cell_type": "code",
   "execution_count": null,
   "metadata": {},
   "outputs": [],
   "source": [
    "featuresTrain = caracterizar_digitos(Xb_train)\n",
    "featuresTest = caracterizar_digitos(Xb_test)\n",
    "\n",
    "# nombres de las características utilizadas \n",
    "nombresCaracterísticas = ['intensidad promedio', 'simetría']\n",
    "# nombres de los dígitos a separar\n",
    "nombresClases = ['unos', 'cincos']\n",
    "\n",
    "plt.figure(figsize=(8,8))\n",
    "plt.scatter(featuresTrain[yb_train==1, 0],featuresTrain[yb_train==1, 1], \n",
    "            color='b', marker='o', label=nombresClases[0])\n",
    "plt.scatter(featuresTrain[yb_train==-1, 0],featuresTrain[yb_train==-1, 1], \n",
    "            color='r', marker='x', label=nombresClases[1])\n",
    "plt.xlabel('intensidad promedio', fontsize=20)\n",
    "plt.ylabel('simetría', fontsize=20)\n",
    "plt.legend()"
   ]
  },
  {
   "cell_type": "markdown",
   "metadata": {},
   "source": [
    "**Pregunta:** Los valores que toma una de las muestras son muy diferentes a los que toman las demás de su clase. ¿Cambiaría esto si se utiliza otra caracterización del dígito? Sugerencia: mostrar el dígito que genera la caracterización anómala   \n",
    "\n",
    "**Respuesta:** "
   ]
  },
  {
   "cell_type": "code",
   "execution_count": null,
   "metadata": {},
   "outputs": [],
   "source": []
  },
  {
   "cell_type": "markdown",
   "metadata": {},
   "source": [
    "Los algoritmos vistos hasta el momento en el curso utilizan una representación de los datos en coordenadas homogéneas. El siguiente bloque realiza la conversión."
   ]
  },
  {
   "cell_type": "code",
   "execution_count": 11,
   "metadata": {},
   "outputs": [],
   "source": [
    "# las características tienen que estar en coordenadas homogeneas\n",
    "featuresH_train = np.ones((featuresTrain.shape[0],featuresTrain.shape[1]+1))\n",
    "featuresH_train[:,1:]=featuresTrain"
   ]
  },
  {
   "cell_type": "markdown",
   "metadata": {},
   "source": [
    "## Clasificación de los dígitos utilizando el perceptrón"
   ]
  },
  {
   "cell_type": "markdown",
   "metadata": {},
   "source": [
    "Completar el siguiente bloque de código para que entrene un perceptrón durante 100000 iteraciones utilizando como vector inicial de pesos el vector de ceros. "
   ]
  },
  {
   "cell_type": "code",
   "execution_count": null,
   "metadata": {},
   "outputs": [],
   "source": [
    "# Clasificación de los dígitos utilizando el perceptrón\n",
    "w_inicial = np.zeros(featuresH_train.shape[1])\n",
    "numIteraciones = 100000\n",
    "\n",
    "inicio = time.time()\n",
    "#######################################################\n",
    "######## EMPIEZA ESPACIO PARA COMPLETAR CODIGO ########\n",
    "#######################################################\n",
    "\n",
    "# w_perceptron, error_perceptron = \n",
    "\n",
    "#######################################################\n",
    "######## TERMINA ESPACIO PARA COMPLETAR CODIGO ########\n",
    "#######################################################\n",
    "fin = time.time()\n",
    "\n",
    "print('El algoritmo perceptrón demoró %f segundos' % (fin - inicio))\n",
    "print('El perceptrón finalizó en la iteración %d' % len(error_perceptron))\n",
    "print('El error de entrenamiento es %f' % error_perceptron[-1])\n",
    "\n",
    "# Se grafica el resultado del entrenamiento\n",
    "visualizar_modelo_lineal(featuresH_train,yb_train,w_perceptron)"
   ]
  },
  {
   "cell_type": "markdown",
   "metadata": {},
   "source": [
    "## Clasificación de los dígitos utilizando el pocket"
   ]
  },
  {
   "cell_type": "markdown",
   "metadata": {},
   "source": [
    "Completar el siguiente bloque de código para que entrene el algoritmo pocket durante 100000 iteraciones utilizando como vector inicial de pesos el vector de ceros. "
   ]
  },
  {
   "cell_type": "code",
   "execution_count": null,
   "metadata": {},
   "outputs": [],
   "source": [
    "w_inicial = np.zeros(featuresH_train.shape[1])\n",
    "numIteraciones = 100000\n",
    "# Se entrena el algoritmo pocket\n",
    "inicio = time.time()\n",
    "#######################################################\n",
    "######## EMPIEZA ESPACIO PARA COMPLETAR CODIGO ########\n",
    "#######################################################\n",
    "\n",
    "# w_pocket, error_pocket = \n",
    "\n",
    "#######################################################\n",
    "######## TERMINA ESPACIO PARA COMPLETAR CODIGO ########\n",
    "#######################################################\n",
    "fin = time.time()\n",
    "\n",
    "print('El algoritmo pocket demoró %f segundos' % (fin - inicio))\n",
    "print('El pocket finalizó en la iteración %d' % len(error_pocket))\n",
    "print('El error de entrenamiento es %f' % error_pocket[-1])\n",
    "\n",
    "# Se grafica el resultado del entrenamiento\n",
    "visualizar_modelo_lineal(featuresH_train, yb_train, w_pocket)"
   ]
  },
  {
   "cell_type": "markdown",
   "metadata": {},
   "source": [
    "## Transformación no lineal de dígitos"
   ]
  },
  {
   "cell_type": "markdown",
   "metadata": {},
   "source": [
    "Utilizar el algoritmo pocket para separar los digitos en el espacio transformado. Graficar la frontera de decisión encontrada."
   ]
  },
  {
   "cell_type": "code",
   "execution_count": null,
   "metadata": {},
   "outputs": [],
   "source": [
    "featuresHT_train = transformar_usando_polinomio_de_tercer_grado( featuresH_train )\n",
    "w_inicial = np.zeros(featuresHT_train.shape[1])\n",
    "numIteraciones = 100000\n",
    "\n",
    "#######################################################\n",
    "######## EMPIEZA ESPACIO PARA COMPLETAR CODIGO ########\n",
    "#######################################################\n",
    "\n",
    "\n",
    "# w_pocket2, error_pocket2 = \n",
    "\n",
    "\n",
    "#######################################################\n",
    "######## TERMINA ESPACIO PARA COMPLETAR CODIGO ########\n",
    "#######################################################\n",
    "# Se grafica el resultado del entrenamiento\n",
    "visualizar_frontera_decision(featuresH_train, yb_train, w_pocket2)\n"
   ]
  },
  {
   "cell_type": "markdown",
   "metadata": {},
   "source": [
    "**Pregunta:** Si fuera inminente la puesta en producción del clasificador de unos y ceros. ¿Qué algoritmo utilizaría?"
   ]
  },
  {
   "cell_type": "markdown",
   "metadata": {},
   "source": [
    "**Respuesta:**  \n",
    "..."
   ]
  },
  {
   "cell_type": "markdown",
   "metadata": {},
   "source": [
    "## Evaluar con el conjunto de test"
   ]
  },
  {
   "cell_type": "markdown",
   "metadata": {},
   "source": [
    "Evalúe el desempeño del *algoritmo pocket* en el conjunto de test en ambos casos."
   ]
  },
  {
   "cell_type": "code",
   "execution_count": null,
   "metadata": {},
   "outputs": [],
   "source": [
    "featuresH_test = np.ones((featuresTest.shape[0],featuresTest.shape[1]+1))\n",
    "featuresH_test[:,1:]=featuresTest\n",
    "\n",
    "#######################################################\n",
    "######## EMPIEZA ESPACIO PARA COMPLETAR CODIGO ########\n",
    "#######################################################\n",
    "\n",
    "# Se evalúa el algoritmo pocket en el espacio original\n",
    "\n",
    "# Se grafica el resultado \n",
    "\n",
    "# Se evalúa el algoritmo pocket en el espacio transformado\n",
    "\n",
    "# Se grafica el resultado en el espacio transformado\n",
    "\n",
    "\n",
    "#######################################################\n",
    "######## TERMINA ESPACIO PARA COMPLETAR CODIGO ########\n",
    "#######################################################"
   ]
  },
  {
   "cell_type": "markdown",
   "metadata": {},
   "source": [
    "## Separación del uno de los demás digitos "
   ]
  },
  {
   "cell_type": "markdown",
   "metadata": {},
   "source": [
    "¿La representación de los dígitos utilizada en el ejercicio es adecuada para separar el uno de los demás digitos? Evalúelo con los datos que tiene disponible."
   ]
  },
  {
   "cell_type": "code",
   "execution_count": null,
   "metadata": {},
   "outputs": [],
   "source": []
  }
 ],
 "metadata": {
  "kernelspec": {
   "display_name": "Python 3",
   "language": "python",
   "name": "python3"
  },
  "language_info": {
   "codemirror_mode": {
    "name": "ipython",
    "version": 3
   },
   "file_extension": ".py",
   "mimetype": "text/x-python",
   "name": "python",
   "nbconvert_exporter": "python",
   "pygments_lexer": "ipython3",
   "version": "3.7.3"
  }
 },
 "nbformat": 4,
 "nbformat_minor": 2
}
