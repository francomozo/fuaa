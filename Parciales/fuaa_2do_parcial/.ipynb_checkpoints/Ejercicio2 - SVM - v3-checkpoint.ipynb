{
 "cells": [
  {
   "cell_type": "markdown",
   "metadata": {},
   "source": [
    "# <center> FUNDAMENTOS DE APRENDIZAJE AUTOMÁTICO <br> Y RECONOCIMIENTO DE PATRONES</center>\n",
    "## <center> 2do parcial, 2019</center>           \n",
    "\n",
    "La duración del parcial es de 3 horas. El parcial consta de 3 ejercicios, cuya suma total es de 100 puntos. El parcial es sin material y no está permitido acceder a Internet. Ante cualquier duda comuníquese con los docentes. \n",
    "\n",
    "Este notebook corresponde al ejercicio 2. Hay un notebook por ejercicio planteado.\n",
    "\n",
    "* [Ejercicio 2 - SVM](#Ejercicio2) (35 puntos)"
   ]
  },
  {
   "cell_type": "code",
   "execution_count": 4,
   "metadata": {},
   "outputs": [],
   "source": [
    "import numpy as np\n",
    "import sklearn\n",
    "from sklearn.datasets import load_breast_cancer\n",
    "\n",
    "from sklearn.model_selection import train_test_split\n",
    "from sklearn.preprocessing import StandardScaler\n",
    "\n",
    "from sklearn.svm import SVC\n",
    "from sklearn.model_selection import GridSearchCV\n",
    "from sklearn.metrics import confusion_matrix\n",
    "\n",
    "from matplotlib import pyplot as plt"
   ]
  },
  {
   "cell_type": "markdown",
   "metadata": {},
   "source": [
    "<a id=\"Ejercicio2\"></a>\n",
    "# Ejercicio 2: SVM"
   ]
  },
  {
   "cell_type": "markdown",
   "metadata": {},
   "source": [
    "En este ejercicio trabajaremos con el *Breast Cancer Wisconsin dataset*, el cuál contiene 569 vectores de características calculados a partir de muestras de células tumorales *benignas* y *malignas*. El *dataset* forma parte del conjunto de datos disponibles en *scikit-learn*. A continuación se levantan los datos."
   ]
  },
  {
   "cell_type": "code",
   "execution_count": 2,
   "metadata": {},
   "outputs": [],
   "source": [
    "data = load_breast_cancer()"
   ]
  },
  {
   "cell_type": "code",
   "execution_count": 3,
   "metadata": {},
   "outputs": [
    {
     "name": "stdout",
     "output_type": "stream",
     "text": [
      "Se levantaron 569 muestras, 212 malignas y 357 benignas\n"
     ]
    }
   ],
   "source": [
    "X=data.data\n",
    "y = data.target\n",
    "print('Se levantaron %d muestras, %d malignas y %d benignas' % (len(X), np.sum(y==0),np.sum(y==1)))"
   ]
  },
  {
   "cell_type": "markdown",
   "metadata": {},
   "source": [
    "### Parte a)\n",
    "Dividir el conjunto de datos disponible en 80\\% para entrenamiento y 20\\% para test.\n",
    "\n",
    "**ATENCIÓN:** Puede ser útil utilizar alguna de las funciones importadas en la celda inicial."
   ]
  },
  {
   "cell_type": "code",
   "execution_count": 5,
   "metadata": {},
   "outputs": [],
   "source": [
    "np.random.seed(1)\n",
    "\n",
    "####################################################################################\n",
    "###########  EMPIEZA ESPACIO PARA COMPLETAR CODIGO  ################################\n",
    "####################################################################################\n",
    "\n",
    "X_train, X_test, y_train, y_test = train_test_split(X, y, test_size=.2)\n",
    "\n",
    "####################################################################################\n",
    "###########  TERMINA ESPACIO PARA COMPLETAR CODIGO  ################################\n",
    "####################################################################################"
   ]
  },
  {
   "cell_type": "markdown",
   "metadata": {},
   "source": [
    "### Parte b) \n",
    "Estandarizar los datos a media nula y varianza unidad.\n",
    "\n",
    "**ATENCIÓN:** Puede ser útil utilizar alguna de las funciones importadas en la celda inicial."
   ]
  },
  {
   "cell_type": "code",
   "execution_count": 7,
   "metadata": {},
   "outputs": [],
   "source": [
    "####################################################################################\n",
    "###########  EMPIEZA ESPACIO PARA COMPLETAR CODIGO  ################################\n",
    "####################################################################################\n",
    "\n",
    "scaler = StandardScaler()\n",
    "\n",
    "scaler.fit(X_train)\n",
    "\n",
    "X_train_std = scaler.transform(X_train)\n",
    "X_test_std = scaler.transform(X_test)\n",
    "\n",
    "####################################################################################\n",
    "###########  TERMINA ESPACIO PARA COMPLETAR CODIGO  ################################\n",
    "####################################################################################"
   ]
  },
  {
   "cell_type": "markdown",
   "metadata": {},
   "source": [
    "## Curvas de aprendizaje"
   ]
  },
  {
   "cell_type": "markdown",
   "metadata": {},
   "source": [
    "Se evaluará la pertinencia de estandarizar los datos cuando se utiliza un clasificador SVM con *kernel linear* (que denominaremos *SVM linear*). Para ello se propone utilizar el método `learning_curve` del módulo `model_selection` de *scikit-learn*. "
   ]
  },
  {
   "cell_type": "code",
   "execution_count": 8,
   "metadata": {},
   "outputs": [],
   "source": [
    "from sklearn.model_selection import learning_curve"
   ]
  },
  {
   "cell_type": "markdown",
   "metadata": {},
   "source": [
    "### Parte c) \n",
    "Explique brevemente qué es lo que muestra una curva de aprendizaje y cómo la construye *scikit-learn*. "
   ]
  },
  {
   "cell_type": "markdown",
   "metadata": {},
   "source": [
    "**Respuesta:**  \n",
    "Una curva de aprendizaje grafica como varía $E_{in}$ y $E_{out}$ a medida que varía N. En los casos concretos, en vez de graficar $E_{out}$, se grafica $E_{test}$ o $E_{val}$. \n",
    "\n",
    "*scikit-learn* usa un generador de validación cruzada para particionar el dataset en training y test *k* veces. Entonces distintos tamaños para los training sets se utilizan para entrenar un estimador y calcular el score en el training subset y el test set. Por último se promedian los scores con las k veces que se corre. "
   ]
  },
  {
   "cell_type": "markdown",
   "metadata": {},
   "source": [
    "### Parte d) \n",
    "Complete la implementación de la siguiente celda a los efectos de mostrar las curvas de aprendizaje del clasificador *SVM linear* con parámetros por defecto utilizando como entrada:\n",
    "    * características por defecto\n",
    "    * características estandarizadas\n",
    "    \n",
    "La curvas mostradas deben contar con al menos 10 puntos y la validación cruzada se hará utilizando 10 *folds*. Note que la función `learning_curve` devuelve como medida de desempeño (`score`) un valor de `accuracy`, pero la curva de aprendizaje deberá mostrar el error.    \n",
    "\n",
    "\n",
    "**ATENCIÓN:** La corrida puede demorar unos minutos, por lo que durante la etapa de implementación puede ser útil trabajar con menos *folds* y/o menos puntos en la curva."
   ]
  },
  {
   "cell_type": "code",
   "execution_count": 16,
   "metadata": {},
   "outputs": [
    {
     "name": "stdout",
     "output_type": "stream",
     "text": [
      "Procesando datos sin estandarizar ...\n"
     ]
    },
    {
     "data": {
      "image/png": "[encoded data removed]",
      "text/plain": [
       "<Figure size 432x288 with 1 Axes>"
      ]
     },
     "metadata": {
      "needs_background": "light"
     },
     "output_type": "display_data"
    },
    {
     "name": "stdout",
     "output_type": "stream",
     "text": [
      "Procesando datos estandarizados ...\n"
     ]
    },
    {
     "data": {
      "image/png": "[encoded data removed]",
      "text/plain": [
       "<Figure size 432x288 with 1 Axes>"
      ]
     },
     "metadata": {
      "needs_background": "light"
     },
     "output_type": "display_data"
    }
   ],
   "source": [
    "Xs = [X_train, X_train_std]  # entradas a evaluar: características por defecto y estandarizadas\n",
    "preprocessing = ['sin estandarizar', 'estandarizados']\n",
    "\n",
    "for i, X_i in enumerate(Xs):\n",
    "    \n",
    "    print('Procesando datos %s ...' % preprocessing[i])\n",
    "    ####################################################################################\n",
    "    ###########  EMPIEZA ESPACIO PARA COMPLETAR CODIGO  ################################\n",
    "    ####################################################################################\n",
    "    cv = 10\n",
    "    n_puntos = np.arange(.1,1.1,0.1)\n",
    "    train_sizes, train_scores, val_scores = learning_curve(SVC(kernel='linear'), X_i,\n",
    "                                                y_train, train_sizes=n_puntos, cv=cv, n_jobs=-1)\n",
    "    \n",
    "    # Utilizar train_scores y val_scores para estimar, para cada punto de la curva, \n",
    "    # E_in_mean, E_val_mean y la desviaciones estandar E_in_std y E_val_std \n",
    "    # Observar que:\n",
    "    #   train_scores : array, shape (n_ticks, n_cv_folds)\n",
    "    #   val_scores : array, shape (n_ticks, n_cv_folds)\n",
    "    \n",
    "    \n",
    "    E_in_mean = np.mean(1 - train_scores,axis=1)\n",
    "\n",
    "    E_in_std = np.std(1 - train_scores,axis=1)\n",
    "\n",
    "    E_val_mean = np.mean(1 - val_scores,axis=1)\n",
    "\n",
    "    E_val_std = np.std(1 - val_scores,axis=1)\n",
    "\n",
    "    \n",
    "    ####################################################################################\n",
    "    ###########  TERMINA ESPACIO PARA COMPLETAR CODIGO  ################################\n",
    "    ####################################################################################\n",
    "\n",
    "    plt.plot(train_sizes, E_in_mean, color='blue', marker='o', markersize=5,  label='E_in')\n",
    "    plt.fill_between(train_sizes, E_in_mean + E_in_std,E_in_mean - E_in_std,alpha=0.15, color='blue')\n",
    "    plt.plot(train_sizes, E_val_mean, color='green', linestyle='--', marker='s', markersize=5,label='E_val')\n",
    "    plt.fill_between(train_sizes, E_val_mean + E_val_std, E_val_mean - E_val_std,alpha=0.15, color='green')\n",
    "    plt.grid()\n",
    "    plt.xlabel('Número de muestras')\n",
    "    plt.ylabel('Tasa de error')\n",
    "    plt.legend(loc='upper right')\n",
    "    plt.ylim([0, 0.2])\n",
    "    plt.title('Curva de aprendizaje con datos %s' % preprocessing[i] )\n",
    "    plt.show()"
   ]
  },
  {
   "cell_type": "markdown",
   "metadata": {},
   "source": [
    "##  Curvas de validación"
   ]
  },
  {
   "cell_type": "markdown",
   "metadata": {},
   "source": [
    "Una forma de determinar los parámetros óptimos de un clasificador es mediante la utilización de curvas de validación. "
   ]
  },
  {
   "cell_type": "markdown",
   "metadata": {},
   "source": [
    "### Parte e)\n",
    "En esta parte, en base a los resultados de la parte anterior, utilice datos estandarizados o sin estandarizar según lo que considere más apropiado. Complete la siguiente celda para determinar el valor óptimo del parámetro `C` del *SVM linear*. Para ello utilice el método `validation_curve` del módulo `model_selection`, que implementa validación cruzada.     \n",
    "La grilla de valores de `C` a considerar es [0.001, 0.01, 0.1, 1.0, 10.0, 100.0] y la validación cruzada se hará utilizando 10 *folds*. \n",
    "\n",
    "**ATENCIÓN:** La corrida puede demorar unos minutos, durante la etapa de implementación puede ser útil trabajar con menos *folds*."
   ]
  },
  {
   "cell_type": "code",
   "execution_count": 17,
   "metadata": {},
   "outputs": [],
   "source": [
    "from sklearn.model_selection import validation_curve"
   ]
  },
  {
   "cell_type": "code",
   "execution_count": 37,
   "metadata": {},
   "outputs": [
    {
     "data": {
      "image/png": "[encoded data removed]",
      "text/plain": [
       "<Figure size 432x288 with 1 Axes>"
      ]
     },
     "metadata": {
      "needs_background": "light"
     },
     "output_type": "display_data"
    }
   ],
   "source": [
    "param_range = [0.001, 0.01, 0.1, 1.0, 10.0, 100.0]\n",
    "    \n",
    "####################################################################################\n",
    "###########  EMPIEZA ESPACIO PARA COMPLETAR CODIGO  ################################\n",
    "####################################################################################\n",
    "# train_scores: matriz de tamaño len(param_range) x n_cv_folds con los errores de entrenamiento\n",
    "# val_scores: matriz de tamaño len(param_range) x n_cv_folds con los errores de valicación\n",
    "cv = 10\n",
    "train_scores, val_scores = validation_curve(SVC(kernel='linear'), X_train_std,\n",
    "                                                y_train, param_name='C', param_range=param_range\n",
    "                                                ,cv=cv, n_jobs=-1)\n",
    "    \n",
    "    \n",
    "E_in_mean = np.mean(1 - train_scores,axis=1)\n",
    "\n",
    "E_in_std = np.std(1 - train_scores, axis=1)\n",
    "\n",
    "E_val_mean = np.mean(1 - val_scores, axis=1)\n",
    "\n",
    "E_val_std = np.std(1 - val_scores, axis=1)\n",
    "\n",
    "    \n",
    "####################################################################################\n",
    "###########  TERMINA ESPACIO PARA COMPLETAR CODIGO  ################################\n",
    "####################################################################################\n",
    "\n",
    "\n",
    "# se muestran los resultados \n",
    "plt.plot(param_range, E_in_mean, color='blue', marker='o', markersize=5, label='E_in')\n",
    "plt.fill_between(param_range, E_in_mean + E_in_std, E_in_mean - E_in_std, \n",
    "                 alpha=0.15, color='blue')\n",
    "plt.plot(param_range, E_val_mean, color='green', linestyle='--', marker='s',\n",
    "         markersize=5, label='E_val')\n",
    "plt.fill_between(param_range, E_val_mean + E_val_std, E_val_mean - E_val_std, \n",
    "                 alpha=0.15, color='green')\n",
    "plt.grid()\n",
    "plt.xscale('log')\n",
    "plt.legend(loc='upper right')\n",
    "plt.xlabel('C')\n",
    "plt.ylabel('Tasa de error')\n",
    "plt.ylim([0, 0.2])\n",
    "plt.title('Curva de aprendizaje con datos %s' % preprocessing[i] )\n",
    "plt.show()"
   ]
  },
  {
   "cell_type": "markdown",
   "metadata": {},
   "source": [
    "## GridSearch para SVM con kernel rbf"
   ]
  },
  {
   "cell_type": "markdown",
   "metadata": {},
   "source": [
    "### Parte f) \n",
    "Para los mismo datos usados en la parte anterior, encuentre los valores óptimos de $C$ y $\\gamma$ de un clasificador SVM con *kernel rbf* mediante el método de *grid search* con validación cruzada en 10 *folds*. Para ambos hyperparámetros utilizar una grilla con los siguientes valores: [0.0001, 0.001, 0.01, 0.1, 1.0, 10.0, 100.0, 1000.0].\n",
    "\n",
    "**ATENCIÓN:** Puede ser útil utilizar alguna de las funciones importadas en la celda inicial."
   ]
  },
  {
   "cell_type": "code",
   "execution_count": 27,
   "metadata": {},
   "outputs": [
    {
     "name": "stdout",
     "output_type": "stream",
     "text": [
      "{'C': 100.0, 'gamma': 0.001}\n"
     ]
    },
    {
     "name": "stderr",
     "output_type": "stream",
     "text": [
      "c:\\users\\franc\\miniconda3\\envs\\fuaa\\lib\\site-packages\\sklearn\\model_selection\\_search.py:814: DeprecationWarning: The default of the `iid` parameter will change from True to False in version 0.22 and will be removed in 0.24. This will change numeric results when test-set sizes are unequal.\n",
      "  DeprecationWarning)\n"
     ]
    }
   ],
   "source": [
    "param_range = [0.0001, 0.001, 0.01, 0.1, 1.0, 10.0, 100.0, 1000.0]\n",
    "\n",
    "####################################################################################\n",
    "###########  EMPIEZA ESPACIO PARA COMPLETAR CODIGO  ################################\n",
    "####################################################################################\n",
    "param_grid = {'C'     : param_range,\n",
    "              'gamma' : param_range}\n",
    "cv = 10\n",
    "\n",
    "gs_rbf = GridSearchCV(SVC(), param_grid=param_grid, n_jobs=-1, cv=cv)\n",
    "\n",
    "gs_rbf.fit(X_train_std, y_train)\n",
    "\n",
    "print(gs_rbf.best_params_)\n",
    "####################################################################################\n",
    "###########  TERMINA ESPACIO PARA COMPLETAR CODIGO  ################################\n",
    "####################################################################################"
   ]
  },
  {
   "cell_type": "markdown",
   "metadata": {},
   "source": [
    "**Respuesta:** Los valores óptimos de $C$ y $\\gamma$ son ..."
   ]
  },
  {
   "cell_type": "code",
   "execution_count": 28,
   "metadata": {},
   "outputs": [],
   "source": [
    "# función auxiliar que muestra los parámetros del gridsearch\n",
    "def mostrar_grid_search_results(rangoC, rangoGamma, resultados):\n",
    "    '''\n",
    "    Entrada:\n",
    "        rangoC: lista con los valores de C evaluados\n",
    "        rangoGamma: lista con los valores de gamma evaluados\n",
    "        resultados: arrglo de tamaño (len(rangoC),len(rangoGamma)) con los resultados\n",
    "                    del grid-search\n",
    "    '''\n",
    "    fig, ax = plt.subplots()\n",
    "    im = ax.imshow(resultados, interpolation='nearest', cmap=plt.cm.Blues)\n",
    "    ax.figure.colorbar(im, ax=ax)\n",
    "    ax.set_ylabel('C')\n",
    "    ax.set_ylim(-0.5,len(rangoC)-0.5)\n",
    "    ax.set_xlim(-0.5,len(rangoGamma)-0.5)\n",
    "    ax.set_yticks(range(len(rangoC)))\n",
    "    ax.set_xticks(range(len(rangoGamma)))\n",
    "    rangoC_labels = [str(c) for c in rangoC]\n",
    "    ax.set_yticklabels(rangoC_labels)\n",
    "    ax.set_xlabel('Gamma')\n",
    "    rangoGamma_labels = [str(gamma) for gamma in rangoGamma]\n",
    "    ax.set_xticklabels(rangoGamma_labels)\n",
    "    plt.setp(ax.get_xticklabels(), rotation=45, ha=\"right\",\n",
    "                    rotation_mode=\"anchor\")\n",
    "    plt.title('Resultados del Grid Search')"
   ]
  },
  {
   "cell_type": "code",
   "execution_count": 29,
   "metadata": {},
   "outputs": [
    {
     "data": {
      "image/png": "[encoded data removed]",
      "text/plain": [
       "<Figure size 432x288 with 2 Axes>"
      ]
     },
     "metadata": {
      "needs_background": "light"
     },
     "output_type": "display_data"
    }
   ],
   "source": [
    "# gs.cv_results_\n",
    "# Se muestran los resultados del grid-search\n",
    "resultados = gs_rbf.cv_results_['mean_test_score']\n",
    "resultados = resultados.reshape(len(param_range),len(param_range))\n",
    "#print(resultados)\n",
    "mostrar_grid_search_results(param_range, param_range, resultados)"
   ]
  },
  {
   "cell_type": "markdown",
   "metadata": {},
   "source": [
    "## Elección del clasificador óptimo"
   ]
  },
  {
   "cell_type": "markdown",
   "metadata": {},
   "source": [
    "### Parte g)\n",
    "Basándose en las evaluaciones realizadas, elegir el clasificador óptimo. Justificar la elección e indicar claramente las características que utilizará el clasificador y los parámetros óptimos del mismo, incluyendo el tipo de kernel."
   ]
  },
  {
   "cell_type": "code",
   "execution_count": 38,
   "metadata": {},
   "outputs": [
    {
     "name": "stdout",
     "output_type": "stream",
     "text": [
      "Para el clasificador con kernel lineal y C=10^(-1), E_val=0.01971014492753622 y E_in=0.016361142584530985\n",
      "Para el clasificador con kernel rbf, con los mejores parametros de C y gamma, la media del error de validación cruzada es 0.02197802197802201\n"
     ]
    }
   ],
   "source": [
    "print(f'Para el clasificador con kernel lineal y C=10^(-1), E_val={E_val_mean[2]} y E_in={E_in_mean[2]}')\n",
    "print(f'Para el clasificador con kernel rbf, con los mejores parametros de C y gamma, la media'\\\n",
    "      f' del error de validación cruzada es {1-gs_rbf.best_score_}')"
   ]
  },
  {
   "cell_type": "markdown",
   "metadata": {},
   "source": [
    "**Respuesta:** \n",
    "De la primera aparte elijo datos estandarizados. \\\n",
    "De la celda anterior elijo con kernel lineal y $C=10^{-1}$"
   ]
  },
  {
   "cell_type": "markdown",
   "metadata": {},
   "source": [
    "### Parte h)\n",
    "Para el clasificador óptimo elegido, indicar el número de vectores de soporte utilizados en cada clase."
   ]
  },
  {
   "cell_type": "code",
   "execution_count": 42,
   "metadata": {},
   "outputs": [
    {
     "name": "stdout",
     "output_type": "stream",
     "text": [
      "[26 27]\n"
     ]
    }
   ],
   "source": [
    "####################################################################################\n",
    "###########  EMPIEZA ESPACIO PARA COMPLETAR CODIGO  ################################\n",
    "####################################################################################\n",
    "\n",
    "clf_optimo = SVC(C=.1, kernel='linear')\n",
    "\n",
    "clf_optimo.fit(X_train_std, y_train)\n",
    "\n",
    "n_vectores_soporte = clf_optimo.n_support_\n",
    "\n",
    "print(n_vectores_soporte)\n",
    "\n",
    "####################################################################################\n",
    "###########  TERMINA ESPACIO PARA COMPLETAR CODIGO  ################################\n",
    "####################################################################################"
   ]
  },
  {
   "cell_type": "markdown",
   "metadata": {},
   "source": [
    "### Parte i)\n",
    "Mostrar la matriz de confusión con el conjunto de test e interpretar los resultados"
   ]
  },
  {
   "cell_type": "code",
   "execution_count": 44,
   "metadata": {},
   "outputs": [
    {
     "name": "stdout",
     "output_type": "stream",
     "text": [
      "[[39  3]\n",
      " [ 1 71]]\n"
     ]
    }
   ],
   "source": [
    "####################################################################################\n",
    "###########  EMPIEZA ESPACIO PARA COMPLETAR CODIGO  ################################\n",
    "####################################################################################\n",
    "\n",
    "y_pred = clf_optimo.predict(X_test_std)\n",
    "\n",
    "conf_matrix = confusion_matrix(y_test, y_pred)\n",
    "\n",
    "print(conf_matrix)\n",
    "####################################################################################\n",
    "###########  TERMINA ESPACIO PARA COMPLETAR CODIGO  ################################\n",
    "####################################################################################"
   ]
  },
  {
   "cell_type": "code",
   "execution_count": 52,
   "metadata": {},
   "outputs": [
    {
     "data": {
      "text/plain": [
       "array([[2, 4],\n",
       "       [1, 3]], dtype=int64)"
      ]
     },
     "execution_count": 52,
     "metadata": {},
     "output_type": "execute_result"
    }
   ],
   "source": [
    "## Para chequear que es cada entrada en la matriz:\n",
    "\n",
    "y_true = [ 1, 0, 1, 1, 0, 1, 0, 0, 0, 0] # 1=no cancer, 0=cancer\n",
    "y_pred = [ 0, 0, 1, 1, 0, 1, 1, 1, 1, 1]\n",
    "\n",
    "# En lo anterior:\n",
    "#    - 3 veces no era cancer y predijo no cancer (+1,+1) verdadero negativo\n",
    "#    - 2 veces era cancer y predijo cancer (0,0)         verdadero positivo\n",
    "#    - 1 vez era no cancer y predijo cancer (+1,0)       falso positivo\n",
    "#    - 4 veces era cancer y predijo no cancer (0,+1)     falso negativo\n",
    "\n",
    "confusion_matrix(y_true, y_pred)"
   ]
  },
  {
   "cell_type": "markdown",
   "metadata": {},
   "source": [
    "La matriz es:\n",
    "\n",
    "|                       |                      |\n",
    "|           ---         |      ----            |\n",
    "|  verdaderos positivos | falsos negativos     | \n",
    "|  falsos positivos     | verdaderos negativos |\n",
    "\n",
    "Lo que se quiere evitar son los falsos negativos, ya que predicen que no hay cáncer cuando si lo hay. En el caso del ejercicio dió 3 veces que no era cáncer cuando si lo era. \n"
   ]
  },
  {
   "cell_type": "markdown",
   "metadata": {},
   "source": [
    "### Parte j) \n",
    "Suponga que se quiere lograr un punto de funcionamiento del clasificador en que se minimicen la cantidad de tumores malignos clasificados como benignos. Proponga al menos una variante en el procedimiento seguido que contribuya a lograr este objetivo. No se pide implementarla pero debe ser posible hacerlo con las funcionalidades que provee *scikit-learn*."
   ]
  },
  {
   "cell_type": "markdown",
   "metadata": {},
   "source": [
    "**Respuesta:**\n",
    "De la doc de svm: \n",
    "\n",
    "class_weight : {dict, 'balanced'}, optional\n",
    "    Set the parameter C of class i to class_weight[i]*C for\n",
    "    SVC. If not given, all classes are supposed to have\n",
    "    weight one.\n",
    "    The \"balanced\" mode uses the values of y to automatically adjust\n",
    "    weights inversely proportional to class frequencies in the input data\n",
    "    as ``n_samples / (n_classes * np.bincount(y))``\n"
   ]
  },
  {
   "cell_type": "code",
   "execution_count": null,
   "metadata": {},
   "outputs": [],
   "source": []
  }
 ],
 "metadata": {
  "kernelspec": {
   "display_name": "Python 3",
   "language": "python",
   "name": "python3"
  },
  "language_info": {
   "codemirror_mode": {
    "name": "ipython",
    "version": 3
   },
   "file_extension": ".py",
   "mimetype": "text/x-python",
   "name": "python",
   "nbconvert_exporter": "python",
   "pygments_lexer": "ipython3",
   "version": "3.7.4"
  }
 },
 "nbformat": 4,
 "nbformat_minor": 2
}
