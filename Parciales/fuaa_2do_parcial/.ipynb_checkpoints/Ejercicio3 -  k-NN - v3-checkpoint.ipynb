{
 "cells": [
  {
   "cell_type": "markdown",
   "metadata": {},
   "source": [
    "# <center> FUNDAMENTOS DE APRENDIZAJE AUTOMÁTICO <br> Y RECONOCIMIENTO DE PATRONES</center>\n",
    "## <center> 2do parcial, 2019</center>           \n",
    "\n",
    "La duración del parcial es de 3 horas. El parcial consta de 3 ejercicios, cuya suma total es de 100 puntos. El parcial es sin material y no está permitido acceder a Internet. Ante cualquier duda comuníquese con los docentes. \n",
    "\n",
    "Este notebook corresponde al ejercicio 3. Hay un notebook por ejercicio planteado.\n",
    "\n",
    "* [Ejercicio 3 - k-vecinos](#Ejercicio3) (30 puntos)"
   ]
  },
  {
   "cell_type": "code",
   "execution_count": 1,
   "metadata": {},
   "outputs": [],
   "source": [
    "import numpy as np\n",
    "from sklearn.datasets import load_iris \n",
    "\n",
    "from matplotlib import pyplot as plt"
   ]
  },
  {
   "cell_type": "markdown",
   "metadata": {},
   "source": [
    "<a id=\"Ejercicio1\"></a>\n",
    "# Ejercicio 3: k-NN"
   ]
  },
  {
   "cell_type": "markdown",
   "metadata": {},
   "source": [
    "En este ejercicio se implementará el algoritmo *k-vecinos* más cercanos y se lo aplicará a la base de datos *iris* disponible en *scikit-learn*.      \n",
    "La implementación del algoritmo se realizará por bloques. Primero se implementará la función que calcula la distancia entre el punto a evaluar y los puntos de entrenamiento, luego la función que encuentra los vecinos más cercanos y finalmente la función que asigna las etiquetas. "
   ]
  },
  {
   "cell_type": "markdown",
   "metadata": {},
   "source": [
    "### Parte a) \n",
    "Implementar el método `calcular_distancias()` usando distancia Euclídea."
   ]
  },
  {
   "cell_type": "code",
   "execution_count": 4,
   "metadata": {},
   "outputs": [],
   "source": [
    "from sklearn.metrics import pairwise_distances"
   ]
  },
  {
   "cell_type": "code",
   "execution_count": 7,
   "metadata": {},
   "outputs": [],
   "source": [
    "def calcular_distancias(X_train, X_test):\n",
    "    '''\n",
    "    Calcula la distancia entre los puntos pertenecientes a X_test \n",
    "    y cada uno de los puntos pertenecientes a X_train\n",
    "    Entrada:\n",
    "        X_train: matriz de tamaño Nxd que contiene N muestras de entrenamiento\n",
    "        X_test: matriz de tamaño Mxd que contiene M muestras de test\n",
    "    Salida:\n",
    "        matriz_distancias: matriz de tamaño MxN que almacena la distancia \n",
    "        entre los puntos de entrenamiento y test\n",
    "    '''\n",
    "    \n",
    "    ############################################################\n",
    "    ######     EMPIEZA ESPACIO PARA COMPLETAR CODIGO     #######\n",
    "    ############################################################\n",
    "    \n",
    "    matriz_distancias = pairwise_distances(X_test, X_train, n_jobs=-1) \n",
    "    \n",
    "    # OBS: pairwise_distances devuelve una matriz D, que en cada \n",
    "    #      entrada D_ij contiene la distancia entre la fila i de\n",
    "    #      X y la fila j de Y. Es decir, cada fila de la matriz\n",
    "    #      es la distancia del punto i de X a todos los puntos\n",
    "    #      de Y\n",
    "            \n",
    "    ############################################################\n",
    "    ######     TERMINA ESPACIO PARA COMPLETAR CODIGO     #######\n",
    "    ############################################################\n",
    "    \n",
    "    return matriz_distancias"
   ]
  },
  {
   "cell_type": "code",
   "execution_count": 8,
   "metadata": {},
   "outputs": [],
   "source": [
    "# Test calcular distancias\n",
    "np.random.seed(33)\n",
    "X1 = np.random.rand(4,2)\n",
    "X2 = np.random.rand(3,2)\n",
    "dists = calcular_distancias(X1,X2)\n",
    "dists_correctas = np.array([[0.43348961, 0.35191206, 0.35638515, 0.80896094],\n",
    "                            [0.71874689, 0.56984794, 0.22884153, 1.09870444],\n",
    "                            [0.19560321, 0.34367931, 0.80814793, 0.60481772]])\n",
    "assert np.allclose(dists, dists_correctas), 'revise la implementación de calcular_distancias'"
   ]
  },
  {
   "cell_type": "markdown",
   "metadata": {},
   "source": [
    "### Parte b)\n",
    "Implementar el método `obtener_indices_k_vecinos()`"
   ]
  },
  {
   "cell_type": "code",
   "execution_count": 21,
   "metadata": {},
   "outputs": [],
   "source": [
    "def obtener_indices_k_vecinos(distancias, k):\n",
    "    '''\n",
    "    Entrada:\n",
    "        distancias: vector que contiene distancias\n",
    "        k: número de posiciones a devolver\n",
    "    Salida:\n",
    "        indices_vecinos: arreglo de tamaño k que contiene los índices  de \n",
    "                         los k-vecinos ordenados del más cercano al más lejano. \n",
    "                         Se devuelven sólo los primeros k valores. \n",
    "    '''\n",
    "    ###########################################################\n",
    "    ######    EMPIEZA ESPACIO PARA COMPLETAR CODIGO     #######\n",
    "    ###########################################################\n",
    "    # Sugerencia: puede ser de utilidad la función np.argsort()\n",
    "    \n",
    "    indices_vecinos = np.argsort(distancias)[:k]\n",
    "\n",
    "    ###########################################################\n",
    "    ######    TERMINA ESPACIO PARA COMPLETAR CODIGO     #######\n",
    "    ###########################################################\n",
    "    return indices_vecinos"
   ]
  },
  {
   "cell_type": "code",
   "execution_count": 22,
   "metadata": {},
   "outputs": [],
   "source": [
    "ds = np.array([4.1,3.2,5.1,1.3,2.9,8.3])\n",
    "vecinos = obtener_indices_k_vecinos(ds,3)\n",
    "assert np.allclose(vecinos,[3,4,1]), 'verifique la implementación de obtener_k_mas_cercanos()'"
   ]
  },
  {
   "cell_type": "markdown",
   "metadata": {},
   "source": [
    "### Parte c) \n",
    "Implementar el método `asignar_etiqueta()`. "
   ]
  },
  {
   "cell_type": "code",
   "execution_count": 23,
   "metadata": {},
   "outputs": [],
   "source": [
    "def asignar_etiqueta(etiquetas_vecinos):\n",
    "    '''\n",
    "    Devuelve la etiqueta más frecuente entre las etiquetas de los vecinos.\n",
    "    En caso de empate se devuelve una de las mayoritarias.\n",
    "        Entrada: vector de largo k que contiene las etiquetas de los k-vecinos\n",
    "        Salida: etiqueta asignada\n",
    "    '''\n",
    "     \n",
    "    ###########################################################\n",
    "    ######    EMPIEZA ESPACIO PARA COMPLETAR CODIGO     #######\n",
    "    ###########################################################\n",
    "    # Sugerencia: puede ser útil utilizar np.bincount()\n",
    "    \n",
    "    prediccion = np.argmax(np.bincount(etiquetas_vecinos))\n",
    "    \n",
    "    ###########################################################\n",
    "    ######    TERMINA ESPACIO PARA COMPLETAR CODIGO     #######\n",
    "    ###########################################################\n",
    "    \n",
    "    return prediccion"
   ]
  },
  {
   "cell_type": "code",
   "execution_count": 24,
   "metadata": {},
   "outputs": [],
   "source": [
    "# Test asignar_etiqueta()\n",
    "k_etiquetas_ = np.array([2,1,2,3,2,1,2])\n",
    "pred = asignar_etiqueta(k_etiquetas_)\n",
    "assert pred==2, 'verifique la implementación de asignar_etiqueta()'"
   ]
  },
  {
   "cell_type": "markdown",
   "metadata": {},
   "source": [
    "A continuación se integrarán las tres funciones anteriormente implementadas en una función que realiza la predicción utilizando el criterio de *k-vecinos*."
   ]
  },
  {
   "cell_type": "markdown",
   "metadata": {},
   "source": [
    "### Parte d)  \n",
    "Completar la implementación del método `predecir()`"
   ]
  },
  {
   "cell_type": "code",
   "execution_count": 25,
   "metadata": {},
   "outputs": [],
   "source": [
    "def predecir(X_train, y_train, X_test, k):\n",
    "    '''\n",
    "    Entrada:\n",
    "        X_train: matriz de tamaño Nxd que contiene las características \n",
    "                 de las muestras de entrenamiento\n",
    "        y_train: vector de tamaño N que contiene las etiquetas de las \n",
    "                 muestras de entrenamiento\n",
    "        X_test:  matriz de tamaño Mxd que contiene las características \n",
    "                 de las muestras a evaluar\n",
    "        k:       número de vecinos a considerar\n",
    "    '''\n",
    "    # se calcula la distancia entre las muestras de test y las de entrenamiento\n",
    "    distancias = calcular_distancias(X_train, X_test)\n",
    "    \n",
    "    M = len(X_test) \n",
    "    y_pred = np.empty(M)\n",
    "    for i in range(M):\n",
    "        \n",
    "        ###########################################################\n",
    "        ######    EMPIEZA ESPACIO PARA COMPLETAR CODIGO     #######\n",
    "        ###########################################################\n",
    "        # ~3 líneas\n",
    "        indices_vecinos = obtener_indices_k_vecinos(distancias[i], k)\n",
    "        etiquetas_vecinos = y_train[indices_vecinos]\n",
    "        y_pred[i] = asignar_etiqueta(etiquetas_vecinos)\n",
    "        \n",
    "        ###########################################################\n",
    "        ######    TERMINA ESPACIO PARA COMPLETAR CODIGO     #######\n",
    "        ###########################################################\n",
    "        \n",
    "    return y_pred"
   ]
  },
  {
   "cell_type": "markdown",
   "metadata": {},
   "source": [
    "## Clasificación con la base iris"
   ]
  },
  {
   "cell_type": "markdown",
   "metadata": {},
   "source": [
    "La siguiente celda levanta los datos de la *base iris* y los divide en entrenamiento y validación."
   ]
  },
  {
   "cell_type": "code",
   "execution_count": 26,
   "metadata": {},
   "outputs": [],
   "source": [
    "data = load_iris()\n",
    "X = data.data\n",
    "y = data.target\n",
    "\n",
    "# Se divide el conjunto de datos en entrenamiento y validación\n",
    "N=X.shape[0]\n",
    "np.random.seed(42)\n",
    "indices  = np.random.permutation(N)\n",
    "idx = int(0.75*N)\n",
    "X_train = X[indices[:idx]]\n",
    "y_train = y[indices[:idx]]\n",
    "X_val = X[indices[idx:]]\n",
    "y_val = y[indices[idx:]]"
   ]
  },
  {
   "cell_type": "markdown",
   "metadata": {},
   "source": [
    "### Parte e)  \n",
    "Utilizar el método `predecir()` para clasificar las muestras de validación. Establezca un rango de valores de *k* que considere adecuado para este conjunto de datos."
   ]
  },
  {
   "cell_type": "code",
   "execution_count": 34,
   "metadata": {},
   "outputs": [
    {
     "name": "stdout",
     "output_type": "stream",
     "text": [
      "(112, 4)\n"
     ]
    }
   ],
   "source": [
    "from sklearn.metrics import accuracy_score\n",
    "print(X_train.shape)"
   ]
  },
  {
   "cell_type": "code",
   "execution_count": 38,
   "metadata": {},
   "outputs": [
    {
     "data": {
      "image/png": "[encoded data removed]",
      "text/plain": [
       "<Figure size 360x360 with 1 Axes>"
      ]
     },
     "metadata": {
      "needs_background": "light"
     },
     "output_type": "display_data"
    }
   ],
   "source": [
    "###########################################################\n",
    "######    EMPIEZA ESPACIO PARA COMPLETAR CODIGO     #######\n",
    "###########################################################\n",
    "E_val = []\n",
    "ks = np.arange(1,113) # Tomar 112 puntos (todo X_train) para\n",
    "                      # clasificar es el maximo posible, \n",
    "                      # aunque seguramente de un mal resutlado\n",
    "for k in ks:\n",
    "    y_pred = predecir(X_train, y_train, X_val, k)\n",
    "    E_val.append(1 - accuracy_score(y_val, y_pred))\n",
    "\n",
    "###########################################################\n",
    "######    TERMINA ESPACIO PARA COMPLETAR CODIGO     #######\n",
    "###########################################################\n",
    "plt.figure(figsize=(5,5))\n",
    "plt.plot(ks, E_val, '*-')\n",
    "plt.show()"
   ]
  },
  {
   "cell_type": "code",
   "execution_count": 39,
   "metadata": {},
   "outputs": [
    {
     "data": {
      "image/png": "[encoded data removed]",
      "text/plain": [
       "<Figure size 360x360 with 1 Axes>"
      ]
     },
     "metadata": {
      "needs_background": "light"
     },
     "output_type": "display_data"
    }
   ],
   "source": [
    "## Repito el mismo codigo usando un rango de 40\n",
    "\n",
    "###########################################################\n",
    "######    EMPIEZA ESPACIO PARA COMPLETAR CODIGO     #######\n",
    "###########################################################\n",
    "E_val = []\n",
    "ks = np.arange(1,40) \n",
    "for k in ks:\n",
    "    y_pred = predecir(X_train, y_train, X_val, k)\n",
    "    E_val.append(1 - accuracy_score(y_val, y_pred))\n",
    "\n",
    "###########################################################\n",
    "######    TERMINA ESPACIO PARA COMPLETAR CODIGO     #######\n",
    "###########################################################\n",
    "plt.figure(figsize=(5,5))\n",
    "plt.plot(ks, E_val, '*-')\n",
    "plt.show()"
   ]
  }
 ],
 "metadata": {
  "kernelspec": {
   "display_name": "Python 3",
   "language": "python",
   "name": "python3"
  },
  "language_info": {
   "codemirror_mode": {
    "name": "ipython",
    "version": 3
   },
   "file_extension": ".py",
   "mimetype": "text/x-python",
   "name": "python",
   "nbconvert_exporter": "python",
   "pygments_lexer": "ipython3",
   "version": "3.7.4"
  }
 },
 "nbformat": 4,
 "nbformat_minor": 2
}
